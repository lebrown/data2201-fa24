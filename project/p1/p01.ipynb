{
 "cells": [
  {
   "cell_type": "code",
   "execution_count": null,
   "id": "e4e8ab4f",
   "metadata": {
    "deletable": false,
    "editable": false
   },
   "outputs": [],
   "source": [
    "# Initialize Otter\n",
    "import otter\n",
    "grader = otter.Notebook(\"p01.ipynb\")"
   ]
  },
  {
   "cell_type": "markdown",
   "id": "7d247a3c",
   "metadata": {},
   "source": [
    "# Project 1 – Loan Applications\n",
    "\n",
    "## DATA 2201, Fall 2024\n",
    "\n",
    "### Checkpoint Due Date (Questions 1, 2, and 4): Tues., October 22nd \n",
    "### Due Date: Monday, Oct. 28th"
   ]
  },
  {
   "cell_type": "markdown",
   "id": "ede11bbf",
   "metadata": {},
   "source": [
    "## Instructions\n",
    "\n",
    "---\n",
    "\n",
    "### Working on the Project\n",
    "\n",
    "* **For the Checkpoint, which is required, you only need to turn in a `p01.ipynb` containing solutions for Questions 1, 2, and 4!**\n",
    "    - The \"Project 1 Checkpoint\" autograder on Gradescope does not thoroughly check your code – it only runs the public tests on Questions 1, 2, and 4 to make sure that you have completed them. There are no hidden tests for the checkpoint, and you will see your score upon submission. \n",
    "    - When you submit the final version of the project, however, we will use hidden tests to check your answers more thoroughly.\n",
    "    - Note that this means you will ultimately have to submit the project twice – once to the \"Project 1 Checkpoint\" autograder (Questions 1, 2, and 4 only), and once to the \"Project 1\" autograder (once you're fully done).\n",
    "\n",
    "- **Do not change the function names!** The functions are how your assignment is graded, and they are graded by their name. .\n",
    "- You are encouraged to write your own additional helper functions to solve the project, as long as they also end up in `p01.ipynb`.\n",
    "\n",
    "### Warning!\n",
    "\n",
    "Many questions in the project intentionally build off of each other and the final result matters! In fact, you can \"get a question correct,\" but only receive partial credit for it because a previous answer was wrong.\n",
    "\n",
    "For any questions that related with number rounding, please be aware that `np.round()` and `round()` function differently. For this assignment, use `round()` when needed as it is the function we will utilize in the tests.\n",
    "\n"
   ]
  },
  {
   "cell_type": "code",
   "execution_count": null,
   "id": "5c4b9719",
   "metadata": {},
   "outputs": [],
   "source": [
    "import pandas as pd\n",
    "import numpy as np\n",
    "from pathlib import Path\n",
    "\n",
    "import matplotlib\n",
    "import matplotlib.pyplot as plt\n",
    "import seaborn as sns\n",
    "sns.set()\n",
    "plt.style.use('seaborn-v0_8-whitegrid')\n",
    "plt.rcParams['figure.figsize'] = (8, 5)\n",
    "\n",
    "from IPython.display import display\n",
    "\n",
    "\n",
    "def create_kde_plotly(df, group_col, group1, group2, vals_col, title=''):\n",
    "    fig = ff.create_distplot(\n",
    "        hist_data=[df.loc[df[group_col] == group1, vals_col], df.loc[df[group_col] == group2, vals_col]],\n",
    "        group_labels=[group1, group2],\n",
    "        show_rug=False, show_hist=False\n",
    "    )\n",
    "    return fig.update_layout(title=title)\n",
    "\n",
    "# Imports for Plotly\n",
    "import plotly.express as px\n",
    "import plotly.graph_objects as go\n",
    "import plotly.io as pio\n",
    "pd.options.plotting.backend = 'plotly'\n",
    "\n",
    "from IPython.display import display\n",
    "\n",
    "# DATA2201 preferred styles\n",
    "pio.templates[\"data2201\"] = go.layout.Template(\n",
    "    layout=dict(\n",
    "        margin=dict(l=30, r=30, t=30, b=30),\n",
    "        autosize=False,\n",
    "        width=600,\n",
    "        height=400,\n",
    "        xaxis=dict(showgrid=True),\n",
    "        yaxis=dict(showgrid=True),\n",
    "        title=dict(x=0.5, xanchor=\"center\"),\n",
    "    )\n",
    ")\n",
    "pio.templates.default = \"simple_white+data2201\"\n",
    "\n",
    "import plotly.figure_factory as ff"
   ]
  },
  {
   "cell_type": "markdown",
   "id": "9b59bcb5",
   "metadata": {},
   "source": [
    "### Plotting \n",
    "\n",
    "As you have seen in class, there are many libraries for doing plotting. You have seen `matplotlib`, `seaborn`, and `plotly` all used in class and various assignments. \n",
    "\n",
    "For this project you will focus on using `matplotlib` and `seaborn`, although you will see `plotly` being used in some of the example plots shown. "
   ]
  },
  {
   "cell_type": "markdown",
   "id": "79b957af",
   "metadata": {},
   "source": [
    "## About the Assignment\n",
    "\n",
    "[LendingClub](https://www.lendingclub.com/) is a platform that allows individuals to borrow money – that is, take on **loans**. They've made available a massive dataset with information on millions of loans they've processed. The entire dataset is over 300 MB large, and so we won't work with it here – instead, we'll work with a sample from it.\n",
    "\n",
    "Run the cell below to load in this sample from the file `data/loans.csv`."
   ]
  },
  {
   "cell_type": "code",
   "execution_count": null,
   "id": "a1dc947c",
   "metadata": {},
   "outputs": [],
   "source": [
    "loans_path = Path('data') / 'loans.csv'\n",
    "loans = pd.read_csv(loans_path)\n",
    "loans.head()"
   ]
  },
  {
   "cell_type": "markdown",
   "id": "f2140d70",
   "metadata": {},
   "source": [
    "Each row of the dataset corresponds to a different loan that the LendingClub approved and paid out. Some of the key columns are:\n",
    "- `'loan_amnt' (float)`: the amount of the loan, or how much the borrower borrowed.\n",
    "- `'issue_d' (str)`: the date on which the loan was issued.\n",
    "- `'term' (str)`: the length of the loan, that is, the amount of time the borrower has to pay the loan back.\n",
    "- `'int_rate' (float)`: the interest rate the borrower will pay on their loan amount.\n",
    "\n",
    "First, it's worth exploring the distribution of loan amounts. You'll see that the largest possible loan given out through LendingClub was \\\\$40,000."
   ]
  },
  {
   "cell_type": "code",
   "execution_count": null,
   "id": "a28859d6",
   "metadata": {},
   "outputs": [],
   "source": [
    "loans['loan_amnt'].describe()"
   ]
  },
  {
   "cell_type": "markdown",
   "id": "00072739",
   "metadata": {},
   "source": [
    "Note that when a borrower is approved for a loan, they are presented with multiple offers with different loan terms and interest rates. **Larger interest rates make the loan more expensive for the borrower – as a borrower, you want a lower interest rate!** You'll note that even for the same loan amount, different borrowers were approved for different terms and interest rates. Take a look below:"
   ]
  },
  {
   "cell_type": "code",
   "execution_count": null,
   "id": "79ac3b8a",
   "metadata": {},
   "outputs": [],
   "source": [
    "loans.loc[loans['loan_amnt'] == 3600, ['loan_amnt', 'term', 'int_rate']]"
   ]
  },
  {
   "cell_type": "markdown",
   "id": "d1154278",
   "metadata": {},
   "source": [
    "So, why do different borrowers receive different terms and interest rates, despite asking for the same amount of money? The factors that influence loan offers are complex, but it's [known](https://www.bankofamerica.com/smallbusiness/resources/post/factors-that-impact-loan-decisions-and-how-to-increase-your-approval-odds/) that some of the key factors are employment status, annual income, and credit score, among other things.\n",
    "\n",
    "In this project, we will **explore how various borrower characteristics are related to one another**, in an attempt to better understand the complexity behind loans. It's important to remember, though, that this dataset only contains information about actually approved loans, **not** all loan applications."
   ]
  },
  {
   "cell_type": "markdown",
   "id": "357003a2",
   "metadata": {},
   "source": [
    "---\n",
    "\n",
    "<a name='outline'></a>\n",
    "\n",
    "### Navigating the Project\n",
    "\n",
    "Click on the links below to navigate to different parts of the project. \n",
    "\n",
    "\n",
    "- [Part 1: Understanding Lender Decision-Making](#part1)\n",
    "    - [Question 1 (Checkpoint Question)](#Question-1)\n",
    "    - [Question 2 (Checkpoint Question)](#Question-2)\n",
    "    - [Question 3](#Question-3)\n",
    "    - [Question 4](#Question-4)\n",
    "- [Part 2: Calculating Disposable Incomes](#part2)\n",
    "    - [Question 5](#Question-5)\n",
    "    - [Question 6](#Question-6)\n",
    "    - [Question 7](#Question-7)\n",
    "    - [Question 8](#Question-8)\n",
    "    - [Question 9](#Question-9)\n",
    "    \n"
   ]
  },
  {
   "cell_type": "markdown",
   "id": "e05ca69a",
   "metadata": {},
   "source": [
    "<br/><br/>\n",
    "<hr style=\"border: 5px solid #8a8c8c;\" />\n",
    "<hr style=\"border: 1px solid #ffcd00;\" />\n",
    "\n",
    "<a name='part1'></a>\n",
    "\n",
    "## Part 1: Understanding Lender Decision-Making\n",
    "\n",
    "([return to the outline](#outline))\n",
    "\n",
    "As mentioned above, the dataset we have only has information about approved loans – we don't have information about individuals who applied for loans and weren't approved. That means that we can't directly study what distinguishes successful loan applications from unsuccessful ones.\n",
    "\n",
    "We'll start by understanding the **quantitative risks** that lenders assess when deciding what terms and interest rates to give to borrowers. Lenders typically charge higher interest rates to borrowers they perceive as high-risk. This practice serves several purposes: it offsets potential losses from unpaid debts, discourages excessively risky lending, and ensures that the higher returns from these loans can cover defaults. \n",
    "\n",
    "The first quantitative metric we'll look at is **debt-to-income (DTI) ratio**. Understanding the impact of such a metric on interest rates helps us in evaluating how lenders quantify risk.\n",
    "\n",
    "<!-- The realm of lender decision-making is complex and multifaceted, influenced by a blend of traditional and non-traditional metrics. Our motivation is to delve into this domain and comprehend financial indicators, starting with: \n",
    " -->\n",
    " \n",
    "<!-- **Quantitative Risks:** Traditional metrics like **Debt-to-Income (DTI)** ratio and annual income are quantifiable and offer a concrete basis for assessing a borrower's financial health. \n",
    " -->\n",
    "<br/>\n",
    "\n",
    "$$\n",
    "\\text{DTI} = \\left( \\frac{\\text{Total Monthly Debt Payments}}{\\text{Gross Monthly Income}} \\right) \\cdot 100 \n",
    "$$\n",
    "\n",
    "<br/>\n",
    "\n",
    "Note that you don't need to calculate DTIs – they are already provided for us in the `'dti'` column of `loans`.\n",
    "\n",
    "\n",
    "A low DTI indicates that a borrower is less likely to face financial strain from taking on additional debt, making them a lower risk to lenders. Conversely, a high DTI may signal financial overextension, suggesting a higher risk for default – that is, a higher risk that the borrower won't pay back the loan. \n",
    "\n",
    "When a lender perceives a higher risk of default, they often charge a higher interest rate. Let's see if this correlation is present in our dataset by looking a scatter plot of interest rate (`'int_rate'`) vs DTI (`'dti'`)."
   ]
  },
  {
   "cell_type": "code",
   "execution_count": null,
   "id": "8c46a039",
   "metadata": {},
   "outputs": [],
   "source": [
    "# Note: If the plot below doesn't appear, uncomment and run the following line.\n",
    "# It will make all plotly plots render in a new browser tab.\n",
    "# This is more inconvenient, but should bypass any rendering issues.\n",
    "\n",
    "# pio.renderers.default = 'browser'"
   ]
  },
  {
   "cell_type": "code",
   "execution_count": null,
   "id": "61257181",
   "metadata": {},
   "outputs": [],
   "source": [
    "sample_set = loans.sample(200, random_state=1)\n",
    "\n",
    "fig = px.scatter(sample_set, x='dti', y='int_rate', trendline='ols',\n",
    "                 labels={'dti': 'Debt-to-Income Ratio', \n",
    "                         'int_rate': 'Interest Rate (%)'},\n",
    "                 trendline_color_override='orange',\n",
    "                 title='Interest Rate vs. Debt-to-Income Ratio')\n",
    "\n",
    "fig.show()"
   ]
  },
  {
   "cell_type": "code",
   "execution_count": null,
   "id": "189474d4",
   "metadata": {},
   "outputs": [],
   "source": [
    "# The same plot can be created in \"seaborn\"\n",
    "sns.regplot(sample_set, x='dti', y='int_rate')\n",
    "plt.title(\"Interest Rate vs. Debt=to-Income Ratio\")\n",
    "plt.xlabel(\"Debt-to-Income Ratio\")\n",
    "plt.ylabel(\"Interest Rate (%)\");"
   ]
  },
  {
   "cell_type": "markdown",
   "id": "6e397e2d",
   "metadata": {},
   "source": [
    "<br>\n",
    "\n",
    "--- \n",
    "\n",
    "### Question 1 (Checkpoint Question)\n",
    "\n",
    "<a name='Question-1'></a>\n",
    "\n",
    "([return to the outline](#outline))\n",
    "\n",
    "We'll work with DTIs shortly, but first, we need to clean the dataset. Complete the implementation of the function `clean_loans`, which takes in a DataFrame like `loans` and returns a new DataFrame where:\n",
    "\n",
    "- The `'issue_d'` column contains `pd.Timestamp` objects rather than strings.\n",
    "- The `'term'` column contains ints rather than strings.\n",
    "- The `'emp_title'` column is cleaned such that:\n",
    "    - All employment titles are lowercase.\n",
    "    - Leading and trailing whitespaces are removed.\n",
    "    - The `'rn'` title is replaced with `'registered nurse'`. Note that there are other titles that include `'rn'` as part of a larger string, like `'clinical rn'` or `'attorney'`; for simplicity, **don't** replace `'rn'` in these titles with `'registered nurse'`. Instead, only replace titles that are exactly `'rn'` with `'registered nurse'`. (This means that you shouldn't use `.str.replace` to do your replacement here!)  \n",
    "- There is a new column, `'term_end'`, which contains the date (as a `pd.Timestamp` object) on which each loan is fully paid.\n",
    "    - ***Hint***: Use `pd.DateOffset`.\n",
    "    - ***Hint***: Consider using `apply` with a lambda function. \n",
    "\n",
    "If you do the cleaning correctly, the three most common employment titles and frequencies in `loans` should be:\n",
    "\n",
    "```py\n",
    "teacher                 415\n",
    "registered nurse        319\n",
    "nurse                   112\n",
    "```"
   ]
  },
  {
   "cell_type": "code",
   "execution_count": null,
   "id": "fd9615a2",
   "metadata": {
    "tags": []
   },
   "outputs": [],
   "source": [
    "def clean_loans(loans): \n",
    "    ...\n",
    "    "
   ]
  },
  {
   "cell_type": "markdown",
   "id": "556b0dd2",
   "metadata": {},
   "source": [
    "Run the cell below to call `clean_data` on `loans`. Make sure to run this cell before moving forward, otherwise the tests won't work correctly."
   ]
  },
  {
   "cell_type": "code",
   "execution_count": null,
   "id": "0ab5d695",
   "metadata": {
    "scrolled": true
   },
   "outputs": [],
   "source": [
    "loans = pd.read_csv(loans_path)\n",
    "loans = clean_loans(loans)\n",
    "loans.head()"
   ]
  },
  {
   "cell_type": "code",
   "execution_count": null,
   "id": "8b3d1189",
   "metadata": {
    "deletable": false,
    "editable": false
   },
   "outputs": [],
   "source": [
    "grader.check(\"q1\")"
   ]
  },
  {
   "cell_type": "markdown",
   "id": "c824ad2e",
   "metadata": {},
   "source": [
    "Now that we've cleaned `loans`, we can easily do things like plot the number of loans per year in `loans`:"
   ]
  },
  {
   "cell_type": "code",
   "execution_count": null,
   "id": "65b9a37f",
   "metadata": {},
   "outputs": [],
   "source": [
    "(\n",
    "    loans['issue_d'].dt.year\n",
    "    .value_counts()\n",
    "    .sort_index()\n",
    "    .plot(kind='line', \n",
    "          labels={'index': 'Year', 'value': 'Frequency'},\n",
    "          title='Number of Loans Granted Per Year<br>(In Sample of Loans)')\n",
    "    .update_layout(showlegend=False)\n",
    ")"
   ]
  },
  {
   "cell_type": "markdown",
   "id": "d0ed8206",
   "metadata": {},
   "source": [
    "<br>\n",
    "\n",
    "--- \n",
    "\n",
    "### Question 2 (Checkpoint Question)\n",
    "\n",
    "<a name='Question-2'></a>\n",
    "\n",
    "([return to the outline](#outline))\n",
    "\n",
    "As mentioned at the start of Part 1, lenders give higher interest rates to borrowers they perceive as high-risk. In this question, we'll measure the **correlation** between interest rate (`'int_rate'`) and various other quantitative features: debt-to-income ratio (`'dti'`), annual income (`'annual_inc'`), credit score (`'fico_range_low'`), as well as loan length (`'term'`).\n",
    "\n",
    "We've discussed debt-to-income ratios already, and annual incomes and loan lengths are easy to interpret, but credit scores might be new to you. The general idea behind credit scores is simple: the higher a borrower's credit score is, the more \"trustworthy\" they appear to lenders. FICO, short for the Fair Isaac Corporation, is a private organization that computes credit scores for lenders. FICO credit scores range from 300 (very poor) to 850 (excellent).\n",
    "\n",
    "The DataFrame we have access to has two columns involving FICO scores: `'fico_range_low'` and `'fico_range_high'`. For almost all rows in `loans`, the value for `'fico_range_high'` is just 4 points higher than `'fico_range_low'`, so both columns essentially contain the same information:\n",
    "\n",
    "\n",
    "<table border=\"1\" class=\"dataframe\">\n",
    "  <thead>\n",
    "    <tr style=\"text-align: right;\">\n",
    "      <th></th>\n",
    "      <th>fico_range_low</th>\n",
    "      <th>fico_range_high</th>\n",
    "    </tr>\n",
    "  </thead>\n",
    "  <tbody>\n",
    "    <tr>\n",
    "      <th>0</th>\n",
    "      <td>700.0</td>\n",
    "      <td>704.0</td>\n",
    "    </tr>\n",
    "    <tr>\n",
    "      <th>1</th>\n",
    "      <td>680.0</td>\n",
    "      <td>684.0</td>\n",
    "    </tr>\n",
    "    <tr>\n",
    "      <th>2</th>\n",
    "      <td>705.0</td>\n",
    "      <td>709.0</td>\n",
    "    </tr>\n",
    "    <tr>\n",
    "      <th>3</th>\n",
    "      <td>670.0</td>\n",
    "      <td>674.0</td>\n",
    "    </tr>\n",
    "    <tr>\n",
    "      <th>4</th>\n",
    "      <td>735.0</td>\n",
    "      <td>739.0</td>\n",
    "    </tr>\n",
    "  </tbody>\n",
    "</table>\n",
    "<center><i>The first few rows of <code>loans</code>.</i></center>\n",
    "\n",
    "**So, for simplicity, \"credit scores\" and \"FICO scores\" will always refer to the values in the `'fico_range_low'` column for the rest of the project. Don't use `'fico_range_high'` for anything!** \n",
    "\n",
    "<br>\n",
    "\n",
    "Back to the task at hand. To help us measure the correlation between interest rates and other quantitative features, complete the implementation of the function `correlations`, which takes in:\n",
    "- a DataFrame, `df`, and\n",
    "- a list, `pairs`, of **tuples**, each of which contains the names of two columns in `df`.\n",
    "\n",
    "`correlations` should return a **Series** that has the same length as `pairs`, containing the correlation between each specified pair of columns. The values in the index of the Series should be strings of the form `'r_col1_col2'`, where `'col1'` and `'col2'` are the names of two columns, in the same order they appear in the input tuple.\n",
    "\n",
    "Example behavior is given below.\n",
    "\n",
    "```py\n",
    ">>> correlations(loans, [\n",
    "    ('dti', 'int_rate'),\n",
    "    ('annual_inc', 'mths_since_last_delinq')\n",
    "])\n",
    "\n",
    "r_dti_int_rate                         ???\n",
    "r_annual_inc_mths_since_last_delinq    ???\n",
    "dtype: float64\n",
    "```\n",
    "\n",
    "Of course, your Series will have values that are numbers, not ???.\n",
    "\n",
    "The correlation you compute should be the Pearson correlation, we will talk more about correlation in a few weeks. The Pearson's correlation coefficient $r$, is a measure of **linear** association.  It is based on standard units and ranges from -1 to 1.  With a $r$ of 1, the scatter between two variables is a perfect straight line sloping up.  A $r$ = -1, indicates scatter is a perfect straight line sloping down.  An correlation of $r$ = 0 is called uncorrelated with no linear association.  You won't have to compute it manually, though – there are a variety of built-in `pandas` and `numpy` methods which compute it for you directly.\n",
    "\n",
    "***Note***: Make sure to test your function on DataFrames other than `loans`!"
   ]
  },
  {
   "cell_type": "code",
   "execution_count": null,
   "id": "0651629a",
   "metadata": {
    "tags": []
   },
   "outputs": [],
   "source": [
    "def correlations(df, pairs):\n",
    "    ...\n",
    "    "
   ]
  },
  {
   "cell_type": "markdown",
   "id": "a98de445",
   "metadata": {},
   "source": [
    "Run the cell below to call `correlations` on `loans`, to find the correlations between debt-to-income and interest rate, annual income and interest rate, and FICO credit score and interest rate. Make sure to run this cell before moving forward, otherwise the tests won't work correctly."
   ]
  },
  {
   "cell_type": "code",
   "execution_count": null,
   "id": "90ad0215",
   "metadata": {},
   "outputs": [],
   "source": [
    "q2_correlations = correlations(loans, [\n",
    "    ('dti', 'int_rate'),\n",
    "    ('annual_inc', 'int_rate'),\n",
    "    ('fico_range_low', 'int_rate'),\n",
    "    ('term', 'int_rate')\n",
    "])\n",
    "q2_correlations"
   ]
  },
  {
   "cell_type": "code",
   "execution_count": null,
   "id": "b22a0513",
   "metadata": {
    "deletable": false,
    "editable": false
   },
   "outputs": [],
   "source": [
    "grader.check(\"q2\")"
   ]
  },
  {
   "cell_type": "markdown",
   "id": "ccfcbeb5",
   "metadata": {},
   "source": [
    "Run the cell below to draw a bar chart of the four correlations you computed, stored in `q2_correlations`."
   ]
  },
  {
   "cell_type": "code",
   "execution_count": null,
   "id": "7e98afcb",
   "metadata": {},
   "outputs": [],
   "source": [
    "(\n",
    "    q2_correlations\n",
    "    .plot(kind='barh', \n",
    "          title='Correlation Between Interest Rate and Various Quantitative Features',\n",
    "          labels={'index': 'Pair of Columns', 'value': 'Correlation'}\n",
    "         )\n",
    "    .update_layout(showlegend=False)\n",
    ")"
   ]
  },
  {
   "cell_type": "markdown",
   "id": "fba4c27e",
   "metadata": {},
   "source": [
    "You should notice that of the four features analyzed, credit scores are most strongly correlated with interest rates, though term lengths also seem to be quite correlated. Let's first take a look at a scatter plot of interest rate vs. credit score."
   ]
  },
  {
   "cell_type": "code",
   "execution_count": null,
   "id": "0c0a85c5",
   "metadata": {},
   "outputs": [],
   "source": [
    "px.scatter(loans, x='fico_range_low', y='int_rate',\n",
    "           labels={'fico_range_low': 'Credit Score', \n",
    "                   'int_rate': 'Interest Rate (%)'},\n",
    "           title='Interest Rate vs. Credit Score')"
   ]
  },
  {
   "cell_type": "markdown",
   "id": "a250f730",
   "metadata": {},
   "source": [
    "There's a lot of overplotting here, meaning that many points are being plotted on top of one another. It does indeed seem that as credit scores increase, interest rates tend to decrease on average, but perhaps there's a better way to visualize this information.\n"
   ]
  },
  {
   "cell_type": "markdown",
   "id": "11a3afe6",
   "metadata": {},
   "source": [
    "One idea is to place credit scores into categories by **binning** them. According to [Experian](https://www.experian.com/blogs/ask-experian/credit-education/score-basics/what-is-a-good-credit-score/#s1), one of the three major credit bureaus in the US, FICO credit scores are described qualitatively as follows:\n",
    "\n",
    "| Score | Category |\n",
    "|---|---|\n",
    "| 580 - 669 | Fair |\n",
    "| 670 - 739 | Good |\n",
    "| 740 - 799 | Very Good |\n",
    "| 800 - 850 | Excellent |\n",
    "\n",
    "There is actually also a bin below fair, named \"poor\" with a range of 300-579, but since `loans` doesn't have any poor credit scores, we'll exclude them from our exploration here. Note that while the `dtype` of `'fico_range_low'` is `float`, credit scores are actually integers.\n",
    "\n",
    "Once we place credit scores into bins, we can visualize the distribution of interest rates separately for each credit score bin. Here, that would allow us to draw four separate distributions of interest rates – one for the fair group, one for the good group, one for the very good group, and one for the excellent group. Each one of those four distributions are **numerical distributions**, which we have several tools for visualizing; the most common tool you've seen is the histogram, but others exist, like the boxplot and violin plot. Let's explore this idea further!"
   ]
  },
  {
   "cell_type": "markdown",
   "id": "3d6a165b",
   "metadata": {},
   "source": [
    "<!-- BEGIN QUESTION -->\n",
    "\n",
    "<br> \n",
    "\n",
    "---\n",
    "\n",
    "### Question 3\n",
    "\n",
    "([return to the outline](#outline))\n",
    "\n",
    "You will create a **boxplot describing the distribution of interest rates, separately for each of the four credit score bins mentioned above, and separately for the two loan lengths**. Here's an example of the plot you'll need to create:\n",
    "\n",
    "<center><img src=\"imgs/q3_sample.png\" width=60%></center>\n",
    "\n",
    "To create your figure, you'll use the seaborn's `boxplot` or `catplot` function and provide several arguments (the example above used `catplot`). \n",
    "\n",
    "Before creating the figure, though, you'll need to place credit scores into bins. There's a `pandas` function that will be helpful here. **Make sure the bins match those in our example plot exactly – inclusive of the left endpoint and exclusive of the right endpoint.** You'll need to create a new column `fico_range_low_cat` that stores this binned information. You can assume that nobody has an exact credit score of 850. \n",
    "\n",
    "Here are some additional requirements for you to get full credit on your boxplot:\n",
    "- Make sure your axis labels, legend labels, and title are similar to ours.\n",
    "- You **must** change the colors of the two terms from the default colors to something else. We chose purple and gold. To do this, you'll need to manually specify what color you want for the `36` group and the `60` group; it is fine to hard-code these two term lengths when creating your plot.\n",
    " "
   ]
  },
  {
   "cell_type": "code",
   "execution_count": null,
   "id": "4fd97330",
   "metadata": {
    "tags": []
   },
   "outputs": [],
   "source": [
    "# create new column of data 'fico_range_low_cat'\n",
    "...\n",
    "\n",
    "\n",
    "# create a boxplot using seaborn\n",
    "...\n",
    "    "
   ]
  },
  {
   "cell_type": "markdown",
   "id": "88b5ae1c",
   "metadata": {},
   "source": [
    "<!-- END QUESTION -->\n",
    "\n",
    "If you created your boxplot correctly, you should have seen a few things:\n",
    "- As borrowers' credit scores increase, both the median and variance in interest rates tend to decrease.\n",
    "- Across the spectrum of credit scores, 60 month loans tend to have higher interest rates than 36 month loans.\n",
    "\n",
    "You might wonder why longer loans have higher interest rates. From [The Motley Fool](https://www.fool.com/the-ascent/personal-loans/longer-repayment-terms-personal-loans-pros-cons/#:~:text=A%20longer%20term%20is%20riskier,charge%20a%20higher%20interest%20rate.):\n",
    "\n",
    "> A longer term is riskier for the lender because there's more of a chance interest rates will change dramatically during that time. There's also more of a chance something will go wrong and you won't pay the loan back. Because it's a riskier loan to make, lenders charge a higher interest rate.\n",
    "\n",
    "Good to know!"
   ]
  },
  {
   "cell_type": "markdown",
   "id": "353e9632",
   "metadata": {},
   "source": [
    "Now that we've investigated the role of some of the quantitative factors behind interest rates, let's look at some of the more subjective factors. Take a look at the following personal statement, for example:\n",
    "\n",
    "> i recently proposed to my girlfriend of almost 8 yrs now and everything was going well untill our pug (ody) the middle of my three dogs started limping around and stumbling all the time. well come to find out he has a tumor on his spine. not very good news for us as our dogs are pretty much our children. so the reason for my loan request is the money i spent on the engagement ring was most of my savings and then i had to take out paydayloans loans for the mylogram bill, wich is similar to an MRI. $2,700 along with meds, visits etc.\n",
    "\n",
    "You suspect that, perhaps, loans that included personal statements in their applications were given higher interest rates than loans that didn't include personal statements in their applications. This is true in `loans`:"
   ]
  },
  {
   "cell_type": "code",
   "execution_count": null,
   "id": "5d42da12",
   "metadata": {},
   "outputs": [],
   "source": [
    "display(loans.assign(has_ps=loans['desc'].notna()).groupby('has_ps')['int_rate'].describe())\n",
    "create_kde_plotly(\n",
    "    loans.assign(has_ps=loans['desc'].notna()),\n",
    "    'has_ps',\n",
    "    True,\n",
    "    False,\n",
    "    'int_rate',\n",
    "    title='Distributions of Interest Rates<br>Based on Inclusion of Personal Statement'\n",
    ")"
   ]
  },
  {
   "cell_type": "markdown",
   "id": "5b0ba166",
   "metadata": {},
   "source": [
    "But remember, `loans` is just a sample from a much larger population of loan applications. Is this observed difference statistically significant? Let's perform a permutation test."
   ]
  },
  {
   "cell_type": "markdown",
   "id": "7ed5a353",
   "metadata": {},
   "source": [
    "<br>\n",
    "\n",
    "---\n",
    "\n",
    "\n",
    "### Question 4 (Checkpoint Question)\n",
    "\n",
    "<a name='Question-4'></a> \n",
    "\n",
    "([return to the outline](#outline))\n",
    "\n",
    "#### `ps_test`\n",
    "\n",
    "Complete the implementation of the function `ps_test`, which takes in two arguments – a DataFrame like `loans` and a number `N` of repetitions – and returns the p-value for the following permutation test:\n",
    "\n",
    "- **Null Hypothesis**: Interest rates given to applications with personal statements are the same, on average, as the interest rates given to applications without personal statements.\n",
    "- **Alternative Hypothesis**: Interest rates given to applications with personal statements are larger on average than interest rates given to applications without personal statements.\n",
    "\n",
    "As your test statistic, use the **difference in group means (with statement mean minus without statement mean)**.\n",
    "\n",
    "<br>\n",
    "\n",
    "\n",
    "#### `missingness_mechanism`\n",
    "\n",
    "While not stated above explicitly, we can interpret our permutation test as one that assesses whether the missingness of a personal statement is dependent on interest rate.\n",
    "\n",
    "Run your `ps_test` function with 5000 repetitions. Given the p-value you saw, what do you believe is the most likely missingness mechanism of the personal statement column, assuming we've narrowed down the missingness mechanism to these two options?\n",
    "\n",
    "1. Missing completely at random (MCAR).\n",
    "1. Missing at random (MAR) dependent on interest rate.\n",
    "\n",
    "Complete the implementation of the function `missingness_mechanism`, which takes in no arguments and returns either 1 or 2, corresponding to your answer to the question above.\n",
    "\n",
    "<br>\n",
    "\n",
    "#### `argument_for_nmar`\n",
    "\n",
    "In the function above, we had you use your permutation test to decide between MCAR and MAR as the likely missingness mechanism for personal statements. But, you could make an argument that personal statements are not missing at random (NMAR), too.\n",
    "\n",
    "Complete the implementation of the function `argument_for_nmar`, which takes in no arguments and returns a **string** with a one-sentence justification as to why personal statements may be not missing at random.\n",
    "\n",
    "***Note***: We may manually grade your answer to `argument_for_nmar` in your final submission – passing the autograder tests for `argument_for_nmar` is not necessarily sufficient!"
   ]
  },
  {
   "cell_type": "code",
   "execution_count": null,
   "id": "f0c648e3",
   "metadata": {
    "tags": []
   },
   "outputs": [],
   "source": [
    "def ps_test(df, N):\n",
    "    ...\n",
    "    "
   ]
  },
  {
   "cell_type": "code",
   "execution_count": null,
   "id": "0ea361ff",
   "metadata": {
    "tags": []
   },
   "outputs": [],
   "source": [
    "def missingness_mechanism():\n",
    "    return ...\n",
    "    "
   ]
  },
  {
   "cell_type": "code",
   "execution_count": null,
   "id": "000aebad",
   "metadata": {
    "tags": []
   },
   "outputs": [],
   "source": [
    "def argument_for_nmar():\n",
    "    return ...\n",
    "    "
   ]
  },
  {
   "cell_type": "code",
   "execution_count": null,
   "id": "9b2b84cb",
   "metadata": {
    "tags": []
   },
   "outputs": [],
   "source": [
    "np.random.seed(42)\n",
    "loans = loans.assign(has_ps=loans['desc'].notna())\n",
    "q4_pval = ps_test(loans, 5000)\n",
    "q4_miss = missingness_mechanism()\n",
    "q4_arg = argument_for_nmar()"
   ]
  },
  {
   "cell_type": "code",
   "execution_count": null,
   "id": "621ec34e",
   "metadata": {
    "deletable": false,
    "editable": false
   },
   "outputs": [],
   "source": [
    "grader.check(\"q4\")"
   ]
  },
  {
   "cell_type": "markdown",
   "id": "9305c6d0",
   "metadata": {},
   "source": [
    "<br/><br/>\n",
    "<hr style=\"border: 5px solid #8a8c8c;\" />\n",
    "<hr style=\"border: 1px solid #ffcd00;\" />\n",
    "\n",
    "<a name='part2'></a>\n",
    "\n",
    "\n",
    "## Part 2: Calculating Disposable Incomes\n",
    "\n",
    "([return to the outline](#outline))\n",
    "\n",
    "In Part 1, we focused on understanding how the interest rates LendingClub chose to give to borrowers depended on different aspects of a borrower's application. In Part 2, we'll focus on understanding borrowers' **disposable incomes**, or net incomes:\n",
    "\n",
    "$$\n",
    "\\text{Disposable Income} = \\text{Gross Income} - \\text{Federal Income Tax} - \\text{State Income Tax} \n",
    "$$\n",
    "\n",
    "This is a minor simplification, because [some cities](https://www.stlouis-mo.gov/government/departments/comptroller/initiatives/us-cities-that-levy-earnings-taxes.cfm) also collect city-specific income taxes, but we'll ignore those here. Note that the `'annual_inc'` column in `loans` contains each borrower's gross income – that is, their income before taxes are removed.\n",
    "\n",
    "Understanding a borrower's disposable income enables lenders to evaluate a borrower's ability to meet loan obligations, ensuring that the risk of failing to pay back the loan (or **defaulting**) is minimized. In other words, knowing a borrower's disposable income allows lenders to structure loan payments in a way that aligns with the borrower's cash flow, reducing the likelihood of missed payments.\n",
    "\n",
    "The United States, like many countries, uses a progressive tax bracket system. This means that as your earnings increase, the percentage of your earnings you owe in tax also increases. In addition, the US tax system uses marginal tax brackets – what this means is that US taxpayers pay different tax percentages on different \"chunks\" of their earnings.\n",
    "\n",
    "Here's how Part 2 is structured:\n",
    "- In Question 5, you'll define a general purpose function that takes in a gross income and an arbitrary tax bracket and returns the amount of tax owed.\n",
    "- In Questions 6 and 7, you'll clean a DataFrame that contains tax brackets for different states so that the brackets are in a format that you can use with your function from Question 5.\n",
    "- And finally, in Question 8, you'll compute the amount of disposable income each borrower has.\n",
    "\n",
    "Let's get started!"
   ]
  },
  {
   "cell_type": "markdown",
   "id": "6418ce52",
   "metadata": {},
   "source": [
    "<br>\n",
    "\n",
    "---\n",
    "\n",
    "### Question 5\n",
    "\n",
    "<a name='Question-5'></a>\n",
    "\n",
    "([return to the outline](#outline))\n",
    "\n",
    "Let's use the following example to illustrate how tax brackets work. You may have actually seen the same example before, but for reasons you're about to see, your implementation will be a bit more complicated here.\n",
    "\n",
    "| Tax Rate | Tax Bracket |\n",
    "| --- | --- |\n",
    "| 10% | [$0, \\\\$11,000] |\n",
    "| 12% | (\\\\$11,000, \\\\$44,725] |\n",
    "| 22% | (\\\\$44,725, \\\\$95,375] |\n",
    "| 24% | (\\\\$95,375, \\\\$182,100] |\n",
    "| 32% | (\\\\$182,100, \\\\$231,251] |\n",
    "| 35% | (\\\\$231,251, \\\\$578,125] |\n",
    "| 37% | Over \\\\$578,125        |\n",
    "\n",
    "\n",
    "If someone has a gross, or **taxable**, income of \\\\$75,000, we say they are in the 22% tax bracket. However, such an individual doesn't owe 22% of \\\\$75,000 in taxes. Instead, they owe:\n",
    "- 10% of \\\\$11,000, **plus**\n",
    "- 12% of \\\\$33,725 (which is \\\\$44,725 - \\\\$11,000), **plus**\n",
    "- 22% of \\\\$30,275 (which is \\\\$75,000 - \\\\$44,725).\n",
    "\n",
    "More concretely, their tax owed is\n",
    "$$0.1 \\cdot \\$11{,}000 + 0.12 \\cdot \\$33{,}725 + 0.22 \\cdot \\$30{,}275 = \\$11,807.50.$$\n",
    "\n",
    "\n",
    "<br>\n",
    "\n",
    "For the purposes of this question, we will express tax brackets – like the one in the table above – using a **list of tuples**. For instance, we can express the tax brackets above as follows:\n",
    "\n",
    "```py\n",
    "[(0.1, 0), \n",
    " (0.12, 11000), \n",
    " (0.22, 44725), \n",
    " (0.24, 95375), \n",
    " (0.32, 182100),\n",
    " (0.35, 231251),\n",
    " (0.37, 578125)\n",
    "]\n",
    "```\n",
    "\n",
    "Each tuple is structured as `(tax_rate, bracket_lower_limit)`. For example, `(0.1, 0)` indicates a 10% tax rate for income above \\\\$0.\n",
    "\n",
    "Before implementing anything, make sure you deeply understand:\n",
    "1. How we found that a gross income of \\\\$75,000 owes \\\\$11,807.50 in taxes using the brackets above.\n",
    "1. How we've represented the brackets from the table above as a list of tuples.\n",
    "\n",
    "<br>\n",
    "\n",
    "Now, complete the implementation of the function `tax_owed`, which takes in a float, `income`, and a list of tuples, `brackets`, and returns the amount of tax owed on a gross income of `income`, using the provided `brackets` (formatted as in the example above).\n",
    "\n",
    "Example behavior is given below.\n",
    "\n",
    "```py\n",
    ">>> tax_owed(75000, \n",
    "[(0.1, 0), \n",
    " (0.12, 11000), \n",
    " (0.22, 44725), \n",
    " (0.24, 95375), \n",
    " (0.32, 182100),\n",
    " (0.35, 231251),\n",
    " (0.37, 578125)\n",
    "])\n",
    "11807.5\n",
    "```\n",
    "\n",
    "**Make sure to test your function with brackets other than the one above, and verify that it works correctly by replicating the calculations by hand!**"
   ]
  },
  {
   "cell_type": "markdown",
   "id": "1bb09963",
   "metadata": {},
   "source": [
    "_Type your answer here, replacing this text._"
   ]
  },
  {
   "cell_type": "code",
   "execution_count": null,
   "id": "1899363c",
   "metadata": {
    "tags": []
   },
   "outputs": [],
   "source": [
    "def tax_owed(income, brackets):\n",
    "    ...\n",
    "    "
   ]
  },
  {
   "cell_type": "code",
   "execution_count": null,
   "id": "e01cde44",
   "metadata": {
    "tags": []
   },
   "outputs": [],
   "source": [
    "example_brackets = [\n",
    " (0.1, 0), \n",
    " (0.12, 11000), \n",
    " (0.22, 44725), \n",
    " (0.24, 95375), \n",
    " (0.32, 182100),\n",
    " (0.35, 231251),\n",
    " (0.37, 578125)]\n",
    "example_owed = tax_owed(75000, example_brackets)\n",
    "example_owed"
   ]
  },
  {
   "cell_type": "code",
   "execution_count": null,
   "id": "40a8afd8",
   "metadata": {
    "deletable": false,
    "editable": false
   },
   "outputs": [],
   "source": [
    "grader.check(\"q5\")"
   ]
  },
  {
   "cell_type": "markdown",
   "id": "f0edf71a",
   "metadata": {},
   "source": [
    "Now that we have a general-purpose function that can take in a gross income and a list of tax brackets and return the tax owed, we want to use this function to compute both the **state** and **federal** taxes each loan applicant owed.\n",
    "\n",
    "To start this process, we'll load in a DataFrame that contains the tax brackets for each state in 2023 ([source](https://taxfoundation.org/data/all/state/state-income-tax-rates-2023/)). Not all of the loan applications were submitted in 2023 – in fact, they were all submitted between 2008 and 2018 – but brackets don't change very much from year to year, so for simplicity we'll use these brackets throughout.\n",
    "\n",
    "Run the cell below to define a DataFrame named `state_taxes_raw` with the relevant information."
   ]
  },
  {
   "cell_type": "code",
   "execution_count": null,
   "id": "491cbd44",
   "metadata": {},
   "outputs": [],
   "source": [
    "state_taxes_raw_path = Path('data') / 'state_taxes_raw.csv'\n",
    "state_taxes_raw = pd.read_csv(state_taxes_raw_path)\n",
    "state_taxes_raw.head()"
   ]
  },
  {
   "cell_type": "markdown",
   "id": "0c2e4cd2",
   "metadata": {},
   "source": [
    "As you can see, the state of the DataFrame is a bit hard to parse. The information we need is in there, but you'll need to clean it up so that it's in the right format.\n",
    "\n",
    "**Before proceeding, you may want to open `data/state_taxes_raw.csv` in your text editor to see how it's formatted!**"
   ]
  },
  {
   "cell_type": "markdown",
   "id": "4f647e2e",
   "metadata": {},
   "source": [
    "<br>\n",
    "\n",
    "---\n",
    "\n",
    "### Question 6\n",
    "\n",
    "<a name='Question-6'></a>\n",
    "\n",
    "([return to the outline](#outline))\n",
    "\n",
    "Complete the implementation of the function `clean_state_taxes`, which takes in a DataFrame like `state_taxes_raw` and returns a cleaned version of it. The first few rows of `clean_state_taxes(state_taxes_raw)` should look like this:\n",
    "\n",
    "<table border=\"1\" class=\"dataframe\">\n",
    "  <thead>\n",
    "    <tr style=\"text-align: right;\">\n",
    "      <th></th>\n",
    "      <th>State</th>\n",
    "      <th>Rate</th>\n",
    "      <th>Lower Limit</th>\n",
    "    </tr>\n",
    "  </thead>\n",
    "  <tbody>\n",
    "    <tr>\n",
    "      <th>0</th>\n",
    "      <td>Ala.</td>\n",
    "      <td>0.02</td>\n",
    "      <td>0</td>\n",
    "    </tr>\n",
    "    <tr>\n",
    "      <th>1</th>\n",
    "      <td>Ala.</td>\n",
    "      <td>0.04</td>\n",
    "      <td>500</td>\n",
    "    </tr>\n",
    "    <tr>\n",
    "      <th>2</th>\n",
    "      <td>Ala.</td>\n",
    "      <td>0.05</td>\n",
    "      <td>3000</td>\n",
    "    </tr>\n",
    "    <tr>\n",
    "      <th>4</th>\n",
    "      <td>Alaska</td>\n",
    "      <td>0.00</td>\n",
    "      <td>0</td>\n",
    "    </tr>\n",
    "    <tr>\n",
    "      <th>6</th>\n",
    "      <td>Ariz.</td>\n",
    "      <td>0.02</td>\n",
    "      <td>0</td>\n",
    "    </tr>\n",
    "  </tbody>\n",
    "</table>\n",
    "\n",
    "\n",
    "\n",
    "Here's what you need to do to clean `state_taxes_raw`:\n",
    "\n",
    "- Each state is separated by a row full of null values – drop these.\n",
    "- Modify the `'State'` column so that each rate and bracket limit has its corresponding state name filled in.\n",
    "    - Note that values like `'(a, b, c)'` are meaningless and shouldn't appear in the final DataFrame.\n",
    "    - There are many ways you can go about this, but perhaps the easiest way is to replace all strings that are currently in the `'State'` column that aren't state names with null values, then *fill* in all null values – many of which were already there – with the state name that appears most recently above it. There's a way to do this natively in `pandas`; **don't use a `for`-loop**.\n",
    "- Modify the `'Rate'` column so that all values are stored as floats that represent **proportions**.\n",
    "    - Round the proportions to two decimal places to avoid any potential floating point precision errors.\n",
    "    - Make sure to account for states that don't have any state income tax (like Alaska).\n",
    "- Modify the `'Lower Limit'` column so that all values are stored as integers.\n",
    "    - States with no state income tax have null `'Lower Limit'` values; make sure to set these `'Lower Limit'`s to 0.\n",
    "    \n",
    "This is quite an involved problem. Try to organize your work as best as you can, for instance, by using many helper functions and the `pipe` DataFrame method. **Nothing about this question requires the use of a `for`-loop, so don't use one!**\n",
    "\n",
    "***HINT***: pandas `apply` and `lambda` functions may be useful!"
   ]
  },
  {
   "cell_type": "markdown",
   "id": "f42d0a79",
   "metadata": {},
   "source": [
    "_Type your answer here, replacing this text._"
   ]
  },
  {
   "cell_type": "code",
   "execution_count": null,
   "id": "17889500",
   "metadata": {
    "tags": []
   },
   "outputs": [],
   "source": [
    "def clean_state_taxes(state_taxes_raw):\n",
    "    ...\n",
    "    "
   ]
  },
  {
   "cell_type": "code",
   "execution_count": null,
   "id": "c29bffa0",
   "metadata": {
    "tags": []
   },
   "outputs": [],
   "source": [
    "state_taxes_raw = pd.read_csv(state_taxes_raw_path)\n",
    "state_taxes = clean_state_taxes(state_taxes_raw)\n",
    "state_taxes.head()"
   ]
  },
  {
   "cell_type": "code",
   "execution_count": null,
   "id": "20166bd0",
   "metadata": {
    "deletable": false,
    "editable": false
   },
   "outputs": [],
   "source": [
    "grader.check(\"q6\")"
   ]
  },
  {
   "cell_type": "markdown",
   "id": "8b87dab4",
   "metadata": {},
   "source": [
    "Moving forward, remember to refer to `state_taxes`, **not** `state_taxes_raw`."
   ]
  },
  {
   "cell_type": "markdown",
   "id": "e2d3a3bd",
   "metadata": {},
   "source": [
    "<br>\n",
    "\n",
    "---\n",
    "\n",
    "### Question 7\n",
    "\n",
    "<a name='Question-7'></a>\n",
    "\n",
    "([return to the outline](#outline))\n",
    "\n",
    "While the information in `state_taxes` is now a bit more interpretable, the brackets in it are not quite compatible with our `tax_owed` function from Question 5. Here, we'll work on reformatting the brackets in `state_taxes` to be in a more useful format, and combining the resulting brackets with the other information we have (including, most importantly, incomes) for each borrower.\n",
    "\n",
    "#### `state_brackets`\n",
    "\n",
    "Complete the implementation of the function `state_brackets`, which takes in a cleaned DataFrame like `state_taxes` and returns a new DataFrame, indexed by `'State'`, with a single column, `'bracket_list'`, that contains the tax brackets for each state as **lists of tuples** in the form `(tax_rate, bracket_lower_limit)`.\n",
    "\n",
    "The first few rows of `state_brackets(state_taxes)` should look like this:\n",
    "\n",
    "<table border=\"1\" class=\"dataframe\">\n",
    "  <thead>\n",
    "    <tr style=\"text-align: right;\">\n",
    "      <th></th>\n",
    "      <th>bracket_list</th>\n",
    "    </tr>\n",
    "    <tr>\n",
    "      <th>State</th>\n",
    "      <th></th>\n",
    "    </tr>\n",
    "  </thead>\n",
    "  <tbody>\n",
    "    <tr>\n",
    "      <th>Ala.</th>\n",
    "      <td>[(0.02, 0), (0.04, 500), (0.05, 3000)]</td>\n",
    "    </tr>\n",
    "    <tr>\n",
    "      <th>Alaska</th>\n",
    "      <td>[(0.0, 0)]</td>\n",
    "    </tr>\n",
    "    <tr>\n",
    "      <th>Ariz.</th>\n",
    "      <td>[(0.02, 0)]</td>\n",
    "    </tr>\n",
    "    <tr>\n",
    "      <th>Ark.</th>\n",
    "      <td>[(0.02, 0), (0.04, 4300), (0.05, 8500)]</td>\n",
    "    </tr>\n",
    "  </tbody>\n",
    "</table>\n",
    "\n",
    "Again, don't use a `for`-loop! In addition, don't forget that you can apply a function to every **row** of a DataFrame by using the DataFrame `apply` method with `axis=1`. `lambda` functions are your friend!\n",
    "\n",
    "***HINT***: explore using the `zip` function."
   ]
  },
  {
   "cell_type": "code",
   "execution_count": null,
   "id": "a53f06b5",
   "metadata": {
    "tags": []
   },
   "outputs": [],
   "source": [
    "def state_brackets(state_taxes):\n",
    "    ...\n",
    "    "
   ]
  },
  {
   "cell_type": "code",
   "execution_count": null,
   "id": "3baa9f93",
   "metadata": {
    "tags": []
   },
   "outputs": [],
   "source": [
    "state_taxes = clean_state_taxes(pd.read_csv(state_taxes_raw_path))\n",
    "state_taxes_new = state_brackets(state_taxes)"
   ]
  },
  {
   "cell_type": "code",
   "execution_count": null,
   "id": "653f73f3",
   "metadata": {
    "deletable": false,
    "editable": false
   },
   "outputs": [],
   "source": [
    "grader.check(\"q7\")"
   ]
  },
  {
   "cell_type": "markdown",
   "id": "c74183d1",
   "metadata": {},
   "source": [
    "<br>\n",
    "\n",
    "---\n",
    "\n",
    "### Question 8 \n",
    "\n",
    "#### `combine_loans_and_state_taxes`\n",
    "\n",
    "Complete the implementation of the function `combine_loans_and_state_taxes`. It should take in two DataFrames:\n",
    "- One like `loans`, and\n",
    "- One like `state_taxes` (that is, one that is returned by `clean_state_taxes` from Question 5).\n",
    "\n",
    "`combine_loans_and_state_taxes` should return a new DataFrame that has all of the same rows and columns as `loans`, except:\n",
    "- There is an additional column, `'bracket_list'`, corresponding to the tax bracket list in each state.\n",
    "- The name of the column containing states is `'State'` (which is not what it currently is in `loans`), with state names formatted as two-letter abbreviations (e.g. `'CA'`).\n",
    "\n",
    "On the surface, this may seem straightforward: just call `state_brackets` on `state_taxes` and merge the resulting DataFrame with `loans`. But it's not that easy – the names of states are formatted differently in both `loans` (which uses two-letter abbreviations) and `state_taxes` (which uses non-standard shortened names). To help, we've provided you with a JSON file, `data/state_mapping.json`, that we load in as a dictionary at the top of `combine_loans_and_state_taxes`. Take a peek at `data/state_mapping.json` in your text editor to see how it's structured!\n",
    "\n",
    "***Hint***: See how the information in state_mapping gets stored.  What type is this variable?   \n",
    "How might you want to *map* the state names to the two character codes?  \n",
    "In the merge keep both columns reprsenting state information. "
   ]
  },
  {
   "cell_type": "markdown",
   "id": "3ca18af3",
   "metadata": {},
   "source": [
    "_Type your answer here, replacing this text._"
   ]
  },
  {
   "cell_type": "code",
   "execution_count": null,
   "id": "0e6009e8",
   "metadata": {
    "tags": []
   },
   "outputs": [],
   "source": [
    "def combine_loans_and_state_taxes(loans, state_taxes):\n",
    "    # Start by loading in the JSON file.\n",
    "    # state_mapping is a dictionary; use it!\n",
    "    import json\n",
    "    state_mapping_path = Path('data') / 'state_mapping.json'\n",
    "    with open(state_mapping_path, 'r') as f:\n",
    "        state_mapping = json.load(f)\n",
    "        \n",
    "    # Now it's your turn:\n",
    "    ...\n",
    "    "
   ]
  },
  {
   "cell_type": "code",
   "execution_count": null,
   "id": "367a9d41",
   "metadata": {
    "tags": []
   },
   "outputs": [],
   "source": [
    "loans = clean_loans(pd.read_csv(loans_path))\n",
    "state_taxes = clean_state_taxes(pd.read_csv(state_taxes_raw_path))\n",
    "loans_with_state_taxes = combine_loans_and_state_taxes(loans, state_taxes)\n",
    "loans_with_state_taxes.head()"
   ]
  },
  {
   "cell_type": "code",
   "execution_count": null,
   "id": "9e143efd",
   "metadata": {
    "deletable": false,
    "editable": false
   },
   "outputs": [],
   "source": [
    "grader.check(\"q8\")"
   ]
  },
  {
   "cell_type": "markdown",
   "id": "2cc30445",
   "metadata": {},
   "source": [
    "<br>\n",
    "\n",
    "--- \n",
    "\n",
    "### Question 9\n",
    "\n",
    "<a name='Question-9'></a>\n",
    "\n",
    "([return to the outline](#outline))\n",
    "\n",
    "We now have all of the information we need to compute each borrower's disposable income:\n",
    "\n",
    "$$\n",
    "\\text{Disposable Income} = \\text{Gross Income} - \\text{Federal Income Tax} - \\text{State Income Tax} \n",
    "$$\n",
    "\n",
    "Complete the implementation of the function `find_disposable_income`, which takes in a DataFrame like `loans_with_state_taxes` and returns a copy of the input DataFrame with three additional columns:\n",
    "\n",
    "- `'federal_tax_owed'`, which contains the amount this individual owes in federal income taxes. To calculate federal income taxes, use the `FEDERAL_BRACKETS` list provided to you in the definition of `find_disposable_income`.\n",
    "- `'state_tax_owed'`, which contains the amount this individual owes in state income taxes. To calculate state income taxes, use the values in the `'brackets_list'` column, which depend on the borrower's state of residence.\n",
    "- `'disposable_income'`, which contains this individual's disposable income, which is their income after subtracting federal and state taxes from their gross income.\n",
    "\n",
    "Note that both federal taxes and state taxes are calculated based on an individual's gross income; this means you'll need to use values from the `'annual_inc'` column both when calculating federal taxes and state taxes."
   ]
  },
  {
   "cell_type": "markdown",
   "id": "78889b0b",
   "metadata": {},
   "source": [
    "_Type your answer here, replacing this text._"
   ]
  },
  {
   "cell_type": "code",
   "execution_count": null,
   "id": "e25b7466",
   "metadata": {
    "tags": []
   },
   "outputs": [],
   "source": [
    "def find_disposable_income(loans_with_state_taxes):\n",
    "    FEDERAL_BRACKETS = [\n",
    "     (0.1, 0), \n",
    "     (0.12, 11000), \n",
    "     (0.22, 44725), \n",
    "     (0.24, 95375), \n",
    "     (0.32, 182100),\n",
    "     (0.35, 231251),\n",
    "     (0.37, 578125)\n",
    "    ]\n",
    "    ...\n",
    "    "
   ]
  },
  {
   "cell_type": "code",
   "execution_count": null,
   "id": "c370ff97",
   "metadata": {
    "tags": []
   },
   "outputs": [],
   "source": [
    "with_disposable_income = find_disposable_income(loans_with_state_taxes)\n",
    "with_disposable_income.head()"
   ]
  },
  {
   "cell_type": "code",
   "execution_count": null,
   "id": "4fda8427",
   "metadata": {
    "deletable": false,
    "editable": false
   },
   "outputs": [],
   "source": [
    "grader.check(\"q9\")"
   ]
  },
  {
   "cell_type": "markdown",
   "id": "55ec340c",
   "metadata": {},
   "source": [
    "Nice work! To wrap up this section, we'll show you one of the many visualizations you can create using the calculations you just did.\n",
    "\n",
    "All you need to do here is read through the cell below, try and understand the code, run the cell, and look at the resulting visualization. What trends do you notice?"
   ]
  },
  {
   "cell_type": "code",
   "execution_count": null,
   "id": "dacf0ca1",
   "metadata": {},
   "outputs": [],
   "source": [
    "effective_tax_per_state = (\n",
    "    with_disposable_income\n",
    "    .groupby('State')\n",
    "    .apply(lambda df: df['state_tax_owed'].sum() / df['annual_inc'].sum())\n",
    ")\n",
    "\n",
    "median_income = (\n",
    "    with_disposable_income\n",
    "    .groupby('State')\n",
    "    ['annual_inc']\n",
    "    .median()\n",
    ")\n",
    "\n",
    "(\n",
    "    pd.DataFrame()\n",
    "    .assign(\n",
    "        effective_tax_per_state=effective_tax_per_state, \n",
    "        median_income=median_income,\n",
    "        count=with_disposable_income.value_counts('State')\n",
    "    )\n",
    "    .reset_index()\n",
    "    .plot(\n",
    "        kind='scatter',\n",
    "        x='median_income',\n",
    "        y='effective_tax_per_state',\n",
    "        hover_name='State',\n",
    "        size='count',\n",
    "        title='Effective State Tax Rate vs. Median Income Per State',\n",
    "        labels={\n",
    "            'median_income': 'Median Income',\n",
    "            'effective_tax_per_state': 'Effective State Tax Rate<br>sum(state tax) / sum(annual income)',\n",
    "            'count': 'Number of Borrowers'\n",
    "        }\n",
    "    )\n",
    ")"
   ]
  },
  {
   "cell_type": "markdown",
   "id": "fcd783ff",
   "metadata": {},
   "source": [
    "## Congratulations, you've finished Project 1!\n",
    "\n",
    "Submit your responses to Q1, 2, and 4 by the Checkpoint deadline (only the autograder questions will be tested). \n",
    "\n",
    "Youre response to all questions is due by the later deadline. "
   ]
  },
  {
   "cell_type": "markdown",
   "id": "66ef1f88",
   "metadata": {
    "deletable": false,
    "editable": false
   },
   "source": [
    "## Submission\n",
    "\n",
    "Make sure you have run all cells in your notebook in order before running the cell below, so that all images/graphs appear in the output. The cell below will generate a zip file for you to submit. **Please save before exporting!**"
   ]
  },
  {
   "cell_type": "code",
   "execution_count": null,
   "id": "e40598a8",
   "metadata": {
    "deletable": false,
    "editable": false
   },
   "outputs": [],
   "source": [
    "# Save your notebook first, then run this cell to export your submission.\n",
    "grader.export()"
   ]
  },
  {
   "cell_type": "markdown",
   "id": "97a7481d",
   "metadata": {},
   "source": [
    " "
   ]
  }
 ],
 "metadata": {
  "kernelspec": {
   "display_name": "Python [conda env:data1202] *",
   "language": "python",
   "name": "conda-env-data1202-py"
  },
  "language_info": {
   "codemirror_mode": {
    "name": "ipython",
    "version": 3
   },
   "file_extension": ".py",
   "mimetype": "text/x-python",
   "name": "python",
   "nbconvert_exporter": "python",
   "pygments_lexer": "ipython3",
   "version": "3.10.12"
  },
  "otter": {
   "OK_FORMAT": true,
   "assignment_name": "p01",
   "tests": {
    "q1": {
     "name": "q1",
     "points": 8,
     "suites": [
      {
       "cases": [
        {
         "code": ">>> isinstance(loans, pd.DataFrame)\nTrue",
         "hidden": false,
         "locked": false
        },
        {
         "code": ">>> loans.shape == (6300, 21)\nTrue",
         "hidden": false,
         "locked": false
        },
        {
         "code": ">>> type(loans['issue_d'].iloc[0]) == pd._libs.tslibs.timestamps.Timestamp\nTrue",
         "hidden": false,
         "locked": false
        },
        {
         "code": ">>> import numbers\n>>> isinstance(loans['term'].iloc[0], numbers.Integral)\nTrue",
         "hidden": false,
         "locked": false
        }
       ],
       "scored": true,
       "setup": "",
       "teardown": "",
       "type": "doctest"
      }
     ]
    },
    "q2": {
     "name": "q2",
     "points": 8,
     "suites": [
      {
       "cases": [
        {
         "code": ">>> callable(correlations)\nTrue",
         "hidden": false,
         "locked": false
        },
        {
         "code": ">>> isinstance(q2_correlations, pd.Series)\nTrue",
         "hidden": false,
         "locked": false
        },
        {
         "code": ">>> q2_correlations.shape == (4,)\nTrue",
         "hidden": false,
         "locked": false
        },
        {
         "code": ">>> type(q2_correlations.iloc[0]) == np.float64 or type(q2_correlations.iloc[0]) == float\nTrue",
         "hidden": false,
         "locked": false
        }
       ],
       "scored": true,
       "setup": "",
       "teardown": "",
       "type": "doctest"
      }
     ]
    },
    "q4": {
     "name": "q4",
     "points": [
      1,
      1,
      1,
      1,
      1
     ],
     "suites": [
      {
       "cases": [
        {
         "code": ">>> type(ps_test(loans, 1)) != int\nTrue",
         "hidden": false,
         "locked": false
        },
        {
         "code": ">>> type(missingness_mechanism()) == int\nTrue",
         "hidden": false,
         "locked": false
        },
        {
         "code": ">>> type(argument_for_nmar()) == str\nTrue",
         "hidden": false,
         "locked": false
        },
        {
         "code": ">>> 0 <= q4_pval <= 1\nTrue",
         "hidden": false,
         "locked": false
        },
        {
         "code": ">>> q4_miss == 1 or q4_miss == 2\nTrue",
         "hidden": false,
         "locked": false
        }
       ],
       "scored": true,
       "setup": "",
       "teardown": "",
       "type": "doctest"
      }
     ]
    },
    "q5": {
     "name": "q5",
     "points": [
      1,
      1
     ],
     "suites": [
      {
       "cases": [
        {
         "code": ">>> callable(tax_owed)\nTrue",
         "hidden": false,
         "locked": false
        },
        {
         "code": ">>> example_owed == 11807.5\nTrue",
         "hidden": false,
         "locked": false
        }
       ],
       "scored": true,
       "setup": "",
       "teardown": "",
       "type": "doctest"
      }
     ]
    },
    "q6": {
     "name": "q6",
     "points": [
      1,
      1,
      1,
      1,
      1
     ],
     "suites": [
      {
       "cases": [
        {
         "code": ">>> type(state_taxes) == pd.core.frame.DataFrame\nTrue",
         "hidden": false,
         "locked": false
        },
        {
         "code": ">>> state_taxes.shape == (182, 3)\nTrue",
         "hidden": false,
         "locked": false
        },
        {
         "code": ">>> type(state_taxes['State'].iloc[0]) == str\nTrue",
         "hidden": false,
         "locked": false
        },
        {
         "code": ">>> type(state_taxes['Rate'].iloc[-1]) == np.float64 or type(state_taxes['Rate'].iloc[-1]) == float\nTrue",
         "hidden": false,
         "locked": false
        },
        {
         "code": ">>> import numbers \n>>> isinstance(state_taxes['Lower Limit'].iloc[-1], numbers.Integral)\nTrue",
         "hidden": false,
         "locked": false
        }
       ],
       "scored": true,
       "setup": "",
       "teardown": "",
       "type": "doctest"
      }
     ]
    },
    "q7": {
     "name": "q7",
     "points": [
      1,
      1,
      2
     ],
     "suites": [
      {
       "cases": [
        {
         "code": ">>> state_taxes_new.shape == (51, 1)\nTrue",
         "hidden": false,
         "locked": false
        },
        {
         "code": ">>> state_taxes_new.columns[0] == 'bracket_list'\nTrue",
         "hidden": false,
         "locked": false
        },
        {
         "code": ">>> row = state_brackets(state_taxes)['bracket_list'].iloc[0]\n>>> isinstance(row, list) and all([isinstance(ele, tuple) for ele in row])\nTrue",
         "hidden": false,
         "locked": false
        }
       ],
       "scored": true,
       "setup": "",
       "teardown": "",
       "type": "doctest"
      }
     ]
    },
    "q8": {
     "name": "q8",
     "points": [
      1,
      1,
      1
     ],
     "suites": [
      {
       "cases": [
        {
         "code": ">>> 'MN' in loans_with_state_taxes['State'].tolist()\nTrue",
         "hidden": false,
         "locked": false
        },
        {
         "code": ">>> loans_with_state_taxes.shape == (6300, 23)\nTrue",
         "hidden": false,
         "locked": false
        },
        {
         "code": ">>> type(loans_with_state_taxes.iloc[393,22]) == list\nTrue",
         "hidden": false,
         "locked": false
        }
       ],
       "scored": true,
       "setup": "",
       "teardown": "",
       "type": "doctest"
      }
     ]
    },
    "q9": {
     "name": "q9",
     "points": [
      1,
      1
     ],
     "suites": [
      {
       "cases": [
        {
         "code": ">>> with_disposable_income.shape == (6300, 26)\nTrue",
         "hidden": false,
         "locked": false
        },
        {
         "code": ">>> with_disposable_income[['federal_tax_owed', 'state_tax_owed', 'disposable_income']].iloc[7].dtype == np.float64\nTrue",
         "hidden": false,
         "locked": false
        }
       ],
       "scored": true,
       "setup": "",
       "teardown": "",
       "type": "doctest"
      }
     ]
    }
   }
  }
 },
 "nbformat": 4,
 "nbformat_minor": 5
}
