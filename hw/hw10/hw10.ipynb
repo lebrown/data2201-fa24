{
 "cells": [
  {
   "cell_type": "code",
   "execution_count": null,
   "id": "940644cd",
   "metadata": {
    "deletable": false,
    "editable": false
   },
   "outputs": [],
   "source": [
    "# Initialize Otter\n",
    "import otter\n",
    "grader = otter.Notebook(\"hw10.ipynb\")"
   ]
  },
  {
   "cell_type": "markdown",
   "id": "844e6420",
   "metadata": {},
   "source": [
    "# Homework 10: Linear Regression"
   ]
  },
  {
   "cell_type": "markdown",
   "id": "62947f82",
   "metadata": {},
   "source": [
    "\n",
    "**Recommended Readings**: \n",
    "\n",
    "* [The Regression Line](https://www.inferentialthinking.com/chapters/15/2/Regression_Line.html)\n",
    "* [Method of Least Squares](https://www.inferentialthinking.com/chapters/15/3/Method_of_Least_Squares.html)\n",
    "* [Least Squares Regression](https://www.inferentialthinking.com/chapters/15/4/Least_Squares_Regression.html)"
   ]
  },
  {
   "cell_type": "markdown",
   "id": "9cfa3da4",
   "metadata": {},
   "source": [
    "Please complete this notebook by filling in the cells provided. Before you begin, execute the following cell to setup the notebook by importing some helpful libraries. Each time you start your server, you will need to execute this cell again.\n",
    "\n",
    "For all problems that you must write explanations and sentences for, you **must** provide your answer in the designated space. **Moreover, throughout this homework and all future ones, please be sure to not re-assign variables throughout the notebook!** For example, if you use `max_temperature` in your answer to one question, do not reassign it later on. Otherwise, you will fail tests that you thought you were passing previously!\n",
    "\n",
    "\n",
    "**Note: This homework has hidden tests on it. That means even though the tests may say 100% passed, it doesn't mean your final grade will be 100%. We will be running more tests for correctness once everyone turns in the homework.**\n",
    "\n",
    "\n",
    "Directly sharing answers is not okay, but discussing problems with the course staff or with other students is encouraged. \n",
    "\n",
    "You should start early so that you have time to get help if you're stuck."
   ]
  },
  {
   "cell_type": "code",
   "execution_count": null,
   "id": "6eebc8bc",
   "metadata": {},
   "outputs": [],
   "source": [
    "# Run this cell to set up the notebook, but please don't change it.\n",
    "\n",
    "import pandas as pd\n",
    "import numpy as np\n",
    "import seaborn as sns\n",
    "import matplotlib.pyplot as plt\n",
    "\n",
    "# These lines do some fancy plotting magic.\n",
    "import matplotlib\n",
    "%matplotlib inline\n",
    "import matplotlib.pyplot as plt\n",
    "plt.style.use('fivethirtyeight')\n",
    "import warnings\n",
    "warnings.simplefilter('ignore', FutureWarning)\n",
    "from datetime import datetime"
   ]
  },
  {
   "cell_type": "markdown",
   "id": "08116eea",
   "metadata": {},
   "source": [
    "<br/><br/>\n",
    "<hr style=\"border: 5px solid #8a8c8c;\" />\n",
    "<hr style=\"border: 1px solid #ffcd00;\" />\n",
    "\n",
    "## Part 1. Cryptocurrencies"
   ]
  },
  {
   "cell_type": "markdown",
   "id": "394f26ad",
   "metadata": {},
   "source": [
    "Imagine you're an investor in December 2017. Cryptocurrencies, online currencies backed by secure software, are becoming extremely valuable, and you want in on the action!\n",
    "\n",
    "The two most valuable cryptocurrencies are Bitcoin (BTC) and Ethereum (ETH). Each one has a dollar price attached to it at any given moment in time. For example, on December 1st, 2017, one BTC costs $\\$10,859.56$ and one ETH costs $\\$424.64.$\n",
    "\n",
    "For fun, here are the current prices of [Bitcoin](https://www.coinbase.com/price/bitcoin) and [Ethereum](https://www.coinbase.com/price/ethereum)!\n",
    "\n",
    "**You want to predict the price of ETH at some point in time based on the price of BTC.** Below, we load two [tables](https://www.kaggle.com/jessevent/all-crypto-currencies/data) called `btc` and `eth`. Each has 5 columns:\n",
    "* `date`, the date\n",
    "* `open`, the value of the currency at the beginning of the day\n",
    "* `close`, the value of the currency at the end of the day\n",
    "* `market`, the market cap or total dollar value invested in the currency\n",
    "* `day`, the number of days since the start of our data"
   ]
  },
  {
   "cell_type": "code",
   "execution_count": null,
   "id": "454c5863",
   "metadata": {
    "ExecuteTime": {
     "end_time": "2018-04-04T09:57:46.445990Z",
     "start_time": "2018-04-04T09:57:46.433958Z"
    }
   },
   "outputs": [],
   "source": [
    "btc = pd.read_csv('btc.csv')\n",
    "btc.head(5)"
   ]
  },
  {
   "cell_type": "code",
   "execution_count": null,
   "id": "deed8bc6",
   "metadata": {
    "ExecuteTime": {
     "end_time": "2018-04-04T09:57:46.458022Z",
     "start_time": "2018-04-04T09:57:46.446994Z"
    }
   },
   "outputs": [],
   "source": [
    "eth = pd.read_csv('eth.csv')\n",
    "eth.head(5)"
   ]
  },
  {
   "cell_type": "markdown",
   "id": "627dacf6",
   "metadata": {},
   "source": [
    "<!-- BEGIN QUESTION -->\n",
    "\n",
    "<br>\n",
    "\n",
    "---\n",
    "\n",
    "### Question 1.1\n",
    "\n",
    "In the cell below, create an overlaid line plot that visualizes the BTC and ETH open prices as a function of the day. Both BTC and ETH open prices should be plotted on the same graph. \n",
    "\n",
    "*Hint:* We suggest creating a DataFrame that combines the \"date\", \"eth open\" and \"btc open\" prices.  Then using seaborn's [`lineplot` function](https://seaborn.pydata.org/generated/seaborn.lineplot.html)\n",
    "\n"
   ]
  },
  {
   "cell_type": "code",
   "execution_count": null,
   "id": "13743162",
   "metadata": {
    "deletable": false,
    "for_assignment_type": "student",
    "tags": []
   },
   "outputs": [],
   "source": [
    "# Create a line plot of btc and eth open prices as a function of time\n",
    "combined = ... \n",
    "\n"
   ]
  },
  {
   "cell_type": "markdown",
   "id": "85b3a3d7",
   "metadata": {},
   "source": [
    "<!-- END QUESTION -->\n",
    "\n",
    "<br>\n",
    "\n",
    "---\n",
    "\n",
    "### Question 1.2 \n",
    "\n",
    "Now, calculate the correlation coefficient between the opening prices of BTC and ETH use the `numpy` [`corrcoef` function](https://numpy.org/devdocs/reference/generated/numpy.corrcoef.html). \n"
   ]
  },
  {
   "cell_type": "code",
   "execution_count": null,
   "id": "df228989",
   "metadata": {
    "ExecuteTime": {
     "end_time": "2018-04-04T09:57:57.365938Z",
     "start_time": "2018-04-04T09:57:57.357879Z"
    },
    "deletable": false,
    "tags": []
   },
   "outputs": [],
   "source": [
    "r = ...\n",
    "r"
   ]
  },
  {
   "cell_type": "code",
   "execution_count": null,
   "id": "f74fa3a7",
   "metadata": {
    "deletable": false,
    "editable": false
   },
   "outputs": [],
   "source": [
    "grader.check(\"q1_2\")"
   ]
  },
  {
   "cell_type": "markdown",
   "id": "4bb9571b",
   "metadata": {},
   "source": [
    "<br>\n",
    "\n",
    "---\n",
    "\n",
    "### Question 1.3 \n",
    "\n",
    "Create a function called `parameter_estimates` that takes in the argument `df`, a two-column DataFrame where the first column is the x-axis and the second column is the y-axis. It should return an array with three elements: the **(1) correlation coefficient** of the two columns and the **(2) slope** and **(3) intercept** of the regression line that predicts the second column from the first, in original units. \n",
    "\n",
    "*Hint:* This is a rare occasion where it’s better to implement the function using column indices instead of column names, in order to be able to call this function on any table. \n"
   ]
  },
  {
   "cell_type": "code",
   "execution_count": null,
   "id": "5796533d",
   "metadata": {
    "tags": []
   },
   "outputs": [],
   "source": [
    "def parameter_estimates(df):\n",
    "    ...\n",
    "    r = ... \n",
    "    slope = ...\n",
    "    intercept = ...\n",
    "    return np.array([r, slope, intercept])\n",
    "    \n",
    "btc_eth_df = pd.DataFrame({'btc': btc['open'], 'eth': eth['open']})\n",
    "parameters = parameter_estimates(btc_eth_df) \n",
    "print('r:', parameters.item(0), '; slope:', parameters.item(1), '; intercept:', parameters.item(2))"
   ]
  },
  {
   "cell_type": "code",
   "execution_count": null,
   "id": "d8cfea9b",
   "metadata": {
    "deletable": false,
    "editable": false
   },
   "outputs": [],
   "source": [
    "grader.check(\"q1_3\")"
   ]
  },
  {
   "cell_type": "markdown",
   "id": "44d01fc9",
   "metadata": {},
   "source": [
    "<br>\n",
    "\n",
    "---\n",
    "\n",
    "### Question 1.4\n",
    "\n",
    "Write a function `eth_predictor` which takes an opening BTC price and predicts the opening price of ETH. Again, it will be helpful to use the function `parameter_estimates` that you defined above. \n",
    "\n",
    "*Hint* Think about the input to `parameter_estimates`. \n"
   ]
  },
  {
   "cell_type": "code",
   "execution_count": null,
   "id": "d923cfa9",
   "metadata": {
    "deletable": false,
    "tags": []
   },
   "outputs": [],
   "source": [
    "def eth_predictor(btc_price):\n",
    "    ...\n",
    "    r = ... \n",
    "    slope = ...\n",
    "    intercept = ...\n",
    "    return ...\n",
    "    "
   ]
  },
  {
   "cell_type": "code",
   "execution_count": null,
   "id": "0608120f",
   "metadata": {
    "deletable": false,
    "editable": false
   },
   "outputs": [],
   "source": [
    "grader.check(\"q1_4\")"
   ]
  },
  {
   "cell_type": "markdown",
   "id": "83042341",
   "metadata": {},
   "source": [
    "<!-- BEGIN QUESTION -->\n",
    "\n",
    "<br>\n",
    "\n",
    "---\n",
    "\n",
    "## Question 1.5\n",
    "\n",
    "Now, using the `eth_predictor` function you just defined, make a scatter plot with BTC prices along the x-axis and both real and predicted ETH prices along the y-axis. The color of the dots for the real ETH prices should be different from the color for the predicted ETH prices. \n",
    "\n",
    "\n",
    "*Hint:* Think about creating a DataFrame, `eth_predictions`, that has the btc open price, eth open, and predicted eth open. \n"
   ]
  },
  {
   "cell_type": "code",
   "execution_count": null,
   "id": "ad9d352b",
   "metadata": {
    "tags": []
   },
   "outputs": [],
   "source": [
    "# Draw scatterplot \n",
    "    "
   ]
  },
  {
   "cell_type": "markdown",
   "id": "c922769c",
   "metadata": {},
   "source": [
    "<!-- END QUESTION -->\n",
    "\n",
    "<!-- BEGIN QUESTION -->\n",
    "\n",
    "<br>\n",
    "\n",
    "---\n",
    "\n",
    "### Question 1.6\n",
    "\n",
    "Considering the shape of the scatter plot of the true data, is the model we used reasonable? If so, what features or characteristics make this model reasonable? If not, what features or characteristics make it unreasonable? \n"
   ]
  },
  {
   "cell_type": "markdown",
   "id": "f1c39ebb",
   "metadata": {},
   "source": [
    "*Enter your answer here*"
   ]
  },
  {
   "cell_type": "markdown",
   "id": "5b37bab2",
   "metadata": {},
   "source": [
    "<!-- END QUESTION -->\n",
    "\n",
    "<br/><br/>\n",
    "<hr style=\"border: 5px solid #8a8c8c;\" />\n",
    "<hr style=\"border: 1px solid #ffcd00;\" />\n",
    "\n",
    "## Part 2: Evaluating NBA Game Predictions"
   ]
  },
  {
   "cell_type": "markdown",
   "id": "311cd52d",
   "metadata": {},
   "source": [
    "#### A Brief Introduction to Sports Betting\n",
    "\n",
    "In a basketball game, each team scores some number of points.  Conventionally, the team playing at its own arena is called the \"home team\", and their opponent is called the \"away team\".  The winner is the team with more points at the end of the game.\n",
    "\n",
    "We can summarize what happened in a game by the \"**outcome**\", defined as the **the away team's score minus the home team's score**:\n",
    "\n",
    "$$\\text{outcome} = \\text{points scored by the away team} - \\text{points scored by the home team}$$\n",
    "\n",
    "If this number is positive, the away team won.  If it's negative, the home team won. \n",
    "\n",
    "In order to facilitate betting on games, analysts at casinos try to predict the outcome of the game. This prediction of the outcome is called the **spread.**\n"
   ]
  },
  {
   "cell_type": "code",
   "execution_count": null,
   "id": "94b8d40e",
   "metadata": {},
   "outputs": [],
   "source": [
    "spreads = pd.read_csv(\"spreads.csv\")\n",
    "spreads"
   ]
  },
  {
   "cell_type": "markdown",
   "id": "feb18cfe",
   "metadata": {},
   "source": [
    "Here's a scatter plot of the outcomes and spreads, with the spreads on the horizontal axis."
   ]
  },
  {
   "cell_type": "code",
   "execution_count": null,
   "id": "4839e16d",
   "metadata": {},
   "outputs": [],
   "source": [
    "spreads.plot.scatter(\"Spread\", \"Outcome\")"
   ]
  },
  {
   "cell_type": "markdown",
   "id": "77bb3d33",
   "metadata": {},
   "source": [
    "From the scatter plot, you can see that the spread and outcome are almost never 0, aside from one case of the spread being 0. This is because a game of basketball never ends in a tie. One team has to win, so the outcome can never be 0. The spread is almost never 0 because it's chosen to estimate the outcome."
   ]
  },
  {
   "cell_type": "markdown",
   "id": "32e78a66",
   "metadata": {},
   "source": [
    "Let's investigate how well the casinos are predicting game outcomes.\n",
    "\n",
    "One question we can ask is: Is the casino's prediction correct on average? In other words, for every value of the spread, is the average outcome of games assigned that spread equal to the spread? If not, the casino would apparently be making a systematic error in its predictions."
   ]
  },
  {
   "cell_type": "markdown",
   "id": "74fe1daf",
   "metadata": {},
   "source": [
    "<br>\n",
    "\n",
    "---\n",
    "\n",
    "### Question 2.1 \n",
    "\n",
    "Compute the correlation coefficient between outcomes and spreads. \n",
    "\n",
    "*Note:* You can use the `np.corrcoef` function or the `correlation` function from Lab10.\n"
   ]
  },
  {
   "cell_type": "code",
   "execution_count": null,
   "id": "a76d44d7",
   "metadata": {
    "deletable": false,
    "tags": []
   },
   "outputs": [],
   "source": [
    "spread_r = ...\n",
    "spread_r"
   ]
  },
  {
   "cell_type": "code",
   "execution_count": null,
   "id": "934eecce",
   "metadata": {
    "deletable": false,
    "editable": false
   },
   "outputs": [],
   "source": [
    "grader.check(\"q2_1\")"
   ]
  },
  {
   "cell_type": "markdown",
   "id": "479c875c",
   "metadata": {},
   "source": [
    "<br>\n",
    "\n",
    "---\n",
    "\n",
    "### Question 2.2\n",
    "\n",
    "Among games with a spread between 3.5 and 6.5 (including both 3.5 and 6.5), what was the average outcome? \n"
   ]
  },
  {
   "cell_type": "code",
   "execution_count": null,
   "id": "c3e14065",
   "metadata": {
    "deletable": false,
    "tags": []
   },
   "outputs": [],
   "source": [
    "spreads_around_5 = ...\n",
    "spread_5_outcome_average = ...\n",
    "print(\"Average outcome for spreads around 5:\", spread_5_outcome_average)"
   ]
  },
  {
   "cell_type": "code",
   "execution_count": null,
   "id": "72c5607a",
   "metadata": {
    "deletable": false,
    "editable": false
   },
   "outputs": [],
   "source": [
    "grader.check(\"q2_2\")"
   ]
  },
  {
   "cell_type": "markdown",
   "id": "529b8097",
   "metadata": {},
   "source": [
    "<br>\n",
    "\n",
    "---\n",
    "\n",
    "### Question 2.3\n",
    "\n",
    "Use the function `parameter_estimates` that you defined earlier to compute the least-squares linear regression line that predicts outcomes from spreads, in original units. We have provided a two column DataFrame for you in the cell below with the first column representing `Spread` (x) and the second column representing `Outcome` (y), which you should use as an argument to the function. \n"
   ]
  },
  {
   "cell_type": "code",
   "execution_count": null,
   "id": "117a2aa3",
   "metadata": {
    "deletable": false,
    "scrolled": true,
    "tags": []
   },
   "outputs": [],
   "source": [
    "compute_df = spreads[['Spread', 'Outcome']]\n",
    "estimates = ...\n",
    "spread_slope = ...\n",
    "spread_intercept = ...\n",
    "print(\"Slope:\", round(spread_slope, 3))\n",
    "print(\"Intercept\", round(spread_intercept, 3))"
   ]
  },
  {
   "cell_type": "code",
   "execution_count": null,
   "id": "3d856fcb",
   "metadata": {
    "deletable": false,
    "editable": false
   },
   "outputs": [],
   "source": [
    "grader.check(\"q2_3\")"
   ]
  },
  {
   "cell_type": "markdown",
   "id": "119f5818",
   "metadata": {},
   "source": [
    "\n",
    "<br><br>\n",
    "\n",
    "<hr style=\"border: 5px solid #8a8c8c;\" />\n",
    "<hr style=\"border: 1px solid #ffcd00;\" />\n",
    "\n",
    "## Congratulations! You have finished HW 10!\n",
    "\n",
    "**Important submission steps:** \n",
    "1. Run the tests and verify that they all pass.\n",
    "2. Choose **Save Notebook** from the **File** menu, then **run the final cell**. \n",
    "3. Click the link to download the zip file.\n",
    "4. Then submit the zip file to the corresponding assignment according to your instructor's directions. \n",
    "\n",
    "**It is your responsibility to make sure your work is saved before running the last cell.**"
   ]
  },
  {
   "cell_type": "markdown",
   "id": "1f631c77",
   "metadata": {
    "deletable": false,
    "editable": false
   },
   "source": [
    "## Submission\n",
    "\n",
    "Make sure you have run all cells in your notebook in order before running the cell below, so that all images/graphs appear in the output. The cell below will generate a zip file for you to submit. **Please save before exporting!**"
   ]
  },
  {
   "cell_type": "code",
   "execution_count": null,
   "id": "e01f780a",
   "metadata": {
    "deletable": false,
    "editable": false
   },
   "outputs": [],
   "source": [
    "# Save your notebook first, then run this cell to export your submission.\n",
    "grader.export(run_tests=True)"
   ]
  },
  {
   "cell_type": "markdown",
   "id": "4568efb1",
   "metadata": {},
   "source": [
    " "
   ]
  }
 ],
 "metadata": {
  "kernelspec": {
   "display_name": "Python [conda env:data1202] *",
   "language": "python",
   "name": "conda-env-data1202-py"
  },
  "language_info": {
   "codemirror_mode": {
    "name": "ipython",
    "version": 3
   },
   "file_extension": ".py",
   "mimetype": "text/x-python",
   "name": "python",
   "nbconvert_exporter": "python",
   "pygments_lexer": "ipython3",
   "version": "3.10.12"
  },
  "otter": {
   "OK_FORMAT": true,
   "assignment_name": "hw10",
   "tests": {
    "q1_2": {
     "name": "q1_2",
     "points": [
      2
     ],
     "suites": [
      {
       "cases": [
        {
         "code": ">>> # Correlation is a number between -1 and 1\n>>> -1 <= r <= 1\nTrue",
         "hidden": false,
         "locked": false
        }
       ],
       "scored": true,
       "setup": "",
       "teardown": "",
       "type": "doctest"
      }
     ]
    },
    "q1_3": {
     "name": "q1_3",
     "points": [
      1,
      1,
      2
     ],
     "suites": [
      {
       "cases": [
        {
         "code": ">>> len(parameters) == 3\nTrue",
         "hidden": false,
         "locked": false
        },
        {
         "code": ">>> # Make sure your function is returning an array!\n>>> type(parameters) == np.ndarray\nTrue",
         "hidden": false,
         "locked": false
        },
        {
         "code": ">>> np.isclose(parameters.item(0), 0.9250325764148282)\nTrue",
         "hidden": false,
         "locked": false
        }
       ],
       "scored": true,
       "setup": "",
       "teardown": "",
       "type": "doctest"
      }
     ]
    },
    "q1_4": {
     "name": "q1_4",
     "points": [
      2,
      2
     ],
     "suites": [
      {
       "cases": [
        {
         "code": ">>> 0 < eth_predictor(10) < 100\nTrue",
         "hidden": false,
         "locked": false
        },
        {
         "code": ">>> (0 < eth_predictor(pd.Series([10, 20, 25]))).all() and \\\n... (eth_predictor(pd.Series([10, 20, 25])) < 100).all()\nTrue",
         "hidden": false,
         "locked": false
        }
       ],
       "scored": true,
       "setup": "",
       "teardown": "",
       "type": "doctest"
      }
     ]
    },
    "q2_1": {
     "name": "q2_1",
     "points": [
      2
     ],
     "suites": [
      {
       "cases": [
        {
         "code": ">>> -1 <= spread_r <= 1\nTrue",
         "hidden": false,
         "locked": false
        }
       ],
       "scored": true,
       "setup": "",
       "teardown": "",
       "type": "doctest"
      }
     ]
    },
    "q2_2": {
     "name": "q2_2",
     "points": [
      2
     ],
     "suites": [
      {
       "cases": [
        {
         "code": ">>> 4 <= spread_5_outcome_average <= 6\nTrue",
         "hidden": false,
         "locked": false
        }
       ],
       "scored": true,
       "setup": "",
       "teardown": "",
       "type": "doctest"
      }
     ]
    },
    "q2_3": {
     "name": "q2_3",
     "points": [
      1,
      1
     ],
     "suites": [
      {
       "cases": [
        {
         "code": ">>> 0 <= spread_slope < 1\nTrue",
         "hidden": false,
         "locked": false
        },
        {
         "code": ">>> spread_intercept > 0\nTrue",
         "hidden": false,
         "locked": false
        }
       ],
       "scored": true,
       "setup": "",
       "teardown": "",
       "type": "doctest"
      }
     ]
    }
   }
  }
 },
 "nbformat": 4,
 "nbformat_minor": 5
}
