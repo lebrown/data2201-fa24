{
 "cells": [
  {
   "cell_type": "code",
   "execution_count": null,
   "id": "46272b12",
   "metadata": {
    "deletable": false,
    "editable": false
   },
   "outputs": [],
   "source": [
    "# Initialize Otter\n",
    "import otter\n",
    "grader = otter.Notebook(\"hw06.ipynb\")"
   ]
  },
  {
   "cell_type": "markdown",
   "id": "d1672608",
   "metadata": {},
   "source": [
    "# HW 06 - Permutation Testing and Missing Values \n",
    "\n",
    "You must submit this assignment to Gradescope by the on-time deadline. **We strongly encourage you to plan to submit your work to Gradescope several days (hours) before the stated deadline.** This way, you will have ample time to reach out to staff for support if you encounter difficulties with submission. While course staff is happy to help guide you with submitting your assignment ahead of the deadline, we will not respond to last-minute requests for assistance (TAs need to sleep, after all!).\n",
    "\n",
    "Please read the instructions carefully when you are submitting your work to Gradescope.\n",
    "\n"
   ]
  },
  {
   "cell_type": "markdown",
   "id": "f257aa9c",
   "metadata": {},
   "source": [
    "### Debugging Guide\n",
    "If you run into any technical issues, we highly recommend checking out the [Debugging Guide](https://mtu.instructure.com/courses/1527249/pages/debugging-guide). In this guide, you can find general questions about Jupyter notebooks / Datahub, Gradescope, and common pandas errors."
   ]
  },
  {
   "cell_type": "code",
   "execution_count": null,
   "id": "5602396f",
   "metadata": {},
   "outputs": [],
   "source": [
    "import numpy as np\n",
    "import pandas as pd\n",
    "\n",
    "import matplotlib\n",
    "import matplotlib.pyplot as plt\n",
    "import seaborn as sns\n",
    "from pathlib import Path\n",
    "sns.set()\n",
    "plt.style.use('fivethirtyeight')\n",
    "\n",
    "from scipy import stats\n",
    "\n",
    "import plotly.express as px\n",
    "import plotly.graph_objects as go\n",
    "import plotly.figure_factory as ff\n",
    "import plotly.io as pio\n",
    "pd.options.plotting.backend = 'plotly'\n",
    "\n",
    "\n",
    "def create_kde_plotly(df, group_col, group1, group2, vals_col, title=''):\n",
    "    fig = ff.create_distplot(\n",
    "        hist_data=[df.loc[df[group_col] == group1, vals_col], df.loc[df[group_col] == group2, vals_col]],\n",
    "        group_labels=[group1, group2],\n",
    "        show_rug=False, show_hist=False\n",
    "    )\n",
    "    return fig.update_layout(title=title)\n"
   ]
  },
  {
   "cell_type": "code",
   "execution_count": null,
   "id": "510964a8",
   "metadata": {},
   "outputs": [],
   "source": [
    "# set up random number generator \n",
    "rng_seed = 42\n",
    "np.random.seed(rng_seed)"
   ]
  },
  {
   "cell_type": "markdown",
   "id": "ed4c96fd",
   "metadata": {},
   "source": [
    "<br/><br/>\n",
    "<hr style=\"border: 5px solid #8a8c8c;\" />\n",
    "<hr style=\"border: 1px solid #ffcd00;\" />\n",
    "\n",
    "# Part 1 - Permutation Testing \n",
    "\n",
    "Recall, hypothesis tests answer questions of the form: \n",
    "\n",
    "    I have a population distribution, and I have one sample. Does this sample look like it was drawn from the population? \n",
    "\n",
    "While permutation tests answer questions of the form: \n",
    "\n",
    "    I have two samples, but no information about any population distributions.  Do these samples look like they were drawn from the same population? \n",
    "\n",
    "Keep this in mind while working on this assignment. "
   ]
  },
  {
   "cell_type": "markdown",
   "id": "14d555ad",
   "metadata": {},
   "source": [
    "## Question 1 \n",
    "\n",
    "Skittles are made in two locations in the US: Yorkville, IL and Waco, TX.  In these factories, Skittles of different colors are made separately by different machines and combined/packaged into bags for sale. \n",
    "\n",
    "The **tab-separated file** `data/skittles.tsv` contains the contents of 468 bags of Skittles. \n",
    "\n",
    "Throughout this question, we will compare the color distribution of Skittles between bags made in the Yorkville factory and bags made in the Waco factory.  Most people have preferences for their favorite flavor/color, and there is a surprising amount of variation among the distribution of flavors in each bag. \n",
    "\n",
    "Look at the variation by bag in the dataset below: "
   ]
  },
  {
   "cell_type": "code",
   "execution_count": null,
   "id": "4e41cee7",
   "metadata": {},
   "outputs": [],
   "source": [
    "skittles_fp = Path('data') / 'skittles.tsv'\n",
    "skittles = pd.read_csv(skittles_fp, sep='\\t')\n",
    "skittles.head()"
   ]
  },
  {
   "cell_type": "code",
   "execution_count": null,
   "id": "7b706a20",
   "metadata": {},
   "outputs": [],
   "source": [
    "skittles.shape"
   ]
  },
  {
   "cell_type": "markdown",
   "id": "8db82b68",
   "metadata": {},
   "source": [
    "<br>\n",
    "\n",
    "--- \n",
    "\n",
    "### Question 1a - Orange Skittles \n",
    "\n",
    "First, you will investigate if the machine that mixes together Skittles of different colors might favor one color over another.  Use a permutation test to assess whether, on average, bags made in Yorkville have the same number of orange skittles as bags made in Waco.  \n",
    "\n",
    "You will implement the following functions. \n",
    "\n",
    "`diff_of_means`  \n",
    "The function takes a DataFrame like `skittles` and a column specifying a color (defaults to orange)as input.  The function returns the **absolutes difference** between the **mean** number of orange skittles per bag from Yorkville and the **mean** number of orange skittles per bag in Waco. \n",
    "\n",
    "`simulate_null`  \n",
    "The function takes in a DataFrame like `skittles` and a column specifying a color (defaults to orange) as input.  The function returns one simulated instance of the test statistic under the null hypothesis.  This will involve shuffling the either `'Factory'` or color column. \n",
    "\n",
    "`color_p_value`  \n",
    "The function takes in a DataFrame like `skittles` and a column specifying a color (defaults to orange) as input.  The function calculates the p-value for the permutation test using 1000 trials.  The function returns a list of the p-value, Series-like simulated distribution values of the test statistic. \n",
    "\n",
    "`plot_q1a_dist`  \n",
    "The function takes in a Series like the simulated distribution values, and the observed statistic.  The function returns None. The function plots the observed statistis in the histogram of the simulated distribution. \n",
    "\n"
   ]
  },
  {
   "cell_type": "code",
   "execution_count": null,
   "id": "7fdaf3c9",
   "metadata": {
    "tags": []
   },
   "outputs": [],
   "source": [
    "def diff_of_means(df, col='orange'): \n",
    "    # Input: a DataFrame like \"skittles\" and column specifying color to investigate\n",
    "    # Return: the abs. difference between the mean num. of orange at Yorkville \n",
    "    #  and the mean number of orange skittles per bag in Waco. \n",
    "\n",
    "    diff = ...\n",
    "    \n",
    "    return diff"
   ]
  },
  {
   "cell_type": "code",
   "execution_count": null,
   "id": "dd7ef066",
   "metadata": {
    "tags": []
   },
   "outputs": [],
   "source": [
    "def simulate_null(df, col='orange'): \n",
    "    # Input: a DataFrame like \"skittles\" and column specifying color to investigate\n",
    "    # Return: one simulated instance of the test statistic under the null hypothesis\n",
    "\n",
    "    difference = ...\n",
    "    \n",
    "    return difference"
   ]
  },
  {
   "cell_type": "code",
   "execution_count": null,
   "id": "c28f61ce",
   "metadata": {
    "tags": []
   },
   "outputs": [],
   "source": [
    "def color_p_value(df, col='orange'): \n",
    "    # Input: a DataFrame like \"skittles\" and column specifying color to investigate\n",
    "    # Return: list of the p-value, Series-like simulated distribution values of \n",
    "    #    the test statistic\n",
    "\n",
    "    differences = ...\n",
    "\n",
    "    pval = ...\n",
    "    \n",
    "    return [pval, differences]"
   ]
  },
  {
   "cell_type": "code",
   "execution_count": null,
   "id": "452f49c6",
   "metadata": {
    "tags": []
   },
   "outputs": [],
   "source": [
    "def plot_q1a_dist(diffs, obs_val): \n",
    "\n",
    "    return None"
   ]
  },
  {
   "cell_type": "code",
   "execution_count": null,
   "id": "859db15e",
   "metadata": {
    "tags": []
   },
   "outputs": [],
   "source": [
    "# Do not change this cell = it will test your code. \n",
    "# It may take about 1-2 minutes to run\n",
    "q1a_diff_of_means = diff_of_means(skittles)\n",
    "q1a_simulate_null = simulate_null(skittles)\n",
    "q1a_pval_out = color_p_value(skittles)\n",
    "plot_q1a_dist(q1a_pval_out[1], q1a_diff_of_means)"
   ]
  },
  {
   "cell_type": "code",
   "execution_count": null,
   "id": "d20a5984",
   "metadata": {
    "deletable": false,
    "editable": false
   },
   "outputs": [],
   "source": [
    "grader.check(\"q1a\")"
   ]
  },
  {
   "cell_type": "markdown",
   "id": "98fb3400",
   "metadata": {},
   "source": [
    "<br>\n",
    "\n",
    "---\n",
    "\n",
    "### Question 1b - Generalize to all colors \n",
    "\n",
    "While your `color_p_value` function used a default color of `'orange'`, it should also work for all other colors of Skittles, meaning you can run the same permutation test from Question 1a on all colors of Skittles. Call `color_p_value` on all colors of Skittles to find which colors differ the most between the two locations on average. \n",
    "\n",
    "Create `q1b_out` a list of five ordered pairs, each of the form `('color', p_value)`. For example, your list might look like `[('pink', 0.000), ('brown', 0.025), ...]`.  Try using [list comprehensions](https://docs.python.org/3/tutorial/datastructures.html#list-comprehensions). \n",
    "\n",
    "The list should also be sorted in **increasing order of p-value**. Make sure your p-values are rounded to **3 decimal places**.\n",
    "\n",
    "Even though there is randomness in the color composition in each bag, this list gives the likelihood that the machines have a systematic, meaningful, difference in how they blend the colors in each bag."
   ]
  },
  {
   "cell_type": "code",
   "execution_count": null,
   "id": "6f806825",
   "metadata": {
    "tags": []
   },
   "outputs": [],
   "source": [
    "# Create a list of ordered pairs of the form ('color', pval), sorted by \n",
    "#  increasing order of pvalue\n",
    "\n",
    "colors = ['green', 'orange', 'purple', 'red', 'yellow']\n",
    "q1b_out = ... \n",
    "\n",
    "# Do not change this part of the cell - it used for testing \n",
    "\n",
    "q1b_test_colors = [x[0] for x in q1b_out]"
   ]
  },
  {
   "cell_type": "code",
   "execution_count": null,
   "id": "fb8a256e",
   "metadata": {
    "deletable": false,
    "editable": false
   },
   "outputs": [],
   "source": [
    "grader.check(\"q1b\")"
   ]
  },
  {
   "cell_type": "markdown",
   "id": "3e92b775",
   "metadata": {},
   "source": [
    "<br>\n",
    "\n",
    "--- \n",
    "\n",
    "### Question 1c \n",
    "\n",
    "Now, suppose you would like to assess whether the two locations make similar amounts of each color overall. That is, suppose we:\n",
    "* Combine and count up all the Skittles of each color that were made in Yorkville (e.g. 14303 total red skittles, 9091 total green skittles, etc.).\n",
    "* Combine and count up all the Skittles of each color that were made in Waco.\n",
    "\n",
    "Now, suppose you would like to assess whether the two locations make similar proportions of each color overall. That is, suppose we:\n",
    "* Calculate the proportion of each Skittles color that were made in Yorkville (e.g. out of the 14704 skittles made, 19.8% of them are red,  18.9% of them are green, etc.).\n",
    "* Calculate the proportion of each Skittles color that were made in Waco.\n",
    "\n",
    "**Are these distributions of colors similar?** Is the variation among the bags due to each factory making different amounts of each color?\n",
    "\n",
    "Use a permutation test to assess whether the distribution of colors of Skittles made in Yorkville is statistically significantly different than those made in Waco. Set a significance level (i.e. p-value cutoff) of 0.01 and determine whether you can reject a null hypothesis that answers the question above using a permutation test with 1000 trials. For your test statistic, use the **total variation distance (TVD)**.\n",
    "\n",
    "Refer to the end of Lecture 9 - Permutation-testing-meets-TVD to see an example of a [permutation test](https://www.inferentialthinking.com/chapters/12/Comparing_Two_Samples.html) that uses the [TVD](https://inferentialthinking.com/chapters/11/2/Multiple_Categories.html) as the test statistic. Some guidance:\n",
    "\n",
    "- Our previous permutation tests have compared the mean number of (say) orange Skittles in Yorkville bags to the mean number number of orange Skittles in Waco bags. The role of shuffling was to randomly assign bags to Yorkville and Waco.\n",
    "- In this permutation test, we are **still** shuffling to randomly assign bags to Yorkville and Waco. The only difference is that after we randomly assign each bag to a factory, we will compute the **distribution** of colors among the two factories and find the TVD between those two distributions.\n",
    "\n",
    "**Your job**: Complete the implementation of the function `same_color_distribution`, which takes in no arguments and outputs a hard-coded **tuple** with the p-value and whether you `'Reject'` or `'Fail to reject'` the null hypothesis."
   ]
  },
  {
   "cell_type": "code",
   "execution_count": null,
   "id": "db46b1f4",
   "metadata": {
    "tags": []
   },
   "outputs": [],
   "source": [
    "def same_color_distribution(): \n",
    "    # Returns a tuple (pvalue, 'Reject' or 'Fail to reject')\n",
    "\n",
    "    ...\n",
    "    pval\n",
    "\n",
    "    return None \n",
    "\n",
    "# You may want to create a helper function tvd_of_groups similar to the lecture \n",
    "\n",
    "\n",
    "# Do not change this part of the cell - it used for testing \n",
    "\n",
    "q1c_out = same_color_distribution()"
   ]
  },
  {
   "cell_type": "code",
   "execution_count": null,
   "id": "0c6cf0a6",
   "metadata": {
    "deletable": false,
    "editable": false
   },
   "outputs": [],
   "source": [
    "grader.check(\"q1c\")"
   ]
  },
  {
   "cell_type": "markdown",
   "id": "45a84903",
   "metadata": {},
   "source": [
    "<br/><br/>\n",
    "<hr style=\"border: 5px solid #8a8c8c;\" />\n",
    "<hr style=\"border: 1px solid #ffcd00;\" />\n",
    "\n",
    "# Part 2 - Missingness \n",
    "\n",
    "First, let's recap the different mechanisms of missingness we studied in lecture.\n",
    "\n",
    "#### Missing by Design (MD)\n",
    "- The missing field is deliberately missing. The missing field is deliberately set to null or not collected (hence, \"missing by design\").\n",
    "- The missingness can be exactly predicted when a column will be null, with only knowledge of the other columns using a function of the rows of the dataset.\n",
    "\n",
    "#### Missing Completely at Random (MCAR)\n",
    "- The missingness of missing value isn't related to the actual, unreported value itself, nor the values in any other fields. The missingness is not systematic.\n",
    "- The missingness is unconditionally uniform across rows. MCAR doesn't bias the observed data.\n",
    "- There is no relationship between the missing data and the any of the other data, observed or missing.\n",
    "\n",
    "#### Missing at Random (MAR)\n",
    "- The missingness of the missing value has nothing to do with the value itself, but may be related to another field.\n",
    "- The missingness is uniform across rows, perhaps conditional on another column. MAR biases the observed data, but is fixable.\n",
    "- There is a systematic relationship between the missing values and the observed data (but not the missing values themselves).\n",
    "- Difference between MD and MAR: If you can *exactly/always* determine missingness using the other columns, the missingness is MD. If there is just some sort of systematic relationship between the missing columns/values and other columns/values that may help us predict missingness, the missingness is MAR.\n",
    "\n",
    "#### Not Missing At Random (NMAR)\n",
    "- The missingness of the missing value is related to the actual, unreported value.\n",
    "- NMAR biases the observed data in unobservable ways.\n",
    "- There is relationship between the propensity of a value to be missing and its value."
   ]
  },
  {
   "cell_type": "markdown",
   "id": "19a86475",
   "metadata": {},
   "source": [
    "<br>\n",
    "\n",
    "---\n",
    "\n",
    "## Question 2 – Miscellaneous Missingness Questions\n",
    "\n",
    "In each of the following scenarios, choose the best answer out of the missingness types: `'MD'`, `'MCAR'`, `'MAR'`, and `'NMAR'`. Store your answers in a list of length 5, and complete the implementation of the function `q2_questions`, which returns that list.\n",
    "\n",
    "1. A large state university has recently adopted GrubHub as the food pre-ordering app for campus restaurants, so you can order your food ahead of time and stop by before your next class. In a DataFrame of GrubHub app orders, which contains information such as `'restaurant'`, `'name'`, `'items'`, and `'total'`, the column `'delivery_address'` is often missing for university students. Which is the most likely missingness mechanism for this column?\n",
    "\n",
    "\n",
    "2. In a database of student records that records student profile data, such as `'first_name'`, `'home_address'`, `'ethnicity'`, etc., sometimes the `'middle_name'` column is missing. Which is the most likely missingness mechanism for this column?\n",
    "\n",
    "\n",
    "3. A club baseball team creates a signup sheet for potential new members. The sheet contains the columns `'full_name'`, `'year'`, `'email'`, `'favorite_sports'`, `'number_of_sports_played'`, and `'sports_previously_played'`. The team president notices that many students left the `'sports_previously_played'` column blank. Which is the most likely missingness mechanism for this column?\n",
    "\n",
    "\n",
    "4. After the 2023 Winter Carnival, USG sends out a survey to all students about whether their expectations for the 2023 Winter Carnival were met, with all questions being optional. They notice that many students left the \"Were you satisfied with the 2023 Winter Carnival?\" question blank. Which is the most likely missingness mechanism for answers to this question?\n",
    "\n",
    "\n",
    "5. Your university has been using a two-factor authentication system, DUO, since October 16th, 2019. When using DUO, all university accounts are assigned a unique code. The university's Service Desk, who maintains DUO, has a database that stores each user's code and their phone number, which users must provide when they sign up for DUO. They notice that many phone numbers are missing. Which is the most likely missingness mechanism for phone numbers?"
   ]
  },
  {
   "cell_type": "code",
   "execution_count": null,
   "id": "11997095",
   "metadata": {
    "tags": []
   },
   "outputs": [],
   "source": [
    "def q2_quesiton(): \n",
    "    # Return a list with the type of missingness for the 5 examples.\n",
    "    #  Types are 'MD', 'MCAR', 'MAR', 'NMAR'\n",
    "    \n",
    "    return None\n",
    "q2_ans = q2_question()"
   ]
  },
  {
   "cell_type": "code",
   "execution_count": null,
   "id": "5be2246d",
   "metadata": {
    "deletable": false,
    "editable": false
   },
   "outputs": [],
   "source": [
    "grader.check(\"q1\")"
   ]
  },
  {
   "cell_type": "markdown",
   "id": "9f3c1584",
   "metadata": {},
   "source": [
    "<br>\n",
    "\n",
    "--- \n",
    "\n",
    "## Question 3\n",
    "\n",
    "Let's now focus on deciding whether data in a particular column look MCAR or MAR through permutation tests.\n",
    "\n",
    "In `data/payment.csv`, you are given a dataset of payment information for purchases made on January 1st, 2019. The dataset contains the customers' `'id'`, `'credit_card_type'`, `'credit_card_number'`, and `'date_of_birth'`.\n",
    "\n",
    "You'd like to assess whether the missingness of `'credit_card_number'` is dependent on the age of the customer. Here's how you'll proceed:\n",
    "\n",
    "\n",
    "#### `first_round`\n",
    "\n",
    "Look at distribution of ages by missingness of `'credit_card_number'` and determine if the missingness is dependent on age or not.\n",
    "\n",
    "Use the following steps to approach this problem:\n",
    "\n",
    "- Compute the ages of the customers. To find a customer's age, compute the number of years between their birth year and 2024.\n",
    "- Perform a permutation test for whether or not the two distributions mentioned above are drawn from the same population distribution. Use a 5% significance level. Use the **absolute difference of means** as your test statistic.\n",
    "\n",
    "Note that some of the ages themselves are also missing; you don't need to do anything about this.\n",
    "\n",
    "Complete the implementation of the function `first_round`, which takes in no arguments that returns a **list** with two values:\n",
    "* The first value is the p-value from your permutation test. \n",
    "* The second value is either `'R'` if you reject the null hypothesis, or `'NR'` if you fail to reject the null.\n",
    "\n",
    "**Does the result match your guess? If not, what might be a problem?**\n",
    "\n",
    "***HINT*** consider your helper functions from Question 1a above. How you may adapt them for this problem. \n",
    "\n",
    "#### `second_round`\n",
    "\n",
    "Repeat the same permutation test as in `first_round`, but this time, use the **Kolmogorov-Smirnov statistic** as your test statistic.\n",
    "\n",
    "Complete the implementation of the function `second_round` with no arguments that returns a __list__ with three values: \n",
    "* The first value is the p-value from your new permutation test.\n",
    "* The second value is either `'R'` if you reject the null hypothesis, or `'NR'` if you fail to reject the null. \n",
    "* The third value is your final conclusion: `'D'` (the missingness of `'credit_card_number'` is dependent on age) or `'ND'` (the missingness of `'credit_card_number'` is not dependent on age).\n",
    "\n",
    "Note that in Lecture 11, we ran permutation tests using the Kolmogorov-Smirnov test statistic **without `for`-loops**. You can use this same procedure; we have already imported `stats` from `scipy`."
   ]
  },
  {
   "cell_type": "code",
   "execution_count": null,
   "id": "bf948705",
   "metadata": {
    "tags": []
   },
   "outputs": [],
   "source": [
    "payments_fp = Path('data') / 'payment.csv'\n",
    "payments = pd.read_csv(payments_fp)\n",
    "payments.head()"
   ]
  },
  {
   "cell_type": "code",
   "execution_count": null,
   "id": "b083521c",
   "metadata": {
    "tags": []
   },
   "outputs": [],
   "source": [
    "# Helper functions to add \n",
    "\n",
    "...\n",
    "\n",
    "def first_round(): \n",
    "    # Returns a list with two values \n",
    "    #  pvalue from permutation test \n",
    "    #  'R' or 'NR' to reject or fail to reject the null hypothesis \n",
    "\n",
    "    ...\n",
    "\n",
    "    return None\n"
   ]
  },
  {
   "cell_type": "code",
   "execution_count": null,
   "id": "cd1281d1",
   "metadata": {
    "tags": []
   },
   "outputs": [],
   "source": [
    "# Helper functions to add \n",
    "...\n",
    "\n",
    "def second_round(): \n",
    "    # Returns a list with three values \n",
    "    #  pvalue from permutation test \n",
    "    #  'R' or 'NR' to reject or fail to reject the null hypothesis \n",
    "    # 'D' (the missingness of 'credit_card_number' is dependent on age) or \n",
    "    #   'ND' (the missingness of 'credit_card_number' is not dependent on age).\n",
    "    ...\n",
    "\n",
    "    return None\n"
   ]
  },
  {
   "cell_type": "code",
   "execution_count": null,
   "id": "3303835b",
   "metadata": {
    "tags": []
   },
   "outputs": [],
   "source": [
    "# Don't change this cell \n",
    "first_pval, first_res = first_round()\n",
    "second_pval, second_res, second_res1 = second_round()\n",
    "out1 = first_round()\n",
    "out2 = second_round()"
   ]
  },
  {
   "cell_type": "code",
   "execution_count": null,
   "id": "941c6cb2",
   "metadata": {
    "deletable": false,
    "editable": false
   },
   "outputs": [],
   "source": [
    "grader.check(\"q3\")"
   ]
  },
  {
   "cell_type": "markdown",
   "id": "a218d40e",
   "metadata": {},
   "source": [
    "## Congratulations! You have finished Homework 6! ##\n",
    "\n",
    "Below, you will see a cell. Running this cell will automatically generate a zip file with your autograded answers.  If you run into any issues when running this cell, feel free to check the [Debugging Guide](https://mtu.instructure.com/courses/1527249/pages/debugging-guide).\n",
    "\n",
    "\n",
    "### Submission\n",
    "\n",
    "Make sure you have run all cells in your notebook in order before running the cell below, so that all images/graphs appear in the output. The cell below will generate a zip file for you to submit. **Please save before exporting!**"
   ]
  },
  {
   "cell_type": "markdown",
   "id": "e71f8904",
   "metadata": {
    "deletable": false,
    "editable": false
   },
   "source": [
    "## Submission\n",
    "\n",
    "Make sure you have run all cells in your notebook in order before running the cell below, so that all images/graphs appear in the output. The cell below will generate a zip file for you to submit. **Please save before exporting!**"
   ]
  },
  {
   "cell_type": "code",
   "execution_count": null,
   "id": "750b17f9",
   "metadata": {
    "deletable": false,
    "editable": false
   },
   "outputs": [],
   "source": [
    "# Save your notebook first, then run this cell to export your submission.\n",
    "grader.export(pdf=False)"
   ]
  },
  {
   "cell_type": "markdown",
   "id": "7ed2f8ef",
   "metadata": {},
   "source": [
    " "
   ]
  }
 ],
 "metadata": {
  "kernelspec": {
   "display_name": "Python [conda env:data1202] *",
   "language": "python",
   "name": "conda-env-data1202-py"
  },
  "language_info": {
   "codemirror_mode": {
    "name": "ipython",
    "version": 3
   },
   "file_extension": ".py",
   "mimetype": "text/x-python",
   "name": "python",
   "nbconvert_exporter": "python",
   "pygments_lexer": "ipython3",
   "version": "3.10.12"
  },
  "otter": {
   "OK_FORMAT": true,
   "assignment_name": "hw06",
   "tests": {
    "q1": {
     "name": "q1",
     "points": null,
     "suites": [
      {
       "cases": [
        {
         "code": ">>> len(q2_ans) == 5\nTrue",
         "failure_message": "Output length should be 5",
         "hidden": false,
         "locked": false,
         "points": 1
        },
        {
         "code": ">>> set(q2_ans) <= set(['MD', 'MCAR', 'MAR', 'NMAR'])\nTrue",
         "failure_message": "output contains answers other than the specified options",
         "hidden": false,
         "locked": false,
         "points": 1
        },
        {
         "code": ">>> q2_ans[0] == 'MAR'\nTrue",
         "hidden": false,
         "locked": false,
         "points": 1
        },
        {
         "code": ">>> q2_ans[0] in ['MCAR', 'MAR', 'NMAR']\nTrue",
         "failure_message": "example 1 partial credit",
         "hidden": false,
         "locked": false,
         "points": 1
        },
        {
         "code": ">>> q2_ans[1] in ['MAR', 'NMAR']\nTrue",
         "hidden": false,
         "locked": false,
         "points": 1
        },
        {
         "code": ">>> q2_ans[3] in ['NMAR', 'MCAR']\nTrue",
         "failure_message": "example 4 partial credit",
         "hidden": false,
         "locked": false,
         "points": 1
        },
        {
         "code": ">>> q2_ans[4] in ['MAR', 'NMAR', 'MCAR']\nTrue",
         "failure_message": "example 5 partial credit",
         "hidden": false,
         "locked": false,
         "points": 1
        }
       ],
       "scored": true,
       "setup": "",
       "teardown": "",
       "type": "doctest"
      }
     ]
    },
    "q1a": {
     "name": "q1a",
     "points": null,
     "suites": [
      {
       "cases": [
        {
         "code": ">>> isinstance(q1a_diff_of_means, float)\nTrue",
         "hidden": false,
         "locked": false,
         "points": 0.5
        },
        {
         "code": ">>> isinstance(q1a_simulate_null, float)\nTrue",
         "hidden": false,
         "locked": false,
         "points": 0.5
        },
        {
         "code": ">>> 0 <= q1a_simulate_null <= 1.0 \nTrue",
         "hidden": false,
         "locked": false,
         "points": 0.5
        },
        {
         "code": ">>> isinstance(q1a_pval_out, list)\nTrue",
         "hidden": false,
         "locked": false,
         "points": 0.5
        },
        {
         "code": ">>> isinstance(q1a_pval_out[0], float)\nTrue",
         "hidden": false,
         "locked": false,
         "points": 0.5
        },
        {
         "code": ">>> type(q1a_pval_out[1]) == list or type(q1a_pval_out[1]) == pd.core.series.Series\nTrue",
         "hidden": false,
         "locked": false,
         "points": 0.5
        },
        {
         "code": ">>> 0 <= q1a_pval_out[0] <= 1.0\nTrue",
         "hidden": false,
         "locked": false,
         "points": 1
        },
        {
         "code": ">>> q1a_diff_of_means > 0\nTrue",
         "hidden": false,
         "locked": false,
         "points": 1
        }
       ],
       "scored": true,
       "setup": "",
       "teardown": "",
       "type": "doctest"
      }
     ]
    },
    "q1b": {
     "name": "q1b",
     "points": null,
     "suites": [
      {
       "cases": [
        {
         "code": ">>> len(q1b_out) == 5\nTrue",
         "hidden": false,
         "locked": false,
         "points": 0.5
        },
        {
         "code": ">>> set([x[0] for x in q1b_out]) == set(colors)\nTrue",
         "hidden": false,
         "locked": false,
         "points": 0.5
        },
        {
         "code": ">>> q1b_test_colors.index('green') > q1b_test_colors.index('yellow')\nTrue",
         "hidden": false,
         "locked": false,
         "points": 1
        },
        {
         "code": ">>> np.isclose(q1b_out[0][1], 0.0)\nTrue",
         "hidden": false,
         "locked": false,
         "points": 1
        }
       ],
       "scored": true,
       "setup": "",
       "teardown": "",
       "type": "doctest"
      }
     ]
    },
    "q1c": {
     "name": "q1c",
     "points": [
      1,
      1,
      1
     ],
     "suites": [
      {
       "cases": [
        {
         "code": ">>> isinstance(q1c_out, tuple)\nTrue",
         "hidden": false,
         "locked": false
        },
        {
         "code": ">>> isinstance(q1c_out[0], float)\nTrue",
         "hidden": false,
         "locked": false
        },
        {
         "code": ">>> q1c_out[1] in ['Fail to Reject', 'Reject']\nTrue",
         "hidden": false,
         "locked": false
        }
       ],
       "scored": true,
       "setup": "",
       "teardown": "",
       "type": "doctest"
      }
     ]
    },
    "q3": {
     "name": "q3",
     "points": 14,
     "suites": [
      {
       "cases": [
        {
         "code": ">>> isinstance(out1, list) and isinstance(out2, list)\nTrue",
         "hidden": false,
         "locked": false
        },
        {
         "code": ">>> len(out1) == 2 and len(out2) == 3\nTrue",
         "hidden": false,
         "locked": false
        },
        {
         "code": ">>> first_pval < 1\nTrue",
         "hidden": false,
         "locked": false
        },
        {
         "code": ">>> first_res in ['NR', 'R']\nTrue",
         "hidden": false,
         "locked": false
        },
        {
         "code": ">>> second_pval < 1\nTrue",
         "hidden": false,
         "locked": false
        },
        {
         "code": ">>> second_res in ['NR', 'R']\nTrue",
         "hidden": false,
         "locked": false
        },
        {
         "code": ">>> second_res1 in ['D', 'ND']\nTrue",
         "hidden": false,
         "locked": false
        }
       ],
       "scored": true,
       "setup": "",
       "teardown": "",
       "type": "doctest"
      }
     ]
    }
   }
  }
 },
 "nbformat": 4,
 "nbformat_minor": 5
}
