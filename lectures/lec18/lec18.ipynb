{
 "cells": [
  {
   "cell_type": "markdown",
   "id": "7c7d30d6-581d-4a59-9181-8c5cbdd119be",
   "metadata": {},
   "source": [
    "# Lecture 18 - Correlation and Linear Regression "
   ]
  },
  {
   "cell_type": "code",
   "execution_count": null,
   "id": "324a5f76-9128-4808-890f-4ce6aa627ff2",
   "metadata": {},
   "outputs": [],
   "source": [
    "import numpy as np\n",
    "import matplotlib.pyplot as plt\n",
    "import pandas as pd\n",
    "import seaborn as sns\n",
    "plt.style.use('fivethirtyeight')\n",
    "\n",
    "%matplotlib inline"
   ]
  },
  {
   "cell_type": "code",
   "execution_count": null,
   "id": "a79f55b5-06bb-4f0e-9ea1-8b81251e79a2",
   "metadata": {},
   "outputs": [],
   "source": [
    "def r_scatter(r):\n",
    "    plt.figure(figsize=(5,5))\n",
    "    \"Generate a scatter plot with a correlation approximately r\"\n",
    "    x = np.random.normal(0, 1, 1000)\n",
    "    z = np.random.normal(0, 1, 1000)\n",
    "    y = r*x + (np.sqrt(1-r**2))*z\n",
    "    plt.scatter(x, y, color='darkblue', s=20)\n",
    "    plt.xlim(-4, 4)\n",
    "    plt.ylim(-4, 4)"
   ]
  },
  {
   "cell_type": "markdown",
   "id": "f5bc6f59-d3d1-44de-8654-2f5823a82007",
   "metadata": {},
   "source": [
    "## Guessing the Future "
   ]
  },
  {
   "cell_type": "code",
   "execution_count": null,
   "id": "32bfcc28-2595-49b5-8586-4048a176a21a",
   "metadata": {},
   "outputs": [],
   "source": [
    "families = pd.read_csv('data/family_heights.csv')\n",
    "families.head(5)"
   ]
  },
  {
   "cell_type": "code",
   "execution_count": null,
   "id": "680e07be-1962-43b9-90ff-9d353922e094",
   "metadata": {},
   "outputs": [],
   "source": [
    "parent_avgs = ...\n",
    "heights = pd.DataFrame({'Parent Average': parent_avgs, \n",
    "                        'Child': families['child']})"
   ]
  },
  {
   "cell_type": "code",
   "execution_count": null,
   "id": "683c74b6-96f6-4620-8ba0-c9dca797708f",
   "metadata": {},
   "outputs": [],
   "source": [
    "heights.plot.scatter(...)"
   ]
  },
  {
   "cell_type": "markdown",
   "id": "be7db3b6-4f18-40fb-8330-494deaf7b039",
   "metadata": {},
   "source": [
    "Let's say we are interested in predicting the height of a child given the average parent's height is 68 inches. \n",
    "\n",
    "We can examine the data points near a parent's average height of 68 inches. "
   ]
  },
  {
   "cell_type": "code",
   "execution_count": null,
   "id": "ee36f9f6-c8b1-467b-9e3c-772dc602b5a5",
   "metadata": {},
   "outputs": [],
   "source": [
    "nearby = heights[(heights['Parent Average'] >= 67.5) & (heights['Parent Average'] < 68.5)]\n",
    "nearby_mean = nearby['Child'].mean()\n",
    "nearby_mean"
   ]
  },
  {
   "cell_type": "code",
   "execution_count": null,
   "id": "2bd48829-cbca-4542-acbb-1c89e7a76f5d",
   "metadata": {},
   "outputs": [],
   "source": [
    "heights.plot.scatter(x='Parent Average', y='Child')\n",
    "plt.plot([67.5, 67.5], [50, 85], color='red', lw=2)\n",
    "plt.plot([68.5, 68.5], [50, 85], color='red', lw=2)\n",
    "plt.scatter(68, nearby_mean, color='magenta', s=50);"
   ]
  },
  {
   "cell_type": "markdown",
   "id": "e1c7d711-e3da-4953-95b7-431647b38d37",
   "metadata": {},
   "source": [
    "### Predict Child Height\n",
    "\n",
    "Using this idea, we can create a function that will predict the height of a child given the parent's average height. "
   ]
  },
  {
   "cell_type": "code",
   "execution_count": null,
   "id": "c07c3aa2-8336-4f9e-8810-e1b275274846",
   "metadata": {},
   "outputs": [],
   "source": [
    "def predict_child(h):\n",
    "    \"\"\"Predict the height of a child whose parents have a parent average \n",
    "    height of p_avg.\n",
    "    \n",
    "    The prediction is the average height of the children whose parent average \n",
    "    height is in the range p_avg plus or minus 0.5.\n",
    "    \"\"\"\n",
    "    nearby = heights[(heights['Parent Average'] >= h-1/2) & (heights['Parent Average'] < h+1/2)]\n",
    "    return nearby['Child'].mean()"
   ]
  },
  {
   "cell_type": "markdown",
   "id": "c730681f-4319-42d2-882e-f323de6594cf",
   "metadata": {},
   "source": [
    "Now we can create a new DataFrame that has the predicted height for each parents / child combination. "
   ]
  },
  {
   "cell_type": "code",
   "execution_count": null,
   "id": "1f495a4b-8a56-4fce-9b10-fd6985b289de",
   "metadata": {},
   "outputs": [],
   "source": [
    "heights_with_predictions = heights.copy()\n",
    "heights_with_predictions['Prediction'] = ...\n",
    "heights_with_predictions.head(5)"
   ]
  },
  {
   "cell_type": "code",
   "execution_count": null,
   "id": "a3da3a47-8122-4e2e-9da5-5ea5d04e7f80",
   "metadata": {},
   "outputs": [],
   "source": [
    "plt.scatter(heights_with_predictions['Parent Average'], \n",
    "            heights_with_predictions['Child'], \n",
    "            label='Child')\n",
    "plt.scatter(heights_with_predictions['Parent Average'], \n",
    "            heights_with_predictions['Prediction'], \n",
    "            label='Prediction')\n",
    "\n",
    "plt.xlabel('Parent Average')\n",
    "plt.ylabel('Child')\n",
    "plt.title('Scatter Plot of Parent Average vs. Child Height')\n",
    "\n",
    "# Add a legend\n",
    "plt.legend()\n",
    "\n",
    "# Show the plot\n",
    "plt.show()\n"
   ]
  },
  {
   "cell_type": "markdown",
   "id": "0d14b530-355b-4279-b4b2-81c112eb33f6",
   "metadata": {},
   "source": [
    "*Back to Slides*"
   ]
  },
  {
   "cell_type": "markdown",
   "id": "735a948d-32e2-451e-ae4f-44fa2e6f2582",
   "metadata": {},
   "source": [
    "## Association"
   ]
  },
  {
   "cell_type": "code",
   "execution_count": null,
   "id": "4bf7e766-adb8-4a13-8284-6a69c6436c4e",
   "metadata": {},
   "outputs": [],
   "source": [
    "hybrid = pd.read_csv('data/hybrid.csv')\n",
    "hybrid.head(5)"
   ]
  },
  {
   "cell_type": "code",
   "execution_count": null,
   "id": "e389d18d-8fff-442a-a660-ff0e73348829",
   "metadata": {},
   "outputs": [],
   "source": [
    "hybrid.sort_values('msrp', ascending = False)"
   ]
  },
  {
   "cell_type": "markdown",
   "id": "5141564b-1458-4e73-af0d-acaaccc5d2a0",
   "metadata": {},
   "source": [
    "Let's examine the relationship between several numeric variables."
   ]
  },
  {
   "cell_type": "code",
   "execution_count": null,
   "id": "7b33110b-b1c7-4563-af67-010f1d3537cd",
   "metadata": {},
   "outputs": [],
   "source": [
    "hybrid.plot.scatter(...);"
   ]
  },
  {
   "cell_type": "code",
   "execution_count": null,
   "id": "c196e968-8c9e-4607-a5d8-abd85e956adc",
   "metadata": {},
   "outputs": [],
   "source": [
    "hybrid.plot.scatter(...);"
   ]
  },
  {
   "cell_type": "markdown",
   "id": "3c740c64-70b2-4e7d-8fde-658ca837d644",
   "metadata": {},
   "source": [
    "We can look solely at SUVs. "
   ]
  },
  {
   "cell_type": "code",
   "execution_count": null,
   "id": "789902be-457f-4f08-8021-b91704911624",
   "metadata": {},
   "outputs": [],
   "source": [
    "suv = ...\n",
    "suv.shape"
   ]
  },
  {
   "cell_type": "code",
   "execution_count": null,
   "id": "356c07f7-e900-43eb-86d0-656ef604a628",
   "metadata": {},
   "outputs": [],
   "source": [
    "suv.plot.scatter(...);"
   ]
  },
  {
   "cell_type": "code",
   "execution_count": null,
   "id": "8ef1149f-3f06-474c-a9ca-2ce093fc964c",
   "metadata": {},
   "outputs": [],
   "source": [
    "suv.plot.scatter(...);"
   ]
  },
  {
   "cell_type": "markdown",
   "id": "59d392f4-d262-4326-9fd1-e7d7ab3a9943",
   "metadata": {},
   "source": [
    "*Back to Slides*"
   ]
  },
  {
   "cell_type": "markdown",
   "id": "5e0171b3-261b-4e5e-ba34-28e7717cbeb5",
   "metadata": {},
   "source": [
    "## Correlation Coefficient "
   ]
  },
  {
   "cell_type": "code",
   "execution_count": null,
   "id": "87bde176-e6b6-4191-b320-7008fbe46b75",
   "metadata": {},
   "outputs": [],
   "source": [
    "def standard_units(x):\n",
    "    \"Convert any array of numbers to standard units.\"\n",
    "    return (x - np.average(x)) / np.std(x)"
   ]
  },
  {
   "cell_type": "code",
   "execution_count": null,
   "id": "66b05d1b-0b56-4750-91bb-eac37f2189d6",
   "metadata": {},
   "outputs": [],
   "source": [
    "plt.scatter(standard_units(suv['mpg']), standard_units(suv['msrp']))\n",
    "plt.xlim(-3, 3)\n",
    "plt.xlim(-3, 3)\n",
    "plt.xlabel('mpg (standard units)')\n",
    "plt.ylabel('msrp (standard units)');"
   ]
  },
  {
   "cell_type": "code",
   "execution_count": null,
   "id": "51f88fd5-a043-473c-bf6a-3374a2a2c29d",
   "metadata": {},
   "outputs": [],
   "source": [
    "suv.plot.scatter(x='acceleration', y='msrp');"
   ]
  },
  {
   "cell_type": "code",
   "execution_count": null,
   "id": "ce44a116-8153-483d-83e9-915b66bac337",
   "metadata": {},
   "outputs": [],
   "source": [
    "plt.scatter(standard_units(suv['acceleration']), \n",
    "            standard_units(suv['msrp']))\n",
    "plt.xlim(-3, 3)\n",
    "plt.xlim(-3, 3)\n",
    "plt.xlabel('acceleration (standard units)')\n",
    "plt.ylabel('msrp (standard units)');"
   ]
  },
  {
   "cell_type": "markdown",
   "id": "97c89b17-7711-4af7-9bc6-4cb9b805cd68",
   "metadata": {},
   "source": [
    "## Correlation \n"
   ]
  },
  {
   "cell_type": "code",
   "execution_count": null,
   "id": "cb9e4c09-49b0-4479-8f89-fcf0793833f6",
   "metadata": {},
   "outputs": [],
   "source": [
    "r_scatter(-1)"
   ]
  },
  {
   "cell_type": "code",
   "execution_count": null,
   "id": "25036896-7d0d-42d9-a280-3de7dbd8028b",
   "metadata": {},
   "outputs": [],
   "source": [
    "x = np.arange(1, 7, 1)\n",
    "y = np.array([2, 3, 1, 5, 2, 7])"
   ]
  },
  {
   "cell_type": "code",
   "execution_count": null,
   "id": "c36bd14f-655d-48d2-ac6d-32ae262290f6",
   "metadata": {},
   "outputs": [],
   "source": [
    "plt.scatter(x, y, s=30, color='red')"
   ]
  },
  {
   "cell_type": "code",
   "execution_count": null,
   "id": "909d32cb-acbd-4915-9ae1-c50ea4b51716",
   "metadata": {},
   "outputs": [],
   "source": [
    "plt.scatter(standard_units(x), standard_units(y), s=30, color='red')"
   ]
  },
  {
   "cell_type": "code",
   "execution_count": null,
   "id": "8a8dad69-e5d3-433f-9431-4973200e2472",
   "metadata": {},
   "outputs": [],
   "source": [
    "df = pd.DataFrame({'x': x, 'y': y, \n",
    "                   'x (standard units)': standard_units(x), \n",
    "                   'y (standard units)': standard_units(y), \n",
    "                   'product of standard units':  standard_units(x)*standard_units(y)})\n",
    "df"
   ]
  },
  {
   "cell_type": "markdown",
   "id": "4940a26f-def7-4f3b-87a8-39805dbde55b",
   "metadata": {},
   "source": [
    "*Back to Slides*"
   ]
  },
  {
   "cell_type": "markdown",
   "id": "b764ac67-1a5c-49a5-a0db-d8d6a69a72cf",
   "metadata": {},
   "source": [
    "Here, we introduced the correlation coefficient: \n",
    "\n",
    "\\begin{align}\n",
    "r \n",
    "& = \\text{Mean}\\left(\\text{StandardUnits}(x) *  \\text{StandardUnits}(y)\\right)\\\\\n",
    "& = \\frac{1}{n} \\sum_{i=1}^n \\text{StandardUnits}(x_i) *  \\text{StandardUnits}(y_i)\\\\\n",
    "& = \\frac{1}{n}\\sum_{i=1}^n \\left( \\frac{x_i - \\text{Mean}(x)}{\\text{Stdev}(x)} \\right) * \\left( \\frac{y_i - \\text{Mean}(y)}{\\text{Stdev}(y)} \\right) \\\\\n",
    "\\end{align}"
   ]
  },
  {
   "cell_type": "code",
   "execution_count": null,
   "id": "1a4e413d-60d3-4a3c-87cb-05ee6d5e3fda",
   "metadata": {},
   "outputs": [],
   "source": [
    "# r is the average of the products of the standard units \n",
    "r = np.average(df.iloc[:,2] * df.iloc[:,3])\n",
    "r"
   ]
  },
  {
   "cell_type": "code",
   "execution_count": null,
   "id": "b4e62f3f-f7a8-48dc-9f11-f34bb06d640a",
   "metadata": {},
   "outputs": [],
   "source": [
    "def correlation(df, x, y):\n",
    "    \"\"\"df is a DataFrame; x and y are column labels\"\"\"\n",
    "    x_in_standard_units = standard_units(df[x])\n",
    "    y_in_standard_units = standard_units(df[y])\n",
    "    return np.average(x_in_standard_units * y_in_standard_units)"
   ]
  },
  {
   "cell_type": "code",
   "execution_count": null,
   "id": "7c456317-a417-4693-9416-32793733ca67",
   "metadata": {},
   "outputs": [],
   "source": [
    "correlation(df, 'x', 'y')"
   ]
  },
  {
   "cell_type": "code",
   "execution_count": null,
   "id": "60f3b8c6-fc3e-468c-ad45-d17953e53e28",
   "metadata": {},
   "outputs": [],
   "source": [
    "# Built-in pandas function \n",
    "\n",
    "df.iloc[:,0:2].corr()"
   ]
  },
  {
   "cell_type": "markdown",
   "id": "a02e587a-a557-49c7-ac48-9a725c5d488b",
   "metadata": {},
   "source": [
    "### Examples "
   ]
  },
  {
   "cell_type": "code",
   "execution_count": null,
   "id": "a057acbf-28a7-4067-a38c-e1566379b7a2",
   "metadata": {},
   "outputs": [],
   "source": [
    "suv.plot.scatter(...);"
   ]
  },
  {
   "cell_type": "code",
   "execution_count": null,
   "id": "861095ed-b5d5-4114-8c42-9ed25d3d56ca",
   "metadata": {},
   "outputs": [],
   "source": [
    "correlation(suv, ...)"
   ]
  },
  {
   "cell_type": "code",
   "execution_count": null,
   "id": "f7f2a85f-af49-438d-a2b0-34008529679b",
   "metadata": {},
   "outputs": [],
   "source": [
    "suv.plot.scatter(...);"
   ]
  },
  {
   "cell_type": "code",
   "execution_count": null,
   "id": "42a4dc86-d2af-4986-8577-82def50ba967",
   "metadata": {},
   "outputs": [],
   "source": [
    "correlation(suv, ...)"
   ]
  },
  {
   "cell_type": "markdown",
   "id": "e0e8cc9c-2d06-4142-b9ea-76f90dd85336",
   "metadata": {},
   "source": [
    "### Switching Axis "
   ]
  },
  {
   "cell_type": "code",
   "execution_count": null,
   "id": "6312fd3d-ad6d-49a3-8d33-e4c88d96c4e3",
   "metadata": {},
   "outputs": [],
   "source": [
    "correlation(df, 'x', 'y')"
   ]
  },
  {
   "cell_type": "code",
   "execution_count": null,
   "id": "8dbd6b51-dd09-4f2b-8b1f-64aa0981c6c8",
   "metadata": {},
   "outputs": [],
   "source": [
    "df.plot.scatter(x='x', y='y', s=30, color='red');"
   ]
  },
  {
   "cell_type": "code",
   "execution_count": null,
   "id": "fa7762a9-1f26-401f-a2af-00c3bd70b710",
   "metadata": {},
   "outputs": [],
   "source": [
    "df.plot.scatter(x='y', y='x', s=30, color='blue');"
   ]
  },
  {
   "cell_type": "code",
   "execution_count": null,
   "id": "6322ec98-6bac-4dc4-acb1-f2401be05b10",
   "metadata": {},
   "outputs": [],
   "source": [
    "correlation(df, 'y', 'x')"
   ]
  },
  {
   "cell_type": "markdown",
   "id": "ee7fd253-77b9-40fc-a392-5eddc8976db3",
   "metadata": {},
   "source": [
    "*Back to Slides*"
   ]
  },
  {
   "cell_type": "markdown",
   "id": "66084d50-3fdc-448a-abbf-ce035cecb570",
   "metadata": {},
   "source": [
    "## Caution on Intrepreting Correlation "
   ]
  },
  {
   "cell_type": "markdown",
   "id": "0006f922-29dd-40c6-8b58-19d1ca88c4b4",
   "metadata": {},
   "source": [
    "### Nonlinearity "
   ]
  },
  {
   "cell_type": "code",
   "execution_count": null,
   "id": "1d5a6366-15eb-484f-8e68-6baeb3e92423",
   "metadata": {},
   "outputs": [],
   "source": [
    "new_x = np.arange(-4, 4.1, 0.5)\n",
    "nonlinear = pd.DataFrame({'newx': new_x, 'y': new_x**2})\n",
    "nonlinear.plot.scatter('newx', 'y', s=30, color='r');"
   ]
  },
  {
   "cell_type": "code",
   "execution_count": null,
   "id": "f81363c5-8b5b-4035-afb7-67019cf156be",
   "metadata": {},
   "outputs": [],
   "source": [
    "correlation(nonlinear, 'newx', 'y')"
   ]
  },
  {
   "cell_type": "markdown",
   "id": "9f614cb5-dec5-4f53-ae80-8afbc6ed9d87",
   "metadata": {},
   "source": [
    "### Outliers "
   ]
  },
  {
   "cell_type": "code",
   "execution_count": null,
   "id": "9792376f-1a0f-4d82-9323-1ce4023b1b39",
   "metadata": {},
   "outputs": [],
   "source": [
    "line = pd.DataFrame({'x': np.array([1, 2, 3, 4]), \n",
    "                     'y': np.array([1, 2, 3, 4])})\n",
    "line.plot.scatter(x='x', y='y', s=30, color='r');"
   ]
  },
  {
   "cell_type": "code",
   "execution_count": null,
   "id": "5ef2dfa6-ac40-466b-9c5e-827eadf11b81",
   "metadata": {},
   "outputs": [],
   "source": [
    "correlation(line, 'x', 'y')"
   ]
  },
  {
   "cell_type": "code",
   "execution_count": null,
   "id": "9dc7d0c1-7189-4da1-a0a1-cd7faad0d9bd",
   "metadata": {},
   "outputs": [],
   "source": [
    "outlier = pd.DataFrame({'x': np.array([1, 2, 3, 4, 5]), \n",
    "                        'y': np.array([1, 2, 3, 4, 0])})\n",
    "outlier.plot.scatter(x='x', y='y', s=30, color='r');"
   ]
  },
  {
   "cell_type": "code",
   "execution_count": null,
   "id": "113caa0a-0769-4035-bd87-5c1a7e55cf63",
   "metadata": {},
   "outputs": [],
   "source": [
    "correlation(outlier, 'x', 'y')"
   ]
  },
  {
   "cell_type": "markdown",
   "id": "5b415fe5-1fa0-4389-ad0a-1bb51ab704b9",
   "metadata": {},
   "source": [
    "### Ecological Correlations "
   ]
  },
  {
   "cell_type": "code",
   "execution_count": null,
   "id": "24f79239-b6ab-4366-b05c-f4d0fe83df6b",
   "metadata": {},
   "outputs": [],
   "source": [
    "sats = pd.read_csv('data/sat_scores.csv')\n",
    "sats.sort_values('State', inplace=True)\n",
    "sats.head(10)"
   ]
  },
  {
   "cell_type": "code",
   "execution_count": null,
   "id": "c6876388-85b1-49ea-9b4e-a2381e6e1e6f",
   "metadata": {},
   "outputs": [],
   "source": [
    "sats.plot.scatter(x='Critical Reading', y='Math');"
   ]
  },
  {
   "cell_type": "code",
   "execution_count": null,
   "id": "ff03838b-9d28-4d57-8f92-6ff59d563763",
   "metadata": {},
   "outputs": [],
   "source": [
    "correlation(sats, 'Critical Reading', 'Math')"
   ]
  },
  {
   "cell_type": "code",
   "execution_count": null,
   "id": "4aa6ea16-1c76-4d70-aa33-af31a610ce05",
   "metadata": {},
   "outputs": [],
   "source": [
    "def rate_code(x):\n",
    "    if x <= 25:\n",
    "        return 'low'\n",
    "    elif x <= 50:\n",
    "        return 'low-moderate'\n",
    "    elif x <= 75:\n",
    "        return 'moderate_high'\n",
    "    else:\n",
    "        return 'high'"
   ]
  },
  {
   "cell_type": "code",
   "execution_count": null,
   "id": "bfc8f6c1-9368-4aca-afdf-23d744dea093",
   "metadata": {},
   "outputs": [],
   "source": [
    "rate_codes = sats.apply(lambda x: rate_code(x['Participation Rate']), axis=1)"
   ]
  },
  {
   "cell_type": "code",
   "execution_count": null,
   "id": "d52ff337-3dbe-4cae-ae21-60d0d5482389",
   "metadata": {},
   "outputs": [],
   "source": [
    "sats['Rate Code'] = rate_codes\n",
    "sats.head(10)"
   ]
  },
  {
   "cell_type": "code",
   "execution_count": null,
   "id": "3cbe6414-6c46-4adf-adb6-7a8bb5352e24",
   "metadata": {},
   "outputs": [],
   "source": [
    "sns.scatterplot(data=sats, x=\"Critical Reading\", y=\"Math\", hue=\"Rate Code\");"
   ]
  },
  {
   "cell_type": "code",
   "execution_count": null,
   "id": "e0b322b8-6b5b-4ee1-acdc-2af935673b95",
   "metadata": {},
   "outputs": [],
   "source": [
    "sats[sats['Rate Code'] == 'low']"
   ]
  },
  {
   "cell_type": "code",
   "execution_count": null,
   "id": "f8c806a5-59ef-49d9-9065-b62232768939",
   "metadata": {},
   "outputs": [],
   "source": [
    "sats[sats['Rate Code'] == 'high']"
   ]
  },
  {
   "cell_type": "markdown",
   "id": "41dda083-e851-405b-bba5-cd32bcd52d66",
   "metadata": {},
   "source": [
    "## Prediction Lines \n",
    "\n",
    "Let's build an intuition abou the relationship between the slope of the nearest neighbor line and the correlation coefficient.\n",
    "\n",
    "We will again use the heights data. "
   ]
  },
  {
   "cell_type": "code",
   "execution_count": null,
   "id": "c38664cb-5e81-4b10-8c81-9351efc14668",
   "metadata": {},
   "outputs": [],
   "source": [
    "heights.sort_values('Parent Average', inplace=True)\n",
    "heights.head(10)"
   ]
  },
  {
   "cell_type": "markdown",
   "id": "d46c833f-c8fd-4bd5-8f90-02c99ceddcd4",
   "metadata": {},
   "source": [
    "We will build a slightly more robust Nearest Neighbor predictor. "
   ]
  },
  {
   "cell_type": "code",
   "execution_count": null,
   "id": "b68c9eac-5352-460b-a1ed-ff1d9f858b6e",
   "metadata": {},
   "outputs": [],
   "source": [
    "def nn_heights(parent_average, window=0.5):\n",
    "    lower_bound = parent_average - window\n",
    "    upper_bound = parent_average + window\n",
    "    similar_child_heights = (\n",
    "        heights[(heights['Parent Average'] >= lower_bound) & (heights['Parent Average'] < upper_bound)][\"Child\"]\n",
    "    )\n",
    "    if len(similar_child_heights) == 0: #handle the case when there is no data\n",
    "        return np.nan # nan = not a number , a special floating point \"number\"\n",
    "    else:\n",
    "        return np.mean(similar_child_heights)"
   ]
  },
  {
   "cell_type": "markdown",
   "id": "6edfaa3c-09ae-43cf-a201-c5c50bdc6225",
   "metadata": {},
   "source": [
    "Make predictions at many different parent heights not just the heights in the dataset. "
   ]
  },
  {
   "cell_type": "code",
   "execution_count": null,
   "id": "1663d1b4-5ea1-425f-8762-bf8ac703f6dd",
   "metadata": {},
   "outputs": [],
   "source": [
    "test_heights = pd.DataFrame({\"Parent Average\": np.arange(61,74,0.2)})\n",
    "test_heights[\"NN Prediction\"] = (\n",
    "    test_heights.apply(lambda row: nn_heights(row['Parent Average']), axis=1))"
   ]
  },
  {
   "cell_type": "code",
   "execution_count": null,
   "id": "4891d404-42b7-4458-8387-486e97045fb6",
   "metadata": {},
   "outputs": [],
   "source": [
    "# Plot it, using plotly \n",
    "fig = px.scatter(heights, x=\"Parent Average\", y=\"Child\", height=600)\n",
    "fig.add_scatter(x=test_heights[\"Parent Average\"], \n",
    "                y=test_heights[\"NN Prediction\"], name=\"NN Prediction\")"
   ]
  },
  {
   "cell_type": "markdown",
   "id": "00cf070e-93aa-49f1-abfb-6e9b5e34417f",
   "metadata": {},
   "source": [
    "It will be easier to start in standard units. "
   ]
  },
  {
   "cell_type": "code",
   "execution_count": null,
   "id": "657a1462-962d-465b-b87d-0730ba2f3e56",
   "metadata": {},
   "outputs": [],
   "source": [
    "# Transform the heights data to standard units\n",
    "su_heights = pd.DataFrame({'Parent Average': standard_units(heights['Parent Average']), \n",
    "                           'Child': standard_units(heights['Child'])})\n",
    "\n",
    "# Transform the predictions to standard units \n",
    "su_test_heights = (\n",
    "    pd.DataFrame({'Parent Average': \n",
    "                  (test_heights['Parent Average'] - heights['Parent Average'].mean()) \n",
    "                  / heights['Parent Average'].std(), \n",
    "                  'NN Prediction': \n",
    "                  (test_heights['NN Prediction'] - heights['Child'].mean()) \n",
    "                  / heights['Child'].std()}))\n",
    "\n",
    "# Plot it \n",
    "fig = px.scatter(su_heights, x=\"Parent Average\", y=\"Child\", height=600)\n",
    "fig.add_scatter(x=su_test_heights[\"Parent Average\"], \n",
    "                y=su_test_heights[\"NN Prediction\"], name=\"NN Prediction\")    \n"
   ]
  },
  {
   "cell_type": "markdown",
   "id": "f9397757-be02-46ed-a674-d60eb5aa6110",
   "metadata": {},
   "source": [
    "Computing the correlation we get: "
   ]
  },
  {
   "cell_type": "code",
   "execution_count": null,
   "id": "ca2b758f-3966-45bf-a75d-f70fabf136a9",
   "metadata": {},
   "outputs": [],
   "source": [
    "correlation(heights, \"Parent Average\", \"Child\")"
   ]
  },
  {
   "cell_type": "markdown",
   "id": "9f0cc4fa-0d94-4c35-a9d5-bfb000ddf12a",
   "metadata": {},
   "source": [
    "What happens if we draw a line with that slope: "
   ]
  },
  {
   "cell_type": "code",
   "execution_count": null,
   "id": "74fdaf45-e76d-44a2-a99d-17239c74d2cf",
   "metadata": {},
   "outputs": [],
   "source": [
    "r = correlation(su_heights, \"Parent Average\", \"Child\")\n",
    "fig = px.scatter(su_heights, x=\"Parent Average\", y=\"Child\", height=600)\n",
    "fig.add_scatter(x=su_test_heights[\"Parent Average\"], \n",
    "                y=su_test_heights[\"NN Prediction\"], \n",
    "                name=\"NN Prediction\")\n",
    "fig.add_scatter(x=np.arange(-3,4,0.1), y= r * np.arange(-3,4,0.1), \n",
    "                name=f\"Line(y={np.round(r,4)} x)\")"
   ]
  },
  {
   "cell_type": "markdown",
   "id": "12f693e6-f327-4732-8db3-7b9542679a45",
   "metadata": {},
   "source": [
    "### The Relationship between Correlations and NN Predictions\n",
    "\n",
    "Here we examine the relationship between the nearest neighbor prediction \"line\" and the correlation for several synthetic datasets."
   ]
  },
  {
   "cell_type": "code",
   "execution_count": null,
   "id": "23290ac2-5fc0-475d-a3ce-09e4c1c84ced",
   "metadata": {},
   "outputs": [],
   "source": [
    "def make_correlated_data(r, n=500):\n",
    "    \"Generate a a table with columns x and y with a correlation of approximately r\"\n",
    "    x = np.random.normal(0, 1, n)\n",
    "    z = np.random.normal(0, 1, n)\n",
    "    # This is \"magic\" to sample from a multivariate Gaussian\n",
    "    y = r*x + (np.sqrt(1-r**2))*z \n",
    "    return pd.DataFrame({\"x\": x, \"y\": y})"
   ]
  },
  {
   "cell_type": "code",
   "execution_count": null,
   "id": "73e828ce-6e75-477f-b272-ba220f4d582f",
   "metadata": {},
   "outputs": [],
   "source": [
    "#  You don't need to understand all the parts of this function.\n",
    "def make_correlation_and_line_plot(r):\n",
    "    \"\"\" \n",
    "    Generates a plot of synthetic data with a correlation coefficient r\n",
    "    along with the nearest neighbor predictions and \n",
    "    a line with the slope r and intercept 0\n",
    "    \"\"\"\n",
    "    # Make synthetic data\n",
    "    example = make_correlated_data(r).sort_values(\"x\")\n",
    "    \n",
    "    # Compute nearest neighbor predictions\n",
    "    def nn_prediction_example(x_val):\n",
    "        \"\"\" Predicts y-value for x based on the example table \"\"\"\n",
    "        neighbors = (\n",
    "            example[(example['x'] >= x_val - 0.25) & (example['x'] < x_val + 0.25)][\"y\"]\n",
    "        )\n",
    "        if len(neighbors) == 0:\n",
    "            return np.nan\n",
    "        else: \n",
    "            return np.mean(neighbors)   \n",
    "    example[\"NN Prediction\"] = (\n",
    "        example.apply(lambda row: nn_prediction_example(row['x']), axis=1))\n",
    "    \n",
    "    # Generate Plots.\n",
    "    x,y = example[\"x\"], example[\"y\"]\n",
    "    fig = px.scatter(example, x=\"x\", y=\"y\", height=600)\n",
    "    fig.add_scatter(x=example[\"x\"], y=example[\"NN Prediction\"], \n",
    "                    name=\"NN Prediction\", line_color=\"red\")\n",
    "    fig.add_scatter(x=x, y= r * x, name=f\"Line(y={r} x)\")\n",
    "    fig.add_scatter(x=x, y=x, line_color=\"gray\", line_dash=\"dot\", name=\"Line(y=x)\")\n",
    "    return fig"
   ]
  },
  {
   "cell_type": "markdown",
   "id": "ed9d3a0b-4e94-488e-ac07-a7b99f357ee1",
   "metadata": {},
   "source": [
    "#### Correlation of 0.90 "
   ]
  },
  {
   "cell_type": "code",
   "execution_count": null,
   "id": "eac0df97-a112-4a19-8cb7-b9f551077fbc",
   "metadata": {},
   "outputs": [],
   "source": [
    "make_correlation_and_line_plot(r=0.90)"
   ]
  },
  {
   "cell_type": "markdown",
   "id": "f33397c4-e4e6-43a9-9031-a8d2fe3e48ed",
   "metadata": {},
   "source": [
    "#### Correlation of 0.6 "
   ]
  },
  {
   "cell_type": "code",
   "execution_count": null,
   "id": "ec01bc1c-4456-4112-a1c0-1dfffc61421c",
   "metadata": {},
   "outputs": [],
   "source": [
    "make_correlation_and_line_plot(r=0.60)"
   ]
  },
  {
   "cell_type": "markdown",
   "id": "b05d8f7c-2787-4bdc-aec6-498310e68f71",
   "metadata": {},
   "source": [
    "#### Correlation of 0.2"
   ]
  },
  {
   "cell_type": "code",
   "execution_count": null,
   "id": "c6e2bbba-38b7-42cb-9794-f0e6b5770a57",
   "metadata": {},
   "outputs": [],
   "source": [
    "make_correlation_and_line_plot(r=0.20)"
   ]
  },
  {
   "cell_type": "markdown",
   "id": "cc3cb527-79b0-4bd6-851e-52ee5595ca94",
   "metadata": {},
   "source": [
    "#### Correlation of 0"
   ]
  },
  {
   "cell_type": "code",
   "execution_count": null,
   "id": "17cfd747-75a1-4a43-ae5e-351180921292",
   "metadata": {},
   "outputs": [],
   "source": [
    "make_correlation_and_line_plot(r=0)"
   ]
  },
  {
   "cell_type": "markdown",
   "id": "bb2acd03-a0e7-45e9-9f50-47321733e8a0",
   "metadata": {},
   "source": [
    "#### Correlation of -0.60"
   ]
  },
  {
   "cell_type": "code",
   "execution_count": null,
   "id": "22d5dcbe-a12a-4b63-8033-77eb403bcb8e",
   "metadata": {},
   "outputs": [],
   "source": [
    "make_correlation_and_line_plot(r=-0.60)"
   ]
  },
  {
   "cell_type": "markdown",
   "id": "6ed45d48-70f9-4824-a32a-1fc57d8e028e",
   "metadata": {},
   "source": [
    "<br><br><br>\n",
    "\n",
    "---\n",
    "\n",
    "<center>Return to Slides</center>\n",
    "\n",
    "---\n",
    "\n",
    "<br><br><br>"
   ]
  },
  {
   "cell_type": "markdown",
   "id": "db1096b2-36e8-4cde-b7f0-2e84e9256c63",
   "metadata": {},
   "source": [
    "## Defining the linear regression line\n",
    "\n",
    "In standard units we developed a simple equation for the regression line:\n",
    "\n",
    "\\begin{align}\n",
    "\\text{SU}(y_\\text{predicted}) = r * \\text{SU}(x_\\text{new})\n",
    "\\end{align}\n",
    "\n",
    "where $r$ is the correlation coefficient and $\\text{SU}$ is the standard units:\n",
    "\n",
    "\\begin{align}\n",
    "\\text{SU}(y_\\text{predicted}) & = \\frac{y_\\text{predicted} - \\text{Mean}(y)}{\\text{Stdev}(y)} \\\\\n",
    "\\text{SU}(x_\\text{new}) &= \\frac{x_\\text{new} - \\text{Mean}(x)}{\\text{Stdev}(x)}\n",
    "\\end{align}\n",
    "\n",
    "\n",
    "\n",
    "Here we use $x_\\text{new}$ to indicate a new $x$ value for which we want to make a prediction  $y_\\text{predicted}$.\n",
    "\n",
    "We would like to express this line in the original units of the data.  We can do that by substituting the definition of standard units:\n",
    "\n",
    "\\begin{align}\n",
    "\\frac{y_\\text{predicted} - \\text{Mean}(y)}{\\text{Stdev}(y)} = r *  \\frac{x_\\text{new} - \\text{Mean}(x)}{\\text{Stdev}(x)}\n",
    "\\end{align}\n",
    "\n",
    "While this equation does desribe a line it would look a little nicer in the form:\n",
    "\n",
    "\\begin{align}\n",
    "y_\\text{predicted} = \\text{slope} * x_\\text{new}  + \\text{intercept}\n",
    "\\end{align}\n",
    "\n",
    "Let's do some algebra to get that equation:\n",
    "$$\n",
    "\\require{color}\n",
    "\\definecolor{comment}{RGB}{200,100,50}\n",
    "\\begin{align}\n",
    "\\frac{y_\\text{predicted} - \\text{Mean}(y)}{\\text{Stdev}(y)} &= r *  \\frac{x_\\text{new} - \\text{Mean}(x)}{\\text{Stdev}(x)}\\\\\n",
    "\\frac{y_\\text{predicted} - \\text{Mean}(y)}{\\text{Stdev}(y)} &= r * \\frac{1}{\\text{Stdev}(x)} x_\\text{new} - r * \\frac{1}{\\text{Stdev}(x)}\\text{Mean}(x)  & \\color{comment} \\text{Expanding the right side}\\\\\n",
    "y_\\text{predicted} - \\text{Mean}(y) &= r * \\frac{\\text{Stdev}(y)}{\\text{Stdev}(x)} x_\\text{new} - r * \\frac{\\text{Stdev}(y)}{\\text{Stdev}(x)}\\text{Mean}(x) &  \\color{comment} \\text{Multiplying by $\\text{Stdev}(y)$}\\\\\n",
    "y_\\text{predicted} &= r * \\frac{\\text{Stdev}(y)}{\\text{Stdev}(x)} x_\\text{new} + \\text{Mean}(y) - r * \\frac{\\text{Stdev}(y)}{\\text{Stdev}(x)}\\text{Mean}(x) &  \\color{comment} \\text{Adding $\\text{Mean}(y)$}\\\\\n",
    "y_\\text{predicted} &= \\left(r * \\frac{\\text{Stdev}(y)}{\\text{Stdev}(x)}\\right) x_\\text{new} + \\left(\\text{Mean}(y) - r * \\frac{\\text{Stdev}(y)}{\\text{Stdev}(x)}\\text{Mean}(x)\\right) &  \\color{comment} \\text{Rearranging Terms}\n",
    "\\end{align}\n",
    "$$\n",
    "\n",
    "This means we can define the slope and intercept as:\n",
    "\\begin{align}\n",
    "\\text{slope} &= r * \\frac{\\text{Stdev}(y)}{\\text{Stdev}(x)}\\\\\n",
    "\\text{intercept} & = \\text{Mean}(y) - \\text{slope} * \\text{Mean}(x)\n",
    "\\end{align}"
   ]
  },
  {
   "cell_type": "markdown",
   "id": "080c6118-fa56-4ff1-9f35-976eb6f4d681",
   "metadata": {},
   "source": [
    "<br><br><br>\n",
    "\n",
    "## Implementing Linear Regression\n",
    "\n",
    "Using the above equations implement the slope and intercept functions:"
   ]
  },
  {
   "cell_type": "code",
   "execution_count": null,
   "id": "3a7e5143-e777-4247-9f17-ec1dc35c17eb",
   "metadata": {},
   "outputs": [],
   "source": [
    "def slope(t, x, y):\n",
    "    \"\"\"Computes the slope of the regression line\"\"\"\n",
    "    ..."
   ]
  },
  {
   "cell_type": "markdown",
   "id": "8cf5853e-6645-494d-8a6a-03fd7fd1da90",
   "metadata": {},
   "source": [
    "<br><details><br>\n",
    "    \n",
    "```python\n",
    "def slope(t, x, y):\n",
    "    \"\"\"Computes the slope of the regression line\"\"\"\n",
    "    r = correlation(t, x, y)\n",
    "    y_sd = np.std(t[y])\n",
    "    x_sd = np.std(t[x])\n",
    "    return r * y_sd / x_sd\n",
    "```\n",
    "\n",
    "<br></details><br>"
   ]
  },
  {
   "cell_type": "code",
   "execution_count": null,
   "id": "20e8bc7a-797a-4f89-b687-d9b8f7e098e9",
   "metadata": {},
   "outputs": [],
   "source": [
    "def intercept(t, x, y):\n",
    "    \"\"\"Computes the intercept of the regression line\"\"\"\n",
    "    ..."
   ]
  },
  {
   "cell_type": "markdown",
   "id": "1dd0519c-f766-4f5d-ada2-7af2bfed674c",
   "metadata": {},
   "source": [
    "<br><details><br>\n",
    "    \n",
    "```python\n",
    "def intercept(t, x, y):\n",
    "    \"\"\"Computes the intercept of the regression line\"\"\"\n",
    "    x_mean = np.mean(t[x])\n",
    "    y_mean = np.mean(t[y])\n",
    "    return y_mean - slope(t, x, y)*x_mean\n",
    "```\n",
    "\n",
    "<br></details><br>"
   ]
  },
  {
   "cell_type": "markdown",
   "id": "c4a62d61-3594-4562-940f-3ac26d479f34",
   "metadata": {},
   "source": [
    "Testing it out "
   ]
  },
  {
   "cell_type": "code",
   "execution_count": null,
   "id": "3b9d5b84-430b-4639-809f-a52b8555b35d",
   "metadata": {},
   "outputs": [],
   "source": [
    "example = make_correlated_data(0.5)\n",
    "slope(example, 'x', 'y')"
   ]
  },
  {
   "cell_type": "markdown",
   "id": "62cf80de-18e7-429e-82fa-a56145c391a9",
   "metadata": {},
   "source": [
    "<br><br>\n",
    "\n",
    "Computing the slope and intercept for the heights dataset: "
   ]
  },
  {
   "cell_type": "code",
   "execution_count": null,
   "id": "910be52d-9fb4-4272-9853-1309fa2df49e",
   "metadata": {},
   "outputs": [],
   "source": [
    "heights_slope = ...\n",
    "heights_intercept = ...\n",
    "[heights_slope, heights_intercept]"
   ]
  },
  {
   "cell_type": "markdown",
   "id": "e46f4e83-99bc-4f4c-8a9e-bc65ffbcd039",
   "metadata": {},
   "source": [
    "<br><details><br>\n",
    "    \n",
    "```python\n",
    "heights_slope = slope(heights, 'Parent Average', 'Child')\n",
    "heights_intercept = intercept(heights, 'Parent Average', 'Child')\n",
    "[heights_slope, heights_intercept]\n",
    "```\n",
    "\n",
    "<br></details><br>"
   ]
  },
  {
   "cell_type": "markdown",
   "id": "2c09f22c-d3a3-48ae-8ff6-09638ef59f34",
   "metadata": {},
   "source": [
    "Adding the regression predictions: "
   ]
  },
  {
   "cell_type": "code",
   "execution_count": null,
   "id": "5a481269-1866-4c63-b896-56c230ed3f82",
   "metadata": {},
   "outputs": [],
   "source": []
  },
  {
   "cell_type": "markdown",
   "id": "678b19fc-97d9-41c7-a5b5-c87e538a8019",
   "metadata": {},
   "source": [
    "<br><details><br>\n",
    "    \n",
    "```python\n",
    "heights[\"Regression Prediction\"] = heights_slope * heights[\"Parent Average\"] + heights_intercept\n",
    "heights.head(10)\n",
    "```\n",
    "\n",
    "<br></details><br>"
   ]
  },
  {
   "cell_type": "code",
   "execution_count": null,
   "id": "35250059-e35c-457d-81e2-65017309b083",
   "metadata": {},
   "outputs": [],
   "source": [
    "fig = px.scatter(heights, x=\"Parent Average\", y=\"Child\", height=600)\n",
    "fig.add_scatter(x=test_heights[\"Parent Average\"], \n",
    "                y=test_heights[\"NN Prediction\"], name=\"NN Prediction\")\n",
    "line_name = f\"y = {np.round(heights_slope,2)} x + {np.round(heights_intercept,2)}\"\n",
    "fig.add_scatter(x=heights[\"Parent Average\"], \n",
    "                y=heights[\"Regression Prediction\"],\n",
    "                name=line_name)"
   ]
  }
 ],
 "metadata": {
  "kernelspec": {
   "display_name": "Python [conda env:data1202] *",
   "language": "python",
   "name": "conda-env-data1202-py"
  },
  "language_info": {
   "codemirror_mode": {
    "name": "ipython",
    "version": 3
   },
   "file_extension": ".py",
   "mimetype": "text/x-python",
   "name": "python",
   "nbconvert_exporter": "python",
   "pygments_lexer": "ipython3",
   "version": "3.10.12"
  }
 },
 "nbformat": 4,
 "nbformat_minor": 5
}
