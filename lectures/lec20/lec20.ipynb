{
 "cells": [
  {
   "cell_type": "markdown",
   "id": "7c7d30d6-581d-4a59-9181-8c5cbdd119be",
   "metadata": {},
   "source": [
    "# Lecture 20 - Least Squares"
   ]
  },
  {
   "cell_type": "code",
   "execution_count": null,
   "id": "324a5f76-9128-4808-890f-4ce6aa627ff2",
   "metadata": {},
   "outputs": [],
   "source": [
    "import numpy as np\n",
    "import matplotlib.pyplot as plt\n",
    "import pandas as pd\n",
    "import seaborn as sns\n",
    "plt.style.use('fivethirtyeight')\n",
    "\n",
    "%matplotlib inline"
   ]
  },
  {
   "cell_type": "code",
   "execution_count": null,
   "id": "3cf3437b-8288-4f7a-87e8-5f6f4a7743c4",
   "metadata": {},
   "outputs": [],
   "source": [
    "import plotly.express as px\n",
    "from plotly.subplots import make_subplots\n",
    "import plotly.graph_objects as go\n",
    "import plotly.offline as po\n",
    "po.init_notebook_mode()"
   ]
  },
  {
   "cell_type": "code",
   "execution_count": null,
   "id": "66bc2986-f830-473e-8189-cc28d7c4de8a",
   "metadata": {},
   "outputs": [],
   "source": [
    "from scipy import optimize\n",
    "import functools\n",
    "import math"
   ]
  },
  {
   "cell_type": "code",
   "execution_count": null,
   "id": "2f7c740b-4cf7-46ca-8db0-7d6c9dc018bb",
   "metadata": {},
   "outputs": [],
   "source": [
    "# Some functions for plotting. You don't have to understand how any\n",
    "# of the functions in this cell work, since they use things we \n",
    "# haven't learned about in Data 8.\n",
    "\n",
    "def resize_window(lim=3.5):\n",
    "    plots.xlim(-lim, lim)\n",
    "    plots.ylim(-lim, lim)\n",
    "    \n",
    "def draw_line(slope=0, intercept=0, x=np.array([-4, 4]), color='r'):\n",
    "    y = x*slope + intercept\n",
    "    plots.plot(x, y, color=color)\n",
    "    \n",
    "def draw_vertical_line(x_position, color='black'):\n",
    "    x = np.array(x_position, x_position)\n",
    "    y = np.array([-4, 4])\n",
    "    plots.plot(x, y, color=color)\n",
    "    \n",
    "def make_correlated_data(r):\n",
    "    x = np.random.normal(0, 1, 1000)\n",
    "    z = np.random.normal(0, 1, 1000)\n",
    "    y = r*x + (np.sqrt(1-r**2))*z\n",
    "    return x, y\n",
    "\n",
    "def r_table(r):\n",
    "    \"\"\"\n",
    "    Generate a table of 1000 x,y data points in standard units\n",
    "    whose correlation is approximately equal to r\n",
    "    \"\"\"\n",
    "    np.random.seed(8)\n",
    "    x, y = make_correlated_data(r)\n",
    "    return pd.DataFrame({'x': x, 'y': y})"
   ]
  },
  {
   "cell_type": "code",
   "execution_count": null,
   "id": "db2dcb2d-c410-4587-8bcf-8d15e28b519f",
   "metadata": {},
   "outputs": [],
   "source": [
    "def demographics_errors(slope, intercept):\n",
    "    # Use four convenient points from the original data\n",
    "    sample = [[14.7, 33995], [19.1, 61454], [50.7, 71183], [59.5, 105918]]\n",
    "    demographics.plot.scatter(x='College%', y='Median Income', alpha=0.5)\n",
    "    xlims = np.array([5, 75])\n",
    "    # Plot a line with the slope and intercept you specified:\n",
    "    plt.plot(xlims, slope * xlims + intercept, lw=4)\n",
    "    # Plot red lines from each of the four points to the line\n",
    "    for x, y in sample:\n",
    "        plt.plot([x, x], [y, slope * x + intercept], color='r', lw=4)"
   ]
  },
  {
   "cell_type": "code",
   "execution_count": null,
   "id": "53a84ca6-8b91-4b6e-97d8-3888ea621780",
   "metadata": {},
   "outputs": [],
   "source": [
    "def show_demographics_rmse(slope, intercept):\n",
    "    demographics_errors(slope, intercept)\n",
    "    x = demographics['College%']\n",
    "    y = demographics['Median Income']\n",
    "    prediction = slope * x + intercept\n",
    "    mse = np.mean((y - prediction) ** 2)\n",
    "    print(\"Root mean squared error:\", round(mse ** 0.5, 2))"
   ]
  },
  {
   "cell_type": "code",
   "execution_count": null,
   "id": "f7ac5c19-eeb4-41ae-9714-b3aa59db37ee",
   "metadata": {},
   "outputs": [],
   "source": [
    "def fitted_values(df, x, y):\n",
    "    \"\"\"Return an array of the regressions estimates at all the x values\"\"\"\n",
    "    a = slope(df, x, y)\n",
    "    b = intercept(df, x, y)\n",
    "    return a*df[x] + b"
   ]
  },
  {
   "cell_type": "markdown",
   "id": "7046dc65-df1e-4ef3-a862-c0e966814b36",
   "metadata": {},
   "source": [
    "# Slope & Intercept\n"
   ]
  },
  {
   "cell_type": "code",
   "execution_count": null,
   "id": "87bde176-e6b6-4191-b320-7008fbe46b75",
   "metadata": {},
   "outputs": [],
   "source": [
    "def standard_units(x):\n",
    "    \"Convert any array of numbers to standard units.\"\n",
    "    return (x - np.mean(x)) / np.std(x)"
   ]
  },
  {
   "cell_type": "code",
   "execution_count": null,
   "id": "1a4e413d-60d3-4a3c-87cb-05ee6d5e3fda",
   "metadata": {},
   "outputs": [],
   "source": [
    "def correlation(df, x, y):\n",
    "    \"\"\"Computes the correlation between columns x and y\"\"\"\n",
    "    x_su = standard_units(df[x])\n",
    "    y_su = standard_units(df[y])\n",
    "    return np.mean(x_su * y_su)"
   ]
  },
  {
   "cell_type": "code",
   "execution_count": null,
   "id": "c0f93be2-b3db-4e53-940f-ff99bfa52884",
   "metadata": {},
   "outputs": [],
   "source": [
    "def slope(df, x, y):\n",
    "    \"\"\"Computes the slope of the regression line\"\"\"\n",
    "    ...\n",
    "    return ...\n",
    "    \n",
    "def intercept(df, x, y):\n",
    "    \"\"\"Computes the intercept of the regression line\"\"\"\n",
    "    \n",
    "    return ..."
   ]
  },
  {
   "cell_type": "code",
   "execution_count": null,
   "id": "a057acbf-28a7-4067-a38c-e1566379b7a2",
   "metadata": {},
   "outputs": [],
   "source": [
    "example = r_table(0.5)\n",
    "slope(example, 'x', 'y')"
   ]
  },
  {
   "cell_type": "markdown",
   "id": "54dbd0c9-07de-4314-9c98-ec82fe136118",
   "metadata": {},
   "source": [
    "## Heights Data "
   ]
  },
  {
   "cell_type": "code",
   "execution_count": null,
   "id": "f7f2a85f-af49-438d-a2b0-34008529679b",
   "metadata": {},
   "outputs": [],
   "source": [
    "families = pd.read_csv('data/family_heights.csv')\n",
    "\n",
    "parent_avgs = (families[\"father\"] + families[\"mother\"])/2\n",
    "heights = pd.DataFrame({'MidParent': parent_avgs, \n",
    "                        'Child': families['child']})"
   ]
  },
  {
   "cell_type": "code",
   "execution_count": null,
   "id": "42a4dc86-d2af-4986-8577-82def50ba967",
   "metadata": {},
   "outputs": [],
   "source": [
    "heights.head()"
   ]
  },
  {
   "cell_type": "code",
   "execution_count": null,
   "id": "9d12e9d7-b503-4893-b6d2-e52a1b5c8bef",
   "metadata": {},
   "outputs": [],
   "source": [
    "def nn_heights(parent_average, window=0.5):\n",
    "    lower_bound = parent_average - window\n",
    "    upper_bound = parent_average + window\n",
    "    similar_child_heights = (\n",
    "        heights[(heights['MidParent'] >= lower_bound) & (heights['MidParent'] < upper_bound)][\"Child\"]\n",
    "    )\n",
    "    if len(similar_child_heights) == 0: #handle the case when there is no data\n",
    "        return np.nan # nan = not a number , a special floating point \"number\"\n",
    "    else:\n",
    "        return np.mean(similar_child_heights)"
   ]
  },
  {
   "cell_type": "markdown",
   "id": "cb80e376-c458-4364-a229-eae602dc9458",
   "metadata": {},
   "source": [
    "Make predictions at many different parent heights not just the heights in the dataset. "
   ]
  },
  {
   "cell_type": "code",
   "execution_count": null,
   "id": "438294cf-8c6c-48d8-837c-104ea33b565a",
   "metadata": {},
   "outputs": [],
   "source": [
    "test_heights = pd.DataFrame({\"MidParent\": heights['MidParent']})\n",
    "test_heights[\"NN Prediction\"] = (\n",
    "    test_heights.apply(lambda row: nn_heights(row['MidParent']), axis=1))"
   ]
  },
  {
   "cell_type": "code",
   "execution_count": null,
   "id": "96abd116-eece-4d22-be47-2542bedee80b",
   "metadata": {},
   "outputs": [],
   "source": [
    "heights_slope = ...\n",
    "heights_intercept = ...\n",
    "heights_slope, heights_intercept"
   ]
  },
  {
   "cell_type": "code",
   "execution_count": null,
   "id": "eaf520b9-13f6-465f-b9ae-9f0202ba2879",
   "metadata": {},
   "outputs": [],
   "source": [
    "test_heights['Regression Prediction'] = (\n",
    "    ...\n",
    ")\n",
    "test_heights.head()"
   ]
  },
  {
   "cell_type": "code",
   "execution_count": null,
   "id": "70f56bee-8962-48c0-8743-46e53ca5281d",
   "metadata": {},
   "outputs": [],
   "source": [
    "plt.scatter(test_heights['MidParent'], heights['Child'], label='Child')\n",
    "plt.scatter(test_heights['MidParent'], test_heights['NN Prediction'], label='NN Pred')\n",
    "plt.scatter(test_heights['MidParent'], test_heights['Regression Prediction'], label='Reg Pred')\n",
    "plt.xlabel('Mid Parent Height')\n",
    "plt.ylabel('Predicted Height')\n",
    "plt.legend()"
   ]
  },
  {
   "cell_type": "markdown",
   "id": "62580227-032b-4fe0-a761-45dc328e1299",
   "metadata": {},
   "source": [
    "<br><br><br>\n",
    "\n",
    "---\n",
    "<center>Return to Slides, Slide 8</center>\n",
    "\n",
    "---\n",
    "\n",
    "<br><br><br>"
   ]
  },
  {
   "cell_type": "markdown",
   "id": "d737c4d5-c177-4fb2-a066-e37c898d5bf9",
   "metadata": {},
   "source": [
    "<br><br>\n",
    "\n",
    "---\n",
    "\n",
    "\n",
    "# Making Predictions with Linear Regression\n",
    "\n",
    "\n",
    "We can now compute predictions, but how good are they?  How do we know that we have a good linear fit? To study this we will consider a new dataset."
   ]
  },
  {
   "cell_type": "code",
   "execution_count": null,
   "id": "6e5d80cc-baa1-435a-987d-71bbd274ce03",
   "metadata": {},
   "outputs": [],
   "source": [
    "demographics = pd.read_csv('data/district_demographics2016.csv')\n",
    "demographics.head(5)"
   ]
  },
  {
   "cell_type": "code",
   "execution_count": null,
   "id": "e8b1c125-a52e-4f4d-bb26-e48ea5695ea2",
   "metadata": {},
   "outputs": [],
   "source": [
    "plt.scatter(demographics['College%'], demographics['Median Income'])\n",
    "plt.xlabel('College%')\n",
    "plt.ylabel('Median Income');"
   ]
  },
  {
   "cell_type": "code",
   "execution_count": null,
   "id": "7281a506-c21f-4322-bbd1-25cb8f68e21f",
   "metadata": {},
   "outputs": [],
   "source": [
    "correlation(demographics, 'College%', 'Median Income')"
   ]
  },
  {
   "cell_type": "markdown",
   "id": "2860d202-d2e3-45af-9bce-b067fabe3680",
   "metadata": {},
   "source": [
    "### Making Predictions\n",
    "\n",
    "Here we will try to predict the income for each district as a function of the percent of college educated people."
   ]
  },
  {
   "cell_type": "code",
   "execution_count": null,
   "id": "e81d9cd4-1410-4a83-9b66-4ab8616ebc8b",
   "metadata": {},
   "outputs": [],
   "source": [
    "regression_slope = ...\n",
    "regression_intercept = ...\n",
    "print(\"Slope:\", regression_slope)\n",
    "print(\"Intercept:\", regression_intercept)"
   ]
  },
  {
   "cell_type": "markdown",
   "id": "f2536ed7-c4aa-495e-9701-58376a89d594",
   "metadata": {},
   "source": [
    "Make the actual predictions."
   ]
  },
  {
   "cell_type": "code",
   "execution_count": null,
   "id": "b0284429-55bd-41d0-a923-b4709b096ed6",
   "metadata": {},
   "outputs": [],
   "source": [
    "demographics[\"Linear Prediction\"] = ...\n",
    "demographics.head(5)"
   ]
  },
  {
   "cell_type": "markdown",
   "id": "eb64120a-977d-44d3-9725-786200a5a64f",
   "metadata": {},
   "source": [
    "Visualizing the predictions:"
   ]
  },
  {
   "cell_type": "code",
   "execution_count": null,
   "id": "118ecb34-c0d9-40d0-b19f-cc063d9eacec",
   "metadata": {},
   "outputs": [],
   "source": [
    "plt.scatter(demographics['College%'], demographics['Median Income'], label='Median Income')\n",
    "plt.scatter(demographics['College%'], demographics['Linear Prediction'], label='Linear Prediction')\n",
    "plt.xlabel('College%')\n",
    "plt.ylabel('Median Income')\n",
    "plt.legend();"
   ]
  },
  {
   "cell_type": "markdown",
   "id": "7665bcc4-5ff6-4aae-b8a7-c75404f94e6a",
   "metadata": {},
   "source": [
    "## Computing the Error\n",
    "\n",
    "The error is the difference between the actual and predicted value:\n",
    "\n",
    "$$\n",
    "\\text{error} = y - y_\\text{predicted}\n",
    "$$\n",
    "\n",
    "In a future lecture, we will refer to this error as the **residual**."
   ]
  },
  {
   "cell_type": "code",
   "execution_count": null,
   "id": "6ec76fc1-c981-4d68-b2fc-45bfcf7a79a7",
   "metadata": {},
   "outputs": [],
   "source": [
    "actual = demographics['Median Income']\n",
    "predicted = demographics[\"Linear Prediction\"]\n",
    "\n",
    "errors = actual - predicted"
   ]
  },
  {
   "cell_type": "code",
   "execution_count": null,
   "id": "0f1f3265-f737-435a-83c1-226c9c6361e2",
   "metadata": {},
   "outputs": [],
   "source": [
    "demographics['Error'] =  errors\n",
    "demographics.head(5)"
   ]
  },
  {
   "cell_type": "markdown",
   "id": "8cb9b849-edaf-4975-b099-777f31fa8098",
   "metadata": {},
   "source": [
    "<br><br>\n",
    "\n",
    "#### What are the districts with the largest error values?"
   ]
  },
  {
   "cell_type": "code",
   "execution_count": null,
   "id": "766b12ee-90a5-4b68-863a-738a01d54af4",
   "metadata": {},
   "outputs": [],
   "source": [
    "demographics[\"Abs Error\"] = np.abs(demographics[\"Error\"])\n",
    "demographics.sort_values(\"Abs Error\", ascending=False).head(5)"
   ]
  },
  {
   "cell_type": "markdown",
   "id": "8f5c0061-a3e4-4ec4-b303-aaa08b6c3937",
   "metadata": {},
   "source": [
    "#### What would a large error suggest?\n",
    "\n",
    "<br><br><br>"
   ]
  },
  {
   "cell_type": "markdown",
   "id": "56291de9-e2af-495c-9cd2-0734173833cb",
   "metadata": {},
   "source": [
    "## Visualizing the Errors"
   ]
  },
  {
   "cell_type": "code",
   "execution_count": null,
   "id": "fdcbc488-fc09-4eb7-beb5-e8b2d6516630",
   "metadata": {},
   "outputs": [],
   "source": [
    "demographics_errors(regression_slope, regression_intercept)"
   ]
  },
  {
   "cell_type": "code",
   "execution_count": null,
   "id": "d79ef884-718f-49cd-a511-6a9389c16b4b",
   "metadata": {},
   "outputs": [],
   "source": [
    "# Try different slopes and intercepts. \n",
    "\n",
    "demographics_errors(...)"
   ]
  },
  {
   "cell_type": "code",
   "execution_count": null,
   "id": "4c2b5d34-04ee-4592-bb51-84bbaf56aacf",
   "metadata": {},
   "outputs": [],
   "source": [
    "demographics_errors(...)"
   ]
  },
  {
   "cell_type": "markdown",
   "id": "f8d4a8b0-0c3b-4318-a33b-cb23bdef5f7f",
   "metadata": {},
   "source": [
    "\n",
    "## Summarizing the Overall Error"
   ]
  },
  {
   "cell_type": "markdown",
   "id": "8edd7d96-8e5f-4144-a42a-7d2fd8d02a62",
   "metadata": {},
   "source": [
    "What is the average error? "
   ]
  },
  {
   "cell_type": "code",
   "execution_count": null,
   "id": "e355cdcb-ef15-48b7-a0f1-78837dc1143c",
   "metadata": {},
   "outputs": [],
   "source": []
  },
  {
   "cell_type": "markdown",
   "id": "7e2a978c-d63b-4846-938a-65c012ef9173",
   "metadata": {},
   "source": [
    "Mean Absolute Error "
   ]
  },
  {
   "cell_type": "code",
   "execution_count": null,
   "id": "f6e8e1b8-1eb1-4bc8-b8e8-2afbdc05812d",
   "metadata": {},
   "outputs": [],
   "source": []
  },
  {
   "cell_type": "markdown",
   "id": "70c37985-7dc5-4531-954e-0b44215f8984",
   "metadata": {},
   "source": [
    "Mean Squared Error (MSE)"
   ]
  },
  {
   "cell_type": "code",
   "execution_count": null,
   "id": "10ff7ec4-c957-4aee-8bc1-de43ddd191e4",
   "metadata": {},
   "outputs": [],
   "source": []
  },
  {
   "cell_type": "markdown",
   "id": "3298e0dc-b9c2-46c6-83d7-79b96edbca72",
   "metadata": {},
   "source": [
    "Root Mean Squared Error (RMSE)"
   ]
  },
  {
   "cell_type": "code",
   "execution_count": null,
   "id": "56772b54-addc-4c7b-91b9-2140c043118e",
   "metadata": {},
   "outputs": [],
   "source": []
  },
  {
   "cell_type": "markdown",
   "id": "75ef7d81-4a52-4e3c-b952-3a89650fcf4e",
   "metadata": {},
   "source": [
    "<br><br>\n",
    "\n",
    "#### Discussion Question\n",
    "Assuming $y$ is income in dollars. What are the units of:\n",
    "1. Mean Absolute Error\n",
    "2. Mean Squared Error\n",
    "3. Root Mean Squared Error\n",
    "\n",
    "<br><br>"
   ]
  },
  {
   "cell_type": "code",
   "execution_count": null,
   "id": "1c50b4e9-5dd3-4315-a28d-786530697a4e",
   "metadata": {},
   "outputs": [],
   "source": [
    "show_demographics_rmse(...)"
   ]
  },
  {
   "cell_type": "code",
   "execution_count": null,
   "id": "b73466cc-36ea-4930-a780-ef8d360b2c79",
   "metadata": {},
   "outputs": [],
   "source": [
    "show_demographics_rmse(...)"
   ]
  },
  {
   "cell_type": "code",
   "execution_count": null,
   "id": "17ddc40a-a3cb-431d-8857-28674fd87cf2",
   "metadata": {},
   "outputs": [],
   "source": [
    "show_demographics_rmse(...)"
   ]
  },
  {
   "cell_type": "markdown",
   "id": "441c8c39-7a2a-4baa-a036-8dc23239d326",
   "metadata": {},
   "source": [
    "<br><br><br>\n",
    "\n",
    "---\n",
    "\n",
    "<center> Return to Slides, Slide 10 </center>\n",
    "\n",
    "---\n",
    "\n",
    "<br><br><br>"
   ]
  },
  {
   "cell_type": "markdown",
   "id": "b4be59fb-7d3b-4f50-8124-8ff8d263fb9f",
   "metadata": {},
   "source": [
    "## Numerical Optimization\n",
    "\n",
    "If our goal is just to find the parameters of our line that minimize some kind of error, we can use numerical optimization tools.  Suppose we wanted to minimize the function:\n",
    "\n",
    "$$\n",
    "f(x) = \\left(x - 2\\right)^2 + 3\n",
    "$$"
   ]
  },
  {
   "cell_type": "code",
   "execution_count": null,
   "id": "bc7e184b-3ef6-4139-88d0-441000913b10",
   "metadata": {},
   "outputs": [],
   "source": [
    "def f(x):\n",
    "    return ((x-2)**2) + 3"
   ]
  },
  {
   "cell_type": "code",
   "execution_count": null,
   "id": "54a059e9-6e59-4a40-b1fb-78867f0b29ed",
   "metadata": {},
   "outputs": [],
   "source": [
    "x = np.arange(1, 3, 0.1)\n",
    "y = f(x)\n",
    "px.line(x=x, y=y)"
   ]
  },
  {
   "cell_type": "code",
   "execution_count": null,
   "id": "708334ec-f2ab-4b97-81b1-aaccab956755",
   "metadata": {},
   "outputs": [],
   "source": [
    "# from scipy import optimize\n",
    "# import functools\n",
    "# import math\n",
    "\n",
    "# You don't need to understand the details\n",
    "# This function using scipy.optimize.minimize function \n",
    "\n",
    "def minimize(f, start=None, smooth=False, log=None, array=False, **vargs):\n",
    "    if start is None:\n",
    "        assert not array, \"Please pass starting values explicitly when array=True\"\n",
    "        arg_count = f.__code__.co_argcount\n",
    "        assert arg_count > 0, \"Please pass starting values explicitly for variadic functions\"\n",
    "        start = [0] * arg_count\n",
    "    if not hasattr(start, '__len__'):\n",
    "        start = [start]\n",
    "\n",
    "    if array:\n",
    "        objective = f\n",
    "    else:\n",
    "        @functools.wraps(f)\n",
    "        def objective(args):\n",
    "            return f(*args)\n",
    "\n",
    "    if not smooth and 'method' not in vargs:\n",
    "        vargs['method'] = 'Powell'\n",
    "    result = optimize.minimize(objective, start, **vargs)\n",
    "    if log is not None:\n",
    "        log(result)\n",
    "    if len(start) == 1:\n",
    "        return result.x.item(0)\n",
    "    else:\n",
    "        return result.x\n",
    "\n",
    "minimize(f)\n",
    "print(\"x_min =\", minimize(f))\n",
    "print(\"f(x_min) =\", f(minimize(f)))"
   ]
  },
  {
   "cell_type": "code",
   "execution_count": null,
   "id": "19575d6d-2bc8-4c3b-9ac0-addfe0f69af3",
   "metadata": {},
   "outputs": [],
   "source": [
    "fig = px.line(x=x, y=y)\n",
    "fig.add_scatter(x=[minimize(f)], y=[f(minimize(f))],\n",
    "                name=\"Minimum\", marker_color=\"red\", marker_size=10)"
   ]
  },
  {
   "cell_type": "markdown",
   "id": "bd3a163e-e6cd-4a3f-a6c5-3b86da000d7c",
   "metadata": {},
   "source": [
    "Minimize works for even more complex functions.\n",
    "\n",
    "$$\n",
    "f(x) = 2 * \\sin(\\pi x) + x^3 + x^4 + \\sin(10x)\n",
    "$$"
   ]
  },
  {
   "cell_type": "code",
   "execution_count": null,
   "id": "4556c4c4-51e1-466b-9562-46ecd3461f9f",
   "metadata": {},
   "outputs": [],
   "source": [
    "def complicated_function(x):\n",
    "    return 2 * np.sin(x*np.pi) + x ** 3 + x ** 4 + np.sin(x * 10)"
   ]
  },
  {
   "cell_type": "code",
   "execution_count": null,
   "id": "9b8d3268-a9e3-490a-8b35-d1614ece3798",
   "metadata": {},
   "outputs": [],
   "source": [
    "x = np.arange(-1.5, 1.5, 0.01)\n",
    "y2 = complicated_function(x)\n",
    "px.line(x=x, y=y2)"
   ]
  },
  {
   "cell_type": "markdown",
   "id": "b5fee81e-e666-4711-a887-de5ea8abaa71",
   "metadata": {},
   "source": [
    "We can still use minimize to find the minimum:"
   ]
  },
  {
   "cell_type": "code",
   "execution_count": null,
   "id": "bab5604b-eba4-4205-9560-c8663192afb9",
   "metadata": {},
   "outputs": [],
   "source": [
    "x_min = minimize(complicated_function)\n",
    "print(\"x_min =\", x_min)\n",
    "print(\"f(x_min) =\", complicated_function(x_min))"
   ]
  },
  {
   "cell_type": "code",
   "execution_count": null,
   "id": "0057a847-5542-4d83-b4b5-fb4562634b41",
   "metadata": {},
   "outputs": [],
   "source": [
    "fig = px.line(x=x, y=y2)\n",
    "fig.add_scatter(x=[x_min],\n",
    "                y=[complicated_function(x_min)],\n",
    "                name=\"Minimum\", marker_color=\"red\", marker_size=10)"
   ]
  },
  {
   "cell_type": "markdown",
   "id": "cd6f4e47-5f8f-4524-8915-04142680b0f0",
   "metadata": {},
   "source": [
    "We can even minimize multidimensional functions:\n",
    "\n",
    "$$\n",
    "\\texttt{surface_function(a,b)} = -\\frac{\\cos\\left(\\pi \\sqrt{(a+0.5)^2 + b^2}\\right)}{\\sqrt{(a+0.5)^2 + b^2} + 1}\n",
    "$$"
   ]
  },
  {
   "cell_type": "code",
   "execution_count": null,
   "id": "155b598a-9eef-4250-8462-91c667b0701e",
   "metadata": {},
   "outputs": [],
   "source": [
    "def surface_function(a, b):\n",
    "    d = np.sqrt( (a+0.5)**2 + b**2 )\n",
    "    return -np.cos(np.pi* d) / (d**2 + 1)"
   ]
  },
  {
   "cell_type": "code",
   "execution_count": null,
   "id": "8edec8f1-3be1-4b9b-9345-f25daae4d932",
   "metadata": {},
   "outputs": [],
   "source": [
    "a_min, b_min = minimize(surface_function)\n",
    "[a_min, b_min]"
   ]
  },
  {
   "cell_type": "code",
   "execution_count": null,
   "id": "26d78e29-6799-464d-b83f-71c8db37bdb3",
   "metadata": {},
   "outputs": [],
   "source": [
    "xs = np.arange(-1.5, 1.5, 0.01)\n",
    "ys = np.arange(-1.5, 1.5, 0.01)\n",
    "x, y = np.meshgrid(xs, ys)\n",
    "zs = surface_function(x.flatten(), y.flatten())\n",
    "go.Figure(data=[\n",
    "    go.Surface(x = xs, y = ys,\n",
    "               z=zs.reshape(len(xs), len(ys))),\n",
    "    go.Scatter3d(x=[a_min], y=[b_min], z=[surface_function(a_min, b_min)])\n",
    "    ], \n",
    "    layout=dict(height=1000, \n",
    "                scene_xaxis_title=\"a\", scene_yaxis_title=\"b\", \n",
    "                scene_zaxis_title=\"surface\"))"
   ]
  },
  {
   "cell_type": "markdown",
   "id": "f737c44a-a1e6-4fd1-90db-c4114f5aebfa",
   "metadata": {},
   "source": [
    "<br><br><br>\n",
    "\n",
    "---\n",
    "\n",
    "<center> Return to Slides, Slide 10 </center>\n",
    "\n",
    "---\n",
    "\n",
    "<br><br><br>"
   ]
  },
  {
   "cell_type": "markdown",
   "id": "c6ba40a6-8106-4c7b-8043-6e32785b6c53",
   "metadata": {},
   "source": [
    "## Minimizing RMSE \n",
    "\n",
    "We can use minimize to find the slope and intercept that minimize root mean squared error in our predictions:"
   ]
  },
  {
   "cell_type": "code",
   "execution_count": null,
   "id": "f4cc60c5-94dd-421b-b71c-609504311ad2",
   "metadata": {},
   "outputs": [],
   "source": [
    "def demographics_rmse(any_slope, any_intercept):\n",
    "    x = demographics['College%']\n",
    "    y = demographics['Median Income']\n",
    "    estimate = any_slope*x + any_intercept\n",
    "    return (np.mean((y - estimate) ** 2)) ** 0.5"
   ]
  },
  {
   "cell_type": "code",
   "execution_count": null,
   "id": "11f5972d-c318-4399-ab55-9a0c8ef3497e",
   "metadata": {},
   "outputs": [],
   "source": [
    "demographics_rmse(...)"
   ]
  },
  {
   "cell_type": "code",
   "execution_count": null,
   "id": "ca267167-c9fe-4dab-978f-1c91f902f116",
   "metadata": {},
   "outputs": [],
   "source": [
    "demographics_rmse(...)"
   ]
  },
  {
   "cell_type": "code",
   "execution_count": null,
   "id": "db8449dc-f246-4a67-8d13-6acd0d28d439",
   "metadata": {},
   "outputs": [],
   "source": [
    "..."
   ]
  },
  {
   "cell_type": "markdown",
   "id": "47ab7bcf-51d5-47ad-a020-27da7378b41a",
   "metadata": {},
   "source": [
    "How does this compare to the slope and intercept we derived earlier?"
   ]
  },
  {
   "cell_type": "code",
   "execution_count": null,
   "id": "7fcd1034-de48-4c1f-a735-8814e8bfab0b",
   "metadata": {},
   "outputs": [],
   "source": [
    "[regression_slope, regression_intercept]"
   ]
  },
  {
   "cell_type": "markdown",
   "id": "011583bb-d2f3-440c-9019-3d0368078d40",
   "metadata": {},
   "source": [
    "What happens if we minimize the mean squared error instead of the root mean squared error?"
   ]
  },
  {
   "cell_type": "code",
   "execution_count": null,
   "id": "c3ede760-8f4e-4b49-9c30-864eb3204c59",
   "metadata": {},
   "outputs": [],
   "source": [
    "def demographics_mse(slope, intercept):\n",
    "    x = demographics['College%']\n",
    "    y = demographics['Median Income']\n",
    "    estimate = slope*x + intercept\n",
    "    return np.mean(((y - estimate) ** 2))"
   ]
  },
  {
   "cell_type": "code",
   "execution_count": null,
   "id": "8808ca5a-8719-4ac8-81e7-2e603f3a4c9a",
   "metadata": {},
   "outputs": [],
   "source": [
    "..."
   ]
  },
  {
   "cell_type": "markdown",
   "id": "aeefcbc1-9a48-4d24-b66f-4412e4e0ea8b",
   "metadata": {},
   "source": [
    "What about if we minimize the absolute error?"
   ]
  },
  {
   "cell_type": "code",
   "execution_count": null,
   "id": "c1f96941-d608-48cf-9f93-e61715f2eabc",
   "metadata": {},
   "outputs": [],
   "source": [
    "def demographics_mae(any_slope, any_intercept):\n",
    "    x = demographics['College%']\n",
    "    y = demographics['Median Income']\n",
    "    estimate = any_slope*x + any_intercept\n",
    "    return np.mean(np.abs(y - estimate))"
   ]
  },
  {
   "cell_type": "code",
   "execution_count": null,
   "id": "428f8713-9dd2-4b29-87bf-a1016b1d7c38",
   "metadata": {},
   "outputs": [],
   "source": [
    "..."
   ]
  },
  {
   "cell_type": "markdown",
   "id": "16f13033-2475-4f2e-80d8-57e9ff60b570",
   "metadata": {},
   "source": [
    "This is different! "
   ]
  },
  {
   "cell_type": "code",
   "execution_count": null,
   "id": "a41a35a2-c56f-45fd-bbf2-73053d6c3df7",
   "metadata": {},
   "outputs": [],
   "source": [
    "mae_slope, mae_intercept = minimize(demographics_mae)\n",
    "fig = px.scatter(demographics, x=\"College%\", y=\"Median Income\", color=\"State\")\n",
    "xtest = np.arange(0, 75, 0.1)\n",
    "fig.add_scatter(x=xtest, \n",
    "                y=regression_slope * xtest + regression_intercept,\n",
    "                name = f\"Least Squares: {np.round(regression_slope, 2)} x + {np.round(regression_intercept)}\")\n",
    "fig.add_scatter(x=xtest, \n",
    "                y=mae_slope * xtest + mae_intercept,\n",
    "                name = f\"MAE: {np.round(mae_slope, 2)} x + {np.round(mae_intercept)}\")\n",
    "fig"
   ]
  },
  {
   "cell_type": "markdown",
   "id": "14f62ce0-1331-46ab-969d-bc408ff52954",
   "metadata": {},
   "source": [
    "<br><br><br>\n",
    "\n",
    "---\n",
    "\n",
    "## Varying the Slope and Intercept and Plotting the RMSE"
   ]
  },
  {
   "cell_type": "code",
   "execution_count": null,
   "id": "ae1bd35a-72fa-4624-acf7-ad125bfe4e66",
   "metadata": {},
   "outputs": [],
   "source": [
    "alt_slopes = regression_slope + np.arange(-20, 20)\n",
    "rmses = []\n",
    "for new_slope in alt_slopes:\n",
    "    rmses = np.append(rmses, demographics_rmse(new_slope, regression_intercept))\n",
    "\n",
    "variations = pd.DataFrame({\"Slope\": alt_slopes, \"RMSE\": rmses})\n",
    "variations.head(5)"
   ]
  },
  {
   "cell_type": "code",
   "execution_count": null,
   "id": "4840d942-1d5b-4dff-bdb4-4f56c190a246",
   "metadata": {},
   "outputs": [],
   "source": [
    "fig = px.scatter(variations, x=\"Slope\", y=\"RMSE\")\n",
    "fig.add_scatter(x=[regression_slope], y=[demographics_rmse(regression_slope, regression_intercept)], \n",
    "                marker_size=10, name=\"Best Slope\")"
   ]
  },
  {
   "cell_type": "markdown",
   "id": "43f260a1-4d65-404c-b391-ce667a9c1e82",
   "metadata": {},
   "source": [
    "What if we tried to change the intercept value while using the best slope so far?"
   ]
  },
  {
   "cell_type": "code",
   "execution_count": null,
   "id": "4c99a278-eb9c-4df2-96e6-7096b1e9fd68",
   "metadata": {},
   "outputs": [],
   "source": [
    "alt_intercepts = regression_intercept + np.arange(-2000, 2000, 100)\n",
    "rmses = []\n",
    "for new_intercept in alt_intercepts:\n",
    "    rmses = np.append(rmses, demographics_rmse(regression_slope, new_intercept))\n",
    "\n",
    "variations = pd.DataFrame({\"Intercept\": alt_intercepts, \"RMSE\": rmses})\n",
    "fig = px.scatter(variations, x=\"Intercept\", y=\"RMSE\")\n",
    "fig.add_scatter(x=[regression_intercept], y=[demographics_rmse(regression_slope, regression_intercept)], \n",
    "                marker_size=10, name=\"Best Intercept\")"
   ]
  },
  {
   "cell_type": "markdown",
   "id": "02ee99a1-bace-49b8-942e-5e122e9432d8",
   "metadata": {},
   "source": [
    "What if we tried changing both the slope and the intercept at the same time?"
   ]
  },
  {
   "cell_type": "code",
   "execution_count": null,
   "id": "2b73dc4c-2826-427d-a98e-221d965cb81b",
   "metadata": {},
   "outputs": [],
   "source": [
    "# This cell is slow\n",
    "alt_slopes = regression_slope + np.arange(-100, 100, 1)\n",
    "alt_intercepts = regression_intercept + np.arange(-1000, 1000, 10)\n",
    "variations = pd.DataFrame(columns = [\"Slope\", \"Intercept\", \"RMSE\"])\n",
    "i=0\n",
    "for new_slope in alt_slopes:\n",
    "    for new_intercept in alt_intercepts:\n",
    "        rmse = demographics_rmse(new_slope, new_intercept)\n",
    "        variations.loc[i] = [new_slope, new_intercept, rmse]\n",
    "        i = i+1\n",
    "    \n",
    "variations\n",
    "go.Figure(data=[\n",
    "    go.Contour(x=variations[\"Slope\"], y=variations[\"Intercept\"], z=variations[\"RMSE\"]), \n",
    "    go.Scatter(x=[regression_slope], y=[regression_intercept], marker_color=\"red\")\n",
    "],\n",
    "layout=dict(width = 800,height=600, xaxis_title=\"Slope\", yaxis_title=\"Intercept\"))"
   ]
  },
  {
   "cell_type": "markdown",
   "id": "ac90dd96-d2b9-4cf4-8ee1-f8a858cff730",
   "metadata": {},
   "source": [
    "<br><br><br>\n",
    "\n",
    "---\n",
    "\n",
    "<center> Return to Slides, Slide 12</center>\n",
    "\n",
    "---\n",
    "\n",
    "<br><br><br>"
   ]
  },
  {
   "cell_type": "markdown",
   "id": "4e4f1aa5-d63e-4c52-bdbf-f1b83b308264",
   "metadata": {},
   "source": [
    "## Multiple Linear Regression\n",
    "\n",
    "We can also use multiple variables to help predict a single variable. "
   ]
  },
  {
   "cell_type": "code",
   "execution_count": null,
   "id": "c90280a9-81df-440c-a024-04f0aba72d47",
   "metadata": {},
   "outputs": [],
   "source": [
    "hybrid = pd.read_csv('data/hybrid.csv')\n",
    "hybrid.head(5)"
   ]
  },
  {
   "cell_type": "code",
   "execution_count": null,
   "id": "4c04256a-c639-454f-b10e-eafc158bcdff",
   "metadata": {},
   "outputs": [],
   "source": [
    "px.scatter_3d(\n",
    "    hybrid, \n",
    "    x=\"mpg\", y=\"acceleration\", z=\"msrp\",\n",
    "    hover_name=\"vehicle\", \n",
    "    color=\"class\", \n",
    "    height=800\n",
    ")"
   ]
  },
  {
   "cell_type": "markdown",
   "id": "ed902b7e-4a95-4875-9358-5d95d6d66506",
   "metadata": {},
   "source": [
    "Suppose we use the model: \n",
    "\n",
    "$$ y = a * acc + b * mpg + c$$"
   ]
  },
  {
   "cell_type": "code",
   "execution_count": null,
   "id": "568969d0-5d29-4154-9408-96434e8c0112",
   "metadata": {},
   "outputs": [],
   "source": [
    "def hybrid_rmse(a, b, c):\n",
    "    actual = hybrid[\"msrp\"]\n",
    "    acc = hybrid[\"acceleration\"]\n",
    "    mpg = hybrid[\"mpg\"]\n",
    "    predicted = a*acc + b*mpg + c\n",
    "    mse = np.sqrt(np.mean((actual - predicted)**2))\n",
    "    return mse"
   ]
  },
  {
   "cell_type": "code",
   "execution_count": null,
   "id": "907cf2a2-93ec-480b-81e7-243fd57ed351",
   "metadata": {},
   "outputs": [],
   "source": [
    "..."
   ]
  },
  {
   "cell_type": "code",
   "execution_count": null,
   "id": "0f0b9cb4-e017-4d81-a5c8-c3fc43d2f5d9",
   "metadata": {},
   "outputs": [],
   "source": [
    "print(f\"Error: {hybrid_rmse(a, b, c):,}\")"
   ]
  },
  {
   "cell_type": "code",
   "execution_count": null,
   "id": "ddb20c1a-11fe-4de3-9390-2be1c0eac7d5",
   "metadata": {},
   "outputs": [],
   "source": [
    "mpg_range = np.arange(10, 80)\n",
    "acceleration_range = np.arange(5, 25)\n",
    "predictions = pd.DataFrame(columns=[\"mpg\", \"acc\", \"pred\"])\n",
    "i = 0\n",
    "for mpg in mpg_range:\n",
    "    for acc in acceleration_range: \n",
    "        pred = a * acc + b * mpg + c\n",
    "        predictions.loc[i] = [mpg, acc, pred]\n",
    "        i = i+1"
   ]
  },
  {
   "cell_type": "code",
   "execution_count": null,
   "id": "865bbcb1-f95d-432e-9230-5a29d698cebf",
   "metadata": {},
   "outputs": [],
   "source": [
    "fig = px.scatter_3d(\n",
    "    hybrid, \n",
    "    x=\"mpg\", y=\"acceleration\", z=\"msrp\",\n",
    "    hover_name=\"vehicle\", \n",
    "    color=\"class\", \n",
    "    height=800\n",
    ")\n",
    "fig.add_surface(\n",
    "    x = mpg_range, y = acceleration_range,\n",
    "    z = predictions[\"pred\"].to_numpy().reshape(len(mpg_range), len(acceleration_range)).T,\n",
    "    showscale=False\n",
    ")"
   ]
  },
  {
   "cell_type": "markdown",
   "id": "1e23d86c-3885-4f64-9d49-6e852c2d2565",
   "metadata": {},
   "source": [
    "## Fitting Non-Linear Data \n",
    "\n",
    "We could try to improve our predictions by defining a more complex equation: \n",
    "\n",
    "$$y = a * acc + b * mpg + c * acc^2 + d * mpg^2 + e$$"
   ]
  },
  {
   "cell_type": "code",
   "execution_count": null,
   "id": "dc4fabbb-d7f9-4921-8a26-ef34d15e2339",
   "metadata": {},
   "outputs": [],
   "source": [
    "def hybrid_better_rmse(a, b, c, d, e):\n",
    "    actual = hybrid[\"msrp\"]\n",
    "    acc = hybrid[\"acceleration\"]\n",
    "    mpg = hybrid[\"mpg\"]\n",
    "    predicted = a*acc + b*mpg + c*acc**2 + d*mpg**2 + e\n",
    "    mse = np.sqrt(np.mean((actual - predicted)**2))\n",
    "    return mse"
   ]
  },
  {
   "cell_type": "code",
   "execution_count": null,
   "id": "49b0ac1e-365a-4e40-885e-3c4f0b55059d",
   "metadata": {},
   "outputs": [],
   "source": [
    "..."
   ]
  },
  {
   "cell_type": "code",
   "execution_count": null,
   "id": "72f11816-010a-479f-935e-bbc61e158ff2",
   "metadata": {},
   "outputs": [],
   "source": [
    "print(f\"Error: {hybrid_better_rmse(a,b,c,d,e):,}\")"
   ]
  },
  {
   "cell_type": "code",
   "execution_count": null,
   "id": "275f3825-b689-46c2-9e20-b3ccbe3816bf",
   "metadata": {},
   "outputs": [],
   "source": [
    "mpg_range = np.arange(10, 80)\n",
    "acceleration_range = np.arange(5, 25)\n",
    "predictions = pd.DataFrame(columns=[\"mpg\", \"acc\", \"pred\"])\n",
    "i = 0\n",
    "for mpg in mpg_range:\n",
    "    for acc in acceleration_range: \n",
    "        pred = a*acc + b*mpg + c*acc**2 + d*mpg**2 + e\n",
    "        predictions.loc[i] = [mpg, acc, pred]\n",
    "        i = i+1\n",
    "        \n",
    "fig = px.scatter_3d(\n",
    "    hybrid, \n",
    "    x=\"mpg\", y=\"acceleration\", z=\"msrp\",\n",
    "    hover_name=\"vehicle\", \n",
    "    color=\"class\", \n",
    "    height=800\n",
    ")\n",
    "fig.add_surface(\n",
    "    x = mpg_range, y = acceleration_range,\n",
    "    z = predictions[\"pred\"].to_numpy().reshape(len(mpg_range), len(acceleration_range)).T,\n",
    "    showscale=False\n",
    ")"
   ]
  },
  {
   "cell_type": "markdown",
   "id": "b089ecbc-e28f-4d8f-b1a3-f529a84a2b41",
   "metadata": {},
   "source": [
    "### Example 2: Nonlinear Regression"
   ]
  },
  {
   "cell_type": "code",
   "execution_count": null,
   "id": "ec9048fb-b62f-416b-86e6-3fc7b3220567",
   "metadata": {},
   "outputs": [],
   "source": [
    "shotput = pd.read_csv('data/shotput.csv')\n",
    "shotput.head()"
   ]
  },
  {
   "cell_type": "code",
   "execution_count": null,
   "id": "cf8bc3b4-5178-43b0-b52c-8a47515b7f2a",
   "metadata": {},
   "outputs": [],
   "source": [
    "shotput.plot.scatter(x='Weight Lifted', y='Shot Put Distance')"
   ]
  },
  {
   "cell_type": "code",
   "execution_count": null,
   "id": "c219ca53-ac8a-4b7f-85eb-d0c8727fdfc0",
   "metadata": {},
   "outputs": [],
   "source": [
    "def shotput_linear_rmse(any_slope, any_intercept):\n",
    "    x = shotput['Weight Lifted']\n",
    "    y = shotput['Shot Put Distance']\n",
    "    estimate = any_slope*x + any_intercept\n",
    "    return np.mean((y - estimate) ** 2) ** 0.5"
   ]
  },
  {
   "cell_type": "code",
   "execution_count": null,
   "id": "ef6fa69c-2059-4c08-a78f-e22bb079a21c",
   "metadata": {},
   "outputs": [],
   "source": [
    "best_line = ...\n",
    "best_line"
   ]
  },
  {
   "cell_type": "code",
   "execution_count": null,
   "id": "4e176919-c6f4-4f79-bd57-5c41d51a5ab4",
   "metadata": {},
   "outputs": [],
   "source": [
    "weights = shotput.iloc[:,0]"
   ]
  },
  {
   "cell_type": "code",
   "execution_count": null,
   "id": "aa6d0b1b-c88d-4e72-9c3b-1a9c5c302533",
   "metadata": {},
   "outputs": [],
   "source": [
    "linear_fit = ...\n",
    "\n",
    "shotput['Best Line'] = linear_fit"
   ]
  },
  {
   "cell_type": "code",
   "execution_count": null,
   "id": "fb868b04-c884-41c3-ae53-7e51680a68b2",
   "metadata": {},
   "outputs": [],
   "source": [
    "plt.scatter(shotput['Weight Lifted'],shotput['Shot Put Distance'], label='Shot Put Distance')\n",
    "plt.scatter(shotput['Weight Lifted'], shotput['Best Line'], label='Best Line')\n",
    "plt.xlabel('Weight Lifted')\n",
    "plt.ylabel('Shot Put Distance')\n",
    "plt.legend()"
   ]
  },
  {
   "cell_type": "markdown",
   "id": "a15f75ed-44dc-472e-a99a-16974022adf6",
   "metadata": {},
   "source": [
    "### Quadratic Function \n",
    "\n",
    "$f(x) = ax^2 + bx + c$  \n",
    "\n",
    "for constants $a$, $b$, and $c$."
   ]
  },
  {
   "cell_type": "code",
   "execution_count": null,
   "id": "d7caa03d-f7fb-4f36-93fc-85d2ae6287ce",
   "metadata": {},
   "outputs": [],
   "source": [
    "def shotput_quadratic_rmse(a, b, c):\n",
    "    x = shotput['Weight Lifted']\n",
    "    y = shotput['Shot Put Distance']\n",
    "    estimate = a*(x**2) + b*x + c\n",
    "    return np.mean((y - estimate) ** 2) ** 0.5"
   ]
  },
  {
   "cell_type": "code",
   "execution_count": null,
   "id": "66ae6880-d6d4-4ccf-9259-996e44fccba0",
   "metadata": {},
   "outputs": [],
   "source": [
    "best_quad = ...\n",
    "best_quad"
   ]
  },
  {
   "cell_type": "code",
   "execution_count": null,
   "id": "fbba4c99-4f41-4dec-a474-260fb8cff934",
   "metadata": {},
   "outputs": [],
   "source": [
    "# x = weight lifted = 100 kg\n",
    "# Then predicted shot put distance:\n",
    "\n",
    "(-0.00104)*(100**2) + 0.2827*100 - 1.5318"
   ]
  },
  {
   "cell_type": "code",
   "execution_count": null,
   "id": "35202098-376f-4de5-84b3-26ee26acb27b",
   "metadata": {},
   "outputs": [],
   "source": [
    "quad_fit = ..."
   ]
  },
  {
   "cell_type": "code",
   "execution_count": null,
   "id": "75014b9f-0465-4b6d-bca4-4084e246b9f9",
   "metadata": {},
   "outputs": [],
   "source": [
    "shotput['Best Quadratic Curve'] = quad_fit"
   ]
  },
  {
   "cell_type": "code",
   "execution_count": null,
   "id": "9ea4ee65-424f-45fe-a93c-78377cf49cb5",
   "metadata": {},
   "outputs": [],
   "source": [
    "plt.scatter(shotput['Weight Lifted'],shotput['Shot Put Distance'], label='Shot Put Distance')\n",
    "plt.scatter(shotput['Weight Lifted'], shotput['Best Line'], label='Best Line')\n",
    "plt.scatter(shotput['Weight Lifted'], shotput['Best Quadratic Curve'], label='Best Quad. Line')\n",
    "plt.xlabel('Weight Lifted')\n",
    "plt.ylabel('Shot Put Distance')\n",
    "plt.legend()"
   ]
  },
  {
   "cell_type": "code",
   "execution_count": null,
   "id": "4046cfb6-4799-4e3c-b343-c925b967728a",
   "metadata": {},
   "outputs": [],
   "source": []
  }
 ],
 "metadata": {
  "kernelspec": {
   "display_name": "Python [conda env:data1202] *",
   "language": "python",
   "name": "conda-env-data1202-py"
  },
  "language_info": {
   "codemirror_mode": {
    "name": "ipython",
    "version": 3
   },
   "file_extension": ".py",
   "mimetype": "text/x-python",
   "name": "python",
   "nbconvert_exporter": "python",
   "pygments_lexer": "ipython3",
   "version": "3.10.12"
  }
 },
 "nbformat": 4,
 "nbformat_minor": 5
}
