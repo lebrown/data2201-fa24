{
 "cells": [
  {
   "cell_type": "markdown",
   "id": "e8f7793c-7743-4c00-8357-1ac67cbe4671",
   "metadata": {},
   "source": [
    "# Lecture 21 - Residuals "
   ]
  },
  {
   "cell_type": "code",
   "execution_count": null,
   "id": "12103027-f8f8-449f-bb35-ab4ecd1dab9b",
   "metadata": {},
   "outputs": [],
   "source": [
    "import numpy as np\n",
    "import matplotlib.pyplot as plt\n",
    "import pandas as pd\n",
    "import seaborn as sns\n",
    "plt.style.use('fivethirtyeight')\n",
    "\n",
    "%matplotlib inline"
   ]
  },
  {
   "cell_type": "markdown",
   "id": "f61a8b24-c2f8-4e84-8a01-52ba716fbac3",
   "metadata": {},
   "source": [
    "## Regression line vs. other lines "
   ]
  },
  {
   "cell_type": "code",
   "execution_count": null,
   "id": "4a5a2a13-7b15-4b56-b09c-da3a86864c24",
   "metadata": {},
   "outputs": [],
   "source": [
    "def standard_units(x):\n",
    "    \"Convert any array of numbers to standard units.\"\n",
    "    return (x - np.mean(x)) / np.std(x)\n",
    "\n",
    "def correlation(df, x, y):\n",
    "    \"\"\"Computes the correlation between columns x and y\"\"\"\n",
    "    x_su = standard_units(df[x])\n",
    "    y_su = standard_units(df[y])\n",
    "    return np.mean(x_su * y_su)\n",
    "\n",
    "def slope(df, x, y):\n",
    "    \"\"\"Computes the slope of the regression line\"\"\"\n",
    "    r = correlation(df, x, y)\n",
    "    y_sd = np.std(df[y])\n",
    "    x_sd = np.std(df[x])\n",
    "    return r * y_sd / x_sd\n",
    "    \n",
    "def intercept(df, x, y):\n",
    "    \"\"\"Computes the intercept of the regression line\"\"\"\n",
    "    x_mean = np.mean(df[x])\n",
    "    y_mean = np.mean(df[y])\n",
    "    return y_mean - slope(df, x, y)*x_mean\n",
    "\n",
    "def fitted_values(df, x, y):\n",
    "    \"\"\"Return an array of the regressions estimates at all the x values\"\"\"\n",
    "    a = slope(df, x, y)\n",
    "    b = intercept(df, x, y)\n",
    "    return a*df[x] + b"
   ]
  },
  {
   "cell_type": "markdown",
   "id": "6ea0922f-2701-4acf-8f8b-e4ee3bc1c7c5",
   "metadata": {},
   "source": [
    "### Example: 2016 election dataset "
   ]
  },
  {
   "cell_type": "code",
   "execution_count": null,
   "id": "d4fc9951-c4d7-48d0-b4d1-897040555426",
   "metadata": {},
   "outputs": [],
   "source": [
    "demographics = pd.read_csv('data/district_demographics2016.csv')\n",
    "demographics.head(10)"
   ]
  },
  {
   "cell_type": "code",
   "execution_count": null,
   "id": "2c931593-c751-4b61-b80e-6f137661825c",
   "metadata": {},
   "outputs": [],
   "source": [
    "predict_voting = demographics[['Median Income', 'Percent voting for Clinton']].copy()\n",
    "predict_voting['Fitted'] = ..."
   ]
  },
  {
   "cell_type": "code",
   "execution_count": null,
   "id": "e5ea68bf-9b6f-4a7d-a943-5c9e33f90d1f",
   "metadata": {},
   "outputs": [],
   "source": [
    "plt.scatter(predict_voting['Median Income'], predict_voting['Percent voting for Clinton'], \n",
    "           label='Percent voting for Clinton')\n",
    "plt.scatter(predict_voting['Median Income'], predict_voting['Fitted'], \n",
    "            label='Fitten Line')\n",
    "plt.xlabel('Median Income')\n",
    "plt.ylabel('Percent voting for Clinton')\n",
    "plt.legend();"
   ]
  },
  {
   "cell_type": "code",
   "execution_count": null,
   "id": "6ee2ada8-7217-4c1e-b8ec-c84daed41c4b",
   "metadata": {},
   "outputs": [],
   "source": [
    "predict_income = demographics[['College%', 'Median Income']].copy()\n",
    "predict_income['Fitted'] = ..."
   ]
  },
  {
   "cell_type": "code",
   "execution_count": null,
   "id": "b036adde-3048-4052-a967-da115653c12a",
   "metadata": {},
   "outputs": [],
   "source": [
    "plt.scatter(predict_income['College%'], predict_income['Median Income'], \n",
    "           label='Median Income')\n",
    "plt.scatter(predict_income['College%'], predict_income['Fitted'], \n",
    "            label='Fitted Line')\n",
    "plt.xlabel('College%')\n",
    "plt.ylabel('Median Income')\n",
    "plt.legend();"
   ]
  },
  {
   "cell_type": "markdown",
   "id": "e4399acf-3ab5-4abd-8bf1-06c916f49c7c",
   "metadata": {},
   "source": [
    "<br><br><br>\n",
    "\n",
    "---\n",
    "<center>Return to Slides, Slide 6</center>\n",
    "\n",
    "---\n",
    "\n",
    "<br><br><br>"
   ]
  },
  {
   "cell_type": "markdown",
   "id": "dbd105dc-6601-49a0-9389-6343db920d4b",
   "metadata": {},
   "source": [
    "## Residuals"
   ]
  },
  {
   "cell_type": "code",
   "execution_count": null,
   "id": "a881de87-76de-45a3-bb4b-1198e44192e2",
   "metadata": {},
   "outputs": [],
   "source": [
    "demos = demographics.drop(['State', 'District', 'Percent voting for Clinton'], axis=1)\n",
    "demos.head(5)"
   ]
  },
  {
   "cell_type": "code",
   "execution_count": null,
   "id": "a23e6873-ff41-4b7b-a136-e6e4a44bd378",
   "metadata": {},
   "outputs": [],
   "source": [
    "def residuals(df, x, y):\n",
    "    predictions = fitted_values(df, x, y)\n",
    "    return df[y] - predictions"
   ]
  },
  {
   "cell_type": "code",
   "execution_count": null,
   "id": "21170b68-f3cd-4387-bd97-fec9bc1f01a9",
   "metadata": {},
   "outputs": [],
   "source": [
    "demos['Fitted Value'] = ...\n",
    "demos['Residual'] = ...\n",
    "demos.head(5)"
   ]
  },
  {
   "cell_type": "code",
   "execution_count": null,
   "id": "d3e96c85-ff4b-4ed0-8c4a-9fa53a252faa",
   "metadata": {},
   "outputs": [],
   "source": [
    "plt.scatter(demos['College%'], demos['Median Income'], \n",
    "           label='Median Income')\n",
    "plt.scatter(demos['College%'], demos['Fitted Value'], \n",
    "            label='Fitted Line')\n",
    "plt.scatter(demos['College%'], demos['Residual'], \n",
    "            label='Residual')\n",
    "plt.xlabel('College%')\n",
    "plt.ylabel('Median Income')\n",
    "plt.legend();"
   ]
  },
  {
   "cell_type": "code",
   "execution_count": null,
   "id": "5a8592f9-6148-4195-b91d-72d9633fe1d8",
   "metadata": {},
   "outputs": [],
   "source": [
    "def plot_residuals(df, x, y):\n",
    "    df['Fitted Value'] = fitted_values(df, x, y)\n",
    "    df['Residual'] = residuals(df, x, y)\n",
    "    plt.scatter(df[x], df[y], label=y)\n",
    "    plt.scatter(df[x], df['Fitted Value'], label='Fitted Line')\n",
    "    plt.xlabel('College%')\n",
    "    plt.ylabel('Median Income')\n",
    "    plt.legend();\n",
    "\n",
    "    df.plot.scatter(x=x, y='Residual')"
   ]
  },
  {
   "cell_type": "code",
   "execution_count": null,
   "id": "3c40829b-d7f5-4726-a4ab-18aef7b3568b",
   "metadata": {},
   "outputs": [],
   "source": [
    "plot_residuals(demographics, 'College%', 'Median Income')"
   ]
  },
  {
   "cell_type": "code",
   "execution_count": null,
   "id": "974fae74-9545-47aa-be12-372b6352c459",
   "metadata": {},
   "outputs": [],
   "source": [
    "family_heights = pd.read_csv('data/family_heights.csv')\n",
    "parents = (family_heights['father'] + family_heights['mother'])/2\n",
    "heights = pd.DataFrame({\n",
    "    'Parent Average': parents,\n",
    "    'Child': family_heights['child']}\n",
    "    )\n",
    "plot_residuals(heights, 'Parent Average', 'Child')"
   ]
  },
  {
   "cell_type": "markdown",
   "id": "150288e2-10e2-444c-89e0-45d2daa2ad10",
   "metadata": {},
   "source": [
    "<br><br><br>\n",
    "\n",
    "---\n",
    "<center>Return to Slides, Slide 8</center>\n",
    "\n",
    "---\n",
    "\n",
    "<br><br><br>"
   ]
  },
  {
   "cell_type": "markdown",
   "id": "b0d1eaf4-4117-42cd-8e35-3e60646b3c87",
   "metadata": {},
   "source": [
    "## Dugongs"
   ]
  },
  {
   "cell_type": "code",
   "execution_count": null,
   "id": "b551b771-ef54-47eb-a50c-177d5e41dba8",
   "metadata": {},
   "outputs": [],
   "source": [
    "dugong = pd.read_csv('data/dugong.csv')\n",
    "dugong.head(5)"
   ]
  },
  {
   "cell_type": "code",
   "execution_count": null,
   "id": "571d90b8-539c-493e-9090-3079f8873145",
   "metadata": {},
   "outputs": [],
   "source": [
    "..."
   ]
  },
  {
   "cell_type": "code",
   "execution_count": null,
   "id": "700fdc53-939e-416a-94e9-49ba88eb4492",
   "metadata": {},
   "outputs": [],
   "source": [
    "..."
   ]
  },
  {
   "cell_type": "code",
   "execution_count": null,
   "id": "8ee1e79d-8d6f-446a-b86c-2001b9616f71",
   "metadata": {},
   "outputs": [],
   "source": [
    "..."
   ]
  },
  {
   "cell_type": "markdown",
   "id": "af7d5290-148e-4d6a-99a5-263c94221fa3",
   "metadata": {},
   "source": [
    "<br><br><br>\n",
    "\n",
    "---\n",
    "<center>Return to Slides, Slide 9</center>\n",
    "\n",
    "---\n",
    "\n",
    "<br><br><br>"
   ]
  },
  {
   "cell_type": "markdown",
   "id": "ee7d9d79-452b-4cfd-ab39-4ace3b435a22",
   "metadata": {},
   "source": [
    "## US Women"
   ]
  },
  {
   "cell_type": "code",
   "execution_count": null,
   "id": "29791edb-411a-42cc-91be-51f423911587",
   "metadata": {},
   "outputs": [],
   "source": [
    "us_women = pd.read_csv('data/us_women.csv')\n",
    "us_women.head(5)"
   ]
  },
  {
   "cell_type": "code",
   "execution_count": null,
   "id": "90bcc248-73f2-454b-a99d-a280ce390e92",
   "metadata": {},
   "outputs": [],
   "source": [
    "..."
   ]
  },
  {
   "cell_type": "code",
   "execution_count": null,
   "id": "b5d3df4a-a457-47ff-a606-604169ea5574",
   "metadata": {},
   "outputs": [],
   "source": [
    "..."
   ]
  },
  {
   "cell_type": "code",
   "execution_count": null,
   "id": "e0417492-48be-4827-850c-f9799980edaf",
   "metadata": {},
   "outputs": [],
   "source": [
    "..."
   ]
  },
  {
   "cell_type": "markdown",
   "id": "31c2a195-cbe5-4fcf-bf84-b0cf63841778",
   "metadata": {},
   "source": [
    "## Average of Residuals "
   ]
  },
  {
   "cell_type": "code",
   "execution_count": null,
   "id": "3407271b-84cf-40ec-92b0-5ce4b67a9bfd",
   "metadata": {},
   "outputs": [],
   "source": [
    "..."
   ]
  },
  {
   "cell_type": "code",
   "execution_count": null,
   "id": "a7ea4c24-c37c-4f8a-a96e-4975cb841ee9",
   "metadata": {},
   "outputs": [],
   "source": [
    "..."
   ]
  },
  {
   "cell_type": "code",
   "execution_count": null,
   "id": "5851b043-15cd-4ee8-a58a-2171c258147b",
   "metadata": {},
   "outputs": [],
   "source": [
    "..."
   ]
  },
  {
   "cell_type": "code",
   "execution_count": null,
   "id": "46c7be31-2ce2-4f20-84e1-9233e5e9a3ea",
   "metadata": {},
   "outputs": [],
   "source": [
    "..."
   ]
  },
  {
   "cell_type": "code",
   "execution_count": null,
   "id": "81f4d01c-a4e5-43e2-91cb-8ca4b2c0e673",
   "metadata": {},
   "outputs": [],
   "source": [
    "..."
   ]
  },
  {
   "cell_type": "code",
   "execution_count": null,
   "id": "7097b2de-4472-4833-be7d-a6c60a3dbaa2",
   "metadata": {},
   "outputs": [],
   "source": []
  }
 ],
 "metadata": {
  "kernelspec": {
   "display_name": "Python [conda env:data1202] *",
   "language": "python",
   "name": "conda-env-data1202-py"
  },
  "language_info": {
   "codemirror_mode": {
    "name": "ipython",
    "version": 3
   },
   "file_extension": ".py",
   "mimetype": "text/x-python",
   "name": "python",
   "nbconvert_exporter": "python",
   "pygments_lexer": "ipython3",
   "version": "3.10.12"
  }
 },
 "nbformat": 4,
 "nbformat_minor": 5
}
