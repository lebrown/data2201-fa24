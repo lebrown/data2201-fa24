{
 "cells": [
  {
   "cell_type": "markdown",
   "id": "7c7d30d6-581d-4a59-9181-8c5cbdd119be",
   "metadata": {},
   "source": [
    "# Lecture 19 - Linear Regression "
   ]
  },
  {
   "cell_type": "code",
   "execution_count": null,
   "id": "324a5f76-9128-4808-890f-4ce6aa627ff2",
   "metadata": {},
   "outputs": [],
   "source": [
    "import numpy as np\n",
    "import matplotlib.pyplot as plt\n",
    "import pandas as pd\n",
    "import seaborn as sns\n",
    "plt.style.use('fivethirtyeight')\n",
    "\n",
    "%matplotlib inline"
   ]
  },
  {
   "cell_type": "code",
   "execution_count": null,
   "id": "3cf3437b-8288-4f7a-87e8-5f6f4a7743c4",
   "metadata": {},
   "outputs": [],
   "source": [
    "import plotly.express as px\n",
    "from plotly.subplots import make_subplots\n",
    "import plotly.graph_objects as go\n",
    "import plotly.offline as po\n",
    "po.init_notebook_mode()"
   ]
  },
  {
   "cell_type": "code",
   "execution_count": null,
   "id": "66bc2986-f830-473e-8189-cc28d7c4de8a",
   "metadata": {},
   "outputs": [],
   "source": [
    "from scipy import optimize\n",
    "import functools\n",
    "import math"
   ]
  },
  {
   "cell_type": "markdown",
   "id": "7046dc65-df1e-4ef3-a862-c0e966814b36",
   "metadata": {},
   "source": [
    "# Review - Correlation \n",
    "\n",
    "### Standard Units\n",
    "\n",
    "$$\n",
    "\\text{StandardUnits}(x) = \\frac{x - \\text{Mean}(x)}{\\text{Stdev}(x)} \n",
    "$$"
   ]
  },
  {
   "cell_type": "code",
   "execution_count": null,
   "id": "87bde176-e6b6-4191-b320-7008fbe46b75",
   "metadata": {},
   "outputs": [],
   "source": [
    "def standard_units(x):\n",
    "    \"Convert any array of numbers to standard units.\"\n",
    "    return (x - np.average(x)) / np.std(x)"
   ]
  },
  {
   "cell_type": "markdown",
   "id": "8ad82b4c-d801-4a11-acc9-7a5deba7022b",
   "metadata": {},
   "source": [
    "### Correlation\n",
    "\n",
    "$$\n",
    "\\begin{align}\n",
    "r \n",
    "& = \\text{Mean}\\left(\\text{StandardUnits}(x) *  \\text{StandardUnits}(y)\\right)\\\\\n",
    "& = \\frac{1}{n} \\sum_{i=1}^n \\text{StandardUnits}(x_i) *  \\text{StandardUnits}(y_i)\\\\\n",
    "& = \\frac{1}{n}\\sum_{i=1}^n \\left( \\frac{x_i - \\text{Mean}(x)}{\\text{Stdev}(x)} \\right) * \\left( \\frac{y_i - \\text{Mean}(y)}{\\text{Stdev}(y)} \\right) \\\\\n",
    "\\end{align}\n",
    "$$"
   ]
  },
  {
   "cell_type": "code",
   "execution_count": null,
   "id": "1a4e413d-60d3-4a3c-87cb-05ee6d5e3fda",
   "metadata": {},
   "outputs": [],
   "source": [
    "def correlation(df, x, y):\n",
    "    \"\"\"Computes the correlation between columns x and y\"\"\"\n",
    "    x_su = standard_units(df[x])\n",
    "    y_su = standard_units(df[y])\n",
    "    return np.mean(x_su * y_su)"
   ]
  },
  {
   "cell_type": "markdown",
   "id": "a02e587a-a557-49c7-ac48-9a725c5d488b",
   "metadata": {},
   "source": [
    "### Examples "
   ]
  },
  {
   "cell_type": "code",
   "execution_count": null,
   "id": "c0f93be2-b3db-4e53-940f-ff99bfa52884",
   "metadata": {},
   "outputs": [],
   "source": [
    "hybrid = pd.read_csv('data/hybrid.csv')\n",
    "suv = hybrid[hybrid['class'] == 'SUV']"
   ]
  },
  {
   "cell_type": "code",
   "execution_count": null,
   "id": "a057acbf-28a7-4067-a38c-e1566379b7a2",
   "metadata": {},
   "outputs": [],
   "source": [
    "suv.plot.scatter(x='mpg', y='msrp');"
   ]
  },
  {
   "cell_type": "code",
   "execution_count": null,
   "id": "861095ed-b5d5-4114-8c42-9ed25d3d56ca",
   "metadata": {},
   "outputs": [],
   "source": [
    "correlation(suv, 'mpg', 'msrp')"
   ]
  },
  {
   "cell_type": "code",
   "execution_count": null,
   "id": "f7f2a85f-af49-438d-a2b0-34008529679b",
   "metadata": {},
   "outputs": [],
   "source": [
    "suv.plot.scatter(x='acceleration', y='msrp');"
   ]
  },
  {
   "cell_type": "code",
   "execution_count": null,
   "id": "42a4dc86-d2af-4986-8577-82def50ba967",
   "metadata": {},
   "outputs": [],
   "source": [
    "correlation(suv, 'acceleration', 'msrp')"
   ]
  },
  {
   "cell_type": "markdown",
   "id": "66084d50-3fdc-448a-abbf-ce035cecb570",
   "metadata": {},
   "source": [
    "## Caution on Intrepreting Correlation "
   ]
  },
  {
   "cell_type": "markdown",
   "id": "0006f922-29dd-40c6-8b58-19d1ca88c4b4",
   "metadata": {},
   "source": [
    "### Nonlinearity "
   ]
  },
  {
   "cell_type": "code",
   "execution_count": null,
   "id": "1d5a6366-15eb-484f-8e68-6baeb3e92423",
   "metadata": {},
   "outputs": [],
   "source": [
    "new_x = np.arange(-4, 4.1, 0.5)\n",
    "nonlinear = pd.DataFrame({'newx': new_x, 'y': new_x**2})\n",
    "nonlinear.plot.scatter('newx', 'y', s=30, color='r');"
   ]
  },
  {
   "cell_type": "code",
   "execution_count": null,
   "id": "f81363c5-8b5b-4035-afb7-67019cf156be",
   "metadata": {},
   "outputs": [],
   "source": [
    "correlation(nonlinear, 'newx', 'y')"
   ]
  },
  {
   "cell_type": "markdown",
   "id": "9f614cb5-dec5-4f53-ae80-8afbc6ed9d87",
   "metadata": {},
   "source": [
    "### Outliers "
   ]
  },
  {
   "cell_type": "code",
   "execution_count": null,
   "id": "9792376f-1a0f-4d82-9323-1ce4023b1b39",
   "metadata": {},
   "outputs": [],
   "source": [
    "line = pd.DataFrame({'x': np.array([1, 2, 3, 4]), \n",
    "                     'y': np.array([1, 2, 3, 4])})\n",
    "line.plot.scatter(x='x', y='y', s=30, color='r');"
   ]
  },
  {
   "cell_type": "code",
   "execution_count": null,
   "id": "5ef2dfa6-ac40-466b-9c5e-827eadf11b81",
   "metadata": {},
   "outputs": [],
   "source": [
    "correlation(line, 'x', 'y')"
   ]
  },
  {
   "cell_type": "code",
   "execution_count": null,
   "id": "9dc7d0c1-7189-4da1-a0a1-cd7faad0d9bd",
   "metadata": {},
   "outputs": [],
   "source": [
    "outlier = pd.DataFrame({'x': np.array([1, 2, 3, 4, 5]), \n",
    "                        'y': np.array([1, 2, 3, 4, 0])})\n",
    "outlier.plot.scatter(x='x', y='y', s=30, color='r');"
   ]
  },
  {
   "cell_type": "code",
   "execution_count": null,
   "id": "113caa0a-0769-4035-bd87-5c1a7e55cf63",
   "metadata": {},
   "outputs": [],
   "source": [
    "correlation(outlier, 'x', 'y')"
   ]
  },
  {
   "cell_type": "markdown",
   "id": "5b415fe5-1fa0-4389-ad0a-1bb51ab704b9",
   "metadata": {},
   "source": [
    "### Ecological Correlations "
   ]
  },
  {
   "cell_type": "code",
   "execution_count": null,
   "id": "24f79239-b6ab-4366-b05c-f4d0fe83df6b",
   "metadata": {},
   "outputs": [],
   "source": [
    "sats = pd.read_csv('data/sat_scores.csv')\n",
    "sats.sort_values('State', inplace=True)\n",
    "sats.head(10)"
   ]
  },
  {
   "cell_type": "code",
   "execution_count": null,
   "id": "c6876388-85b1-49ea-9b4e-a2381e6e1e6f",
   "metadata": {},
   "outputs": [],
   "source": [
    "sats.plot.scatter(x='Critical Reading', y='Math');"
   ]
  },
  {
   "cell_type": "code",
   "execution_count": null,
   "id": "ff03838b-9d28-4d57-8f92-6ff59d563763",
   "metadata": {},
   "outputs": [],
   "source": [
    "correlation(sats, 'Critical Reading', 'Math')"
   ]
  },
  {
   "cell_type": "code",
   "execution_count": null,
   "id": "4aa6ea16-1c76-4d70-aa33-af31a610ce05",
   "metadata": {},
   "outputs": [],
   "source": [
    "def rate_code(x):\n",
    "    if x <= 25:\n",
    "        return 'low'\n",
    "    elif x <= 50:\n",
    "        return 'low-moderate'\n",
    "    elif x <= 75:\n",
    "        return 'moderate_high'\n",
    "    else:\n",
    "        return 'high'"
   ]
  },
  {
   "cell_type": "code",
   "execution_count": null,
   "id": "bfc8f6c1-9368-4aca-afdf-23d744dea093",
   "metadata": {},
   "outputs": [],
   "source": [
    "rate_codes = sats.apply(lambda x: rate_code(x['Participation Rate']), axis=1)"
   ]
  },
  {
   "cell_type": "code",
   "execution_count": null,
   "id": "d52ff337-3dbe-4cae-ae21-60d0d5482389",
   "metadata": {},
   "outputs": [],
   "source": [
    "sats['Rate Code'] = rate_codes\n",
    "sats.head(10)"
   ]
  },
  {
   "cell_type": "code",
   "execution_count": null,
   "id": "3cbe6414-6c46-4adf-adb6-7a8bb5352e24",
   "metadata": {},
   "outputs": [],
   "source": [
    "sns.scatterplot(data=sats, x=\"Critical Reading\", y=\"Math\", hue=\"Rate Code\");"
   ]
  },
  {
   "cell_type": "code",
   "execution_count": null,
   "id": "e0b322b8-6b5b-4ee1-acdc-2af935673b95",
   "metadata": {},
   "outputs": [],
   "source": [
    "sats[sats['Rate Code'] == 'low'].head(10)"
   ]
  },
  {
   "cell_type": "code",
   "execution_count": null,
   "id": "f8c806a5-59ef-49d9-9065-b62232768939",
   "metadata": {},
   "outputs": [],
   "source": [
    "sats[sats['Rate Code'] == 'high']"
   ]
  },
  {
   "cell_type": "markdown",
   "id": "bd45e850-2234-45c1-8010-0c1bc3f7cce4",
   "metadata": {},
   "source": [
    "<br><br><br>\n",
    "\n",
    "---\n",
    "<center>Return to Slides</center>\n",
    "\n",
    "---\n",
    "\n",
    "<br><br><br>"
   ]
  },
  {
   "cell_type": "markdown",
   "id": "164afb27-b2e1-4b0d-b3bc-c27527b571d9",
   "metadata": {},
   "source": [
    "## Prediction Lines \n",
    "\n",
    "Let's build an intuition about the relationship between the slope of the nearest neighbor line and the correlation coefficient.\n",
    "\n",
    "We will again use the heights data. "
   ]
  },
  {
   "cell_type": "code",
   "execution_count": null,
   "id": "2cdbfc75-5832-4546-ae24-395248e6ba70",
   "metadata": {},
   "outputs": [],
   "source": [
    "families = pd.read_csv('data/family_heights.csv')\n",
    "parent_avgs = (families[\"father\"] + families[\"mother\"])/2\n",
    "heights = pd.DataFrame({'Parent Average': parent_avgs, \n",
    "                        'Child': families['child']})\n",
    "heights.sort_values('Parent Average', inplace=True)\n",
    "heights.head(10)"
   ]
  },
  {
   "cell_type": "markdown",
   "id": "45ff7cfe-6e9c-4701-9719-e3c70e698429",
   "metadata": {},
   "source": [
    "We will build a slightly more robust Nearest Neighbor predictor. "
   ]
  },
  {
   "cell_type": "code",
   "execution_count": null,
   "id": "9d12e9d7-b503-4893-b6d2-e52a1b5c8bef",
   "metadata": {},
   "outputs": [],
   "source": [
    "def nn_heights(parent_average, window=0.5):\n",
    "    lower_bound = parent_average - window\n",
    "    upper_bound = parent_average + window\n",
    "    similar_child_heights = (\n",
    "        heights[(heights['Parent Average'] >= lower_bound) & (heights['Parent Average'] < upper_bound)][\"Child\"]\n",
    "    )\n",
    "    if len(similar_child_heights) == 0: #handle the case when there is no data\n",
    "        return np.nan # nan = not a number , a special floating point \"number\"\n",
    "    else:\n",
    "        return np.mean(similar_child_heights)"
   ]
  },
  {
   "cell_type": "markdown",
   "id": "cb80e376-c458-4364-a229-eae602dc9458",
   "metadata": {},
   "source": [
    "Make predictions at many different parent heights not just the heights in the dataset. "
   ]
  },
  {
   "cell_type": "code",
   "execution_count": null,
   "id": "438294cf-8c6c-48d8-837c-104ea33b565a",
   "metadata": {},
   "outputs": [],
   "source": [
    "test_heights = pd.DataFrame({\"Parent Average\": np.arange(61,74,0.2)})\n",
    "test_heights[\"NN Prediction\"] = (\n",
    "    test_heights.apply(lambda row: nn_heights(row['Parent Average']), axis=1))"
   ]
  },
  {
   "cell_type": "code",
   "execution_count": null,
   "id": "795d6c63-72aa-455e-97cd-cfab94990826",
   "metadata": {},
   "outputs": [],
   "source": [
    "# Plot it, using plotly \n",
    "fig = px.scatter(heights, x=\"Parent Average\", y=\"Child\", height=600)\n",
    "fig.add_scatter(x=test_heights[\"Parent Average\"], \n",
    "                y=test_heights[\"NN Prediction\"], name=\"NN Prediction\")"
   ]
  },
  {
   "cell_type": "markdown",
   "id": "519e81df-3279-45ee-8267-7e5646c90707",
   "metadata": {},
   "source": [
    "It will be easier to start in standard units. "
   ]
  },
  {
   "cell_type": "code",
   "execution_count": null,
   "id": "f6461199-d3c8-4824-b255-3a3b0a03d797",
   "metadata": {},
   "outputs": [],
   "source": [
    "# Transform the heights data to standard units\n",
    "su_heights = pd.DataFrame({'Parent Average': standard_units(heights['Parent Average']), \n",
    "                           'Child': standard_units(heights['Child'])})\n",
    "\n",
    "# Transform the predictions to standard units \n",
    "su_test_heights = (\n",
    "    pd.DataFrame({'Parent Average': \n",
    "                  (test_heights['Parent Average'] - heights['Parent Average'].mean()) \n",
    "                  / heights['Parent Average'].std(), \n",
    "                  'NN Prediction': \n",
    "                  (test_heights['NN Prediction'] - heights['Child'].mean()) \n",
    "                  / heights['Child'].std()}))\n",
    "\n",
    "# Plot it \n",
    "fig = px.scatter(su_heights, x=\"Parent Average\", y=\"Child\", height=600)\n",
    "fig.add_scatter(x=su_test_heights[\"Parent Average\"], \n",
    "                y=su_test_heights[\"NN Prediction\"], name=\"NN Prediction\")    \n"
   ]
  },
  {
   "cell_type": "markdown",
   "id": "8d68d6c0-c800-494d-8096-e24bbea553d0",
   "metadata": {},
   "source": [
    "Computing the correlation we get: "
   ]
  },
  {
   "cell_type": "code",
   "execution_count": null,
   "id": "6f5ffd77-7559-45db-8143-94bbd51662c4",
   "metadata": {},
   "outputs": [],
   "source": [
    "correlation(heights, \"Parent Average\", \"Child\")"
   ]
  },
  {
   "cell_type": "markdown",
   "id": "0afb4ac7-b434-45dc-9b50-4c75a6437148",
   "metadata": {},
   "source": [
    "What happens if we draw a line with that slope: "
   ]
  },
  {
   "cell_type": "code",
   "execution_count": null,
   "id": "bddfa5ce-c716-459a-a638-803cf715596b",
   "metadata": {},
   "outputs": [],
   "source": [
    "r = correlation(su_heights, \"Parent Average\", \"Child\")\n",
    "fig = px.scatter(su_heights, x=\"Parent Average\", y=\"Child\", height=600)\n",
    "fig.add_scatter(x=su_test_heights[\"Parent Average\"], \n",
    "                y=su_test_heights[\"NN Prediction\"], \n",
    "                name=\"NN Prediction\")\n",
    "fig.add_scatter(x=np.arange(-3,4,0.1), y= r * np.arange(-3,4,0.1), \n",
    "                name=f\"Line(y={np.round(r,4)} x)\")"
   ]
  },
  {
   "cell_type": "markdown",
   "id": "676f1413-ffd6-4f18-8d2b-709ca28cbaeb",
   "metadata": {},
   "source": [
    "### The Relationship between Correlations and NN Predictions\n",
    "\n",
    "Here we examine the relationship between the nearest neighbor prediction \"line\" and the correlation for several synthetic datasets.\n"
   ]
  },
  {
   "cell_type": "code",
   "execution_count": null,
   "id": "e520c669-2b44-431e-9bd7-3e299c47458c",
   "metadata": {},
   "outputs": [],
   "source": [
    "def make_correlated_data(r, n=500):\n",
    "    \"Generate a a table with columns x and y with a correlation of approximately r\"\n",
    "    x = np.random.normal(0, 1, n)\n",
    "    z = np.random.normal(0, 1, n)\n",
    "    # This is \"magic\" to sample from a multivariate Gaussian\n",
    "    y = r*x + (np.sqrt(1-r**2))*z \n",
    "    return pd.DataFrame({\"x\": x, \"y\": y})"
   ]
  },
  {
   "cell_type": "code",
   "execution_count": null,
   "id": "d81de51f-8f09-49ae-b6e1-bfa7cdeca124",
   "metadata": {},
   "outputs": [],
   "source": [
    "#  You don't need to understand all the parts of this function.\n",
    "def make_correlation_and_line_plot(r):\n",
    "    \"\"\" \n",
    "    Generates a plot of synthetic data with a correlation coefficient r\n",
    "    along with the nearest neighbor predictions and \n",
    "    a line with the slope r and intercept 0\n",
    "    \"\"\"\n",
    "    # Make synthetic data\n",
    "    example = make_correlated_data(r).sort_values(\"x\")\n",
    "    \n",
    "    # Compute nearest neighbor predictions\n",
    "    def nn_prediction_example(x_val):\n",
    "        \"\"\" Predicts y-value for x based on the example table \"\"\"\n",
    "        neighbors = (\n",
    "            example[(example['x'] >= x_val - 0.25) & (example['x'] < x_val + 0.25)][\"y\"]\n",
    "        )\n",
    "        if len(neighbors) == 0:\n",
    "            return np.nan\n",
    "        else: \n",
    "            return np.mean(neighbors)   \n",
    "    example[\"NN Prediction\"] = (\n",
    "        example.apply(lambda row: nn_prediction_example(row['x']), axis=1))\n",
    "    \n",
    "    # Generate Plots.\n",
    "    x,y = example[\"x\"], example[\"y\"]\n",
    "    fig = px.scatter(example, x=\"x\", y=\"y\", height=600)\n",
    "    fig.add_scatter(x=example[\"x\"], y=example[\"NN Prediction\"], \n",
    "                    name=\"NN Prediction\", line_color=\"red\")\n",
    "    fig.add_scatter(x=x, y= r * x, name=f\"Line(y={r} x)\")\n",
    "    fig.add_scatter(x=x, y=x, line_color=\"gray\", line_dash=\"dot\", name=\"Line(y=x)\")\n",
    "    return fig"
   ]
  },
  {
   "cell_type": "markdown",
   "id": "550bf9b2-4ee7-4d7e-91f1-0f7bc11eacd4",
   "metadata": {},
   "source": [
    "#### Correlation of 0.90"
   ]
  },
  {
   "cell_type": "code",
   "execution_count": null,
   "id": "75d44965-37a1-4935-956a-dfd3fea476c4",
   "metadata": {},
   "outputs": [],
   "source": [
    "make_correlation_and_line_plot(...)"
   ]
  },
  {
   "cell_type": "markdown",
   "id": "843d71af-2bbe-4a93-9416-d5a8eef7c5da",
   "metadata": {},
   "source": [
    "#### Correlation of 0.60"
   ]
  },
  {
   "cell_type": "code",
   "execution_count": null,
   "id": "7849f7c3-a47b-4803-8263-0bc3571b908f",
   "metadata": {},
   "outputs": [],
   "source": [
    "make_correlation_and_line_plot(...)"
   ]
  },
  {
   "cell_type": "markdown",
   "id": "09b4731e-6b06-440a-8ab4-6a528568b9eb",
   "metadata": {},
   "source": [
    "#### Correlation of 0.20"
   ]
  },
  {
   "cell_type": "code",
   "execution_count": null,
   "id": "c6ec9d43-dab7-4be6-933a-e9d93b9ecef1",
   "metadata": {},
   "outputs": [],
   "source": [
    "make_correlation_and_line_plot(...)"
   ]
  },
  {
   "cell_type": "markdown",
   "id": "58ce5264-130e-4801-8bca-51a1be4ed8b3",
   "metadata": {},
   "source": [
    "#### Correlation of 0"
   ]
  },
  {
   "cell_type": "code",
   "execution_count": null,
   "id": "af2bc6be-7b2f-4ebd-ae56-d120e3152c59",
   "metadata": {},
   "outputs": [],
   "source": [
    "make_correlation_and_line_plot(...)"
   ]
  },
  {
   "cell_type": "markdown",
   "id": "0fdf8351-7b86-4902-9025-9938de6440cc",
   "metadata": {},
   "source": [
    "#### Correlation of -0.6"
   ]
  },
  {
   "cell_type": "code",
   "execution_count": null,
   "id": "08e8c5bb-6654-4d71-88d6-7d237b0ec909",
   "metadata": {},
   "outputs": [],
   "source": [
    "make_correlation_and_line_plot(...)"
   ]
  },
  {
   "cell_type": "markdown",
   "id": "ad87d8c3-4239-4498-ae38-943e7a086282",
   "metadata": {},
   "source": [
    "<br><br><br>\n",
    "\n",
    "---\n",
    "\n",
    "<center>Return to Slides</center>\n",
    "\n",
    "---\n",
    "\n",
    "<br><br><br>"
   ]
  },
  {
   "cell_type": "markdown",
   "id": "e51639da-dfe3-43a5-9130-a2901b9b7c28",
   "metadata": {},
   "source": [
    "# Defining the linear regression line\n",
    "\n",
    "In standard units we developed a simple equation for the regression line:\n",
    "\n",
    "\\begin{align}\n",
    "\\text{SU}(y_\\text{predicted}) = r * \\text{SU}(x_\\text{new})\n",
    "\\end{align}\n",
    "\n",
    "where $r$ is the correlation coefficient and $\\text{SU}$ is the standard units:\n",
    "\n",
    "\\begin{align}\n",
    "\\text{SU}(y_\\text{predicted}) & = \\frac{y_\\text{predicted} - \\text{Mean}(y)}{\\text{Stdev}(y)} \\\\\n",
    "\\text{SU}(x_\\text{new}) &= \\frac{x_\\text{new} - \\text{Mean}(x)}{\\text{Stdev}(x)}\n",
    "\\end{align}\n",
    "\n",
    "\n",
    "\n",
    "Here we use $x_\\text{new}$ to indicate a new $x$ value for which we want to make a prediction  $y_\\text{predicted}$.\n",
    "\n",
    "We would like to express this line in the original units of the data.  We can do that by substituting the definition of standard units:\n",
    "\n",
    "\\begin{align}\n",
    "\\frac{y_\\text{predicted} - \\text{Mean}(y)}{\\text{Stdev}(y)} = r *  \\frac{x_\\text{new} - \\text{Mean}(x)}{\\text{Stdev}(x)}\n",
    "\\end{align}\n",
    "\n",
    "While this equation does desribe a line it would look a little nicer in the form:\n",
    "\n",
    "\\begin{align}\n",
    "y_\\text{predicted} = \\text{slope} * x_\\text{new}  + \\text{intercept}\n",
    "\\end{align}\n",
    "\n",
    "Let's do some algebra to get that equation:\n",
    "$$\n",
    "\\require{color}\n",
    "\\definecolor{comment}{RGB}{200,100,50}\n",
    "\\begin{align}\n",
    "\\frac{y_\\text{predicted} - \\text{Mean}(y)}{\\text{Stdev}(y)} &= r *  \\frac{x_\\text{new} - \\text{Mean}(x)}{\\text{Stdev}(x)}\\\\\n",
    "\\frac{y_\\text{predicted} - \\text{Mean}(y)}{\\text{Stdev}(y)} &= r * \\frac{1}{\\text{Stdev}(x)} x_\\text{new} - r * \\frac{1}{\\text{Stdev}(x)}\\text{Mean}(x)  & \\color{comment} \\text{Expanding the right side}\\\\\n",
    "y_\\text{predicted} - \\text{Mean}(y) &= r * \\frac{\\text{Stdev}(y)}{\\text{Stdev}(x)} x_\\text{new} - r * \\frac{\\text{Stdev}(y)}{\\text{Stdev}(x)}\\text{Mean}(x) &  \\color{comment} \\text{Multiplying by $\\text{Stdev}(y)$}\\\\\n",
    "y_\\text{predicted} &= r * \\frac{\\text{Stdev}(y)}{\\text{Stdev}(x)} x_\\text{new} + \\text{Mean}(y) - r * \\frac{\\text{Stdev}(y)}{\\text{Stdev}(x)}\\text{Mean}(x) &  \\color{comment} \\text{Adding $\\text{Mean}(y)$}\\\\\n",
    "y_\\text{predicted} &= \\left(r * \\frac{\\text{Stdev}(y)}{\\text{Stdev}(x)}\\right) x_\\text{new} + \\left(\\text{Mean}(y) - r * \\frac{\\text{Stdev}(y)}{\\text{Stdev}(x)}\\text{Mean}(x)\\right) &  \\color{comment} \\text{Rearranging Terms}\n",
    "\\end{align}\n",
    "$$\n",
    "\n",
    "This means we can define the slope and intercept as:\n",
    "\\begin{align}\n",
    "\\text{slope} &= r * \\frac{\\text{Stdev}(y)}{\\text{Stdev}(x)}\\\\\n",
    "\\text{intercept} & = \\text{Mean}(y) - \\text{slope} * \\text{Mean}(x)\n",
    "\\end{align}"
   ]
  },
  {
   "cell_type": "markdown",
   "id": "ce5a3b4c-64e7-4ed5-ac8e-3188d904be6a",
   "metadata": {},
   "source": [
    "<br><br><br>\n",
    "\n",
    "## Implementing Linear Regression\n",
    "\n",
    "Using the above equations implement the slope and intercept functions. \n",
    "\n",
    "### Slope"
   ]
  },
  {
   "cell_type": "code",
   "execution_count": null,
   "id": "1c414804-205a-4f24-949a-559c64ca54f2",
   "metadata": {},
   "outputs": [],
   "source": [
    "def slope(df, x, y):\n",
    "    \"\"\"Computes the slope of the regression line\"\"\"\n",
    "    r = ...\n",
    "    \n",
    "    return ..."
   ]
  },
  {
   "cell_type": "markdown",
   "id": "9522c15f-259c-49a7-ada1-9d54031f9865",
   "metadata": {},
   "source": [
    "<br><details><br>\n",
    "    \n",
    "```python\n",
    "def slope(t, x, y):\n",
    "    \"\"\"Computes the slope of the regression line\"\"\"\n",
    "    r = correlation(t, x, y)\n",
    "    y_sd = np.std(t[y])\n",
    "    x_sd = np.std(t[x])\n",
    "    return r * y_sd / x_sd\n",
    "```\n",
    "\n",
    "<br></details><br>\n",
    "\n",
    "### Intercept"
   ]
  },
  {
   "cell_type": "code",
   "execution_count": null,
   "id": "6378fc18-e37d-4141-966c-2ddd6f0d5e6e",
   "metadata": {},
   "outputs": [],
   "source": [
    "def intercept(df, x, y):\n",
    "    \"\"\"Computes the intercept of the regression line\"\"\"\n",
    "    x_mean = ...\n",
    "    \n",
    "    return ..."
   ]
  },
  {
   "cell_type": "markdown",
   "id": "0cde6abf-5781-4ffb-aef6-02e893284788",
   "metadata": {},
   "source": [
    "<br><details><br>\n",
    "    \n",
    "```python\n",
    "def intercept(t, x, y):\n",
    "    \"\"\"Computes the intercept of the regression line\"\"\"\n",
    "    x_mean = np.mean(t[x])\n",
    "    y_mean = np.mean(t[y])\n",
    "    return y_mean - slope(t, x, y)*x_mean\n",
    "```\n",
    "\n",
    "<br></details><br>"
   ]
  },
  {
   "cell_type": "markdown",
   "id": "e23aeeb4-d0cf-436e-9a48-0788a65a6aa9",
   "metadata": {},
   "source": [
    "Testing it out"
   ]
  },
  {
   "cell_type": "code",
   "execution_count": null,
   "id": "922de287-fd56-4d1d-b3c7-90111841dddb",
   "metadata": {},
   "outputs": [],
   "source": [
    "example = make_correlated_data(0.5)\n",
    "slope(example, 'x', 'y')"
   ]
  },
  {
   "cell_type": "markdown",
   "id": "c3bb0e70-d753-470b-818e-9ead86e04818",
   "metadata": {},
   "source": [
    "<br><br>\n",
    "Computing the slope and intercept for the heights dataset:"
   ]
  },
  {
   "cell_type": "code",
   "execution_count": null,
   "id": "baa4ef84-de70-475d-981b-136373720f14",
   "metadata": {},
   "outputs": [],
   "source": [
    "heights_slope = slope(...)\n",
    "heights_intercept = intercept(...)\n",
    "[heights_slope, heights_intercept]"
   ]
  },
  {
   "cell_type": "markdown",
   "id": "8bfe1dce-1e16-45c3-a956-458b13b62cad",
   "metadata": {},
   "source": [
    "<br><details><br>\n",
    "    \n",
    "```python\n",
    "heights_slope = slope(heights, 'Parent Average', 'Child')\n",
    "heights_intercept = intercept(heights, 'Parent Average', 'Child')\n",
    "[heights_slope, heights_intercept]\n",
    "```\n",
    "\n",
    "<br></details><br>"
   ]
  },
  {
   "cell_type": "markdown",
   "id": "f86c1d83-11d7-448d-82e8-77443b96c1b5",
   "metadata": {},
   "source": [
    "Adding the regression predictions: "
   ]
  },
  {
   "cell_type": "code",
   "execution_count": null,
   "id": "ee9320da-a497-40c2-a1fc-9cf8b390b23e",
   "metadata": {},
   "outputs": [],
   "source": [
    "heights[\"Regression Prediction\"] = ...\n",
    "heights.head(10)"
   ]
  },
  {
   "cell_type": "markdown",
   "id": "ad0f4772-b3db-41f2-b838-84bb217f8206",
   "metadata": {},
   "source": [
    "<br><details><br>\n",
    "    \n",
    "```python\n",
    "heights[\"Regression Prediction\"] = heights_slope * heights[\"Parent Average\"] + heights_intercept\n",
    "heights.head(10)\n",
    "```\n",
    "\n",
    "<br></details><br>"
   ]
  },
  {
   "cell_type": "code",
   "execution_count": null,
   "id": "5f17830c-9d32-4355-a434-8f600592f380",
   "metadata": {},
   "outputs": [],
   "source": [
    "fig = px.scatter(heights, x=\"Parent Average\", y=\"Child\", height=600)\n",
    "fig.add_scatter(x=test_heights[\"Parent Average\"], \n",
    "                y=test_heights[\"NN Prediction\"], name=\"NN Prediction\")\n",
    "line_name = f\"y = {np.round(heights_slope,2)} x + {np.round(heights_intercept,2)}\"\n",
    "fig.add_scatter(x=heights[\"Parent Average\"], \n",
    "                y=heights[\"Regression Prediction\"],\n",
    "                name=line_name)"
   ]
  },
  {
   "cell_type": "markdown",
   "id": "04734163-4246-4bad-a254-b19a4445c95e",
   "metadata": {},
   "source": [
    "### Predict Linear \n",
    "\n",
    "We can define a function to predict the y-value given a DataFrame and two columns, `x` and `y`. "
   ]
  },
  {
   "cell_type": "code",
   "execution_count": null,
   "id": "9073fd18-0b43-4e90-beeb-d5b4fe7fd0b6",
   "metadata": {},
   "outputs": [],
   "source": [
    "def predict_linear(df, x, y):\n",
    "    \"\"\"Return an DataSeries of the regressions estimates at all the x values\"\"\"\n",
    "    pred_y = slope(df, x, y) * df[x] + intercept(df, x, y)\n",
    "    return pred_y"
   ]
  },
  {
   "cell_type": "markdown",
   "id": "d737c4d5-c177-4fb2-a066-e37c898d5bf9",
   "metadata": {},
   "source": [
    "<br><br>\n",
    "\n",
    "---\n",
    "\n",
    "\n",
    "# Making Predictions with Linear Regression\n",
    "\n",
    "\n",
    "We can now compute predictions, but how good are they?  How do we know that we have a good linear fit? To study this we will consider a new dataset."
   ]
  },
  {
   "cell_type": "code",
   "execution_count": null,
   "id": "6e5d80cc-baa1-435a-987d-71bbd274ce03",
   "metadata": {},
   "outputs": [],
   "source": [
    "demographics = pd.read_csv('data/district_demographics2016.csv')\n",
    "demographics.head(5)"
   ]
  },
  {
   "cell_type": "code",
   "execution_count": null,
   "id": "e8b1c125-a52e-4f4d-bb26-e48ea5695ea2",
   "metadata": {},
   "outputs": [],
   "source": [
    "px.scatter(demographics, \n",
    "           x=\"College%\", \n",
    "           y=\"Median Income\",\n",
    "           color=\"State\")"
   ]
  },
  {
   "cell_type": "code",
   "execution_count": null,
   "id": "7281a506-c21f-4322-bbd1-25cb8f68e21f",
   "metadata": {},
   "outputs": [],
   "source": [
    "correlation(demographics, 'College%', 'Median Income')"
   ]
  },
  {
   "cell_type": "markdown",
   "id": "c05cdb9a-0435-40c5-9443-dc4cfe70bebf",
   "metadata": {},
   "source": [
    "**Discussion Question:** Any concerns about the correlation computation being done here?\n",
    "\n",
    "\n",
    "<br><br>"
   ]
  },
  {
   "cell_type": "markdown",
   "id": "2860d202-d2e3-45af-9bce-b067fabe3680",
   "metadata": {},
   "source": [
    "### Making Predictions\n",
    "\n",
    "Here we will try to predict the income for each district as a function of the percent of college educated people."
   ]
  },
  {
   "cell_type": "code",
   "execution_count": null,
   "id": "e81d9cd4-1410-4a83-9b66-4ab8616ebc8b",
   "metadata": {},
   "outputs": [],
   "source": [
    "demo_slope = slope(demographics, 'College%', 'Median Income')\n",
    "demo_intercept = intercept(demographics, 'College%', 'Median Income')\n",
    "print(\"Slope:\", demo_slope)\n",
    "print(\"Intercept:\", demo_intercept)"
   ]
  },
  {
   "cell_type": "markdown",
   "id": "f2536ed7-c4aa-495e-9701-58376a89d594",
   "metadata": {},
   "source": [
    "Make the actual predictions."
   ]
  },
  {
   "cell_type": "code",
   "execution_count": null,
   "id": "b0284429-55bd-41d0-a923-b4709b096ed6",
   "metadata": {},
   "outputs": [],
   "source": [
    "demographics[\"Linear Prediction\"] =  predict_linear(demographics, 'College%', 'Median Income')\n",
    "demographics.head(5)"
   ]
  },
  {
   "cell_type": "markdown",
   "id": "eb64120a-977d-44d3-9725-786200a5a64f",
   "metadata": {},
   "source": [
    "Visualizing the predictions:"
   ]
  },
  {
   "cell_type": "code",
   "execution_count": null,
   "id": "118ecb34-c0d9-40d0-b19f-cc063d9eacec",
   "metadata": {},
   "outputs": [],
   "source": [
    "fig = px.scatter(demographics, x=\"College%\", y=\"Median Income\", height=400)\n",
    "fig.add_scatter(x=demographics[\"College%\"], \n",
    "                y=demographics[\"Linear Prediction\"], \n",
    "                name=\"Linear Prediction\")"
   ]
  },
  {
   "cell_type": "code",
   "execution_count": null,
   "id": "62a79e77-5525-4e43-8e5a-792b05bbffb1",
   "metadata": {},
   "outputs": [],
   "source": [
    "fig = px.scatter(demographics, x=\"College%\", y=\"Median Income\", height=400)\n",
    "xtest = np.arange(0, 75, 1)\n",
    "fig.add_scatter(x=xtest, \n",
    "                y=demo_slope * xtest + demo_intercept,\n",
    "                name = f\"{np.round(demo_slope, 2)} x + {np.round(demo_intercept)}\")\n",
    "fig"
   ]
  },
  {
   "cell_type": "markdown",
   "id": "6454ac8b-71c5-4cae-b2b4-b56860b49a53",
   "metadata": {},
   "source": [
    "<br><br><br>\n",
    "\n",
    "---\n",
    "\n",
    "<center> Return to Slides </center>\n",
    "\n",
    "---\n",
    "\n",
    "<br><br><br>"
   ]
  },
  {
   "cell_type": "markdown",
   "id": "7665bcc4-5ff6-4aae-b8a7-c75404f94e6a",
   "metadata": {},
   "source": [
    "## Computing the Error\n",
    "\n",
    "The error is the difference between the actual and predicted value:\n",
    "\n",
    "$$\n",
    "\\text{error} = y - y_\\text{predicted}\n",
    "$$\n",
    "\n",
    "In a future lecture, we will refer to this error as the **residual**."
   ]
  },
  {
   "cell_type": "code",
   "execution_count": null,
   "id": "6ec76fc1-c981-4d68-b2fc-45bfcf7a79a7",
   "metadata": {},
   "outputs": [],
   "source": [
    "y = demographics['Median Income']\n",
    "predicted = predict_linear(demographics, 'College%', 'Median Income')\n",
    "\n",
    "errors = y - predicted"
   ]
  },
  {
   "cell_type": "code",
   "execution_count": null,
   "id": "0f1f3265-f737-435a-83c1-226c9c6361e2",
   "metadata": {},
   "outputs": [],
   "source": [
    "demographics['Error'] =  errors\n",
    "demographics.head(5)"
   ]
  },
  {
   "cell_type": "markdown",
   "id": "8cb9b849-edaf-4975-b099-777f31fa8098",
   "metadata": {},
   "source": [
    "<br><br>\n",
    "What are the districts with the largest error values?"
   ]
  },
  {
   "cell_type": "code",
   "execution_count": null,
   "id": "766b12ee-90a5-4b68-863a-738a01d54af4",
   "metadata": {},
   "outputs": [],
   "source": [
    "demographics[\"Abs Error\"] = np.abs(demographics[\"Error\"])\n",
    "demographics.sort_values(\"Abs Error\", ascending=False).head(5)"
   ]
  },
  {
   "cell_type": "markdown",
   "id": "8f5c0061-a3e4-4ec4-b303-aaa08b6c3937",
   "metadata": {},
   "source": [
    "What would a large error suggest?\n",
    "\n",
    "<br><br><br>"
   ]
  },
  {
   "cell_type": "markdown",
   "id": "56291de9-e2af-495c-9cd2-0734173833cb",
   "metadata": {},
   "source": [
    "### Visualizing the Errors"
   ]
  },
  {
   "cell_type": "code",
   "execution_count": null,
   "id": "fdcbc488-fc09-4eb7-beb5-e8b2d6516630",
   "metadata": {},
   "outputs": [],
   "source": [
    "fig = px.scatter(demographics, x=\"College%\", y=\"Median Income\", hover_name=\"District\")\n",
    "xtest = np.arange(0, 75, 1)\n",
    "fig.add_scatter(x=xtest, \n",
    "                y=demo_slope * xtest + demo_intercept,\n",
    "                name = f\"{np.round(demo_slope, 2)} x + {np.round(demo_intercept)}\")\n",
    "fig.add_scatter(x=demographics[\"College%\"].repeat(3), \n",
    "                y=np.ravel(np.vstack([y, predicted, np.nan * predicted]).T),\n",
    "                marker_color=\"gray\", line_width=0.75, name=\"Errors\")\n",
    "fig"
   ]
  },
  {
   "cell_type": "code",
   "execution_count": null,
   "id": "d79ef884-718f-49cd-a511-6a9389c16b4b",
   "metadata": {},
   "outputs": [],
   "source": [
    "demographics.hist('Error', bins=50, density=True);"
   ]
  },
  {
   "cell_type": "markdown",
   "id": "f8d4a8b0-0c3b-4318-a33b-cb23bdef5f7f",
   "metadata": {},
   "source": [
    "<br><br><br>\n",
    "\n",
    "---\n",
    "## Summarizing the Overall Error"
   ]
  },
  {
   "cell_type": "markdown",
   "id": "8edd7d96-8e5f-4144-a42a-7d2fd8d02a62",
   "metadata": {},
   "source": [
    "What is the average error? "
   ]
  },
  {
   "cell_type": "code",
   "execution_count": null,
   "id": "e355cdcb-ef15-48b7-a0f1-78837dc1143c",
   "metadata": {},
   "outputs": [],
   "source": [
    "..."
   ]
  },
  {
   "cell_type": "markdown",
   "id": "7e2a978c-d63b-4846-938a-65c012ef9173",
   "metadata": {},
   "source": [
    "Mean Absolute Error "
   ]
  },
  {
   "cell_type": "code",
   "execution_count": null,
   "id": "f6e8e1b8-1eb1-4bc8-b8e8-2afbdc05812d",
   "metadata": {},
   "outputs": [],
   "source": [
    "..."
   ]
  },
  {
   "cell_type": "markdown",
   "id": "70c37985-7dc5-4531-954e-0b44215f8984",
   "metadata": {},
   "source": [
    "Mean Squared Error (MSE)"
   ]
  },
  {
   "cell_type": "code",
   "execution_count": null,
   "id": "10ff7ec4-c957-4aee-8bc1-de43ddd191e4",
   "metadata": {},
   "outputs": [],
   "source": [
    "..."
   ]
  },
  {
   "cell_type": "markdown",
   "id": "3298e0dc-b9c2-46c6-83d7-79b96edbca72",
   "metadata": {},
   "source": [
    "Root Mean Squared Error (RMSE)"
   ]
  },
  {
   "cell_type": "code",
   "execution_count": null,
   "id": "56772b54-addc-4c7b-91b9-2140c043118e",
   "metadata": {},
   "outputs": [],
   "source": [
    "..."
   ]
  },
  {
   "cell_type": "markdown",
   "id": "75ef7d81-4a52-4e3c-b952-3a89650fcf4e",
   "metadata": {},
   "source": [
    "<br><br>\n",
    "\n",
    "#### Discussion Question\n",
    "Assuming $y$ is income in dollars. What are the units of:\n",
    "1. Mean Absolute Error\n",
    "2. Mean Squared Error\n",
    "3. Root Mean Squared Error\n",
    "\n",
    "<br><br>"
   ]
  },
  {
   "cell_type": "markdown",
   "id": "468d4205-c37a-49c9-adbc-a6d265bfae9f",
   "metadata": {},
   "source": [
    "<br>\n",
    "\n",
    "---\n",
    "\n",
    "## Error as Function of our Model (Line)"
   ]
  },
  {
   "cell_type": "code",
   "execution_count": null,
   "id": "e75e14db-3695-43c4-a9ea-0986be091654",
   "metadata": {},
   "outputs": [],
   "source": [
    "def demographics_rmse(slope, intercept):\n",
    "    predicted = ...\n",
    "    actual = demographics[\"Median Income\"]\n",
    "    errors = predicted - actual\n",
    "    rmse = ...\n",
    "    return rmse"
   ]
  },
  {
   "cell_type": "markdown",
   "id": "769f8276-8302-4184-8a59-881d2a0a97b8",
   "metadata": {},
   "source": [
    "The value of our error function for the slope and intercept we derived in last lecture is:"
   ]
  },
  {
   "cell_type": "code",
   "execution_count": null,
   "id": "d4be01a6-52c2-4e99-a1f0-508b134c67ca",
   "metadata": {},
   "outputs": [],
   "source": [
    "demographics_rmse(demo_slope, demo_intercept)"
   ]
  },
  {
   "cell_type": "markdown",
   "id": "d634d9a6-8089-4380-9f0d-8e9a071686de",
   "metadata": {},
   "source": [
    "What if we used a different slope and intercept value:"
   ]
  },
  {
   "cell_type": "code",
   "execution_count": null,
   "id": "ada365d7-e42c-4cfa-ac24-c7fee074ca74",
   "metadata": {},
   "outputs": [],
   "source": [
    "def visualize_demographics_rmse(slope, intercept):\n",
    "    rmse = demographics_rmse(slope, intercept)\n",
    "    predicted = slope * demographics[\"College%\"] + intercept \n",
    "    actual = demographics[\"Median Income\"]\n",
    "    fig = px.scatter(demographics, x=\"College%\", y=\"Median Income\")\n",
    "    xtest = np.arange(0, 75, 1)\n",
    "    fig.add_scatter(x=xtest, y=slope * xtest + intercept,\n",
    "                    name = f\"{np.round(slope, 2)} x + {np.round(intercept)}\")\n",
    "    fig.add_scatter(x=demographics[\"College%\"].repeat(3), \n",
    "                    y=np.ravel(np.vstack([actual, predicted, np.nan * predicted]).T),\n",
    "                    marker_color=\"gray\", line_width=0.75, name=\"Errors\")\n",
    "    fig.update_layout(title=f\"RMSE = {np.round(rmse, 2)}\")\n",
    "    return fig"
   ]
  },
  {
   "cell_type": "code",
   "execution_count": null,
   "id": "94db581d-81fd-4cc6-850f-768c09aef824",
   "metadata": {},
   "outputs": [],
   "source": [
    "visualize_demographics_rmse(demo_slope, demo_intercept)"
   ]
  },
  {
   "cell_type": "code",
   "execution_count": null,
   "id": "ca7c6ebc-739f-43de-b834-c1809e99d013",
   "metadata": {},
   "outputs": [],
   "source": [
    "visualize_demographics_rmse(demo_slope+1000, demo_intercept - 50000)"
   ]
  },
  {
   "cell_type": "markdown",
   "id": "1011a719-bb84-499e-91f2-817cee01073a",
   "metadata": {},
   "source": [
    "<br><br><br>\n",
    "\n",
    "---\n",
    "\n",
    "### Varying the Slope and Intercept and Plotting the RMSE"
   ]
  },
  {
   "cell_type": "code",
   "execution_count": null,
   "id": "ae1bd35a-72fa-4624-acf7-ad125bfe4e66",
   "metadata": {},
   "outputs": [],
   "source": [
    "alt_slopes = demo_slope + np.arange(-20, 20)\n",
    "rmses = []\n",
    "for new_slope in alt_slopes:\n",
    "    rmses = np.append(rmses, demographics_rmse(new_slope, demo_intercept))\n",
    "\n",
    "variations = pd.DataFrame({\"Slope\": alt_slopes, \"RMSE\": rmses})\n",
    "variations.head(5)"
   ]
  },
  {
   "cell_type": "code",
   "execution_count": null,
   "id": "4840d942-1d5b-4dff-bdb4-4f56c190a246",
   "metadata": {},
   "outputs": [],
   "source": [
    "fig = px.scatter(variations, x=\"Slope\", y=\"RMSE\")\n",
    "fig.add_scatter(x=[demo_slope], y=[demographics_rmse(demo_slope, demo_intercept)], marker_size=10, \n",
    "                name=\"Best Slope\")"
   ]
  },
  {
   "cell_type": "markdown",
   "id": "4c2742a4-3712-47d3-ab8b-470beebd4a11",
   "metadata": {},
   "source": [
    "What if we tried to change the intercept value while using the best slope so far?"
   ]
  },
  {
   "cell_type": "code",
   "execution_count": null,
   "id": "4c99a278-eb9c-4df2-96e6-7096b1e9fd68",
   "metadata": {},
   "outputs": [],
   "source": [
    "alt_intercepts = demo_intercept + np.arange(-2000, 2000, 100)\n",
    "rmses = []\n",
    "for new_intercept in alt_intercepts:\n",
    "    rmses = np.append(rmses, demographics_rmse(demo_slope, new_intercept))\n",
    "\n",
    "variations = pd.DataFrame({\"Intercept\": alt_intercepts, \"RMSE\": rmses})\n",
    "fig = px.scatter(variations, x=\"Intercept\", y=\"RMSE\")\n",
    "fig.add_scatter(x=[demo_intercept], y=[demographics_rmse(demo_slope, demo_intercept)], \n",
    "                marker_size=10, name=\"Best Intercept\")"
   ]
  },
  {
   "cell_type": "markdown",
   "id": "e9178ba2-1bb1-4eb8-a16e-0816837d62ab",
   "metadata": {},
   "source": [
    "What if we tried changing both the slope and the intercept at the same time?"
   ]
  },
  {
   "cell_type": "code",
   "execution_count": null,
   "id": "2b73dc4c-2826-427d-a98e-221d965cb81b",
   "metadata": {},
   "outputs": [],
   "source": [
    "alt_slopes = demo_slope + np.arange(-100, 100, 1)\n",
    "alt_intercepts = demo_intercept + np.arange(-1000, 1000, 10)\n",
    "variations = pd.DataFrame(columns = [\"Slope\", \"Intercept\", \"RMSE\"])\n",
    "i=0\n",
    "for new_slope in alt_slopes:\n",
    "    for new_intercept in alt_intercepts:\n",
    "        rmse = demographics_rmse(new_slope, new_intercept)\n",
    "        variations.loc[i] = [new_slope, new_intercept, rmse]\n",
    "        i = i+1\n",
    "    \n",
    "variations\n",
    "go.Figure(data=[\n",
    "    go.Contour(x=variations[\"Slope\"], y=variations[\"Intercept\"], z=variations[\"RMSE\"]), \n",
    "    go.Scatter(x=[demo_slope], y=[demo_intercept], marker_color=\"red\")\n",
    "],\n",
    "layout=dict(width = 800,height=600, xaxis_title=\"Slope\", yaxis_title=\"Intercept\"))"
   ]
  },
  {
   "cell_type": "markdown",
   "id": "441c8c39-7a2a-4baa-a036-8dc23239d326",
   "metadata": {},
   "source": [
    "<br><br><br>\n",
    "\n",
    "---\n",
    "\n",
    "<center> Return to Slides </center>\n",
    "\n",
    "---\n",
    "\n",
    "<br><br><br>"
   ]
  },
  {
   "cell_type": "markdown",
   "id": "b4be59fb-7d3b-4f50-8124-8ff8d263fb9f",
   "metadata": {},
   "source": [
    "## Numerical Optimization\n",
    "\n",
    "If our goal is just to find the parameters of our line that minimize some kind of error, we can use numerical optimization tools.  Suppose we wanted to minimize the function:\n",
    "\n",
    "$$\n",
    "f(x) = \\left(x - 2\\right)^2 + 3\n",
    "$$"
   ]
  },
  {
   "cell_type": "code",
   "execution_count": null,
   "id": "bc7e184b-3ef6-4139-88d0-441000913b10",
   "metadata": {},
   "outputs": [],
   "source": [
    "def f(x):\n",
    "    return ((x-2)**2) + 3"
   ]
  },
  {
   "cell_type": "code",
   "execution_count": null,
   "id": "54a059e9-6e59-4a40-b1fb-78867f0b29ed",
   "metadata": {},
   "outputs": [],
   "source": [
    "x = np.arange(1, 3, 0.1)\n",
    "y = f(x)\n",
    "px.line(x=x, y=y)"
   ]
  },
  {
   "cell_type": "code",
   "execution_count": null,
   "id": "708334ec-f2ab-4b97-81b1-aaccab956755",
   "metadata": {},
   "outputs": [],
   "source": [
    "# from scipy import optimize\n",
    "# import functools\n",
    "# import math\n",
    "\n",
    "# You don't need to understand the details\n",
    "# This function using scipy.optimize.minimize function \n",
    "\n",
    "def minimize(f, start=None, smooth=False, log=None, array=False, **vargs):\n",
    "    if start is None:\n",
    "        assert not array, \"Please pass starting values explicitly when array=True\"\n",
    "        arg_count = f.__code__.co_argcount\n",
    "        assert arg_count > 0, \"Please pass starting values explicitly for variadic functions\"\n",
    "        start = [0] * arg_count\n",
    "    if not hasattr(start, '__len__'):\n",
    "        start = [start]\n",
    "\n",
    "    if array:\n",
    "        objective = f\n",
    "    else:\n",
    "        @functools.wraps(f)\n",
    "        def objective(args):\n",
    "            return f(*args)\n",
    "\n",
    "    if not smooth and 'method' not in vargs:\n",
    "        vargs['method'] = 'Powell'\n",
    "    result = optimize.minimize(objective, start, **vargs)\n",
    "    if log is not None:\n",
    "        log(result)\n",
    "    if len(start) == 1:\n",
    "        return result.x.item(0)\n",
    "    else:\n",
    "        return result.x\n",
    "\n",
    "minimize(f)\n",
    "print(\"x_min =\", minimize(f))\n",
    "print(\"f(x_min) =\", f(minimize(f)))"
   ]
  },
  {
   "cell_type": "code",
   "execution_count": null,
   "id": "19575d6d-2bc8-4c3b-9ac0-addfe0f69af3",
   "metadata": {},
   "outputs": [],
   "source": [
    "fig = px.line(x=x, y=y)\n",
    "fig.add_scatter(x=[minimize(f)], y=[f(minimize(f))],\n",
    "                name=\"Minimum\", marker_color=\"red\", marker_size=10)"
   ]
  },
  {
   "cell_type": "markdown",
   "id": "bd3a163e-e6cd-4a3f-a6c5-3b86da000d7c",
   "metadata": {},
   "source": [
    "Minimize works for even more complex functions.\n",
    "\n",
    "$$\n",
    "f(x) = 2 * \\sin(\\pi x) + x^3 + x^4 + \\sin(10x)\n",
    "$$"
   ]
  },
  {
   "cell_type": "code",
   "execution_count": null,
   "id": "4556c4c4-51e1-466b-9562-46ecd3461f9f",
   "metadata": {},
   "outputs": [],
   "source": [
    "def complicated_function(x):\n",
    "    return 2 * np.sin(x*np.pi) + x ** 3 + x ** 4 + np.sin(x * 10)"
   ]
  },
  {
   "cell_type": "code",
   "execution_count": null,
   "id": "9b8d3268-a9e3-490a-8b35-d1614ece3798",
   "metadata": {},
   "outputs": [],
   "source": [
    "x = np.arange(-1.5, 1.5, 0.01)\n",
    "y2 = complicated_function(x)\n",
    "px.line(x=x, y=y2)"
   ]
  },
  {
   "cell_type": "markdown",
   "id": "b5fee81e-e666-4711-a887-de5ea8abaa71",
   "metadata": {},
   "source": [
    "We can still use minimize to find the minimum:"
   ]
  },
  {
   "cell_type": "code",
   "execution_count": null,
   "id": "bab5604b-eba4-4205-9560-c8663192afb9",
   "metadata": {},
   "outputs": [],
   "source": [
    "x_min = minimize(complicated_function)\n",
    "print(\"x_min =\", x_min)\n",
    "print(\"f(x_min) =\", complicated_function(x_min))"
   ]
  },
  {
   "cell_type": "code",
   "execution_count": null,
   "id": "0057a847-5542-4d83-b4b5-fb4562634b41",
   "metadata": {},
   "outputs": [],
   "source": [
    "fig = px.line(x=x, y=y2)\n",
    "fig.add_scatter(x=[x_min],\n",
    "                y=[complicated_function(x_min)],\n",
    "                name=\"Minimum\", marker_color=\"red\", marker_size=10)"
   ]
  },
  {
   "cell_type": "markdown",
   "id": "cd6f4e47-5f8f-4524-8915-04142680b0f0",
   "metadata": {},
   "source": [
    "We can even minimize multidimensional functions:\n",
    "\n",
    "$$\n",
    "\\texttt{surface_function(a,b)} = -\\frac{\\cos\\left(\\pi \\sqrt{(a+0.5)^2 + b^2}\\right)}{\\sqrt{(a+0.5)^2 + b^2} + 1}\n",
    "$$"
   ]
  },
  {
   "cell_type": "code",
   "execution_count": null,
   "id": "155b598a-9eef-4250-8462-91c667b0701e",
   "metadata": {},
   "outputs": [],
   "source": [
    "def surface_function(a, b):\n",
    "    d = np.sqrt( (a+0.5)**2 + b**2 )\n",
    "    return -np.cos(np.pi* d) / (d**2 + 1)"
   ]
  },
  {
   "cell_type": "code",
   "execution_count": null,
   "id": "8edec8f1-3be1-4b9b-9345-f25daae4d932",
   "metadata": {},
   "outputs": [],
   "source": [
    "a_min, b_min = minimize(surface_function)\n",
    "[a_min, b_min]"
   ]
  },
  {
   "cell_type": "code",
   "execution_count": null,
   "id": "26d78e29-6799-464d-b83f-71c8db37bdb3",
   "metadata": {},
   "outputs": [],
   "source": [
    "xs = np.arange(-1.5, 1.5, 0.01)\n",
    "ys = np.arange(-1.5, 1.5, 0.01)\n",
    "x, y = np.meshgrid(xs, ys)\n",
    "zs = surface_function(x.flatten(), y.flatten())\n",
    "go.Figure(data=[\n",
    "    go.Surface(x = xs, y = ys,\n",
    "               z=zs.reshape(len(xs), len(ys))),\n",
    "    go.Scatter3d(x=[a_min], y=[b_min], z=[surface_function(a_min, b_min)])\n",
    "    ], \n",
    "    layout=dict(height=1000, \n",
    "                scene_xaxis_title=\"a\", scene_yaxis_title=\"b\", \n",
    "                scene_zaxis_title=\"surface\"))"
   ]
  },
  {
   "cell_type": "markdown",
   "id": "f737c44a-a1e6-4fd1-90db-c4114f5aebfa",
   "metadata": {},
   "source": [
    "<br><br><br>\n",
    "\n",
    "---\n",
    "\n",
    "<center> Return to Slides </center>\n",
    "\n",
    "---\n",
    "\n",
    "<br><br><br>"
   ]
  },
  {
   "cell_type": "markdown",
   "id": "c6ba40a6-8106-4c7b-8043-6e32785b6c53",
   "metadata": {},
   "source": [
    "## Minimizing RMSE \n",
    "\n",
    "We can use minimize to find the slope and intercept that minimize root mean squared error in our predictions:"
   ]
  },
  {
   "cell_type": "code",
   "execution_count": null,
   "id": "db8449dc-f246-4a67-8d13-6acd0d28d439",
   "metadata": {},
   "outputs": [],
   "source": [
    "minimize(demographics_rmse)"
   ]
  },
  {
   "cell_type": "markdown",
   "id": "47ab7bcf-51d5-47ad-a020-27da7378b41a",
   "metadata": {},
   "source": [
    "How does this compare to the slope and intercept we derived earlier?"
   ]
  },
  {
   "cell_type": "code",
   "execution_count": null,
   "id": "7fcd1034-de48-4c1f-a735-8814e8bfab0b",
   "metadata": {},
   "outputs": [],
   "source": [
    "[demo_slope, demo_intercept]"
   ]
  },
  {
   "cell_type": "markdown",
   "id": "011583bb-d2f3-440c-9019-3d0368078d40",
   "metadata": {},
   "source": [
    "What happens if we minimize the mean squared error instead of the root mean squared error?"
   ]
  },
  {
   "cell_type": "code",
   "execution_count": null,
   "id": "c3ede760-8f4e-4b49-9c30-864eb3204c59",
   "metadata": {},
   "outputs": [],
   "source": [
    "def demographics_mse(slope, intercept):\n",
    "    x = demographics['College%']\n",
    "    y = demographics['Median Income']\n",
    "    estimate = slope*x + intercept\n",
    "    return ..."
   ]
  },
  {
   "cell_type": "code",
   "execution_count": null,
   "id": "8808ca5a-8719-4ac8-81e7-2e603f3a4c9a",
   "metadata": {},
   "outputs": [],
   "source": [
    "minimize(demographics_mse)"
   ]
  },
  {
   "cell_type": "markdown",
   "id": "aeefcbc1-9a48-4d24-b66f-4412e4e0ea8b",
   "metadata": {},
   "source": [
    "What about if we minimize the absolute error?"
   ]
  },
  {
   "cell_type": "code",
   "execution_count": null,
   "id": "c1f96941-d608-48cf-9f93-e61715f2eabc",
   "metadata": {},
   "outputs": [],
   "source": [
    "def demographics_mae(any_slope, any_intercept):\n",
    "    x = demographics['College%']\n",
    "    y = demographics['Median Income']\n",
    "    estimate = any_slope*x + any_intercept\n",
    "    return ..."
   ]
  },
  {
   "cell_type": "code",
   "execution_count": null,
   "id": "428f8713-9dd2-4b29-87bf-a1016b1d7c38",
   "metadata": {},
   "outputs": [],
   "source": [
    "minimize(demographics_mae)"
   ]
  },
  {
   "cell_type": "markdown",
   "id": "16f13033-2475-4f2e-80d8-57e9ff60b570",
   "metadata": {},
   "source": [
    "This is different! "
   ]
  },
  {
   "cell_type": "code",
   "execution_count": null,
   "id": "a41a35a2-c56f-45fd-bbf2-73053d6c3df7",
   "metadata": {},
   "outputs": [],
   "source": [
    "mae_slope, mae_intercept = minimize(demographics_mae)\n",
    "fig = px.scatter(demographics, x=\"College%\", y=\"Median Income\", color=\"State\")\n",
    "xtest = np.arange(0, 75, 0.1)\n",
    "fig.add_scatter(x=xtest, \n",
    "                y=demo_slope * xtest + demo_intercept,\n",
    "                name = f\"Least Squares: {np.round(demo_slope, 2)} x + {np.round(demo_intercept)}\")\n",
    "fig.add_scatter(x=xtest, \n",
    "                y=mae_slope * xtest + mae_intercept,\n",
    "                name = f\"MAE: {np.round(mae_slope, 2)} x + {np.round(mae_intercept)}\")\n",
    "fig"
   ]
  },
  {
   "cell_type": "markdown",
   "id": "ac90dd96-d2b9-4cf4-8ee1-f8a858cff730",
   "metadata": {},
   "source": [
    "<br><br><br>\n",
    "\n",
    "---\n",
    "\n",
    "<center> Return to Slides </center>\n",
    "\n",
    "---\n",
    "\n",
    "<br><br><br>"
   ]
  },
  {
   "cell_type": "code",
   "execution_count": null,
   "id": "6d7a5e8b-a467-4a6c-8a39-012dc4fc6761",
   "metadata": {},
   "outputs": [],
   "source": []
  }
 ],
 "metadata": {
  "kernelspec": {
   "display_name": "Python [conda env:data1202] *",
   "language": "python",
   "name": "conda-env-data1202-py"
  },
  "language_info": {
   "codemirror_mode": {
    "name": "ipython",
    "version": 3
   },
   "file_extension": ".py",
   "mimetype": "text/x-python",
   "name": "python",
   "nbconvert_exporter": "python",
   "pygments_lexer": "ipython3",
   "version": "3.10.12"
  }
 },
 "nbformat": 4,
 "nbformat_minor": 5
}
