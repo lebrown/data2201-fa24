{
 "cells": [
  {
   "cell_type": "code",
   "execution_count": null,
   "id": "d692d75c",
   "metadata": {
    "deletable": false,
    "editable": false
   },
   "outputs": [],
   "source": [
    "# Initialize Otter\n",
    "import otter\n",
    "grader = otter.Notebook(\"lab07.ipynb\")"
   ]
  },
  {
   "cell_type": "markdown",
   "id": "04818dad",
   "metadata": {},
   "source": [
    "# Lab 7: Visualization, Transformations, and KDEs\n",
    "\n",
    "In this lab you will get some practice plotting, applying data transformations, and working with kernel density estimators (KDEs).  We will be working with data from the World Bank containing various statistics for countries and territories around the world. \n",
    "\n"
   ]
  },
  {
   "cell_type": "markdown",
   "id": "9ca82ee2",
   "metadata": {},
   "source": [
    "## Setup\n",
    "\n",
    "Note that we configure a custom default figure size. Virtually every default aspect of matplotlib [can be customized](https://matplotlib.org/users/customizing.html)."
   ]
  },
  {
   "cell_type": "code",
   "execution_count": null,
   "id": "eea2190c",
   "metadata": {},
   "outputs": [],
   "source": [
    "import pandas as pd\n",
    "import numpy as np\n",
    "import seaborn as sns\n",
    "import matplotlib.pyplot as plt\n",
    "\n",
    "plt.style.use('fivethirtyeight') # Use plt.style.available to see more styles\n",
    "sns.set()\n",
    "sns.set_context(\"talk\")\n",
    "plt.rcParams['figure.figsize'] = (8, 5)\n",
    "%matplotlib inline"
   ]
  },
  {
   "cell_type": "markdown",
   "id": "c20cdf6c",
   "metadata": {},
   "source": [
    "### Get the Data\n",
    "\n",
    "Let us load some World Bank data into a `pd.DataFrame` object named ```wb```."
   ]
  },
  {
   "cell_type": "code",
   "execution_count": null,
   "id": "b8b6ac4d",
   "metadata": {},
   "outputs": [],
   "source": [
    "wb = pd.read_csv(\"data/world_bank_misc.csv\", index_col=0)\n",
    "wb.head()"
   ]
  },
  {
   "cell_type": "markdown",
   "id": "62c5116b",
   "metadata": {},
   "source": [
    "This table contains some interesting columns.  Take a look:"
   ]
  },
  {
   "cell_type": "code",
   "execution_count": null,
   "id": "c5ec4112",
   "metadata": {},
   "outputs": [],
   "source": [
    "list(wb.columns)"
   ]
  },
  {
   "cell_type": "markdown",
   "id": "51308b94",
   "metadata": {},
   "source": [
    "<br/><br/>\n",
    "<hr style=\"border: 5px solid #8a8c8c;\" />\n",
    "<hr style=\"border: 1px solid #ffcd00;\" />\n",
    "\n",
    "\n",
    "## Part 1: Scaling \n",
    "\n"
   ]
  },
  {
   "cell_type": "markdown",
   "id": "ca320d67",
   "metadata": {},
   "source": [
    "In the first part of this assignment we will look at the distribution of values for combined adult literacy rate as well as the gross national income per capita. The code below creates a copy of the DataFrame that contains only the two Series we want, and then drops all rows that contain null values in either column.\n",
    "\n",
    "**Note:** For this lab we are dropping null values without investigating them further. However, this is generally not the best practice and can severely affect our analyses.\n",
    "\n",
    "Here the combined literacy rate is the sum of the female and male literacy rates as reported by the World Bank. 0 represents no literacy, and 200 would represent total literacy by both genders that are included in the World Bank's dataset.\n",
    "\n",
    "In this lab, we will be using the `sns.histplot`, `sns.rugplot`, and `sns.displot` function to visualize distributions. You may find it useful to consult the seaborn documentation on [distributions](https://seaborn.pydata.org/tutorial/distributions.html) and [functions](https://seaborn.pydata.org/tutorial/function_overview.html) for more details."
   ]
  },
  {
   "cell_type": "code",
   "execution_count": null,
   "id": "75a2c4ac",
   "metadata": {},
   "outputs": [],
   "source": [
    "#creates a DataFrame with the appropriate index\n",
    "df = pd.DataFrame(index=wb.index)\n",
    "\n",
    "#copies the Series we want\n",
    "df['lit'] = wb['Adult literacy rate: Female: % ages 15 and older: 2005-14'] + \\\n",
    "  wb[\"Adult literacy rate: Male: % ages 15 and older: 2005-14\"]\n",
    "df['inc'] = wb['Gross national income per capita, Atlas method: $: 2016']\n",
    "\n",
    "#the line below drops all records that have a NaN value in either column\n",
    "df.dropna(inplace=True)\n",
    "print(\"Original records:\", len(wb))\n",
    "print(\"Final records:\", len(df))"
   ]
  },
  {
   "cell_type": "code",
   "execution_count": null,
   "id": "aa2fff25",
   "metadata": {},
   "outputs": [],
   "source": [
    "df.head(5)"
   ]
  },
  {
   "cell_type": "markdown",
   "id": "dbfa0f5a",
   "metadata": {},
   "source": [
    "<br>\n",
    "\n",
    "--- \n",
    "\n",
    "### Question 1a \n",
    "\n",
    "Suppose we wanted to build a histogram of our data to understand the distribution of literacy rates and income per capita individually. We can use [seaborn's `countplot`](https://seaborn.pydata.org/generated/seaborn.countplot.html) to create bar charts from categorical data. "
   ]
  },
  {
   "cell_type": "code",
   "execution_count": null,
   "id": "345dad1d",
   "metadata": {},
   "outputs": [],
   "source": [
    "sns.countplot(x = \"lit\", data = df)\n",
    "plt.xlabel(\"Combined literacy rate: % ages 15 and older: 2005-14\")\n",
    "plt.title('World Bank Combined Adult Literacy Rate')"
   ]
  },
  {
   "cell_type": "code",
   "execution_count": null,
   "id": "7d781706",
   "metadata": {},
   "outputs": [],
   "source": [
    "sns.countplot(x = \"inc\", data = df)\n",
    "plt.xlabel('Gross national income per capita, Atlas method: $: 2016')\n",
    "plt.title('World Bank Gross National Income Per Capita')"
   ]
  },
  {
   "cell_type": "markdown",
   "id": "8ce286e0",
   "metadata": {},
   "source": [
    "<!-- BEGIN QUESTION -->\n",
    "\n",
    "In the cell below, explain why `countplot` is NOT the right tool for visualizing the distribution of our data."
   ]
  },
  {
   "cell_type": "markdown",
   "id": "43e99957",
   "metadata": {},
   "source": [
    "_Type your answer here, replacing this text._"
   ]
  },
  {
   "cell_type": "markdown",
   "id": "14c03328",
   "metadata": {},
   "source": [
    "<!-- END QUESTION -->\n",
    "\n",
    "<!-- BEGIN QUESTION -->\n",
    "\n",
    "<br>\n",
    "\n",
    "---\n",
    "\n",
    "### Question 1b\n",
    "\n",
    "In the cell below, create a plot of **income per capita** (the second plot above) using the [seaborn `histplot`](https://seaborn.pydata.org/generated/seaborn.histplot.html) function. In this case you should display the plots as two subplots, where the top subplot is literacy, and the bottom subplot is income. See [matplotlib subplots](https://matplotlib.org/stable/api/_as_gen/matplotlib.pyplot.subplots.html) function and the `ax` parameter of `histplot`.  \n",
    "\n",
    "Don't forget to title the plot and label axes!\n",
    "\n",
    "You may need to change the size of the figure (and the font sizes for all the labels). \n",
    "\n",
    "**Hint:** *Copy and paste from above to start.*"
   ]
  },
  {
   "cell_type": "code",
   "execution_count": null,
   "id": "c8a22c5d",
   "metadata": {
    "tags": []
   },
   "outputs": [],
   "source": [
    "..."
   ]
  },
  {
   "cell_type": "markdown",
   "id": "1b761ba7",
   "metadata": {},
   "source": [
    "<!-- END QUESTION -->\n",
    "\n",
    "<br>\n",
    "\n",
    "In the cell below, we explore overlaying a rug plot on top of a histogram using `rugplot`. Note that the rug plot is hard to see."
   ]
  },
  {
   "cell_type": "code",
   "execution_count": null,
   "id": "07b43278",
   "metadata": {},
   "outputs": [],
   "source": [
    "sns.histplot(x=\"inc\", data = df)\n",
    "sns.rugplot(x=\"inc\", data = df)\n",
    "plt.xlabel('Gross national income per capita, Atlas method: $: 2016')\n",
    "plt.title('World Bank Gross National Income Per Capita')"
   ]
  },
  {
   "cell_type": "markdown",
   "id": "9f4a15fa",
   "metadata": {},
   "source": [
    "One way to make it easier to see the difference between the rug plot and the bars is to set a different color, for example:"
   ]
  },
  {
   "cell_type": "code",
   "execution_count": null,
   "id": "e2f38e39",
   "metadata": {},
   "outputs": [],
   "source": [
    "sns.histplot(x=\"inc\", data = df, color = \"lightsteelblue\")\n",
    "sns.rugplot(x=\"inc\", data = df)\n",
    "plt.xlabel('Gross national income per capita, Atlas method: $: 2016')\n",
    "plt.title('World Bank Gross National Income Per Capita')"
   ]
  },
  {
   "cell_type": "markdown",
   "id": "377a983b",
   "metadata": {},
   "source": [
    "There is also another function called `kdeplot` which plots a Kernel Density Estimate as described in class, and covered in more detail later in this lab.\n",
    "\n"
   ]
  },
  {
   "cell_type": "markdown",
   "id": "8db2f5fe",
   "metadata": {},
   "source": [
    "<!-- BEGIN QUESTION -->\n",
    "\n",
    "<br>\n",
    "\n",
    "---\n",
    "\n",
    "### Question 1c \n",
    "\n",
    "Rather than manually calling `histplot`, `rugplot`, and `kdeplot` to plot histograms, rug plots, and KDE plots, respectively, we can instead use `displot`, which can simultaneously plot histogram bars, a rug plot, and a KDE plot, and adjust all the colors automatically for visbility. Using the documentation for [`displot`](https://seaborn.pydata.org/generated/seaborn.displot.html) ([Link](https://seaborn.pydata.org/generated/seaborn.displot.html)), make a plot of the income data that includes a histogram, rug plot, and KDE plot. \n",
    "\n",
    "Hint: You'll need to set two parameters to `True`.  Also, use a parameter to ensure the figure is approximately (8, 5) in size. "
   ]
  },
  {
   "cell_type": "code",
   "execution_count": null,
   "id": "906ee98c",
   "metadata": {
    "tags": []
   },
   "outputs": [],
   "source": [
    "..."
   ]
  },
  {
   "cell_type": "markdown",
   "id": "7798c402",
   "metadata": {},
   "source": [
    "You should see roughly the same histogram as before. However, now you should see an overlaid smooth line. This is the kernel density estimate discussed in class. "
   ]
  },
  {
   "cell_type": "markdown",
   "id": "6efa5e14",
   "metadata": {},
   "source": [
    "<!-- END QUESTION -->\n",
    "\n",
    "In the figure above, the y-axis is labeled by the counts. We can also label the y-axis by the density. An example is given below, this time using the literacy data from the beginning of this lab."
   ]
  },
  {
   "cell_type": "code",
   "execution_count": null,
   "id": "ea2955f8",
   "metadata": {},
   "outputs": [],
   "source": [
    "sns.displot(x=\"lit\", data = df, rug = True, kde = True, stat = \"density\")\n",
    "plt.xlabel(\"Adult literacy rate: Combined: % ages 15 and older: 2005-14\", fontsize=12)\n",
    "plt.title('World Bank Combined Adult Literacy Rate')"
   ]
  },
  {
   "cell_type": "markdown",
   "id": "39132fbc",
   "metadata": {},
   "source": [
    "Observations:\n",
    "* You'll also see that the y-axis value is no longer the count. Instead it is a value such that the total **area** in the histogram is 1. For example, the area of the last bar is approximately 22.22 * 0.028 = 0.62\n",
    "\n",
    "* The KDE is a smooth estimate of the distribution of the given variable. The area under the KDE is also 1. While it is not obvious from the figure, some of the area under the KDE is beyond the 100% literacy. In other words, the KDE is non-zero for values greater than 100%. This, of course, makes no physical sense. Nonetheless, it is a mathematical feature of the KDE.\n",
    "\n",
    "We'll talk more about KDEs later in this lab."
   ]
  },
  {
   "cell_type": "markdown",
   "id": "30a3fe1f",
   "metadata": {},
   "source": [
    "<!-- BEGIN QUESTION -->\n",
    "\n",
    "<br>\n",
    "\n",
    "---\n",
    "\n",
    "### Question 1d \n",
    "\n",
    "Looking at the income data, it is difficult to see the distribution among low income countries because they are all scrunched up at the left side of the plot. The KDE also has a problem where the density function has a lot of area below 0. \n",
    "\n",
    "Transforming the `inc` data logarithmically gives us a more symmetric distribution of values. This can make it easier to see patterns.\n",
    "\n",
    "In addition, summary statistics like the mean and standard deviation (square-root of the variance) are more stable with symmetric distributions.\n",
    "\n",
    "In the cell below, make a distribution plot of `inc` with the data transformed using `np.log10` and `kde=True`. If you want to see the exact counts, just set `kde=False`. If you don't specify the `kde` parameter, it is by default set to True. \n",
    "\n",
    "**Hint:** Unlike the examples above, you can pass a series to the `displot` function, i.e. rather than passing an entire DataFrame as `data` and a column as `x`, you can instead pass a series.  Use a parameter to ensure the figure size is approximately (8,5). "
   ]
  },
  {
   "cell_type": "code",
   "execution_count": null,
   "id": "b61a9089",
   "metadata": {
    "tags": []
   },
   "outputs": [],
   "source": [
    "ax = ...\n",
    "plt.title('World Bank Gross National Income Per Capita')\n",
    "plt.ylabel('Density')\n",
    "plt.xlabel('Log Gross national income per capita, Atlas method: $: 2016', \n",
    "           fontsize=16);"
   ]
  },
  {
   "cell_type": "markdown",
   "id": "a25dddba",
   "metadata": {},
   "source": [
    "<!-- END QUESTION -->\n",
    "\n",
    "When a distribution has a long right tail, a log-transformation often does a good job of symmetrizing the distribution, as it did here.  Long right tails are common with variables that have a lower limit on the values. \n",
    "\n",
    "On the other hand, long left tails are common with distributions of variables that have an upper limit, such as percentages (can't be higher than 100%) and GPAs (can't be higher than 4).  That is the case for the literacy rate. Typically taking a power-transformation such \n",
    "as squaring or cubing the values can help symmetrize the left skew distribution.\n",
    "\n",
    "In the cell below, we will make a distribution plot of `lit` with the data transformed using a power, i.e., raise `lit` to the 2nd, 3rd, and 4th power. We plot the transformation with the 4th power below."
   ]
  },
  {
   "cell_type": "code",
   "execution_count": null,
   "id": "52dd25ca",
   "metadata": {},
   "outputs": [],
   "source": [
    "ax = sns.displot((df['lit']**4), kde = True, aspect=1.3)\n",
    "plt.ylabel('Density')\n",
    "plt.xlabel(\"Adult literacy rate: Combined: % ages 15+: 2005-14\", fontsize=13)\n",
    "plt.title('World Bank Combined Adult Literacy Rate (4th power)', pad=30);"
   ]
  },
  {
   "cell_type": "markdown",
   "id": "0d13f699",
   "metadata": {},
   "source": [
    "<!-- BEGIN QUESTION -->\n",
    "\n",
    "<br>\n",
    "\n",
    "---\n",
    "\n",
    "### Question 1e \n",
    "\n",
    "\n",
    "If we want to examine the relationship between the female adult literacy rate and the gross national income per capita, we need to make a scatter plot. \n",
    "\n",
    "In the cell below, create a scatter plot of untransformed income per capita and literacy rate using the `sns.scatterplot` function. Make  sure to label both axes using `plt.xlabel` and `plt.ylabel`."
   ]
  },
  {
   "cell_type": "code",
   "execution_count": null,
   "id": "9e59da74",
   "metadata": {
    "tags": []
   },
   "outputs": [],
   "source": [
    "..."
   ]
  },
  {
   "cell_type": "markdown",
   "id": "dd47bd46",
   "metadata": {},
   "source": [
    "<!-- END QUESTION -->\n",
    "\n",
    "<br> \n",
    "\n",
    "We can better assess the relationship between two variables when they have been straightened because it is easier for us to recognize linearity.\n",
    "\n",
    "In the cell below, we see a scatter plot of log-transformed income per capita against literacy rate.\n"
   ]
  },
  {
   "cell_type": "code",
   "execution_count": null,
   "id": "36779026",
   "metadata": {},
   "outputs": [],
   "source": [
    "sns.scatterplot(x = df['lit'], y = np.log10(df['inc']))\n",
    "plt.xlabel(\"Adult literacy rate: Combined: % ages 15 and older\")\n",
    "plt.ylabel('Gross national income per capita (log scale)')\n",
    "plt.title('World Bank: Gross National Income Per Capita vs\\n Combined Adult Literacy Rate');"
   ]
  },
  {
   "cell_type": "markdown",
   "id": "2720b923",
   "metadata": {},
   "source": [
    "This scatter plot looks better. The relationship is closer to linear.\n",
    "\n",
    "We can think of the log-linear relationship between x and y, as follows: a constant change in x corresponds to a percent (scaled) change in y.\n",
    "\n",
    "We can also see that the long left tail of literacy is represented in this plot by a lot of the points being bunched up near 100. Try squaring literacy and taking the log of income. Does the plot look better? "
   ]
  },
  {
   "cell_type": "code",
   "execution_count": null,
   "id": "0ce1d4ea",
   "metadata": {},
   "outputs": [],
   "source": [
    "\n",
    "...\n"
   ]
  },
  {
   "cell_type": "markdown",
   "id": "865215b5",
   "metadata": {},
   "source": [
    "Choosing the best transformation for a relationship is often a balance between keeping the model simple and straightening the scatter plot."
   ]
  },
  {
   "cell_type": "markdown",
   "id": "07f02da5",
   "metadata": {},
   "source": [
    "<br/><br/>\n",
    "<hr style=\"border: 5px solid #8a8c8c;\" />\n",
    "<hr style=\"border: 1px solid #ffcd00;\" />\n",
    "\n",
    "## Part 2: Kernel Density Estimation \n",
    "\n",
    "In this part of the lab you will develop a deeper understanding of how kernel density estimation works.\n",
    "- Explain KDE briefly within the lab\n",
    "\n",
    "### Overview\n",
    "\n",
    "Kernel density estimation is used to estimate a probability density function (i.e. a density curve) from a set of data. Just like a histogram, a density function's total area must sum to 1.\n",
    "\n",
    "KDE centrally revolves around this idea of a \"kernel\". A kernel is a function whose area sums to 1. The three steps involved in building a kernel density estimate are:\n",
    "1. Placing a kernel at each observation\n",
    "2. Normalizing kernels so that the sum of their areas is 1\n",
    "3. Summing all kernels together\n",
    "\n",
    "The end result is a function, that takes in some value `x` and returns a density estimate at the point `x`.\n",
    "\n",
    "When constructing a KDE, there are several choices to make regarding the kernel. Specifically, we need to choose the function we want to use as our kernel, as well as a bandwidth parameter, which tells us how wide or narrow each kernel should be. We will explore these ideas now."
   ]
  },
  {
   "cell_type": "code",
   "execution_count": null,
   "id": "fe9f6422",
   "metadata": {},
   "outputs": [],
   "source": [
    "data3pts = np.array([2, 4, 9])\n",
    "sns.displot(data3pts, kde = True, stat = \"density\");"
   ]
  },
  {
   "cell_type": "markdown",
   "id": "e4386125",
   "metadata": {},
   "source": [
    "To understand how KDEs are computed, we need to see the KDE outside the given range. \n",
    "\n",
    "The easiest way to do this was to use an old function called `distplot`. But, `distplot` is now deprecated, and it will be removed at a future date. If you get an error that says that `distplot` is not a valid function, sorry, you are too far in the future to do this code cell.\n",
    "\n",
    "Using a deprecated function will often result in a `UserWarning`. You may follow their suggestions to adapt your code. In this case, we can use `displot` [(documentation)](https://seaborn.pydata.org/archive/0.11/generated/seaborn.displot.html#seaborn.displot) with some additional parameters. These additional parameters are needed because the default values of `displot` are different from `distplot`; we can manually set them to be the same."
   ]
  },
  {
   "cell_type": "code",
   "execution_count": null,
   "id": "04fbafd1",
   "metadata": {},
   "outputs": [],
   "source": [
    "# Run this cell to create KDE plot and histogram using displot; no further action is needed.\n",
    "plt.figure(figsize=(5, 15))\n",
    "sns.displot(data3pts, kde=True, stat=\"density\", kde_kws={\"cut\":4}, bins=2, \n",
    "            height=5, aspect=1.5);"
   ]
  },
  {
   "cell_type": "markdown",
   "id": "33558f49",
   "metadata": {},
   "source": [
    "One question you might be wondering is how the kernel density estimator decides how \"wide\" each point should be. It turns out this is a parameter you can set called `bw`, which stands for bandwidth. For example, the code below gives a bandwidth value of 0.5 to each data point. You'll see the resulting KDE is quite different. Try experimenting with different values of bandwidth and see what happens."
   ]
  },
  {
   "cell_type": "code",
   "execution_count": null,
   "id": "ce7ceb52",
   "metadata": {},
   "outputs": [],
   "source": [
    "# Run this cell to plot displot with the specified bandwidth. \n",
    "plt.figure(figsize=(5, 15))\n",
    "sns.displot(data3pts, kde=True, stat=\"density\", \n",
    "            kde_kws={\"bw_method\": 0.5, \"cut\":4}, bins=2, height=5, aspect=1.5);"
   ]
  },
  {
   "cell_type": "markdown",
   "id": "cfa2f581",
   "metadata": {},
   "source": [
    "<br>\n",
    "\n",
    "---\n",
    "\n",
    "### Question 2a\n",
    "\n",
    "As mentioned above, the kernel density estimate is just the sum of a bunch of copies of the kernel, each centered on our data points. The default kernel used by the `displot` function (as well as `kdeplot`) is the Gaussian kernel, given by:\n",
    "\n",
    "$$\\Large\n",
    "K_\\alpha(x, z) = \\frac{1}{\\sqrt{2 \\pi \\alpha^2}} \\exp\\left(-\\frac{(x - z)^2}{2  \\alpha ^2} \\right)\n",
    "$$\n",
    "\n",
    "We've implemented the Gaussian kernel for you in Python below. Here, `alpha` is the smoothing or bandwidth parameter $\\alpha$ for the KDE, `z` is the center of the Gaussian (i.e., a data point or an array of data points), and `x` is an array of values of the variable whose distribution we are plotting. In other words, `z` represents the center point of our smooth KDE bell curve, while `x` represents the range of values over which we want to generate the KDE plot."
   ]
  },
  {
   "cell_type": "code",
   "execution_count": null,
   "id": "61fe4d5f",
   "metadata": {},
   "outputs": [],
   "source": [
    "def gaussian_kernel(alpha, x, z):\n",
    "    \"\"\"\n",
    "    Compute the Gaussian density estimate for values in x.\n",
    "\n",
    "    Args:\n",
    "        alpha: the smoothing parameter to pass to the kernel.\n",
    "        x: an array of values whose density will be calculated.\n",
    "        z: center of Gaussian.\n",
    "\n",
    "    Returns:\n",
    "        The smoothed estimate at values of x.\n",
    "    \"\"\"    \n",
    "    return 1.0/np.sqrt(2. * np.pi * alpha**2) * np.exp(-(x - z) ** 2 / (2.0 * alpha**2))"
   ]
  },
  {
   "cell_type": "markdown",
   "id": "fdbd6210",
   "metadata": {},
   "source": [
    "For example, we can plot the Gaussian kernel centered at 9 with $\\alpha$ = 0.5 as below: "
   ]
  },
  {
   "cell_type": "code",
   "execution_count": null,
   "id": "48088640",
   "metadata": {},
   "outputs": [],
   "source": [
    "xs = np.linspace(-2, 12, 200)\n",
    "alpha = 0.5\n",
    "kde_curve = [gaussian_kernel(alpha, x, 9) for x in xs]\n",
    "plt.plot(xs, kde_curve);"
   ]
  },
  {
   "cell_type": "markdown",
   "id": "5330824c",
   "metadata": {},
   "source": [
    "<!-- BEGIN QUESTION -->\n",
    "\n",
    "In the cell below, plot the 3 kernel density functions corresponding to our 3 data points on the same axis. Use an `alpha` value of 0.5. Recall that our three data points are 2, 4, and 9. \n",
    "\n",
    "**Note:** Make sure to normalize your kernels! This means that the area under each of your kernels should be $\\frac{1}{3}$ since there are three data points.\n",
    "\n",
    "You don't have to use the following hints, but they might be helpful in simplifying your code.\n",
    "\n",
    "**Hint:** The `gaussian_kernel` function can also take a `NumPy` array as an argument for `z`.\n",
    "\n",
    "**Hint:** To plot multiple plots at once, you can use `plt.plot(xs, y)` with a two-dimensional array as `y`.\n",
    "\n",
    "Add a legend to the plot. \n"
   ]
  },
  {
   "cell_type": "code",
   "execution_count": null,
   "id": "1f639b35",
   "metadata": {
    "tags": []
   },
   "outputs": [],
   "source": [
    "..."
   ]
  },
  {
   "cell_type": "markdown",
   "id": "9f4d1899",
   "metadata": {},
   "source": [
    "<!-- END QUESTION -->\n",
    "\n",
    "In the cell below, we see a plot that shows the sum of all three of the kernels above. The plot resembles the KDE shown when you called `distplot` function with bandwidth 0.5 earlier. The area under the final curve will be 1 since the area under each of the three normalized kernels is $\\frac{1}{3}$."
   ]
  },
  {
   "cell_type": "code",
   "execution_count": null,
   "id": "e66923e1",
   "metadata": {},
   "outputs": [],
   "source": [
    "# Run this cell to plot the sum of the kernels; no further action is needed.\n",
    "xs = np.linspace(-2, 12, 200)\n",
    "alpha = 0.5\n",
    "kde_curve = np.array([1/3 * gaussian_kernel(alpha, x, data3pts) for x in xs])\n",
    "plt.plot(xs, np.sum(kde_curve, axis=1));"
   ]
  },
  {
   "cell_type": "markdown",
   "id": "cc5a301e",
   "metadata": {},
   "source": [
    "Recall that earlier we plotted the kernel density estimation for the logarithm of the income data, as shown again below."
   ]
  },
  {
   "cell_type": "code",
   "execution_count": null,
   "id": "80396ca3",
   "metadata": {},
   "outputs": [],
   "source": [
    "# Run this cell to plot KDE of log income; no further action is needed.\n",
    "ax = sns.displot(data=df, x=np.log10(df['inc']), kind='kde', rug=True, aspect=1.4)\n",
    "plt.xlabel('Log Gross national income per capita, Atlas method: $: 2016', fontsize=13)\n",
    "plt.title('World Bank Gross National Income Per Capita');"
   ]
  },
  {
   "cell_type": "markdown",
   "id": "e411b7b7",
   "metadata": {},
   "source": [
    "In the cell below, a similar plot is shown using what was done above. Try out different values of alpha in {0.1, 0.2, 0.3, 0.4, 0.5}. You will see that when `alpha=0.2`, the graph matches the previous graph well, except that the `displot` function hides the KDE values outside the range of the available data. Recall that `alpha` represents the spread of each individual kernel curve, which in turn affects the smoothness of the final KDE plot. When would you expect a smoother plot - when alpha = 0.1 or 0.5?"
   ]
  },
  {
   "cell_type": "code",
   "execution_count": null,
   "id": "5ceeddc8",
   "metadata": {},
   "outputs": [],
   "source": [
    "# Run this cell to plot KDE of log income; try out different bandwidths!\n",
    "xs = np.linspace(1, 6, 200)\n",
    "alpha = 0.5\n",
    "kde_curve = np.array([1/len(df['inc']) * gaussian_kernel(alpha, x, np.log10(df['inc'])) for x in xs])\n",
    "plt.xlabel('Log Gross national income per capita, Atlas method: $: 2016', fontsize=13)\n",
    "plt.ylabel(\"Density\")\n",
    "plt.title('World Bank Gross National Income Per Capita')\n",
    "plt.plot(xs, np.sum(kde_curve, axis = 1));"
   ]
  },
  {
   "cell_type": "markdown",
   "id": "d60439c9",
   "metadata": {},
   "source": [
    "<br>\n",
    "\n",
    "---\n",
    "\n",
    "### Question 2b\n",
    "\n",
    "In your answers above, you hard-coded a lot of your work. In this problem, you'll build a more general kernel density estimator function.\n",
    "\n",
    "Implement the KDE function, which computes:\n",
    "\n",
    "$$\\Large\n",
    "f_\\alpha(x) = \\frac{1}{n} \\sum_{i=1}^n K_\\alpha(x, z_i)\n",
    "$$\n",
    "\n",
    "where each $z_i$ represents a single datapoint in the collected dataset, $\\alpha$ is a parameter to control the smoothness, and $K_\\alpha$ is the kernel density function passed as `kernel`. Your code should run no longer than a couple of seconds. "
   ]
  },
  {
   "cell_type": "code",
   "execution_count": null,
   "id": "d3dced93",
   "metadata": {
    "tags": []
   },
   "outputs": [],
   "source": [
    "def kde(kernel, alpha, x, data):\n",
    "    \"\"\"\n",
    "    Compute the kernel density estimate for the single query point x.\n",
    "\n",
    "    Args:\n",
    "        kernel: a kernel function with 3 parameters: alpha, x, and data.\n",
    "        alpha: the smoothing parameter to pass to the kernel.\n",
    "        x: a single query point (in one dimension).\n",
    "        data: a NumPy array of data points.\n",
    "\n",
    "    Returns:\n",
    "        The smoothed estimate at the query point x.\n",
    "    \"\"\"    \n",
    "    ...\n",
    "    \n",
    "kde(gaussian_kernel, 1.0, 2.0, np.array([3.0, 4.0, 5.0, 7.0]))"
   ]
  },
  {
   "cell_type": "code",
   "execution_count": null,
   "id": "555e3436",
   "metadata": {
    "deletable": false,
    "editable": false
   },
   "outputs": [],
   "source": [
    "grader.check(\"q2b\")"
   ]
  },
  {
   "cell_type": "markdown",
   "id": "98e2ac5d",
   "metadata": {},
   "source": [
    "Assuming you implemented `kde` correctly, the code below should generate the `kde` of the log of the income data as before."
   ]
  },
  {
   "cell_type": "code",
   "execution_count": null,
   "id": "dd86f988",
   "metadata": {},
   "outputs": [],
   "source": [
    "# Run this cell to generate the kde of the log of the income data; no further action is needed.\n",
    "df['trans_inc'] = np.log10(df['inc'])\n",
    "xs = np.linspace(df['trans_inc'].min(), df['trans_inc'].max(), 1000)\n",
    "curve = [kde(gaussian_kernel, alpha, x, df['trans_inc']) for x in xs]\n",
    "plt.hist(df['trans_inc'], density=True, color='orange')\n",
    "plt.xlabel('Log Gross national income per capita, Atlas method: $: 2016', fontsize = 13);\n",
    "plt.title('World Bank Gross National Income Per Capita')\n",
    "plt.plot(xs, curve, 'k-');"
   ]
  },
  {
   "cell_type": "markdown",
   "id": "e9d81ea8",
   "metadata": {},
   "source": [
    "And the code below should show a 3 x 3 set of plots showing the output of the kde for different `alpha` values."
   ]
  },
  {
   "cell_type": "code",
   "execution_count": null,
   "id": "5c88d894",
   "metadata": {},
   "outputs": [],
   "source": [
    "# Run this cell to generate the kde of the log of the income data \n",
    "# with different alphas values, no further action is needed.\n",
    "plt.figure(figsize=(15,15))\n",
    "alphas = np.arange(0.2, 2.0, 0.2)\n",
    "for i, alpha in enumerate(alphas):\n",
    "    plt.subplot(3, 3, i+1)\n",
    "    xs = np.linspace(df['trans_inc'].min(), df['trans_inc'].max(), 1000)\n",
    "    curve = [kde(gaussian_kernel, alpha, x, df['trans_inc']) for x in xs]\n",
    "    plt.hist(df['trans_inc'], density=True, color='orange')\n",
    "    plt.plot(xs, curve, 'k-')\n",
    "    plt.title(r\"$\\alpha = \" + format(alpha, \".02\") + \"$\")\n",
    "plt.show()"
   ]
  },
  {
   "cell_type": "markdown",
   "id": "155b0af1",
   "metadata": {},
   "source": [
    "<br>\n",
    "\n",
    "---\n",
    "\n",
    "### Question 2c \n",
    "\n",
    "\n",
    "Let's take a look at another kernel, the Boxcar kernel. The function `boxcar_kernel` is defined below.\n",
    "\n",
    "\\begin{equation} \\Large\n",
    "K_{a}(x, z) =\n",
    "    \\begin{cases}\n",
    "        \\frac{1}{\\alpha}, & \\text{if } -\\frac{\\alpha}{2} \\leq (x-z) \\leq \\frac{\\alpha}{2}\\\\\n",
    "        0, & \\text{otherwise}\n",
    "    \\end{cases}\n",
    "\\end{equation}"
   ]
  },
  {
   "cell_type": "code",
   "execution_count": null,
   "id": "860cd949",
   "metadata": {},
   "outputs": [],
   "source": [
    "def boxcar_kernel(alpha, x, z):\n",
    "    \"\"\"\n",
    "    Compute the boxcar density estimate for values in x.\n",
    "\n",
    "    Args:\n",
    "        alpha: the smoothing parameter to pass to the kernel.\n",
    "        x: an array of values whose density will be calculated.\n",
    "        z: center of boxcar function.\n",
    "\n",
    "    Returns:\n",
    "        The smoothed estimate at values of x.\n",
    "    \"\"\"    \n",
    "    return (((x-z)>=-alpha/2)&((x-z)<=alpha/2))/alpha"
   ]
  },
  {
   "cell_type": "markdown",
   "id": "a23baf9d",
   "metadata": {},
   "source": [
    "Run the cell beloe to enable interactive plots. \n",
    "\n",
    "Now, we can plot the Boxcar and Gaussian kernel functions to see what they look like. "
   ]
  },
  {
   "cell_type": "code",
   "execution_count": null,
   "id": "efe8cbfc",
   "metadata": {},
   "outputs": [],
   "source": [
    "from ipywidgets import interact\n",
    "\n",
    "x = np.linspace(-10,10,1000)\n",
    "def f(alpha):\n",
    "    plt.plot(x, boxcar_kernel(alpha,x,0), label='Boxcar')\n",
    "    plt.plot(x, gaussian_kernel(alpha,x,0), label='Gaussian')\n",
    "    plt.legend(title='Kernel Function')\n",
    "    plt.show()\n",
    "interact(f, alpha=(1,10,0.1));"
   ]
  },
  {
   "cell_type": "markdown",
   "id": "35e5820b",
   "metadata": {},
   "source": [
    "Using the interactive plot below, compare the two kernel techniques on the data `data3pts` or log income. Assign `demo = 1` to see `data3pts` or `demo = 2` to see log income.\n",
    "\n",
    "**Note:** Generating the KDE plot is slow, so expect some latency after you move the slider."
   ]
  },
  {
   "cell_type": "code",
   "execution_count": null,
   "id": "5c6ee03f",
   "metadata": {},
   "outputs": [],
   "source": [
    "demo = 1 # ... # set this value to 1 or 2\n",
    "\n",
    "if demo == 1:\n",
    "    xs = np.linspace(data3pts.min()-3, data3pts.max()+3, 1000)\n",
    "    def f(alpha_g, alpha_b):\n",
    "        plt.hist(data3pts, density=True, color='orange')\n",
    "        g_curve = [kde(gaussian_kernel, alpha_g, x, data3pts) for x in xs]\n",
    "        plt.plot(xs, g_curve, 'k-', label='Gaussian')\n",
    "        b_curve = [kde(boxcar_kernel, alpha_b, x, data3pts) for x in xs]\n",
    "        plt.plot(xs, b_curve, 'r-', label='Boxcar')\n",
    "        plt.legend(title='Kernel Function')\n",
    "        plt.show()\n",
    "    interact(f, alpha_g=(0.01,.5,0.01), alpha_b=(0.01,3,0.1));\n",
    "else:\n",
    "    xs = np.linspace(df['trans_inc'].min(), df['trans_inc'].max(), 1000)\n",
    "    def f(alpha_g, alpha_b):\n",
    "        plt.hist(df['trans_inc'], density=True, color='orange')\n",
    "        g_curve = [kde(gaussian_kernel, alpha_g, x, df['trans_inc']) for x in xs]\n",
    "        plt.plot(xs, g_curve, 'k-', label='Gaussian')\n",
    "        b_curve = [kde(boxcar_kernel, alpha_b, x, df['trans_inc']) for x in xs]\n",
    "        plt.plot(xs, b_curve, 'r-', label='Boxcar')\n",
    "        plt.legend(title='Kernel Function')\n",
    "        plt.show()\n",
    "    interact(f, alpha_g=(0.01,.5,0.01), alpha_b=(0.01,3,0.1));"
   ]
  },
  {
   "cell_type": "markdown",
   "id": "ecf71e4b",
   "metadata": {},
   "source": [
    "<!-- BEGIN QUESTION -->\n",
    "\n",
    "Briefly compare and contrast the Gaussian and Boxcar kernels in the cell below. How do the two kernels relate with each other for the same alpha value?"
   ]
  },
  {
   "cell_type": "markdown",
   "id": "feca842e",
   "metadata": {},
   "source": [
    "_Type your answer here, replacing this text._"
   ]
  },
  {
   "cell_type": "markdown",
   "id": "8a41184c",
   "metadata": {},
   "source": [
    "<!-- END QUESTION -->\n",
    "\n",
    "<br><br>\n",
    "\n",
    "<hr style=\"border: 5px solid #8a8c8c;\" />\n",
    "<hr style=\"border: 1px solid #ffcd00;\" />\n",
    "\n",
    "## Congratulations! You have finished Lab 07!\n",
    "\n",
    "\n",
    "Congrats! You are finished with this assignment.\n",
    "\n",
    "Below, you will see a cell. Running this cell will automatically generate a zip file with your autograded answers. Once you submit this file to the Lab 07 Coding assignment on Gradescope, Gradescope will automatically submit a PDF file with your written answers to the Lab 07 - Figures assignment. If you run into any issues when running this cell, feel free to check the [Debugging Guide](https://mtu.instructure.com/courses/1527249/pages/debugging-guide).\n",
    "\n",
    "**Important**: Please check that your written responses were generated and submitted correctly to the Lab 07-FiguresAssignment.\n",
    "\n",
    "**You are responsible for ensuring your submission follows our requirements and that the PDF for Lab07 Figures answers was generated/submitted correctly. We will not be granting regrade requests nor extensions to submissions that don't follow instructions.** If you encounter any difficulties with submission, please don't hesitate to reach out to staff prior to the deadline. "
   ]
  },
  {
   "cell_type": "code",
   "execution_count": null,
   "id": "95a4c7a2",
   "metadata": {},
   "outputs": [],
   "source": []
  },
  {
   "cell_type": "markdown",
   "id": "2f24eb90",
   "metadata": {
    "deletable": false,
    "editable": false
   },
   "source": [
    "## Submission\n",
    "\n",
    "Make sure you have run all cells in your notebook in order before running the cell below, so that all images/graphs appear in the output. The cell below will generate a zip file for you to submit. **Please save before exporting!**"
   ]
  },
  {
   "cell_type": "code",
   "execution_count": null,
   "id": "81cc0c0c",
   "metadata": {
    "deletable": false,
    "editable": false
   },
   "outputs": [],
   "source": [
    "# Save your notebook first, then run this cell to export your submission.\n",
    "grader.export(run_tests=True)"
   ]
  },
  {
   "cell_type": "markdown",
   "id": "dde1835b",
   "metadata": {},
   "source": [
    " "
   ]
  }
 ],
 "metadata": {
  "kernelspec": {
   "display_name": "Python [conda env:data1202] *",
   "language": "python",
   "name": "conda-env-data1202-py"
  },
  "language_info": {
   "codemirror_mode": {
    "name": "ipython",
    "version": 3
   },
   "file_extension": ".py",
   "mimetype": "text/x-python",
   "name": "python",
   "nbconvert_exporter": "python",
   "pygments_lexer": "ipython3",
   "version": "3.10.12"
  },
  "otter": {
   "OK_FORMAT": true,
   "assignment_name": "lab07",
   "tests": {
    "q2b": {
     "name": "q2b",
     "points": [
      4,
      4,
      4
     ],
     "suites": [
      {
       "cases": [
        {
         "code": ">>> np.isclose(kde(gaussian_kernel, 1.0, 2.0, np.array([3.0, 4.0, 5.0, 7.0])), 0.075099)\nTrue",
         "hidden": false,
         "locked": false
        },
        {
         "code": ">>> np.isclose(kde(gaussian_kernel, 2, 5, np.array([1.0, 3.0, 4.0, 5.0, 7.0, 100])), 0.107411)\nTrue",
         "hidden": false,
         "locked": false
        },
        {
         "code": ">>> np.isclose(kde(gaussian_kernel, 100, 370, df['inc']), 0.000248205)\nTrue",
         "hidden": false,
         "locked": false
        }
       ],
       "scored": true,
       "setup": "",
       "teardown": "",
       "type": "doctest"
      }
     ]
    }
   }
  }
 },
 "nbformat": 4,
 "nbformat_minor": 5
}
