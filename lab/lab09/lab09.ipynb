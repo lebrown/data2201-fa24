{
 "cells": [
  {
   "cell_type": "code",
   "execution_count": null,
   "id": "a5f0bbba",
   "metadata": {
    "deletable": false,
    "editable": false
   },
   "outputs": [],
   "source": [
    "# Initialize Otter\n",
    "import otter\n",
    "grader = otter.Notebook(\"lab09.ipynb\")"
   ]
  },
  {
   "cell_type": "markdown",
   "id": "8198184a",
   "metadata": {},
   "source": [
    "# Lab 9: Text Wrangling and Regular Expressions\n",
    "\n",
    "In this lab you will get some practice using regular expressions. "
   ]
  },
  {
   "cell_type": "code",
   "execution_count": null,
   "id": "0d10c104",
   "metadata": {},
   "outputs": [],
   "source": [
    "import pandas as pd\n",
    "import numpy as np\n",
    "import re\n",
    "import seaborn as sns\n",
    "import matplotlib.pyplot as plt\n",
    "import os\n",
    "\n",
    "plt.style.use('fivethirtyeight') # Use plt.style.available to see more styles\n",
    "sns.set()\n",
    "sns.set_context(\"talk\")\n",
    "plt.rcParams['figure.figsize'] = (8, 5)\n",
    "%matplotlib inline"
   ]
  },
  {
   "cell_type": "markdown",
   "id": "498b30f7",
   "metadata": {},
   "source": [
    "<br/><br/>\n",
    "<hr style=\"border: 5px solid #8a8c8c;\" />\n",
    "<hr style=\"border: 1px solid #ffcd00;\" />\n",
    "\n",
    "\n",
    "## Part 1: Practice with Regular Expressions \n",
    "\n",
    "Regular expressions can be tricky, and the best way to gain familiarity with them is through lots of practice. In this question, you will work through ten exercises, each of which requires you to write a regular expression that matches strings that satisfy certain criteria. Make sure to take a close look at the doctests for each function in `lab.py`, as they provide useful guidance for the types of strings you should and shouldn't match.\n",
    "\n",
    "***Notes:*** \n",
    "- Make sure to refer to the [Regular Expression Resources](https://dsc80.com/resources/#regular-expressions) posted on the course website. In particular, we recommend having [regex101.com](https://regex101.com/) open while working, along with the [cheat sheet](https://dsc80.com/resources/other/berkeley-regex-reference.pdf).\n",
    "\n",
    "- Each exercise has a star rating, between 1 and 3 stars, indicating its difficulty level (1 being the easiest, 3 being the hardest). If you are spending lots of time on 1-star exercises, take a close look at the syntax from lecture, as there is probably an easier way of writing the necessary pattern!\n",
    "\n",
    "- The function to match patterns uses the `re.search` function.  From it's [definition](https://docs.python.org/3/library/re.html#re.search), scan through string looking for the first location where the regular expression pattern produces a match, and return a corresponding Match.  Be aware of this behavior if the pattern you are looking for must be at the start of the string. \n",
    "\n",
    "<br> "
   ]
  },
  {
   "cell_type": "markdown",
   "id": "99afbe20",
   "metadata": {},
   "source": [
    "### Question 1: (1 star) \n",
    "\n",
    "Write a regular expression that matches strings that have `'['` as the third character and `']'` as the sixth character. "
   ]
  },
  {
   "cell_type": "code",
   "execution_count": null,
   "id": "6a64bee3",
   "metadata": {
    "tags": []
   },
   "outputs": [],
   "source": [
    "def match_1(string):\n",
    "    \"\"\"\n",
    "    DO NOT EDIT THE DOCSTRING!\n",
    "    >>> match_1(\"abcde]\")\n",
    "    False\n",
    "    >>> match_1(\"ab[cde\")\n",
    "    False\n",
    "    >>> match_1(\"a[cd]\")\n",
    "    False\n",
    "    >>> match_1(\"ab[cd]\")\n",
    "    True\n",
    "    >>> match_1(\"1ab[cd]\")\n",
    "    False\n",
    "    >>> match_1(\"ab[cd]ef\")\n",
    "    True\n",
    "    >>> match_1(\"1b[#d] _\")\n",
    "    True\n",
    "    \"\"\"\n",
    "    pattern = ...\n",
    "\n",
    "    # Do not edit following code\n",
    "    prog = re.compile(pattern)\n",
    "    return prog.search(string) is not None"
   ]
  },
  {
   "cell_type": "code",
   "execution_count": null,
   "id": "8cec7968",
   "metadata": {
    "deletable": false,
    "editable": false
   },
   "outputs": [],
   "source": [
    "grader.check(\"q11\")"
   ]
  },
  {
   "cell_type": "markdown",
   "id": "8494bd48",
   "metadata": {},
   "source": [
    "### Question 2: (1 star)\n",
    "\n",
    "Write a regular expression that matches strings that are phone numbers that start with `'(906)'` and follow the format `'(xxx) xxx-xxxx'` (`'x'` represents a digit).\n",
    "\n",
    "***Note:*** There is a space between `'(xxx)'` and `'xxx-xxxx'`."
   ]
  },
  {
   "cell_type": "code",
   "execution_count": null,
   "id": "fbc55ae8",
   "metadata": {
    "tags": []
   },
   "outputs": [],
   "source": [
    "def match_2(string):\n",
    "    \"\"\"\n",
    "    DO NOT EDIT THE DOCSTRING!\n",
    "    >>> match_2(\"(123) 456-7890\")\n",
    "    False\n",
    "    >>> match_2(\"906-456-7890\")\n",
    "    False\n",
    "    >>> match_2(\"(906)45-7890\")\n",
    "    False\n",
    "    >>> match_2(\"(906) 456-7890\")\n",
    "    True\n",
    "    >>> match_2(\"(906)456-789\")\n",
    "    False\n",
    "    >>> match_2(\"(906)456-7890\")\n",
    "    False\n",
    "    >>> match_2(\"a(906) 456-7890\")\n",
    "    False\n",
    "    >>> match_2(\"(906) 456-7890b\")\n",
    "    False\n",
    "    \"\"\"\n",
    "    pattern = ...\n",
    "\n",
    "    # Do not edit following code\n",
    "    prog = re.compile(pattern)\n",
    "    return prog.search(string) is not None"
   ]
  },
  {
   "cell_type": "code",
   "execution_count": null,
   "id": "4c8f0019",
   "metadata": {
    "deletable": false,
    "editable": false
   },
   "outputs": [],
   "source": [
    "grader.check(\"q12\")"
   ]
  },
  {
   "cell_type": "markdown",
   "id": "08e6c7e5",
   "metadata": {},
   "source": [
    "### Question 3: (1 star) \n",
    "\n",
    "Write a regular expression that matches strings that:\n",
    "- are between 6 and 10 characters long (inclusive),\n",
    "- contain only alphanumeric characters, whitespace and `'?'`, and\n",
    "- end with `'?'`.\n"
   ]
  },
  {
   "cell_type": "code",
   "execution_count": null,
   "id": "8e2eba77",
   "metadata": {
    "tags": []
   },
   "outputs": [],
   "source": [
    "def match_3(string):\n",
    "    \"\"\"\n",
    "    DO NOT EDIT THE DOCSTRING!\n",
    "    >>> match_3(\"qwertsd?\")\n",
    "    True\n",
    "    >>> match_3(\"qw?ertsd?\")\n",
    "    True\n",
    "    >>> match_3(\"ab c?\")\n",
    "    False\n",
    "    >>> match_3(\"ab   c ?\")\n",
    "    True\n",
    "    >>> match_3(\" asdfqwes ?\")\n",
    "    False\n",
    "    >>> match_3(\" adfqwes ?\")\n",
    "    True\n",
    "    >>> match_3(\" adf!qes ?\")\n",
    "    False\n",
    "    >>> match_3(\" adf!qe? \")\n",
    "    False\n",
    "    \"\"\"\n",
    "    pattern = ...\n",
    "\n",
    "    # Do not edit following code\n",
    "    prog = re.compile(pattern)\n",
    "    return prog.search(string) is not None"
   ]
  },
  {
   "cell_type": "code",
   "execution_count": null,
   "id": "364402b8",
   "metadata": {
    "deletable": false,
    "editable": false
   },
   "outputs": [],
   "source": [
    "grader.check(\"q13\")"
   ]
  },
  {
   "cell_type": "markdown",
   "id": "801f6828",
   "metadata": {},
   "source": [
    "### Question 4: (2 star) \n",
    "\n",
    "Write a regular expression that matches strings with exactly two `'$'`, one of which is at the start of the string, such that:\n",
    "- the characters between the two `'$'` can be anything (including nothing) except the lowercase letters `'a'`, `'b'`, and `'c'`, (and `'$'`), and\n",
    "- the characters after the second `'$'` can only be the **lowercase or uppercase** letters `'a'`/`'A'`, `'b'`/`'B'`, and `'c'`/`'C'`, with every `'a'`/`'A'` before every `'b'`/`'B'`, and every `'b'`/`'B'` before every `'c'`/`'C'`. There must be at least one `'a'` or `'A'`, at least one `'b'` or `'B'`, and at least one `'c'` or `'C'`."
   ]
  },
  {
   "cell_type": "code",
   "execution_count": null,
   "id": "28a1ba12",
   "metadata": {
    "tags": []
   },
   "outputs": [],
   "source": [
    "def match_4(string):\n",
    "    \"\"\"\n",
    "    DO NOT EDIT THE DOCSTRING!\n",
    "    >>> match_4(\"$$AaaaaBbbbc\")\n",
    "    True\n",
    "    >>> match_4(\"$!@#$aABc\")\n",
    "    True\n",
    "    >>> match_4(\"$a$aABc\")\n",
    "    False\n",
    "    >>> match_4(\"$iiuABc\")\n",
    "    False\n",
    "    >>> match_4(\"123$$$Abc\")\n",
    "    False\n",
    "    >>> match_4(\"$$Abc\")\n",
    "    True\n",
    "    >>> match_4(\"$qw345t$AAAc\")\n",
    "    False\n",
    "    >>> match_4(\"$s$Bca\")\n",
    "    False\n",
    "    >>> match_4(\"$!@$\")\n",
    "    False\n",
    "    \"\"\"\n",
    "    pattern = ...\n",
    "\n",
    "    # Do not edit following code\n",
    "    prog = re.compile(pattern)\n",
    "    return prog.search(string) is not None"
   ]
  },
  {
   "cell_type": "code",
   "execution_count": null,
   "id": "ccf940ea",
   "metadata": {
    "deletable": false,
    "editable": false
   },
   "outputs": [],
   "source": [
    "grader.check(\"q14\")"
   ]
  },
  {
   "cell_type": "markdown",
   "id": "5ee8a98f",
   "metadata": {},
   "source": [
    "### Question 5 : (1 star)\n",
    "\n",
    "Write a regular expression that matches strings that represent valid Python file names, including the extension. \n",
    "\n",
    "***Note:*** For simplicity, assume that file names only contain letters, numbers, and underscores (`'_'`).\n",
    "\n",
    "***Note:*** Assume a name must start with a letter. \n",
    "\n",
    "The Python style guide, PEP 8, says: \n",
    "\n",
    "    Package and Module Names Modules should have short, all-lowercase names. Underscores can be used in the module name if it improves readability. Python packages should also have short, all-lowercase names, although the use of underscores is discouraged."
   ]
  },
  {
   "cell_type": "code",
   "execution_count": null,
   "id": "39886a99",
   "metadata": {
    "tags": []
   },
   "outputs": [],
   "source": [
    "def match_5(string):\n",
    "    \"\"\"\n",
    "    DO NOT EDIT THE DOCSTRING!\n",
    "    >>> match_5(\"data2201.py\")\n",
    "    True\n",
    "    >>> match_5(\"data2201py\")\n",
    "    False\n",
    "    >>> match_5(\"data2201..py\")\n",
    "    False\n",
    "    >>> match_5(\"data2201+.py\")\n",
    "    False\n",
    "    \"\"\"\n",
    "    pattern = ...\n",
    "\n",
    "    # Do not edit following code\n",
    "    prog = re.compile(pattern)\n",
    "    return prog.search(string) is not None"
   ]
  },
  {
   "cell_type": "code",
   "execution_count": null,
   "id": "bdc63628",
   "metadata": {
    "deletable": false,
    "editable": false
   },
   "outputs": [],
   "source": [
    "grader.check(\"q15\")"
   ]
  },
  {
   "cell_type": "markdown",
   "id": "03904fc6",
   "metadata": {},
   "source": [
    "### Question 6: (1 star) \n",
    "Write a regular expression that matches strings that:\n",
    "- are made up of only lowercase letters and exactly one underscore (`'_'`), and\n",
    "- have at least one lowercase letter on both sides of the underscore."
   ]
  },
  {
   "cell_type": "code",
   "execution_count": null,
   "id": "9afcfa71",
   "metadata": {
    "tags": []
   },
   "outputs": [],
   "source": [
    "def match_6(string):\n",
    "    \"\"\"\n",
    "    DO NOT EDIT THE DOCSTRING!\n",
    "    >>> match_6(\"aab_cbb_bc\")\n",
    "    False\n",
    "    >>> match_6(\"aab_cbbbc\")\n",
    "    True\n",
    "    >>> match_6(\"aab_Abbbc\")\n",
    "    False\n",
    "    >>> match_6(\"abcdef\")\n",
    "    False\n",
    "    >>> match_6(\"ABCDEF_ABCD\")\n",
    "    False\n",
    "    \"\"\"\n",
    "    pattern = ...\n",
    "\n",
    "    # Do not edit following code\n",
    "    prog = re.compile(pattern)\n",
    "    return prog.search(string) is not None"
   ]
  },
  {
   "cell_type": "code",
   "execution_count": null,
   "id": "00efb3ce",
   "metadata": {
    "deletable": false,
    "editable": false
   },
   "outputs": [],
   "source": [
    "grader.check(\"q16\")"
   ]
  },
  {
   "cell_type": "markdown",
   "id": "672295f6",
   "metadata": {},
   "source": [
    "### Question 7: (1 star) \n",
    "\n",
    "Write a regular expression that matches strings that start with and end with an underscore (`'_'`)."
   ]
  },
  {
   "cell_type": "code",
   "execution_count": null,
   "id": "9f9c42b1",
   "metadata": {
    "tags": []
   },
   "outputs": [],
   "source": [
    "def match_7(string):\n",
    "    \"\"\"\n",
    "    DO NOT EDIT THE DOCSTRING!\n",
    "    >>> match_7(\"_abc_\")\n",
    "    True\n",
    "    >>> match_7(\"abd\")\n",
    "    False\n",
    "    >>> match_7(\"bcd\")\n",
    "    False\n",
    "    >>> match_7(\"_ncde\")\n",
    "    False\n",
    "    \"\"\"\n",
    "    pattern = ...\n",
    "\n",
    "    # Do not edit following code\n",
    "    prog = re.compile(pattern)\n",
    "    return prog.search(string) is not None"
   ]
  },
  {
   "cell_type": "code",
   "execution_count": null,
   "id": "fc6aabfc",
   "metadata": {
    "deletable": false,
    "editable": false
   },
   "outputs": [],
   "source": [
    "grader.check(\"q17\")"
   ]
  },
  {
   "cell_type": "markdown",
   "id": "2628819a",
   "metadata": {},
   "source": [
    "### Question 8: (1 star) \n",
    "\n",
    "Apple serial numbers are strings of length 1 or more that are made up of any characters, other than\n",
    "- the uppercase letter `'O'`, \n",
    "- the lowercase letter `'i`', and \n",
    "- the number `'1'`.\n",
    "\n",
    "Write a regular expression that matches strings that are valid Apple serial numbers."
   ]
  },
  {
   "cell_type": "code",
   "execution_count": null,
   "id": "fec4d0ef",
   "metadata": {
    "tags": []
   },
   "outputs": [],
   "source": [
    "def match_8(string):\n",
    "    \"\"\"\n",
    "    DO NOT EDIT THE DOCSTRING!\n",
    "    >>> match_8(\"ASJDKLFK10ASDO\")\n",
    "    False\n",
    "    >>> match_8(\"ASJDKLFK0ASDo!!!!!!! !!!!!!!!!\")\n",
    "    True\n",
    "    >>> match_8(\"JKLSDNM01IDKSL\")\n",
    "    False\n",
    "    >>> match_8(\"ASDKJLdsi0SKLl\")\n",
    "    False\n",
    "    >>> match_8(\"ASDJKL9380JKAL\")\n",
    "    True\n",
    "    \"\"\"\n",
    "    pattern = ...\n",
    "\n",
    "    # Do not edit following code\n",
    "    prog = re.compile(pattern)\n",
    "    return prog.search(string) is not None"
   ]
  },
  {
   "cell_type": "code",
   "execution_count": null,
   "id": "24b659e6",
   "metadata": {
    "deletable": false,
    "editable": false
   },
   "outputs": [],
   "source": [
    "grader.check(\"q18\")"
   ]
  },
  {
   "cell_type": "markdown",
   "id": "aa990316",
   "metadata": {},
   "source": [
    "### Question 9: (2 star) \n",
    "\n",
    "ID numbers are formatted as `'SC-NN-CCC-NNNN'`, where \n",
    "- SC represents state code in uppercase (e.g. `'CA'`),\n",
    "- NN represents a number with 2 digits (e.g. `'98'`),\n",
    "- CCC represents a three letter city code in uppercase (e.g. `'HOU'`), and\n",
    "- NNNN represents a number with 4 digits (e.g. `'1024'`).\n",
    "\n",
    "Write a regular expression that matches strings that are ID numbers corresponding to the cities of `'CHI'` or `'HOU'`, or the state of `'WI'`. Assume that there is only one city named `'CHI'` and only one city named `'HOU'`."
   ]
  },
  {
   "cell_type": "code",
   "execution_count": null,
   "id": "76cb4d08",
   "metadata": {
    "tags": []
   },
   "outputs": [],
   "source": [
    "def match_9(string):\n",
    "    '''\n",
    "    DO NOT EDIT THE DOCSTRING!\n",
    "    >>> match_9('WI-32-MAD-1232')\n",
    "    True\n",
    "    >>> match_9('wi-23-EUC-1231')\n",
    "    False\n",
    "    >>> match_9('MA-36-BOS-5465')\n",
    "    False\n",
    "    >>> match_9('CA-56-LAX-7895')\n",
    "    False\n",
    "    >>> match_9('WI-32-HOU-0000') # If the state is WI, the city can be any 3 letter code, including HOU or CHI!\n",
    "    True\n",
    "    >>> match_9('IL-32-CHI-4491')\n",
    "    True\n",
    "    '''\n",
    "    pattern = ...\n",
    "\n",
    "    # Do not edit following code\n",
    "    prog = re.compile(pattern)\n",
    "    return prog.search(string) is not None"
   ]
  },
  {
   "cell_type": "code",
   "execution_count": null,
   "id": "cc7aab81",
   "metadata": {
    "deletable": false,
    "editable": false
   },
   "outputs": [],
   "source": [
    "grader.check(\"q19\")"
   ]
  },
  {
   "cell_type": "markdown",
   "id": "42b3ef2a",
   "metadata": {},
   "source": [
    "### Question 10: (2 star) \n",
    "\n",
    "Place your answer `True` or `False` in variable `q10` to the following question. \n",
    "\n",
    "The following code will match only the first email(up to the @ sign) in the string?\n",
    "\n",
    "```python \n",
    "stri = 'From: Olivia.Rodrigo@yahoo.com, badbunny@hotmail.com, taylorswift@gmail.com'\n",
    "stri = stri.rstrip()\n",
    "print(re.findall('From:.+@', stri))\n",
    "```"
   ]
  },
  {
   "cell_type": "code",
   "execution_count": null,
   "id": "293e559e",
   "metadata": {
    "tags": []
   },
   "outputs": [],
   "source": [
    "q10 = ..."
   ]
  },
  {
   "cell_type": "code",
   "execution_count": null,
   "id": "1cbe0d80",
   "metadata": {
    "deletable": false,
    "editable": false
   },
   "outputs": [],
   "source": [
    "grader.check(\"q110\")"
   ]
  },
  {
   "cell_type": "markdown",
   "id": "bf9d5681",
   "metadata": {},
   "source": [
    "<!-- BEGIN QUESTION -->\n",
    "\n",
    "#### Question 1.10a\n",
    "\n",
    "Briefly explain (less than 12 words) your answer above.  "
   ]
  },
  {
   "cell_type": "markdown",
   "id": "078451aa",
   "metadata": {},
   "source": [
    "**A** *Enter your answer here.*"
   ]
  },
  {
   "cell_type": "markdown",
   "id": "284b60c3",
   "metadata": {},
   "source": [
    "<!-- END QUESTION -->\n",
    "\n",
    "### Question 11 - Pattern Match \n",
    "\n",
    "Create a regular expression pattern that matches all the positive examples below, but none of the negative examples.  You can not simply list the positives strings \"or\"ed together. \n",
    "\n",
    "| Positive | Negative | \n",
    "|----------|----------|\n",
    "| pit      | pt       | \n",
    "| spot     | Pot      |\n",
    "| spate    | peat     | \n",
    "| slap two | part     | \n",
    "| respite  | SLIP ten |"
   ]
  },
  {
   "cell_type": "code",
   "execution_count": null,
   "id": "b0614574",
   "metadata": {
    "tags": []
   },
   "outputs": [],
   "source": [
    "cases = ['pit', 'spot', 'spate', 'slap two', 'respite', 'pt', 'Pot', 'peat', \n",
    "         'part', 'SLIP ten']\n",
    "positive, negative = [], []\n",
    "pat = r'...'      # Write regular expression pattern here \n",
    "\n",
    "# DO NOT CHANGE BELOW\n",
    "print('Positive Cases: \\n')\n",
    "for ex in cases: \n",
    "    match = re.search(pat, ex)\n",
    "    if ex==\"pt\": \n",
    "        print(\"\\nNegative Cases: \\n\")\n",
    "    if match: \n",
    "        print(\"%9s: found\" % ex)\n",
    "        positive.append(ex)\n",
    "    else: \n",
    "        print(\"%9s: not found\" % ex)\n",
    "        negative.append(ex)"
   ]
  },
  {
   "cell_type": "code",
   "execution_count": null,
   "id": "9ee6135e",
   "metadata": {
    "deletable": false,
    "editable": false
   },
   "outputs": [],
   "source": [
    "grader.check(\"q111\")"
   ]
  },
  {
   "cell_type": "markdown",
   "id": "1d444016",
   "metadata": {},
   "source": [
    "<br><br>\n",
    "\n",
    "<hr style=\"border: 5px solid #8a8c8c;\" />\n",
    "<hr style=\"border: 1px solid #ffcd00;\" />\n",
    "\n",
    "## Congratulations! You have finished Lab 09!\n",
    "\n",
    "\n",
    "Congrats! You are finished with this assignment.\n",
    "\n",
    "Below, you will see a cell. Running this cell will automatically generate a zip file with your autograded answers. \n",
    "\n",
    "**You are responsible for ensuring your submission follows our requirements. We will not be granting regrade requests nor extensions to submissions that don't follow instructions.** If you encounter any difficulties with submission, please don't hesitate to reach out to staff prior to the deadline. "
   ]
  },
  {
   "cell_type": "markdown",
   "id": "c1355d37",
   "metadata": {
    "deletable": false,
    "editable": false
   },
   "source": [
    "## Submission\n",
    "\n",
    "Make sure you have run all cells in your notebook in order before running the cell below, so that all images/graphs appear in the output. The cell below will generate a zip file for you to submit. **Please save before exporting!**"
   ]
  },
  {
   "cell_type": "code",
   "execution_count": null,
   "id": "e7d09e00",
   "metadata": {
    "deletable": false,
    "editable": false
   },
   "outputs": [],
   "source": [
    "# Save your notebook first, then run this cell to export your submission.\n",
    "grader.export(run_tests=True)"
   ]
  },
  {
   "cell_type": "markdown",
   "id": "de8afb59",
   "metadata": {},
   "source": [
    " "
   ]
  }
 ],
 "metadata": {
  "kernelspec": {
   "display_name": "Python [conda env:data1202] *",
   "language": "python",
   "name": "conda-env-data1202-py"
  },
  "language_info": {
   "codemirror_mode": {
    "name": "ipython",
    "version": 3
   },
   "file_extension": ".py",
   "mimetype": "text/x-python",
   "name": "python",
   "nbconvert_exporter": "python",
   "pygments_lexer": "ipython3",
   "version": "3.10.12"
  },
  "otter": {
   "OK_FORMAT": true,
   "assignment_name": "lab09",
   "tests": {
    "q11": {
     "name": "q11",
     "points": 10,
     "suites": [
      {
       "cases": [
        {
         "code": ">>> match_1(\"abcde]\") == False\nTrue",
         "hidden": false,
         "locked": false
        },
        {
         "code": ">>> match_1(\"ab[cde\") == False\nTrue",
         "hidden": false,
         "locked": false
        },
        {
         "code": ">>> match_1(\"a[cd]\") == False\nTrue",
         "hidden": false,
         "locked": false
        },
        {
         "code": ">>> match_1(\"ab[cd]\") == True\nTrue",
         "hidden": false,
         "locked": false
        },
        {
         "code": ">>> match_1(\"1ab[cd]\") == False\nTrue",
         "hidden": false,
         "locked": false
        },
        {
         "code": ">>> match_1(\"1b[#d] _\") == True\nTrue",
         "hidden": false,
         "locked": false
        }
       ],
       "scored": true,
       "setup": "",
       "teardown": "",
       "type": "doctest"
      }
     ]
    },
    "q110": {
     "name": "q110",
     "points": [
      1
     ],
     "suites": [
      {
       "cases": [
        {
         "code": ">>> q10 == True or q10 == False\nTrue",
         "hidden": false,
         "locked": false
        }
       ],
       "scored": true,
       "setup": "",
       "teardown": "",
       "type": "doctest"
      }
     ]
    },
    "q111": {
     "name": "q111",
     "points": 10,
     "suites": [
      {
       "cases": [
        {
         "code": ">>> 'pit' in positive\nTrue",
         "hidden": false,
         "locked": false
        },
        {
         "code": ">>> 'spot' in positive\nTrue",
         "hidden": false,
         "locked": false
        },
        {
         "code": ">>> 'spate' in positive\nTrue",
         "hidden": false,
         "locked": false
        },
        {
         "code": ">>> 'slap two' in positive\nTrue",
         "hidden": false,
         "locked": false
        },
        {
         "code": ">>> 'respite' in positive\nTrue",
         "hidden": false,
         "locked": false
        },
        {
         "code": ">>> 'pt' in negative\nTrue",
         "hidden": false,
         "locked": false
        },
        {
         "code": ">>> 'Pot' in negative\nTrue",
         "hidden": false,
         "locked": false
        },
        {
         "code": ">>> 'peat' in negative\nTrue",
         "hidden": false,
         "locked": false
        },
        {
         "code": ">>> 'part' in negative\nTrue",
         "hidden": false,
         "locked": false
        },
        {
         "code": ">>> 'SLIP ten' in negative\nTrue",
         "hidden": false,
         "locked": false
        }
       ],
       "scored": true,
       "setup": "",
       "teardown": "",
       "type": "doctest"
      }
     ]
    },
    "q12": {
     "name": "q12",
     "points": 10,
     "suites": [
      {
       "cases": [
        {
         "code": ">>> match_2(\"(123) 456-7890\") == False\nTrue",
         "hidden": false,
         "locked": false
        },
        {
         "code": ">>> match_2(\"906-456-7890\") == False\nTrue",
         "hidden": false,
         "locked": false
        },
        {
         "code": ">>> match_2(\"(906)45-7890\") == False\nTrue",
         "hidden": false,
         "locked": false
        },
        {
         "code": ">>> match_2(\"(906) 456-7890\") == True\nTrue",
         "hidden": false,
         "locked": false
        },
        {
         "code": ">>> match_2(\"(906)456-789\") == False\nTrue",
         "hidden": false,
         "locked": false
        },
        {
         "code": ">>> match_2(\"(906)456-7890\") == False\nTrue",
         "hidden": false,
         "locked": false
        },
        {
         "code": ">>> match_2(\"a(906) 456-7890\") == False\nTrue",
         "hidden": false,
         "locked": false
        },
        {
         "code": ">>> match_2(\"(906) 456-7890b\") == False\nTrue",
         "hidden": false,
         "locked": false
        }
       ],
       "scored": true,
       "setup": "",
       "teardown": "",
       "type": "doctest"
      }
     ]
    },
    "q13": {
     "name": "q13",
     "points": [
      0.5,
      0.5,
      0.5,
      0.5,
      0.5,
      0.5,
      0.5,
      0.5
     ],
     "suites": [
      {
       "cases": [
        {
         "code": ">>> match_3(\"qwertsd?\") == True\nTrue",
         "hidden": false,
         "locked": false
        },
        {
         "code": ">>> match_3(\"qw?ertsd?\") == True\nTrue",
         "hidden": false,
         "locked": false
        },
        {
         "code": ">>> match_3(\"ab c?\") == False\nTrue",
         "hidden": false,
         "locked": false
        },
        {
         "code": ">>> match_3(\"ab   c ?\") == True\nTrue",
         "hidden": false,
         "locked": false
        },
        {
         "code": ">>> match_3(\" asdfqwes ?\") == False\nTrue",
         "hidden": false,
         "locked": false
        },
        {
         "code": ">>> match_3(\" adfqwes ?\") == True\nTrue",
         "hidden": false,
         "locked": false
        },
        {
         "code": ">>> match_3(\" adf!qes ?\") == False\nTrue",
         "hidden": false,
         "locked": false
        },
        {
         "code": ">>> match_3(\" adf!qe? \") == False\nTrue",
         "hidden": false,
         "locked": false
        }
       ],
       "scored": true,
       "setup": "",
       "teardown": "",
       "type": "doctest"
      }
     ]
    },
    "q14": {
     "name": "q14",
     "points": [
      0.5,
      0.5,
      0.5,
      0.5,
      0.5,
      0.5,
      0.5,
      0.5,
      1
     ],
     "suites": [
      {
       "cases": [
        {
         "code": ">>> match_4('$$AaaaaBbbbc') == True\nTrue",
         "hidden": false,
         "locked": false
        },
        {
         "code": ">>> match_4(\"$!@#$aABc\") == True\nTrue",
         "hidden": false,
         "locked": false
        },
        {
         "code": ">>> match_4(\"$a$aABc\") == False\nTrue",
         "hidden": false,
         "locked": false
        },
        {
         "code": ">>> match_4(\"$iiuABc\") == False\nTrue",
         "hidden": false,
         "locked": false
        },
        {
         "code": ">>> match_4(\"123$$$Abc\") == False\nTrue",
         "hidden": false,
         "locked": false
        },
        {
         "code": ">>> match_4(\"$$Abc\") == True\nTrue",
         "hidden": false,
         "locked": false
        },
        {
         "code": ">>> match_4(\"$qw345t$AAAc\") == False\nTrue",
         "hidden": false,
         "locked": false
        },
        {
         "code": ">>> match_4(\"$s$Bca\") == False\nTrue",
         "hidden": false,
         "locked": false
        },
        {
         "code": ">>> match_4(\"$!@$\") == False\nTrue",
         "hidden": false,
         "locked": false
        }
       ],
       "scored": true,
       "setup": "",
       "teardown": "",
       "type": "doctest"
      }
     ]
    },
    "q15": {
     "name": "q15",
     "points": [
      0.5,
      0.5,
      1,
      1
     ],
     "suites": [
      {
       "cases": [
        {
         "code": ">>> match_5(\"data2201.py\") == True\nTrue",
         "hidden": false,
         "locked": false
        },
        {
         "code": ">>> match_5(\"data2201py\") == False\nTrue",
         "hidden": false,
         "locked": false
        },
        {
         "code": ">>> match_5(\"data2201..py\") == False\nTrue",
         "hidden": false,
         "locked": false
        },
        {
         "code": ">>> match_5(\"data2201+.py\") == False\nTrue",
         "hidden": false,
         "locked": false
        }
       ],
       "scored": true,
       "setup": "",
       "teardown": "",
       "type": "doctest"
      }
     ]
    },
    "q16": {
     "name": "q16",
     "points": [
      0.5,
      0.5,
      1,
      1,
      1
     ],
     "suites": [
      {
       "cases": [
        {
         "code": ">>> match_6(\"aab_cbb_bc\") == False\nTrue",
         "hidden": false,
         "locked": false
        },
        {
         "code": ">>> match_6(\"aab_cbbbc\") == True\nTrue",
         "hidden": false,
         "locked": false
        },
        {
         "code": ">>> match_6(\"aab_Abbbc\") == False\nTrue",
         "hidden": false,
         "locked": false
        },
        {
         "code": ">>> match_6(\"abcdef\") == False\nTrue",
         "hidden": false,
         "locked": false
        },
        {
         "code": ">>> match_6(\"ABCDEF_ABCD\") == False\nTrue",
         "hidden": false,
         "locked": false
        }
       ],
       "scored": true,
       "setup": "",
       "teardown": "",
       "type": "doctest"
      }
     ]
    },
    "q17": {
     "name": "q17",
     "points": [
      0.5,
      0.5,
      1,
      1
     ],
     "suites": [
      {
       "cases": [
        {
         "code": ">>> match_7(\"_abc_\") == True\nTrue",
         "hidden": false,
         "locked": false
        },
        {
         "code": ">>> match_7(\"abd\") == False\nTrue",
         "hidden": false,
         "locked": false
        },
        {
         "code": ">>> match_7(\"bcd\") == False\nTrue",
         "hidden": false,
         "locked": false
        },
        {
         "code": ">>> match_7(\"_ncde\") == False\nTrue",
         "hidden": false,
         "locked": false
        }
       ],
       "scored": true,
       "setup": "",
       "teardown": "",
       "type": "doctest"
      }
     ]
    },
    "q18": {
     "name": "q18",
     "points": [
      0.5,
      0.5,
      1,
      1,
      1
     ],
     "suites": [
      {
       "cases": [
        {
         "code": ">>> match_8(\"ASJDKLFK10ASDO\") == False\nTrue",
         "hidden": false,
         "locked": false
        },
        {
         "code": ">>> match_8(\"ASJDKLFK0ASDo!!!!!!! !!!!!!!!!\") == True\nTrue",
         "hidden": false,
         "locked": false
        },
        {
         "code": ">>> match_8(\"JKLSDNM01IDKSL\") == False\nTrue",
         "hidden": false,
         "locked": false
        },
        {
         "code": ">>> match_8(\"ASDKJLdsi0SKLl\") == False\nTrue",
         "hidden": false,
         "locked": false
        },
        {
         "code": ">>> match_8(\"ASDJKL9380JKAL\") == True\nTrue",
         "hidden": false,
         "locked": false
        }
       ],
       "scored": true,
       "setup": "",
       "teardown": "",
       "type": "doctest"
      }
     ]
    },
    "q19": {
     "name": "q19",
     "points": 10,
     "suites": [
      {
       "cases": [
        {
         "code": ">>> match_9('WI-32-MAD-1232') == True\nTrue",
         "hidden": false,
         "locked": false
        },
        {
         "code": ">>> match_9('wi-23-EUC-1231') == False\nTrue",
         "hidden": false,
         "locked": false
        },
        {
         "code": ">>> match_9('MA-36-BOS-5465') == False\nTrue",
         "hidden": false,
         "locked": false
        },
        {
         "code": ">>> match_9('CA-56-LAX-7895') == False\nTrue",
         "hidden": false,
         "locked": false
        },
        {
         "code": ">>> match_9('WI-32-HOU-0000') == True\nTrue",
         "hidden": false,
         "locked": false
        },
        {
         "code": ">>> match_9('IL-32-CHI-4491') == True\nTrue",
         "hidden": false,
         "locked": false
        }
       ],
       "scored": true,
       "setup": "",
       "teardown": "",
       "type": "doctest"
      }
     ]
    }
   }
  }
 },
 "nbformat": 4,
 "nbformat_minor": 5
}
