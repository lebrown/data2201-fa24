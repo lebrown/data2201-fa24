{
 "cells": [
  {
   "cell_type": "code",
   "execution_count": null,
   "id": "d488f912",
   "metadata": {
    "deletable": false,
    "editable": false
   },
   "outputs": [],
   "source": [
    "# Initialize Otter\n",
    "import otter\n",
    "grader = otter.Notebook(\"lab11.ipynb\")"
   ]
  },
  {
   "cell_type": "markdown",
   "id": "fff835fc",
   "metadata": {},
   "source": [
    "# Lab 11: Least Squares \n",
    "\n",
    "**Recommended Readings**: \n",
    "\n",
    "* [The Regression Line](https://www.inferentialthinking.com/chapters/15/2/Regression_Line.html)\n",
    "* [Method of Least Squares](https://www.inferentialthinking.com/chapters/15/3/Method_of_Least_Squares.html)\n",
    "* [Least Squares Regression](https://www.inferentialthinking.com/chapters/15/4/Least_Squares_Regression.html)\n",
    "\n",
    "\n",
    "Please complete this notebook by filling in the cells provided. Before you begin, execute the following cell to setup the notebook by importing some helpful libraries. Each time you start your server, you will need to execute this cell again.\n",
    "\n",
    "For all problems that you must write explanations and sentences for, you **must** provide your answer in the designated space. **Moreover, throughout this homework and all future ones, please be sure to not re-assign variables throughout the notebook!** For example, if you use `max_temperature` in your answer to one question, do not reassign it later on. Otherwise, you will fail tests that you thought you were passing previously!\n",
    "\n",
    "\n",
    "**Note: This homework has hidden tests on it. That means even though the tests may say 100% passed, it doesn't mean your final grade will be 100%. We will be running more tests for correctness once everyone turns in the homework.**\n",
    "\n",
    "\n",
    "Directly sharing answers is not okay, but discussing problems with the course staff or with other students is encouraged. \n",
    "\n",
    "You should start early so that you have time to get help if you're stuck.\n"
   ]
  },
  {
   "cell_type": "code",
   "execution_count": null,
   "id": "d4d7e831",
   "metadata": {},
   "outputs": [],
   "source": [
    "# Run this cell to set up the notebook, but please don't change it.\n",
    "\n",
    "import pandas as pd\n",
    "import numpy as np\n",
    "import seaborn as sns\n",
    "import matplotlib.pyplot as plt\n",
    "\n",
    "# These lines do some fancy plotting magic.\n",
    "import matplotlib\n",
    "%matplotlib inline\n",
    "plt.style.use('fivethirtyeight')\n",
    "import warnings\n",
    "warnings.simplefilter('ignore', FutureWarning)\n",
    "from datetime import datetime"
   ]
  },
  {
   "cell_type": "markdown",
   "id": "38783284",
   "metadata": {},
   "source": [
    "<br/><br/>\n",
    "<hr style=\"border: 5px solid #8a8c8c;\" />\n",
    "<hr style=\"border: 1px solid #ffcd00;\" />\n",
    "\n",
    "## Part 1. NBA Spreads \n",
    "\n",
    "We will again use data coming for sports betting on NBA games. \n",
    "\n",
    "In a basketball game, each team scores some number of points.  Conventionally, the team playing at its own arena is called the \"home team\", and their opponent is called the \"away team\".  The winner is the team with more points at the end of the game.\n",
    "\n",
    "We can summarize what happened in a game by the \"**outcome**\", defined as the **the away team's score minus the home team's score**:\n",
    "\n",
    "$$\\text{outcome} = \\text{points scored by the away team} - \\text{points scored by the home team}$$\n",
    "\n",
    "If this number is positive, the away team won.  If it's negative, the home team won. \n",
    "\n",
    "In order to facilitate betting on games, analysts at casinos try to predict the outcome of the game. This prediction of the outcome is called the **spread.**\n"
   ]
  },
  {
   "cell_type": "code",
   "execution_count": null,
   "id": "9888e708",
   "metadata": {},
   "outputs": [],
   "source": [
    "spreads = pd.read_csv(\"spreads.csv\")\n",
    "spreads.head(10)"
   ]
  },
  {
   "cell_type": "markdown",
   "id": "6b948f3d",
   "metadata": {},
   "source": [
    "<!-- BEGIN QUESTION -->\n",
    "\n",
    "<br>\n",
    "\n",
    "---\n",
    "\n",
    "### Question 1.1 \n",
    "\n",
    "Create a scatter plot of the outcomes and spreads, with spreads on the horizontal axis.  \n",
    "\n",
    "*Note:* Make sure to label your axes. "
   ]
  },
  {
   "cell_type": "code",
   "execution_count": null,
   "id": "581060b9",
   "metadata": {
    "tags": []
   },
   "outputs": [],
   "source": [
    "# Create scatter plot\n",
    "    "
   ]
  },
  {
   "cell_type": "markdown",
   "id": "6ba0d103",
   "metadata": {},
   "source": [
    "<!-- END QUESTION -->\n",
    "\n",
    "<br>\n",
    "\n",
    "---\n",
    "\n",
    "### Question 1.2 \n",
    "\n",
    "You will create functions that can be used for this dataset and other datasets as well in order to convert to `standard_units`, calculate the `correlation`, `slope`, and `intercept`. "
   ]
  },
  {
   "cell_type": "code",
   "execution_count": null,
   "id": "c87b3aed",
   "metadata": {
    "tags": []
   },
   "outputs": [],
   "source": [
    "def standard_units(x):\n",
    "    # \"Convert any array of numbers to standard units.\"\n",
    "    return ...\n",
    "\n",
    "def correlation(df, x, y):\n",
    "    # Computes the correlation between columns x and y of DataFrame df\n",
    "    x_su = ...\n",
    "    y_su = ...\n",
    "    return ...\n",
    "\n",
    "def slope(df, x, y):\n",
    "    # Computes the slope of the regression line\n",
    "    r = ...\n",
    "    y_sd = ...\n",
    "    x_sd = ...\n",
    "    return ...\n",
    "    \n",
    "def intercept(df, x, y):\n",
    "    # Computes the intercept of the regression line\n",
    "    x_mean = ...\n",
    "    y_mean = ...\n",
    "    return ...\n",
    "    \n",
    "\n",
    "spreads_r = correlation(spreads, 'Spread', 'Outcome')\n",
    "spreads_slope = slope(spreads, 'Spread', 'Outcome')\n",
    "spreads_intercept = intercept(spreads, 'Spread', 'Outcome')"
   ]
  },
  {
   "cell_type": "code",
   "execution_count": null,
   "id": "9a1bc12d",
   "metadata": {
    "deletable": false,
    "editable": false
   },
   "outputs": [],
   "source": [
    "grader.check(\"q1_2\")"
   ]
  },
  {
   "cell_type": "markdown",
   "id": "a82a4dff",
   "metadata": {},
   "source": [
    "<!-- BEGIN QUESTION -->\n",
    "\n",
    "<br>\n",
    "\n",
    "---\n",
    "\n",
    "### Question 1.3 \n",
    "\n",
    "Suppose that we create another model that simply predicts the average outcome regardless of the value for spread. Does this new model minimize the least squared error? Why or why not?\n",
    "\n",
    "\n"
   ]
  },
  {
   "cell_type": "markdown",
   "id": "553d5659",
   "metadata": {},
   "source": [
    "*Answer Here*"
   ]
  },
  {
   "cell_type": "markdown",
   "id": "cbf6aefc",
   "metadata": {},
   "source": [
    "<!-- END QUESTION -->\n",
    "\n",
    "#### Fitting a Least-Squares Regression Line\n",
    "\n",
    "Recall that the least-squares regression line is the unique straight line that minimizes root mean squared error (RMSE) among all possible fit lines. Using this property, we can find the equation of the regression line by finding the pair of slope and intercept values that minimize root mean squared error. "
   ]
  },
  {
   "cell_type": "markdown",
   "id": "ad375dda",
   "metadata": {},
   "source": [
    "<br>\n",
    "\n",
    "---\n",
    "\n",
    "### Question 1.4 \n",
    "\n",
    "Define a function called `errors`.  It should take three arguments:\n",
    "1. a DataFrame `df` like `spreads` (with the same column names and meanings, but not necessarily the same data)\n",
    "2. the `slope` of a line (a number)\n",
    "3. the `intercept` of a line (a number).\n",
    "\n",
    "It should **return an array of the errors** made when a line with that slope and intercept is used to predict outcome from spread for each game in the given table.\n",
    "\n",
    "*Note*: Make sure you are returning an array of the errors, and not the RMSE. "
   ]
  },
  {
   "cell_type": "code",
   "execution_count": null,
   "id": "83395ed0",
   "metadata": {
    "tags": []
   },
   "outputs": [],
   "source": [
    "def errors(df, slope, intercept):\n",
    "    ...\n",
    "    "
   ]
  },
  {
   "cell_type": "code",
   "execution_count": null,
   "id": "9e91bafb",
   "metadata": {
    "deletable": false,
    "editable": false
   },
   "outputs": [],
   "source": [
    "grader.check(\"q1_4\")"
   ]
  },
  {
   "cell_type": "markdown",
   "id": "7dff245a",
   "metadata": {},
   "source": [
    "<br>\n",
    "\n",
    "---\n",
    "\n",
    "### Question 1.5 \n",
    "\n",
    "Using `errors`, compute the errors for the line with slope `0.5` and intercept `25` on the `spreads` dataset.  Name this array/Series `outcome_errors`.  Then, make a scatter plot of the errors. \n",
    "\n",
    "*Hint:* For the scatter plot of errors, plot the error for each outcome in the dataset.  Put the actual spread on the horizontal axis and the outcome error on the vertical axis. "
   ]
  },
  {
   "cell_type": "code",
   "execution_count": null,
   "id": "41f657fe",
   "metadata": {
    "tags": []
   },
   "outputs": [],
   "source": [
    "outcome_errors = ...\n",
    "..."
   ]
  },
  {
   "cell_type": "code",
   "execution_count": null,
   "id": "816bef75",
   "metadata": {
    "deletable": false,
    "editable": false
   },
   "outputs": [],
   "source": [
    "grader.check(\"q1_5\")"
   ]
  },
  {
   "cell_type": "markdown",
   "id": "fe7777e0",
   "metadata": {},
   "source": [
    "You should find that the errors are almost all negative.  That means our line is not the best fit to our data.  Let's find a better one."
   ]
  },
  {
   "cell_type": "markdown",
   "id": "84eddfe9",
   "metadata": {},
   "source": [
    "<br>\n",
    "\n",
    "---\n",
    "\n",
    "### Question 1.6 \n",
    "\n",
    "Define a function called `fit_line`.  It should take a DataFrame like `spreads` (with the same column names and meanings) as its argument.  It should return an array containing the slope (as the first element) and intercept (as the second element) of the least-squares regression line predicting outcome from spread for that table. \n",
    "\n",
    "*Hint*: Define a function `rmse` within `fit_line` that takes an array as its argument, where the first element of the array is a slope and the second element is an intercept. `rmse` will use the DataFrame passed into `fit_line` to compute predicted outcomes and then return the root mean squared error between the predicted and actual outcomes. Within `fit_line`, you can call `rmse` the way you would any other function.\n",
    "\n",
    "You will need to use the `minimize` function of [`scipy.optimize` library](https://docs.scipy.org/doc/scipy/reference/generated/scipy.optimize.minimize.html). \n",
    "\n",
    "*Hint*: The output of the minimize can be parsed to find the values that minimize the given function, `rmse`.  This output will be an array where the first element is the slope value, and second element is the intercept (just like the ordering for the `rmse` function. \n",
    "\n",
    "*Hint*: The default options can be used for the `minimize` function. \n"
   ]
  },
  {
   "cell_type": "code",
   "execution_count": null,
   "id": "3aaa3280",
   "metadata": {
    "tags": []
   },
   "outputs": [],
   "source": [
    "from scipy.optimize import minimize\n",
    "\n",
    "def fit_line(df):\n",
    "    # Your code may need more than 1 line below here.\n",
    "    def rmse(...):\n",
    "        return ... \n",
    "    return ... \n",
    "    \n",
    "# Here is an example call to your function.  To test your function,\n",
    "# figure out the right slope and intercept by hand.\n",
    "example_df = pd.DataFrame({\n",
    "    \"Spread\": np.array([0, 1]),\n",
    "    \"Outcome\": np.array([1, 3])})\n",
    "fit_line(example_df)"
   ]
  },
  {
   "cell_type": "code",
   "execution_count": null,
   "id": "4fb55e82",
   "metadata": {
    "deletable": false,
    "editable": false
   },
   "outputs": [],
   "source": [
    "grader.check(\"q1_6\")"
   ]
  },
  {
   "cell_type": "markdown",
   "id": "53383e31",
   "metadata": {},
   "source": [
    "<br>\n",
    "\n",
    "---\n",
    "\n",
    "### Question 1.7 \n",
    "\n",
    "Use `fit_line` to fit a line to `spreads`, and assign the output to `best_line`. Assign the first and second elements in `best_line` to `best_line_slope` and `best_line_intercept`, respectively.\n",
    "\n",
    "Then, set `new_errors` to the array of errors that we get by calling `errors` with our new line. The provided code will graph the corresponding residual plot with a best fit line. \n",
    "\n",
    "*Hint:* Make sure that the residual plot makes sense. What qualities should the best fit line of a residual plot have?"
   ]
  },
  {
   "cell_type": "code",
   "execution_count": null,
   "id": "dcb3d3a9",
   "metadata": {
    "tags": []
   },
   "outputs": [],
   "source": [
    "best_line = ...\n",
    "best_line_slope = ...\n",
    "best_line_intercept = ...\n",
    "\n",
    "new_errors = ...\n",
    "\n",
    "# This code displays the residual plot, given your values for the best_line_slope and best_line_intercept\n",
    "sns.regplot(pd.DataFrame({\"Spread\": spreads[\"Spread\"], \"Outcome errors\":  new_errors}), \n",
    "            x='Spread', y='Outcome errors')\n",
    "\n",
    "# This just prints your slope and intercept\n",
    "\"Slope: {:g} | Intercept: {:g}\".format(best_line_slope, best_line_intercept)"
   ]
  },
  {
   "cell_type": "code",
   "execution_count": null,
   "id": "e0325e3b",
   "metadata": {
    "deletable": false,
    "editable": false
   },
   "outputs": [],
   "source": [
    "grader.check(\"q1_7\")"
   ]
  },
  {
   "cell_type": "markdown",
   "id": "dcf753d9",
   "metadata": {},
   "source": [
    "<br><br>\n",
    "\n",
    "<hr style=\"border: 5px solid #8a8c8c;\" />\n",
    "<hr style=\"border: 1px solid #ffcd00;\" />\n",
    "\n",
    "## Part 2 - Plovers \n",
    "\n",
    "The [Snowy Plover](https://www.audubon.org/field-guide/bird/snowy-plover) is a tiny bird that lives on the coast in parts of California and elsewhere. It is so small that it is vulnerable to many predators, including people and dogs that don't look where they are stepping when they go to the beach. It is considered endangered in many parts of the U.S.\n",
    "\n",
    "The data are about the eggs and newly-hatched chicks of the Snowy Plover. Here's a picture of [a parent bird incubating its eggs](http://cescos.fau.edu/jay/eps/articles/snowyplover.html).\n",
    "\n",
    "<img src=\"plover_and_eggs.jpeg\" alt=\"Plover and Eggs\">\n",
    "\n",
    "The data were collected at the Point Reyes National Seashore by a former student at UC Berkely. The goal was to see how the size of an egg could be used to predict the weight of the resulting chick. The bigger the newly-hatched chick, the more likely it is to survive.\n",
    "\n",
    "<img src=\"plover_and_chick.jpeg\" alt=\"Plover and Chick\">\n",
    "\n",
    "Each row of the table below corresponds to one Snowy Plover egg and the resulting chick. Note how tiny the bird is:\n",
    "\n",
    "- `Egg Length` and `Egg Breadth` (widest diameter) are measured in millimeters\n",
    "- `Egg Weight` and `Bird Weight` are measured in grams; for comparison, a standard paper clip weighs about one gram"
   ]
  },
  {
   "cell_type": "code",
   "execution_count": null,
   "id": "d82aa362",
   "metadata": {},
   "outputs": [],
   "source": [
    "birds = pd.read_csv('snowy_plover.csv')\n",
    "birds.head(8)"
   ]
  },
  {
   "cell_type": "markdown",
   "id": "02f5b620",
   "metadata": {},
   "source": [
    "In this investigation, we will be using the egg weight to predict bird weight. Run the cell below to create a scatter plot of the egg weights and bird weights, along with their line of best fit."
   ]
  },
  {
   "cell_type": "code",
   "execution_count": null,
   "id": "61911b6c",
   "metadata": {},
   "outputs": [],
   "source": [
    "sns.scatterplot(birds, x='Egg Weight', y='Bird Weight');"
   ]
  },
  {
   "cell_type": "markdown",
   "id": "3ef2c6ad",
   "metadata": {},
   "source": [
    "Looking at the scatter plot of our sample, we observe a linear relationship between egg weight and bird weight. "
   ]
  },
  {
   "cell_type": "markdown",
   "id": "866cc6f6",
   "metadata": {},
   "source": [
    "<br>\n",
    "\n",
    "---\n",
    "\n",
    "### Question 2.1 \n",
    "\n",
    "Using the functions you defined above determine the correlation between `Egg Weight` and `Bird Weight`. \n",
    "\n",
    "The functions you create should be generic to work on not only the `spreads` dataset above, but this new `birds` dataset as well."
   ]
  },
  {
   "cell_type": "code",
   "execution_count": null,
   "id": "f3b0862e",
   "metadata": {
    "tags": []
   },
   "outputs": [],
   "source": [
    "birds_r = ..."
   ]
  },
  {
   "cell_type": "code",
   "execution_count": null,
   "id": "c0084b75",
   "metadata": {
    "deletable": false,
    "editable": false
   },
   "outputs": [],
   "source": [
    "grader.check(\"q2_1\")"
   ]
  },
  {
   "cell_type": "markdown",
   "id": "ac2da1d7",
   "metadata": {},
   "source": [
    "<br>\n",
    "\n",
    "---\n",
    "\n",
    "### Question 2.2 \n",
    "\n",
    "Next, you will determine the slope and intercept for the least squares regression line.  If you try using the `fit_line` function implemented in Question 1.6, you will get an error, because it expects a DataFrame like `spreads` in the `errors` function (implemented in Question 1.4). \n",
    "\n",
    "Therefore, create a generic `errors_generic` function that takes in a DataFrame (where the first column being the feature  and the second column being what is to be predicted), the slope and the intercept. \n",
    "\n",
    "Create a new function `fit_line_generic` that will work for a DataFrame (where the first column being the feature  and the second column being what is to be predicted).\n",
    "\n",
    "Use the new `errors_generic` function and `fit_line_generic` to predict the slope and intercept for the plover data. "
   ]
  },
  {
   "cell_type": "code",
   "execution_count": null,
   "id": "88ca2d0f",
   "metadata": {
    "tags": []
   },
   "outputs": [],
   "source": [
    "def errors_generic(df, slope, intercept):\n",
    "    ...\n",
    "\n",
    "def fit_line_generic(df):\n",
    "    def rmse(...):\n",
    "        return ... \n",
    "    return ... \n",
    "    \n",
    "\n",
    "...\n",
    "[birds_slope, birds_intercept]"
   ]
  },
  {
   "cell_type": "code",
   "execution_count": null,
   "id": "91d9bf94",
   "metadata": {
    "deletable": false,
    "editable": false
   },
   "outputs": [],
   "source": [
    "grader.check(\"q2_2\")"
   ]
  },
  {
   "cell_type": "markdown",
   "id": "9b0f3e1d",
   "metadata": {},
   "source": [
    "<br><br>\n",
    "\n",
    "<hr style=\"border: 5px solid #8a8c8c;\" />\n",
    "<hr style=\"border: 1px solid #ffcd00;\" />\n",
    "\n",
    "## Congratulations! You have finished Lab 11!\n",
    "\n",
    "**Important submission steps:** \n",
    "1. Run the tests and verify that they all pass.\n",
    "2. Choose **Save Notebook** from the **File** menu, then **run the final cell**. \n",
    "3. Click the link to download the zip file.\n",
    "4. Then submit the zip file to the corresponding assignment according to your instructor's directions. \n",
    "\n",
    "**It is your responsibility to make sure your work is saved before running the last cell.**"
   ]
  },
  {
   "cell_type": "markdown",
   "id": "256ef529",
   "metadata": {
    "deletable": false,
    "editable": false
   },
   "source": [
    "## Submission\n",
    "\n",
    "Make sure you have run all cells in your notebook in order before running the cell below, so that all images/graphs appear in the output. The cell below will generate a zip file for you to submit. **Please save before exporting!**"
   ]
  },
  {
   "cell_type": "code",
   "execution_count": null,
   "id": "6e1f684f",
   "metadata": {
    "deletable": false,
    "editable": false
   },
   "outputs": [],
   "source": [
    "# Save your notebook first, then run this cell to export your submission.\n",
    "grader.export(run_tests=True)"
   ]
  },
  {
   "cell_type": "markdown",
   "id": "805617d0",
   "metadata": {},
   "source": [
    " "
   ]
  }
 ],
 "metadata": {
  "kernelspec": {
   "display_name": "Python [conda env:data1202] *",
   "language": "python",
   "name": "conda-env-data1202-py"
  },
  "language_info": {
   "codemirror_mode": {
    "name": "ipython",
    "version": 3
   },
   "file_extension": ".py",
   "mimetype": "text/x-python",
   "name": "python",
   "nbconvert_exporter": "python",
   "pygments_lexer": "ipython3",
   "version": "3.10.12"
  },
  "otter": {
   "OK_FORMAT": true,
   "assignment_name": "lab11",
   "tests": {
    "q1_2": {
     "name": "q1_2",
     "points": [
      1,
      1,
      1,
      1,
      1.5
     ],
     "suites": [
      {
       "cases": [
        {
         "code": ">>> np.allclose(standard_units([1,2,3,4,5]), \n...             [-1.41421356, -0.70710678,  0.        ,  0.70710678,  1.41421356])\nTrue",
         "hidden": false,
         "locked": false
        },
        {
         "code": ">>> np.allclose(standard_units(pd.Series([8, 5, 10, 3])), \n...             [0.557086, -0.557086, 1.299867, -1.299867])\nTrue",
         "hidden": false,
         "locked": false
        },
        {
         "code": ">>> np.isclose(correlation(pd.DataFrame({'a': [1,2,3], 'b': [4,5,6]}), 'a', 'b'), 0.9999999999999999)\nTrue",
         "hidden": false,
         "locked": false
        },
        {
         "code": ">>> np.isclose(correlation(pd.DataFrame({'a': [1, 2, 3, 4, 5], 'b': [-4, -1, 2, 1, -4]}), 'a', 'b'), \n...            0.11396057)\nTrue",
         "hidden": false,
         "locked": false
        },
        {
         "code": ">>> -1 <= spreads_r <= 1\nTrue",
         "hidden": false,
         "locked": false
        }
       ],
       "scored": true,
       "setup": "",
       "teardown": "",
       "type": "doctest"
      }
     ]
    },
    "q1_4": {
     "name": "q1_4",
     "points": [
      2,
      2,
      2
     ],
     "suites": [
      {
       "cases": [
        {
         "code": ">>> type(errors(spreads, 0, 0)[0]) in set([float, np.float32, np.float64])\nTrue",
         "hidden": false,
         "locked": false
        },
        {
         "code": ">>> len(errors(spreads, 0, 9)) == 1230\nTrue",
         "hidden": false,
         "locked": false
        },
        {
         "code": ">>> type(errors(spreads, 0, 0)) == pd.core.series.Series\nTrue",
         "hidden": false,
         "locked": false
        }
       ],
       "scored": true,
       "setup": "",
       "teardown": "",
       "type": "doctest"
      }
     ]
    },
    "q1_5": {
     "name": "q1_5",
     "points": [
      2
     ],
     "suites": [
      {
       "cases": [
        {
         "code": ">>> np.round(outcome_errors[0], 2) == -25.25\nTrue",
         "hidden": false,
         "locked": false
        }
       ],
       "scored": true,
       "setup": "",
       "teardown": "",
       "type": "doctest"
      }
     ]
    },
    "q1_6": {
     "name": "q1_6",
     "points": [
      2,
      2,
      2
     ],
     "suites": [
      {
       "cases": [
        {
         "code": ">>> type(fit_line(example_df)) == np.ndarray\nTrue",
         "hidden": false,
         "locked": false
        },
        {
         "code": ">>> type(fit_line(example_df)[0]) in set([float, np.float32, np.float64])\nTrue",
         "hidden": false,
         "locked": false
        },
        {
         "code": ">>> type(fit_line(example_df)[1]) in set([float, np.float32, np.float64])\nTrue",
         "hidden": false,
         "locked": false
        }
       ],
       "scored": true,
       "setup": "",
       "teardown": "",
       "type": "doctest"
      }
     ]
    },
    "q1_7": {
     "name": "q1_7",
     "points": [
      1
     ],
     "suites": [
      {
       "cases": [
        {
         "code": ">>> len(new_errors) == 1230\nTrue",
         "hidden": false,
         "locked": false
        }
       ],
       "scored": true,
       "setup": "",
       "teardown": "",
       "type": "doctest"
      }
     ]
    },
    "q2_1": {
     "name": "q2_1",
     "points": [
      1
     ],
     "suites": [
      {
       "cases": [
        {
         "code": ">>> -1 <= birds_r <= 1\nTrue",
         "hidden": false,
         "locked": false
        }
       ],
       "scored": true,
       "setup": "",
       "teardown": "",
       "type": "doctest"
      }
     ]
    },
    "q2_2": {
     "name": "q2_2",
     "points": [
      2,
      2,
      2
     ],
     "suites": [
      {
       "cases": [
        {
         "code": ">>> type(fit_line_generic(pd.DataFrame({'x': np.array([0, 1]), 'y': np.array([1, 3])}))) == np.ndarray\nTrue",
         "hidden": false,
         "locked": false
        },
        {
         "code": ">>> len(fit_line_generic(pd.DataFrame({'x': np.array([0, 1]), 'y': np.array([1, 3])}))) == 2\nTrue",
         "hidden": false,
         "locked": false
        },
        {
         "code": ">>> np.allclose(fit_line_generic(pd.DataFrame({'x': np.array([0, 1]), 'y': np.array([1, 3])})), \n...             np.array([2, 1]))\nTrue",
         "hidden": false,
         "locked": false
        }
       ],
       "scored": true,
       "setup": "",
       "teardown": "",
       "type": "doctest"
      }
     ]
    }
   }
  }
 },
 "nbformat": 4,
 "nbformat_minor": 5
}
