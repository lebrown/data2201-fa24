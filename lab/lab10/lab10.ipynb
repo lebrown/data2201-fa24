{
 "cells": [
  {
   "cell_type": "code",
   "execution_count": null,
   "id": "9169b678",
   "metadata": {
    "deletable": false,
    "editable": false
   },
   "outputs": [],
   "source": [
    "# Initialize Otter\n",
    "import otter\n",
    "grader = otter.Notebook(\"lab10.ipynb\")"
   ]
  },
  {
   "cell_type": "markdown",
   "id": "e8ae8e59",
   "metadata": {},
   "source": [
    "# Lab 10: Linear Regression"
   ]
  },
  {
   "cell_type": "markdown",
   "id": "8a9c6278",
   "metadata": {},
   "source": [
    "\n",
    "**Recommended Readings**: \n",
    "\n",
    "* [The Regression Line](https://www.inferentialthinking.com/chapters/15/2/Regression_Line.html)\n",
    "* [Method of Least Squares](https://www.inferentialthinking.com/chapters/15/3/Method_of_Least_Squares.html)\n",
    "* [Least Squares Regression](https://www.inferentialthinking.com/chapters/15/4/Least_Squares_Regression.html)"
   ]
  },
  {
   "cell_type": "markdown",
   "id": "87306499",
   "metadata": {},
   "source": [
    "Please complete this notebook by filling in the cells provided. Before you begin, execute the following cell to setup the notebook by importing some helpful libraries. Each time you start your server, you will need to execute this cell again.\n",
    "\n",
    "For all problems that you must write explanations and sentences for, you **must** provide your answer in the designated space. **Moreover, throughout this homework and all future ones, please be sure to not re-assign variables throughout the notebook!** For example, if you use `max_temperature` in your answer to one question, do not reassign it later on. Otherwise, you will fail tests that you thought you were passing previously!\n",
    "\n",
    "\n",
    "**Note: This homework has hidden tests on it. That means even though the tests may say 100% passed, it doesn't mean your final grade will be 100%. We will be running more tests for correctness once everyone turns in the homework.**\n",
    "\n",
    "\n",
    "Directly sharing answers is not okay, but discussing problems with the course staff or with other students is encouraged. \n",
    "\n",
    "You should start early so that you have time to get help if you're stuck."
   ]
  },
  {
   "cell_type": "code",
   "execution_count": null,
   "id": "e255a185",
   "metadata": {},
   "outputs": [],
   "source": [
    "# Run this cell to set up the notebook, but please don't change it.\n",
    "\n",
    "import pandas as pd\n",
    "import numpy as np\n",
    "import seaborn as sns\n",
    "import matplotlib.pyplot as plt\n",
    "\n",
    "# These lines do some fancy plotting magic.\n",
    "import matplotlib\n",
    "%matplotlib inline\n",
    "import matplotlib.pyplot as plt\n",
    "plt.style.use('fivethirtyeight')\n",
    "import warnings\n",
    "warnings.simplefilter('ignore', FutureWarning)\n",
    "from datetime import datetime"
   ]
  },
  {
   "cell_type": "markdown",
   "id": "646ca563",
   "metadata": {},
   "source": [
    "<br/><br/>\n",
    "<hr style=\"border: 5px solid #8a8c8c;\" />\n",
    "<hr style=\"border: 1px solid #ffcd00;\" />\n",
    "\n",
    "## Part 1. Triple Jump Distances vs. Vertical Jump Heights "
   ]
  },
  {
   "cell_type": "markdown",
   "id": "8d141fbe",
   "metadata": {},
   "source": [
    "Does skill in one sport imply skill in a related sport?  The answer might be different for different activities. Let's find out whether it's true for the [triple jump](https://en.wikipedia.org/wiki/Triple_jump) (a horizontal jump similar to a long jump) and the [vertical jump](https://en.wikipedia.org/wiki/Vertical_jump).  Since we're learning about linear regression, we will look specifically for a *linear* association between skill level in the two sports.\n",
    "\n",
    "The following data was collected by observing 40 collegiate-level soccer players. Each athlete's distances in both events were measured in centimeters. Run the cell below to load the data."
   ]
  },
  {
   "cell_type": "code",
   "execution_count": null,
   "id": "1b1e40e5",
   "metadata": {
    "ExecuteTime": {
     "end_time": "2018-04-03T22:42:22.463984Z",
     "start_time": "2018-04-03T22:42:22.455963Z"
    }
   },
   "outputs": [],
   "source": [
    "# Run this cell to load the data\n",
    "jumps = pd.read_csv('triple_vertical.csv')\n",
    "jumps.head(10)"
   ]
  },
  {
   "cell_type": "markdown",
   "id": "2cf67554",
   "metadata": {},
   "source": [
    "<br>\n",
    "\n",
    "--- \n",
    "\n",
    "### Question 1.1 \n",
    "\n",
    "Create a function `standard_units` that converts the values in the array or DataSeries `data` to standard units. \n"
   ]
  },
  {
   "cell_type": "code",
   "execution_count": null,
   "id": "f121cc1c",
   "metadata": {
    "tags": []
   },
   "outputs": [],
   "source": [
    "def standard_units(data):\n",
    "    ..."
   ]
  },
  {
   "cell_type": "code",
   "execution_count": null,
   "id": "aaab4e68",
   "metadata": {
    "deletable": false,
    "editable": false
   },
   "outputs": [],
   "source": [
    "grader.check(\"q1_1\")"
   ]
  },
  {
   "cell_type": "markdown",
   "id": "5e53a3c0",
   "metadata": {},
   "source": [
    "<br>\n",
    "\n",
    "--- \n",
    "\n",
    "### Question 1.2\n",
    "\n",
    "Now, using the `standard_units` function, define the function `correlation` which computes the correlation between `x` and `y` (where `x` and `y` can either be arrays or DataSeries). \n"
   ]
  },
  {
   "cell_type": "code",
   "execution_count": null,
   "id": "06df92da",
   "metadata": {
    "tags": []
   },
   "outputs": [],
   "source": [
    "def correlation(x, y):\n",
    "    ..."
   ]
  },
  {
   "cell_type": "code",
   "execution_count": null,
   "id": "4eb3aec4",
   "metadata": {
    "deletable": false,
    "editable": false
   },
   "outputs": [],
   "source": [
    "grader.check(\"q1_2\")"
   ]
  },
  {
   "cell_type": "markdown",
   "id": "1c8d26e7",
   "metadata": {},
   "source": [
    "<!-- BEGIN QUESTION -->\n",
    "\n",
    "<br>\n",
    "\n",
    "---\n",
    "\n",
    "### Question 1.3\n",
    "\n",
    "Before running a regression, it's important to see what the data looks like, because our eyes are good at picking out unusual patterns in data.  Draw a scatter plot, **that includes the regression line**, with the triple jump distances on the horizontal axis and the vertical jump heights on vertical axis. \n",
    "\n",
    "See the documentation on `seaborn's regplot` [here](https://seaborn.pydata.org/generated/seaborn.regplot.html#seaborn.regplot) for instructions on how to have Python draw the regression line automatically.\n",
    "\n",
    "\n"
   ]
  },
  {
   "cell_type": "code",
   "execution_count": null,
   "id": "628ef6e9",
   "metadata": {
    "ExecuteTime": {
     "end_time": "2018-04-03T07:28:04.288689Z",
     "start_time": "2018-04-03T07:28:04.108660Z"
    },
    "deletable": false,
    "manual_problem_id": "jumping_1",
    "tags": []
   },
   "outputs": [],
   "source": [
    "..."
   ]
  },
  {
   "cell_type": "markdown",
   "id": "974916a0",
   "metadata": {},
   "source": [
    "<!-- END QUESTION -->\n",
    "\n",
    "<!-- BEGIN QUESTION -->\n",
    "\n",
    "<br> \n",
    "\n",
    "---\n",
    "\n",
    "### Question 1.4\n",
    "\n",
    "Does the correlation coefficient $r$ look closest to 0, .5, or -.5? Use the visualization to explain. \n"
   ]
  },
  {
   "cell_type": "markdown",
   "id": "db958534",
   "metadata": {},
   "source": [
    "*Fill in your answer here*"
   ]
  },
  {
   "cell_type": "markdown",
   "id": "27864154",
   "metadata": {},
   "source": [
    "<!-- END QUESTION -->\n",
    "\n",
    "<br>\n",
    "\n",
    "---\n",
    "\n",
    "### Question 1.5\n",
    "\n",
    "Create a function called `parameter_estimates` that takes in the argument `df`, a two-column DataFrame where the first column is the x-axis and the second column is the y-axis. It should return an array with three elements: the **(1) correlation coefficient** of the two columns and the **(2) slope** and **(3) intercept** of the regression line that predicts the second column from the first, in original units. \n",
    "\n",
    "*Hint:* This is a rare occasion where it’s better to implement the function using column indices instead of column names, in order to be able to call this function on any table. \n"
   ]
  },
  {
   "cell_type": "code",
   "execution_count": null,
   "id": "3a9db72b",
   "metadata": {
    "ExecuteTime": {
     "end_time": "2018-04-03T22:42:28.451495Z",
     "start_time": "2018-04-03T22:42:28.441469Z"
    },
    "for_assignment_type": "solution",
    "tags": []
   },
   "outputs": [],
   "source": [
    "def parameter_estimates(df):\n",
    "    ...\n",
    "    r = ... \n",
    "    slope = ...\n",
    "    intercept = ...\n",
    "    return np.array([r, slope, intercept])\n",
    "    \n",
    "\n",
    "parameters = parameter_estimates(jumps) \n",
    "print('r:', parameters.item(0), '; slope:', parameters.item(1), '; intercept:', parameters.item(2))"
   ]
  },
  {
   "cell_type": "code",
   "execution_count": null,
   "id": "bbe1dbbf",
   "metadata": {
    "deletable": false,
    "editable": false
   },
   "outputs": [],
   "source": [
    "grader.check(\"q1_5\")"
   ]
  },
  {
   "cell_type": "markdown",
   "id": "656b1b20",
   "metadata": {},
   "source": [
    "<br>\n",
    "\n",
    "---\n",
    "\n",
    "### Question 1.6\n",
    "\n",
    "Now suppose you want to go the other way and predict a triple jump distance given a vertical jump distance. What would the regression parameters of this linear model be? How do they compare to the regression parameters from the model where you were predicting vertical jump distance given a triple jump distance (in Question 1.5)? \n",
    "\n",
    "Set `regression_changes` to an array of 3 elements, with each element corresponding to whether or not the corresponding item returned by `parameter_estimates` changes when switching vertical and triple as $x$ and $y$. For example, if $r$ changes, the slope changes, but the intercept wouldn't change, the `regression_changes` would be assigned to `np.array([True, True, False])`.\n",
    "\n",
    "*Hint*: Try to answer this question without running any code. \n"
   ]
  },
  {
   "cell_type": "code",
   "execution_count": null,
   "id": "c482e562",
   "metadata": {
    "tags": []
   },
   "outputs": [],
   "source": [
    "regression_changes = ...\n",
    "regression_changes"
   ]
  },
  {
   "cell_type": "code",
   "execution_count": null,
   "id": "244305d3",
   "metadata": {
    "deletable": false,
    "editable": false
   },
   "outputs": [],
   "source": [
    "grader.check(\"q1_6\")"
   ]
  },
  {
   "cell_type": "markdown",
   "id": "a60f74a6",
   "metadata": {},
   "source": [
    "<br>\n",
    "\n",
    "---\n",
    "\n",
    "### Question 1.7 \n",
    "\n",
    "Let's use the `parameters` (from Question 1.5) to create a function `predict_vertical` that will predict what certain athletes' vertical jump heights would be given their triple jump distances. \n",
    "\n",
    "*Note:* Make sure your function works for a single triple jump value or a array/Series-like object. "
   ]
  },
  {
   "cell_type": "code",
   "execution_count": null,
   "id": "bf75b3ab",
   "metadata": {
    "tags": []
   },
   "outputs": [],
   "source": [
    "def predict_vertical(triple, parameters):\n",
    "    # Predict vertical jump distance using the triple jump value and parameters\n",
    "    # from Question 1.5\n",
    "    ...\n",
    "    \n",
    "\n",
    "pred_vert = predict_vertical(jumps.iloc[0, 0], parameters)\n",
    "pred_vert"
   ]
  },
  {
   "cell_type": "code",
   "execution_count": null,
   "id": "e2f053c2",
   "metadata": {
    "deletable": false,
    "editable": false
   },
   "outputs": [],
   "source": [
    "grader.check(\"q1_7\")"
   ]
  },
  {
   "cell_type": "markdown",
   "id": "588b74ab",
   "metadata": {},
   "source": [
    "<br>\n",
    "\n",
    "---\n",
    "\n",
    "### Question 1.8\n",
    "\n",
    "Let's use `parameters` (from Question 1.5) to predict what certain athletes' vertical jump heights would be given their triple jump distances. \n",
    "\n",
    "The world record for the triple jump distance is 18.29 *meters* by Johnathan Edwards. What is the prediction for Edwards' vertical jump using this line?\n",
    "\n",
    "*Hint:* Make sure to convert from meters to centimeters!\n"
   ]
  },
  {
   "cell_type": "code",
   "execution_count": null,
   "id": "3a388036",
   "metadata": {
    "deletable": false,
    "tags": []
   },
   "outputs": [],
   "source": [
    "triple_record_vert_est = ...\n",
    "print(\"Predicted vertical jump distance: {:f} centimeters\".format(triple_record_vert_est))"
   ]
  },
  {
   "cell_type": "code",
   "execution_count": null,
   "id": "655d78d4",
   "metadata": {
    "deletable": false,
    "editable": false
   },
   "outputs": [],
   "source": [
    "grader.check(\"q1_8\")"
   ]
  },
  {
   "cell_type": "markdown",
   "id": "de7d41ba",
   "metadata": {},
   "source": [
    "<!-- BEGIN QUESTION -->\n",
    "\n",
    "<br>\n",
    "\n",
    "---\n",
    "\n",
    "### Question 1.9\n",
    "\n",
    "Do you think it makes sense to use this line to predict Edwards' vertical jump? \n",
    "\n",
    "*Hint:* Compare Edwards' triple jump distance to the triple jump distances in `jumps`. Is it relatively similar to the rest of the data (shown in Question 1.3)? \n"
   ]
  },
  {
   "cell_type": "markdown",
   "id": "b15c6788",
   "metadata": {},
   "source": [
    "*Enter your answer here*"
   ]
  },
  {
   "cell_type": "markdown",
   "id": "67757928",
   "metadata": {},
   "source": [
    "<!-- END QUESTION -->\n",
    "\n",
    "<br>\n",
    "\n",
    "---\n",
    "\n",
    "### Question 1.10 \n",
    "\n",
    "Create a function `error_vertical` to calculate the error from the true vertical jump to the predicted vertical jump. The function has inputs of triple jump values and parameters from Question 1.5. \n",
    "\n",
    "Find the maximum error (absolute) and also identify the data point with the highest error (absolute). "
   ]
  },
  {
   "cell_type": "code",
   "execution_count": null,
   "id": "9529b46d",
   "metadata": {
    "tags": []
   },
   "outputs": [],
   "source": [
    "def error_vertical(triple, parameters):\n",
    "    # Calculate error of true vertical - predicted vertical \n",
    "    ...\n",
    "    \n",
    "\n",
    "vert_error = error_vertical(jumps.iloc[:,1], parameters) \n",
    "max_vert_error = ...\n",
    "max_vert_error_data = ..."
   ]
  },
  {
   "cell_type": "code",
   "execution_count": null,
   "id": "122dd40f",
   "metadata": {
    "deletable": false,
    "editable": false
   },
   "outputs": [],
   "source": [
    "grader.check(\"q1_10\")"
   ]
  },
  {
   "cell_type": "markdown",
   "id": "c59a50a3",
   "metadata": {},
   "source": [
    "<br><br>\n",
    "\n",
    "<hr style=\"border: 5px solid #8a8c8c;\" />\n",
    "<hr style=\"border: 1px solid #ffcd00;\" />\n",
    "\n",
    "## Congratulations! You have finished Lab 10!\n",
    "\n",
    "\n",
    "Congrats! You are finished with this assignment.\n",
    "\n",
    "Below, you will see a cell. Running this cell will automatically generate a zip file with your autograded answers. \n",
    "\n",
    "**You are responsible for ensuring your submission follows our requirements. We will not be granting regrade requests nor extensions to submissions that don't follow instructions.** If you encounter any difficulties with submission, please don't hesitate to reach out to staff prior to the deadline. \n"
   ]
  },
  {
   "cell_type": "markdown",
   "id": "cc8fb069",
   "metadata": {
    "deletable": false,
    "editable": false
   },
   "source": [
    "## Submission\n",
    "\n",
    "Make sure you have run all cells in your notebook in order before running the cell below, so that all images/graphs appear in the output. The cell below will generate a zip file for you to submit. **Please save before exporting!**"
   ]
  },
  {
   "cell_type": "code",
   "execution_count": null,
   "id": "152978ac",
   "metadata": {
    "deletable": false,
    "editable": false
   },
   "outputs": [],
   "source": [
    "# Save your notebook first, then run this cell to export your submission.\n",
    "grader.export(run_tests=True)"
   ]
  },
  {
   "cell_type": "markdown",
   "id": "d6fdf926",
   "metadata": {},
   "source": [
    " "
   ]
  }
 ],
 "metadata": {
  "kernelspec": {
   "display_name": "Python [conda env:data1202] *",
   "language": "python",
   "name": "conda-env-data1202-py"
  },
  "language_info": {
   "codemirror_mode": {
    "name": "ipython",
    "version": 3
   },
   "file_extension": ".py",
   "mimetype": "text/x-python",
   "name": "python",
   "nbconvert_exporter": "python",
   "pygments_lexer": "ipython3",
   "version": "3.10.12"
  },
  "otter": {
   "OK_FORMAT": true,
   "assignment_name": "lab10",
   "tests": {
    "q1_1": {
     "name": "q1_1",
     "points": [
      1,
      1,
      1,
      2
     ],
     "suites": [
      {
       "cases": [
        {
         "code": ">>> np.allclose(standard_units([1,2,3,4,5]), \n...             [-1.41421356, -0.70710678,  0.        ,  0.70710678,  1.41421356])\nTrue",
         "hidden": false,
         "locked": false
        },
        {
         "code": ">>> np.isclose(np.mean(standard_units([1,2,3,4,5])), 0)\nTrue",
         "hidden": false,
         "locked": false
        },
        {
         "code": ">>> np.isclose(np.std(standard_units([1,2,3,4,5])), 0.9999999999999999)\nTrue",
         "hidden": false,
         "locked": false
        },
        {
         "code": ">>> np.allclose(standard_units(pd.Series([8, 5, 10, 3])), \n...             [0.557086, -0.557086, 1.299867, -1.299867])\nTrue",
         "hidden": false,
         "locked": false
        }
       ],
       "scored": true,
       "setup": "",
       "teardown": "",
       "type": "doctest"
      }
     ]
    },
    "q1_10": {
     "name": "q1_10",
     "points": [
      1,
      1,
      1,
      1
     ],
     "suites": [
      {
       "cases": [
        {
         "code": ">>> type(vert_error) == pd.core.series.Series\nTrue",
         "hidden": false,
         "locked": false
        },
        {
         "code": ">>> type(max_vert_error_data) == pd.core.series.Series\nTrue",
         "hidden": false,
         "locked": false
        },
        {
         "code": ">>> len(vert_error) == 40\nTrue",
         "hidden": false,
         "locked": false
        },
        {
         "code": ">>> len(max_vert_error_data) == 2\nTrue",
         "hidden": false,
         "locked": false
        }
       ],
       "scored": true,
       "setup": "",
       "teardown": "",
       "type": "doctest"
      }
     ]
    },
    "q1_2": {
     "name": "q1_2",
     "points": [
      1,
      1,
      1,
      1
     ],
     "suites": [
      {
       "cases": [
        {
         "code": ">>> np.isclose(correlation([1,2,3], [4,5,6]), 0.9999999999999999)\nTrue",
         "hidden": false,
         "locked": false
        },
        {
         "code": ">>> np.isclose(correlation(pd.Series([1, 2, 3]), pd.Series([4, 5, 6])), 0.999999999)\nTrue",
         "hidden": false,
         "locked": false
        },
        {
         "code": ">>> np.isclose(correlation([1, 3, 5], [5, 2, 0]), -0.99339926)\nTrue",
         "hidden": false,
         "locked": false
        },
        {
         "code": ">>> np.isclose(correlation(pd.Series([1, 2, 3, 4, 5]), pd.Series([-4, -1, 2, 1, -4])), \n...            0.11396057)\nTrue",
         "hidden": false,
         "locked": false
        }
       ],
       "scored": true,
       "setup": "",
       "teardown": "",
       "type": "doctest"
      }
     ]
    },
    "q1_5": {
     "name": "q1_5",
     "points": [
      1,
      1,
      3
     ],
     "suites": [
      {
       "cases": [
        {
         "code": ">>> len(parameters) == 3\nTrue",
         "hidden": false,
         "locked": false
        },
        {
         "code": ">>> # Make sure your function is returning an array!\n>>> type(parameters) == np.ndarray\nTrue",
         "hidden": false,
         "locked": false
        },
        {
         "code": ">>> np.isclose(parameters.item(0), 0.8343076972837598)\nTrue",
         "hidden": false,
         "locked": false
        }
       ],
       "scored": true,
       "setup": "",
       "teardown": "",
       "type": "doctest"
      }
     ]
    },
    "q1_6": {
     "name": "q1_6",
     "points": [
      1,
      1
     ],
     "suites": [
      {
       "cases": [
        {
         "code": ">>> # Make sure regression_changes is a numpy array with 3 items!\n>>> len(regression_changes) == 3 and type(regression_changes) == np.ndarray\nTrue",
         "hidden": false,
         "locked": false
        },
        {
         "code": ">>> regression_changes.item(0) in set([0, 1, False, True])\nTrue",
         "hidden": false,
         "locked": false
        }
       ],
       "scored": true,
       "setup": "",
       "teardown": "",
       "type": "doctest"
      }
     ]
    },
    "q1_7": {
     "name": "q1_7",
     "points": [
      1,
      1,
      2
     ],
     "suites": [
      {
       "cases": [
        {
         "code": ">>> type(pred_vert) == np.float64\nTrue",
         "hidden": false,
         "locked": false
        },
        {
         "code": ">>> 33 <= pred_vert <= 36\nTrue",
         "hidden": false,
         "locked": false
        },
        {
         "code": ">>> type(predict_vertical(pd.Series([665.0, 500.0, 438.0]), parameters)) == pd.core.series.Series\nTrue",
         "hidden": false,
         "locked": false
        }
       ],
       "scored": true,
       "setup": "",
       "teardown": "",
       "type": "doctest"
      }
     ]
    },
    "q1_8": {
     "name": "q1_8",
     "points": [
      2
     ],
     "suites": [
      {
       "cases": [
        {
         "code": ">>> 100 <= triple_record_vert_est <= 200\nTrue",
         "hidden": false,
         "locked": false
        }
       ],
       "scored": true,
       "setup": "",
       "teardown": "",
       "type": "doctest"
      }
     ]
    }
   }
  }
 },
 "nbformat": 4,
 "nbformat_minor": 5
}
